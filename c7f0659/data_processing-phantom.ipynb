{
 "cells": [
  {
   "cell_type": "markdown",
   "id": "9380b4b9",
   "metadata": {
    "tags": [
     "papermill-error-cell-tag"
    ]
   },
   "source": [
    "<span style=\"color:red; font-family:Helvetica Neue, Helvetica, Arial, sans-serif; font-size:2em;\">An Exception was encountered at '<a href=\"#papermill-error-cell\">In [11]</a>'.</span>"
   ]
  },
  {
   "cell_type": "markdown",
   "id": "0",
   "metadata": {
    "papermill": {
     "duration": 0.00452,
     "end_time": "2024-10-27T14:52:16.294377",
     "exception": false,
     "start_time": "2024-10-27T14:52:16.289857",
     "status": "completed"
    },
    "tags": []
   },
   "source": [
    "# 7T coil comparison: processing of phantom data"
   ]
  },
  {
   "cell_type": "markdown",
   "id": "1",
   "metadata": {
    "papermill": {
     "duration": 0.003489,
     "end_time": "2024-10-27T14:52:16.301666",
     "exception": false,
     "start_time": "2024-10-27T14:52:16.298177",
     "status": "completed"
    },
    "tags": []
   },
   "source": [
    "## Setup environment"
   ]
  },
  {
   "cell_type": "code",
   "execution_count": 1,
   "id": "2",
   "metadata": {
    "execution": {
     "iopub.execute_input": "2024-10-27T14:52:16.310429Z",
     "iopub.status.busy": "2024-10-27T14:52:16.309960Z",
     "iopub.status.idle": "2024-10-27T14:52:17.247863Z",
     "shell.execute_reply": "2024-10-27T14:52:17.247119Z"
    },
    "papermill": {
     "duration": 0.944493,
     "end_time": "2024-10-27T14:52:17.249704",
     "exception": false,
     "start_time": "2024-10-27T14:52:16.305211",
     "status": "completed"
    },
    "tags": []
   },
   "outputs": [],
   "source": [
    "# Imports\n",
    "from datetime import datetime, timedelta\n",
    "import os\n",
    "import json\n",
    "import glob\n",
    "import matplotlib.pyplot as plt\n",
    "import numpy as np\n",
    "import nibabel as nib\n",
    "import pandas as pd\n",
    "from scipy.stats import iqr\n",
    "import shutil\n",
    "import zipfile\n",
    "from scipy.interpolate import interp1d\n",
    "from scipy.ndimage import uniform_filter1d\n",
    "from pathlib import Path\n",
    "\n",
    "# Define constants\n",
    "GAMMA = 2.675e8;  # [rad / (s T)]\n",
    "\n",
    "%matplotlib inline\n",
    "\n",
    "start_time = datetime.now()"
   ]
  },
  {
   "cell_type": "code",
   "execution_count": 2,
   "id": "3",
   "metadata": {
    "execution": {
     "iopub.execute_input": "2024-10-27T14:52:17.259711Z",
     "iopub.status.busy": "2024-10-27T14:52:17.259127Z",
     "iopub.status.idle": "2024-10-27T14:53:35.606554Z",
     "shell.execute_reply": "2024-10-27T14:53:35.605769Z"
    },
    "papermill": {
     "duration": 78.354676,
     "end_time": "2024-10-27T14:53:35.608276",
     "exception": false,
     "start_time": "2024-10-27T14:52:17.253600",
     "status": "completed"
    },
    "tags": []
   },
   "outputs": [
    {
     "name": "stdout",
     "output_type": "stream",
     "text": [
      "\r\n",
      "👋 Hello! This is openneuro-py 2024.2.0. Great to see you! 🤗\r\n",
      "\r\n",
      "   👉 Please report problems 🤯 and bugs 🪲 at\r\n",
      "      https://github.com/hoechenberger/openneuro-py/issues\r\n",
      "\r\n",
      "🌍 Preparing to download ds005090 …\r\n"
     ]
    },
    {
     "name": "stdout",
     "output_type": "stream",
     "text": [
      "\r",
      "📁 Traversing directories for ds005090 : 0 entities [00:00, ? entities/s]"
     ]
    },
    {
     "name": "stdout",
     "output_type": "stream",
     "text": [
      "\r",
      "📁 Traversing directories for ds005090 : 5 entities [00:00, 14.28 entities/s]"
     ]
    },
    {
     "name": "stdout",
     "output_type": "stream",
     "text": [
      "\r",
      "📁 Traversing directories for ds005090 : 23 entities [00:00, 51.91 entities/s]"
     ]
    },
    {
     "name": "stdout",
     "output_type": "stream",
     "text": [
      "\r",
      "📁 Traversing directories for ds005090 : 45 entities [00:00, 90.35 entities/s]"
     ]
    },
    {
     "name": "stdout",
     "output_type": "stream",
     "text": [
      "\r",
      "📁 Traversing directories for ds005090 : 105 entities [00:00, 138.80 entities/s]"
     ]
    },
    {
     "name": "stdout",
     "output_type": "stream",
     "text": [
      "\r",
      "📁 Traversing directories for ds005090 : 147 entities [00:01, 170.44 entities/s]"
     ]
    },
    {
     "name": "stdout",
     "output_type": "stream",
     "text": [
      "\r",
      "📁 Traversing directories for ds005090 : 169 entities [00:01, 175.17 entities/s]"
     ]
    },
    {
     "name": "stdout",
     "output_type": "stream",
     "text": [
      "\r",
      "📁 Traversing directories for ds005090 : 241 entities [00:01, 248.67 entities/s]"
     ]
    },
    {
     "name": "stdout",
     "output_type": "stream",
     "text": [
      "\r",
      "📁 Traversing directories for ds005090 : 287 entities [00:01, 256.94 entities/s]"
     ]
    },
    {
     "name": "stdout",
     "output_type": "stream",
     "text": [
      "\r",
      "📁 Traversing directories for ds005090 : 314 entities [00:01, 250.82 entities/s]"
     ]
    },
    {
     "name": "stdout",
     "output_type": "stream",
     "text": [
      "\r",
      "📁 Traversing directories for ds005090 : 379 entities [00:01, 287.28 entities/s]"
     ]
    },
    {
     "name": "stdout",
     "output_type": "stream",
     "text": [
      "\r",
      "📁 Traversing directories for ds005090 : 418 entities [00:01, 214.36 entities/s]\r\n",
      "📥 Retrieving up to 418 files (5 concurrent downloads). \r\n"
     ]
    },
    {
     "name": "stdout",
     "output_type": "stream",
     "text": [
      "\r",
      "sub-CRMBM_T2starw.json:   0%|                       | 0.00/2.42k [00:00<?, ?B/s]\r",
      "                                                                                \r"
     ]
    },
    {
     "name": "stdout",
     "output_type": "stream",
     "text": [
      "\r",
      "participants.tsv:   0%|                               | 0.00/313 [00:00<?, ?B/s]\r",
      "                                                                                \r"
     ]
    },
    {
     "name": "stdout",
     "output_type": "stream",
     "text": [
      "\r",
      ".bidsignore:   0%|                                   | 0.00/92.0 [00:00<?, ?B/s]\r",
      "                                                                                \r",
      "\r",
      "CHANGES:   0%|                                       | 0.00/91.0 [00:00<?, ?B/s]\r",
      "                                                                                \r"
     ]
    },
    {
     "name": "stdout",
     "output_type": "stream",
     "text": [
      "\r",
      "dataset_description.json:   0%|                       | 0.00/314 [00:00<?, ?B/s]\r",
      "                                                                                \r"
     ]
    },
    {
     "name": "stdout",
     "output_type": "stream",
     "text": [
      "\r",
      "sub-CRMBM_rec-uncombined1_T2starw.json:   0%|       | 0.00/2.43k [00:00<?, ?B/s]\r",
      "                                                                                \r"
     ]
    },
    {
     "name": "stdout",
     "output_type": "stream",
     "text": [
      "\r",
      "sub-CRMBM_rec-uncombined1_T2starw.nii.gz:   0%|      | 0.00/676k [00:00<?, ?B/s]\r\n",
      "\r",
      "sub-CRMBM_T2starw.nii.gz:   0%|                      | 0.00/864k [00:00<?, ?B/s]\u001b[A"
     ]
    },
    {
     "name": "stdout",
     "output_type": "stream",
     "text": [
      "\r\n",
      "\r\n",
      "\r",
      "sub-CRMBM_rec-uncombined2_T2starw.nii.gz:   0%|      | 0.00/737k [00:00<?, ?B/s]\u001b[A\u001b[A\r\n",
      "\r\n",
      "\r\n",
      "\r",
      "sub-CRMBM_rec-uncombined2_T2starw.json:   0%|       | 0.00/2.43k [00:00<?, ?B/s]\u001b[A\u001b[A\u001b[A\r\n",
      "\r\n",
      "\r\n",
      "\r",
      "                                                                                \u001b[A\u001b[A\u001b[A"
     ]
    },
    {
     "name": "stdout",
     "output_type": "stream",
     "text": [
      "\r",
      "sub-CRMBM_rec-uncombined1_T2starw.nii.gz:  12%| | 83.6k/676k [00:00<00:00, 652kB"
     ]
    },
    {
     "name": "stdout",
     "output_type": "stream",
     "text": [
      "\r\n",
      "\r",
      "sub-CRMBM_T2starw.nii.gz:  10%|█▎            | 83.6k/864k [00:00<00:01, 649kB/s]\u001b[A\r\n",
      "\r\n",
      "\r",
      "sub-CRMBM_rec-uncombined2_T2starw.nii.gz:  10%| | 76.9k/737k [00:00<00:01, 563kB\u001b[A\u001b[A"
     ]
    },
    {
     "name": "stdout",
     "output_type": "stream",
     "text": [
      "\r",
      "sub-CRMBM_rec-uncombined1_T2starw.nii.gz:  45%|▍| 305k/676k [00:00<00:00, 1.27MB\r\n",
      "\r\n",
      "\r\n",
      "\r",
      "sub-CRMBM_rec-uncombined3_T2starw.nii.gz:   0%|      | 0.00/799k [00:00<?, ?B/s]\u001b[A\u001b[A\u001b[A"
     ]
    },
    {
     "name": "stdout",
     "output_type": "stream",
     "text": [
      "\r\n",
      "\r",
      "sub-CRMBM_T2starw.nii.gz:  35%|████▉         | 305k/864k [00:00<00:00, 1.27MB/s]\u001b[A\r",
      "                                                                                \r"
     ]
    },
    {
     "name": "stdout",
     "output_type": "stream",
     "text": [
      "\r\n",
      "\r\n",
      "\r",
      "sub-CRMBM_rec-uncombined2_T2starw.nii.gz:  26%|▎| 188k/737k [00:00<00:00, 638kB/\u001b[A\u001b[A\r",
      "sub-CRMBM_rec-uncombined4_T2starw.json:   0%|       | 0.00/2.43k [00:00<?, ?B/s]\r",
      "                                                                                \r"
     ]
    },
    {
     "name": "stdout",
     "output_type": "stream",
     "text": [
      "\r\n",
      "\r",
      "sub-CRMBM_T2starw.nii.gz:  98%|█████████████▊| 849k/864k [00:00<00:00, 2.94MB/s]\u001b[A\r\n",
      "\r",
      "                                                                                \u001b[A\r\n",
      "\r\n",
      "\r\n",
      "\r",
      "sub-CRMBM_rec-uncombined3_T2starw.nii.gz:   8%| | 66.4k/799k [00:00<00:01, 458kB\u001b[A\u001b[A\u001b[A"
     ]
    },
    {
     "name": "stdout",
     "output_type": "stream",
     "text": [
      "\r\n",
      "\r\n",
      "\r",
      "sub-CRMBM_rec-uncombined2_T2starw.nii.gz:  42%|▍| 313k/737k [00:00<00:00, 817kB/\u001b[A\u001b[A"
     ]
    },
    {
     "name": "stdout",
     "output_type": "stream",
     "text": [
      "\r\n",
      "\r\n",
      "\r\n",
      "\r",
      "sub-CRMBM_rec-uncombined3_T2starw.nii.gz:  19%|▏| 155k/799k [00:00<00:01, 625kB/\u001b[A\u001b[A\u001b[A"
     ]
    },
    {
     "name": "stdout",
     "output_type": "stream",
     "text": [
      "\r\n",
      "\r\n",
      "\r",
      "sub-CRMBM_rec-uncombined2_T2starw.nii.gz:  61%|▌| 449k/737k [00:00<00:00, 885kB/\u001b[A\u001b[A\r",
      "sub-CRMBM_rec-uncombined5_T2starw.json:   0%|       | 0.00/2.43k [00:00<?, ?B/s]\r",
      "                                                                                \r"
     ]
    },
    {
     "name": "stdout",
     "output_type": "stream",
     "text": [
      "\r",
      "sub-CRMBM_rec-uncombined3_T2starw.json:   0%|       | 0.00/2.43k [00:00<?, ?B/s]\r",
      "                                                                                \r",
      "\r\n",
      "\r\n",
      "\r\n",
      "\r",
      "sub-CRMBM_rec-uncombined3_T2starw.nii.gz:  31%|▎| 246k/799k [00:00<00:00, 646kB/\u001b[A\u001b[A\u001b[A"
     ]
    },
    {
     "name": "stdout",
     "output_type": "stream",
     "text": [
      "\r",
      "sub-CRMBM_rec-uncombined4_T2starw.nii.gz:   0%|      | 0.00/700k [00:00<?, ?B/s]"
     ]
    },
    {
     "name": "stdout",
     "output_type": "stream",
     "text": [
      "\r\n",
      "\r\n",
      "\r",
      "sub-CRMBM_rec-uncombined2_T2starw.nii.gz:  79%|▊| 585k/737k [00:00<00:00, 896kB/\u001b[A\u001b[A\r\n",
      "\r\n",
      "\r\n",
      "\r",
      "sub-CRMBM_rec-uncombined3_T2starw.nii.gz:  44%|▍| 353k/799k [00:00<00:00, 786kB/\u001b[A\u001b[A\u001b[A"
     ]
    },
    {
     "name": "stdout",
     "output_type": "stream",
     "text": [
      "\r\n",
      "\r\n",
      "\r",
      "                                                                                \u001b[A\u001b[A"
     ]
    },
    {
     "name": "stdout",
     "output_type": "stream",
     "text": [
      "\r",
      "sub-CRMBM_rec-uncombined4_T2starw.nii.gz:  11%| | 77.0k/700k [00:00<00:01, 529kB"
     ]
    },
    {
     "name": "stdout",
     "output_type": "stream",
     "text": [
      "\r\n",
      "\r",
      "sub-CRMBM_rec-uncombined6_T2starw.nii.gz:   0%|      | 0.00/677k [00:00<?, ?B/s]\u001b[A\r\n",
      "\r\n",
      "\r\n",
      "\r",
      "sub-CRMBM_rec-uncombined3_T2starw.nii.gz:  59%|▌| 472k/799k [00:00<00:00, 779kB/\u001b[A\u001b[A\u001b[A"
     ]
    },
    {
     "name": "stdout",
     "output_type": "stream",
     "text": [
      "\r",
      "sub-CRMBM_rec-uncombined4_T2starw.nii.gz:  26%|▎| 179k/700k [00:00<00:00, 728kB/\r\n",
      "\r\n",
      "\r",
      "sub-CRMBM_rec-uncombined7_T2starw.nii.gz:   0%|      | 0.00/606k [00:00<?, ?B/s]\u001b[A\u001b[A"
     ]
    },
    {
     "name": "stdout",
     "output_type": "stream",
     "text": [
      "\r\n",
      "\r",
      "sub-CRMBM_rec-uncombined6_T2starw.nii.gz:  12%| | 83.6k/677k [00:00<00:00, 649kB\u001b[A"
     ]
    },
    {
     "name": "stdout",
     "output_type": "stream",
     "text": [
      "\r\n",
      "\r\n",
      "\r\n",
      "\r",
      "sub-CRMBM_rec-uncombined3_T2starw.nii.gz:  76%|▊| 608k/799k [00:00<00:00, 868kB/\u001b[A\u001b[A\u001b[A"
     ]
    },
    {
     "name": "stdout",
     "output_type": "stream",
     "text": [
      "\r",
      "sub-CRMBM_rec-uncombined4_T2starw.nii.gz:  42%|▍| 294k/700k [00:00<00:00, 801kB/\r\n",
      "\r\n",
      "\r",
      "sub-CRMBM_rec-uncombined7_T2starw.nii.gz:  14%|▏| 83.5k/606k [00:00<00:00, 630kB\u001b[A\u001b[A\r\n",
      "\r\n",
      "\r\n",
      "\r\n",
      "\r",
      "sub-CRMBM_rec-uncombined5_T2starw.nii.gz:   0%|      | 0.00/707k [00:00<?, ?B/s]\u001b[A\u001b[A\u001b[A\u001b[A"
     ]
    },
    {
     "name": "stdout",
     "output_type": "stream",
     "text": [
      "\r\n",
      "\r",
      "sub-CRMBM_rec-uncombined6_T2starw.nii.gz:  52%|▌| 356k/677k [00:00<00:00, 1.50MB\u001b[A\r\n",
      "\r",
      "                                                                                \u001b[A"
     ]
    },
    {
     "name": "stdout",
     "output_type": "stream",
     "text": [
      "\r\n",
      "\r\n",
      "\r\n",
      "\r",
      "sub-CRMBM_rec-uncombined3_T2starw.nii.gz:  93%|▉| 744k/799k [00:00<00:00, 899kB/\u001b[A\u001b[A\u001b[A\r\n",
      "\r\n",
      "\r\n",
      "\r",
      "                                                                                \u001b[A\u001b[A\u001b[A"
     ]
    },
    {
     "name": "stdout",
     "output_type": "stream",
     "text": [
      "\r",
      "sub-CRMBM_rec-uncombined4_T2starw.nii.gz:  61%|▌| 430k/700k [00:00<00:00, 851kB/\r\n",
      "\r\n",
      "\r",
      "sub-CRMBM_rec-uncombined7_T2starw.nii.gz:  31%|▎| 186k/606k [00:00<00:00, 716kB/\u001b[A\u001b[A\r\n",
      "\r\n",
      "\r\n",
      "\r\n",
      "\r",
      "sub-CRMBM_rec-uncombined5_T2starw.nii.gz:  12%| | 83.6k/707k [00:00<00:00, 651kB\u001b[A\u001b[A\u001b[A\u001b[A"
     ]
    },
    {
     "name": "stdout",
     "output_type": "stream",
     "text": [
      "\r",
      "sub-CRMBM_rec-uncombined4_T2starw.nii.gz:  81%|▊| 566k/700k [00:00<00:00, 922kB/\r\n",
      "\r\n",
      "\r",
      "sub-CRMBM_rec-uncombined7_T2starw.nii.gz:  53%|▌| 322k/606k [00:00<00:00, 860kB/\u001b[A\u001b[A\r\n",
      "\r\n",
      "\r\n",
      "\r\n",
      "\r",
      "sub-CRMBM_rec-uncombined5_T2starw.nii.gz:  43%|▍| 305k/707k [00:00<00:00, 1.28MB\u001b[A\u001b[A\u001b[A\u001b[A"
     ]
    },
    {
     "name": "stdout",
     "output_type": "stream",
     "text": [
      "\r",
      "                                                                                \r",
      "\r",
      "sub-CRMBM_rec-uncombined7_T2starw.json:   0%|       | 0.00/2.43k [00:00<?, ?B/s]\r",
      "                                                                                \r"
     ]
    },
    {
     "name": "stdout",
     "output_type": "stream",
     "text": [
      "\r",
      "sub-CRMBM_rec-uncombined6_T2starw.json:   0%|       | 0.00/2.43k [00:00<?, ?B/s]\r\n",
      "\r\n",
      "\r\n",
      "\r\n",
      "\r",
      "sub-CRMBM_rec-uncombined5_T2starw.nii.gz: 100%|█| 707k/707k [00:00<00:00, 2.21MB\u001b[A\u001b[A\u001b[A\u001b[A\r\n",
      "\r\n",
      "\r\n",
      "\r\n",
      "\r",
      "                                                                                \u001b[A\u001b[A\u001b[A\u001b[A\r",
      "                                                                                \r"
     ]
    },
    {
     "name": "stdout",
     "output_type": "stream",
     "text": [
      "\r\n",
      "\r\n",
      "\r",
      "sub-CRMBM_rec-uncombined7_T2starw.nii.gz:  76%|▊| 458k/606k [00:00<00:00, 814kB/\u001b[A\u001b[A"
     ]
    },
    {
     "name": "stdout",
     "output_type": "stream",
     "text": [
      "\r\n",
      "\r\n",
      "\r",
      "                                                                                \u001b[A\u001b[A"
     ]
    },
    {
     "name": "stdout",
     "output_type": "stream",
     "text": [
      "\r",
      "sub-CRMBM_acq-coilQaSagLarge_SNR.json:   0%|        | 0.00/2.18k [00:00<?, ?B/s]\r",
      "                                                                                \r"
     ]
    },
    {
     "name": "stdout",
     "output_type": "stream",
     "text": [
      "\r",
      "sub-CRMBM_acq-anat_TB1TFL.json:   0%|               | 0.00/2.66k [00:00<?, ?B/s]\r",
      "                                                                                \r",
      "\r",
      "sub-CRMBM_rec-uncombined8_T2starw.json:   0%|       | 0.00/2.43k [00:00<?, ?B/s]\r",
      "                                                                                \r"
     ]
    },
    {
     "name": "stdout",
     "output_type": "stream",
     "text": [
      "\r",
      "sub-CRMBM_acq-anat_TB1TFL.nii.gz:   0%|              | 0.00/833k [00:00<?, ?B/s]"
     ]
    },
    {
     "name": "stdout",
     "output_type": "stream",
     "text": [
      "\r",
      "sub-CRMBM_acq-anat_TB1TFL.nii.gz:   8%|▌     | 70.4k/833k [00:00<00:01, 598kB/s]"
     ]
    },
    {
     "name": "stdout",
     "output_type": "stream",
     "text": [
      "\r\n",
      "\r",
      "sub-CRMBM_rec-uncombined8_T2starw.nii.gz:   0%|      | 0.00/639k [00:00<?, ?B/s]\u001b[A"
     ]
    },
    {
     "name": "stdout",
     "output_type": "stream",
     "text": [
      "\r",
      "sub-CRMBM_acq-anat_TB1TFL.nii.gz:  35%|██    | 291k/833k [00:00<00:00, 1.22MB/s]\r\n",
      "\r",
      "sub-CRMBM_rec-uncombined8_T2starw.nii.gz:  13%|▏| 83.4k/639k [00:00<00:00, 647kB\u001b[A"
     ]
    },
    {
     "name": "stdout",
     "output_type": "stream",
     "text": [
      "\r\n",
      "\r\n",
      "\r",
      "sub-CRMBM_acq-coilQaSagSmall_GFactor.nii.gz:   0%|  | 0.00/2.65M [00:00<?, ?B/s]\u001b[A\u001b[A\r\n",
      "\r\n",
      "\r\n",
      "\r",
      "sub-CRMBM_acq-coilQaSagLarge_SNR.nii.gz:   0%|      | 0.00/3.88M [00:00<?, ?B/s]\u001b[A\u001b[A\u001b[A\r\n",
      "\r\n",
      "\r\n",
      "\r\n",
      "\r",
      "sub-CRMBM_acq-coilQaTra_GFactor.nii.gz:   0%|       | 0.00/11.7M [00:00<?, ?B/s]\u001b[A\u001b[A\u001b[A\u001b[A"
     ]
    },
    {
     "name": "stdout",
     "output_type": "stream",
     "text": [
      "\r",
      "                                                                                \r"
     ]
    },
    {
     "name": "stdout",
     "output_type": "stream",
     "text": [
      "\r\n",
      "\r",
      "sub-CRMBM_rec-uncombined8_T2starw.nii.gz:  48%|▍| 304k/639k [00:00<00:00, 1.27MB\u001b[A\r\n",
      "\r\n",
      "\r",
      "sub-CRMBM_acq-coilQaSagSmall_GFactor.nii.gz:   3%| | 82.4k/2.65M [00:00<00:04, 6\u001b[A\u001b[A\r\n",
      "\r\n",
      "\r\n",
      "\r",
      "sub-CRMBM_acq-coilQaSagLarge_SNR.nii.gz:   2%| | 83.4k/3.88M [00:00<00:06, 648kB\u001b[A\u001b[A\u001b[A"
     ]
    },
    {
     "name": "stdout",
     "output_type": "stream",
     "text": [
      "\r\n",
      "\r\n",
      "\r\n",
      "\r\n",
      "\r",
      "sub-CRMBM_acq-coilQaTra_GFactor.nii.gz:   1%| | 65.4k/11.7M [00:00<00:25, 473kB/\u001b[A\u001b[A\u001b[A\u001b[A\r\n",
      "\r",
      "                                                                                \u001b[A"
     ]
    },
    {
     "name": "stdout",
     "output_type": "stream",
     "text": [
      "\r\n",
      "\r\n",
      "\r",
      "sub-CRMBM_acq-coilQaSagSmall_GFactor.nii.gz:  11%| | 303k/2.65M [00:00<00:01, 1.\u001b[A\u001b[A\r\n",
      "\r\n",
      "\r\n",
      "\r",
      "sub-CRMBM_acq-coilQaSagLarge_SNR.nii.gz:   8%| | 304k/3.88M [00:00<00:02, 1.27MB\u001b[A\u001b[A\u001b[A\r\n",
      "\r\n",
      "\r\n",
      "\r\n",
      "\r",
      "sub-CRMBM_acq-coilQaTra_GFactor.nii.gz:   2%| | 269k/11.7M [00:00<00:10, 1.14MB/\u001b[A\u001b[A\u001b[A\u001b[A"
     ]
    },
    {
     "name": "stdout",
     "output_type": "stream",
     "text": [
      "\r",
      "sub-CRMBM_acq-coilQaSagSmall_GFactor.json:   0%|    | 0.00/2.18k [00:00<?, ?B/s]\r",
      "                                                                                \r"
     ]
    },
    {
     "name": "stdout",
     "output_type": "stream",
     "text": [
      "\r\n",
      "\r\n",
      "\r",
      "sub-CRMBM_acq-coilQaSagSmall_GFactor.nii.gz:  25%|▏| 677k/2.65M [00:00<00:00, 2.\u001b[A\u001b[A\r\n",
      "\r\n",
      "\r\n",
      "\r",
      "sub-CRMBM_acq-coilQaSagLarge_SNR.nii.gz:  18%|▏| 696k/3.88M [00:00<00:01, 2.33MB\u001b[A\u001b[A\u001b[A\r\n",
      "\r\n",
      "\r\n",
      "\r\n",
      "\r",
      "sub-CRMBM_acq-coilQaTra_GFactor.nii.gz:   6%| | 728k/11.7M [00:00<00:04, 2.52MB/\u001b[A\u001b[A\u001b[A\u001b[A"
     ]
    },
    {
     "name": "stdout",
     "output_type": "stream",
     "text": [
      "\r\n",
      "\r\n",
      "\r",
      "sub-CRMBM_acq-coilQaSagSmall_GFactor.nii.gz:  71%|▋| 1.88M/2.65M [00:00<00:00, 6\u001b[A\u001b[A\r",
      "sub-CRMBM_acq-coilQaTra_GFactor.json:   0%|         | 0.00/2.07k [00:00<?, ?B/s]\r",
      "                                                                                \r",
      "\r\n",
      "\r\n",
      "\r\n",
      "\r",
      "sub-CRMBM_acq-coilQaSagLarge_SNR.nii.gz:  47%|▍| 1.84M/3.88M [00:00<00:00, 5.81M\u001b[A\u001b[A\u001b[A"
     ]
    },
    {
     "name": "stdout",
     "output_type": "stream",
     "text": [
      "\r\n",
      "\r\n",
      "\r\n",
      "\r\n",
      "\r",
      "sub-CRMBM_acq-coilQaTra_GFactor.nii.gz:  12%| | 1.44M/11.7M [00:00<00:02, 4.12MB\u001b[A\u001b[A\u001b[A\u001b[A\r\n",
      "\r\n",
      "\r",
      "                                                                                \u001b[A\u001b[A"
     ]
    },
    {
     "name": "stdout",
     "output_type": "stream",
     "text": [
      "\r\n",
      "\r\n",
      "\r\n",
      "\r",
      "sub-CRMBM_acq-coilQaSagLarge_SNR.nii.gz:  66%|▋| 2.55M/3.88M [00:00<00:00, 6.34M\u001b[A\u001b[A\u001b[A"
     ]
    },
    {
     "name": "stdout",
     "output_type": "stream",
     "text": [
      "\r\n",
      "\r\n",
      "\r\n",
      "\r\n",
      "\r",
      "sub-CRMBM_acq-coilQaTra_GFactor.nii.gz:  25%|▏| 2.89M/11.7M [00:00<00:01, 7.73MB\u001b[A\u001b[A\u001b[A\u001b[A\r",
      "sub-CRMBM_acq-famp-0.66_TB1DREAM.json:   0%|        | 0.00/2.15k [00:00<?, ?B/s]\r",
      "                                                                                \r"
     ]
    },
    {
     "name": "stdout",
     "output_type": "stream",
     "text": [
      "\r\n",
      "\r\n",
      "\r\n",
      "\r",
      "                                                                                \u001b[A\u001b[A\u001b[A"
     ]
    },
    {
     "name": "stdout",
     "output_type": "stream",
     "text": [
      "\r\n",
      "\r\n",
      "\r\n",
      "\r\n",
      "\r",
      "sub-CRMBM_acq-coilQaTra_GFactor.nii.gz:  38%|▍| 4.44M/11.7M [00:00<00:00, 10.3MB\u001b[A\u001b[A\u001b[A\u001b[A"
     ]
    },
    {
     "name": "stdout",
     "output_type": "stream",
     "text": [
      "\r",
      "sub-CRMBM_acq-famp-1.5_TB1DREAM.json:   0%|         | 0.00/2.14k [00:00<?, ?B/s]\r",
      "                                                                                \r"
     ]
    },
    {
     "name": "stdout",
     "output_type": "stream",
     "text": [
      "\r\n",
      "\r\n",
      "\r\n",
      "\r\n",
      "\r",
      "sub-CRMBM_acq-coilQaTra_GFactor.nii.gz:  69%|▋| 8.13M/11.7M [00:00<00:00, 19.0MB\u001b[A\u001b[A\u001b[A\u001b[A"
     ]
    },
    {
     "name": "stdout",
     "output_type": "stream",
     "text": [
      "\r",
      "sub-CRMBM_acq-famp-1.5_TB1DREAM.nii.gz:   0%|       | 0.00/91.4k [00:00<?, ?B/s]"
     ]
    },
    {
     "name": "stdout",
     "output_type": "stream",
     "text": [
      "\r\n",
      "\r\n",
      "\r\n",
      "\r\n",
      "\r",
      "                                                                                \u001b[A\u001b[A\u001b[A\u001b[A\r\n",
      "\r",
      "sub-CRMBM_acq-famp_TB1DREAM.json:   0%|             | 0.00/2.13k [00:00<?, ?B/s]\u001b[A\r\n",
      "\r",
      "                                                                                \u001b[A\r\n",
      "\r",
      "sub-CRMBM_acq-famp-0.66_TB1DREAM.nii.gz:   0%|      | 0.00/90.7k [00:00<?, ?B/s]\u001b[A"
     ]
    },
    {
     "name": "stdout",
     "output_type": "stream",
     "text": [
      "\r",
      "sub-CRMBM_acq-famp-1.5_TB1DREAM.nii.gz:  91%|▉| 83.6k/91.4k [00:00<00:00, 637kB/\r",
      "                                                                                \r"
     ]
    },
    {
     "name": "stdout",
     "output_type": "stream",
     "text": [
      "\r",
      "sub-CRMBM_acq-famp_TB1DREAM.nii.gz:   0%|           | 0.00/90.9k [00:00<?, ?B/s]"
     ]
    },
    {
     "name": "stdout",
     "output_type": "stream",
     "text": [
      "\r\n",
      "\r",
      "sub-CRMBM_acq-famp-0.66_TB1DREAM.nii.gz:  90%|▉| 81.4k/90.7k [00:00<00:00, 593kB\u001b[A\r\n",
      "\r",
      "                                                                                \u001b[A"
     ]
    },
    {
     "name": "stdout",
     "output_type": "stream",
     "text": [
      "\r",
      "sub-CRMBM_acq-famp_TB1DREAM.nii.gz:  92%|██▊| 83.4k/90.9k [00:00<00:00, 642kB/s]\r",
      "                                                                                \r"
     ]
    },
    {
     "name": "stdout",
     "output_type": "stream",
     "text": [
      "\r",
      "sub-CRMBM_acq-refv-0.66_TB1DREAM.nii.gz:   0%|      | 0.00/78.5k [00:00<?, ?B/s]\r\n",
      "\r",
      "sub-CRMBM_acq-famp_TB1TFL.nii.gz:   0%|              | 0.00/919k [00:00<?, ?B/s]\u001b[A"
     ]
    },
    {
     "name": "stdout",
     "output_type": "stream",
     "text": [
      "\r\n",
      "\r\n",
      "\r",
      "sub-CRMBM_acq-famp_TB1TFL.json:   0%|               | 0.00/2.69k [00:00<?, ?B/s]\u001b[A\u001b[A\r\n",
      "\r\n",
      "\r",
      "                                                                                \u001b[A\u001b[A\r\n",
      "\r",
      "sub-CRMBM_acq-famp_TB1TFL.nii.gz:   7%|▍     | 66.4k/919k [00:00<00:01, 664kB/s]\u001b[A"
     ]
    },
    {
     "name": "stdout",
     "output_type": "stream",
     "text": [
      "\r",
      "sub-CRMBM_acq-refv-0.66_TB1DREAM.nii.gz: 100%|█| 78.5k/78.5k [00:00<00:00, 606kB\r",
      "                                                                                \r"
     ]
    },
    {
     "name": "stdout",
     "output_type": "stream",
     "text": [
      "\r",
      "sub-CRMBM_acq-refv-0.66_TB1DREAM.json:   0%|        | 0.00/2.16k [00:00<?, ?B/s]\r",
      "                                                                                \r",
      "\r\n",
      "\r",
      "sub-CRMBM_acq-famp_TB1TFL.nii.gz:  15%|█      | 134k/919k [00:00<00:01, 677kB/s]\u001b[A"
     ]
    },
    {
     "name": "stdout",
     "output_type": "stream",
     "text": [
      "\r",
      "sub-CRMBM_acq-refv-1.5_TB1DREAM.json:   0%|         | 0.00/2.16k [00:00<?, ?B/s]\r",
      "                                                                                \r"
     ]
    },
    {
     "name": "stdout",
     "output_type": "stream",
     "text": [
      "\r\n",
      "\r",
      "sub-CRMBM_acq-famp_TB1TFL.nii.gz:  79%|████▊ | 729k/919k [00:00<00:00, 2.85MB/s]\u001b[A\r\n",
      "\r",
      "                                                                                \u001b[A"
     ]
    },
    {
     "name": "stdout",
     "output_type": "stream",
     "text": [
      "\r",
      "sub-MGH_T2starw.json:   0%|                         | 0.00/2.43k [00:00<?, ?B/s]\r",
      "                                                                                \r"
     ]
    },
    {
     "name": "stdout",
     "output_type": "stream",
     "text": [
      "\r",
      "sub-CRMBM_acq-refv_TB1DREAM.nii.gz:   0%|           | 0.00/82.4k [00:00<?, ?B/s]\r\n",
      "\r",
      "sub-CRMBM_acq-refv-1.5_TB1DREAM.nii.gz:   0%|       | 0.00/85.8k [00:00<?, ?B/s]\u001b[A"
     ]
    },
    {
     "name": "stdout",
     "output_type": "stream",
     "text": [
      "\r\n",
      "\r\n",
      "\r",
      "sub-CRMBM_acq-refv_TB1DREAM.json:   0%|             | 0.00/2.14k [00:00<?, ?B/s]\u001b[A\u001b[A\r\n",
      "\r\n",
      "\r",
      "                                                                                \u001b[A\u001b[A"
     ]
    },
    {
     "name": "stdout",
     "output_type": "stream",
     "text": [
      "\r",
      "sub-CRMBM_acq-refv_TB1DREAM.nii.gz: 100%|███| 82.4k/82.4k [00:00<00:00, 599kB/s]\r",
      "                                                                                \r",
      "\r\n",
      "\r",
      "sub-CRMBM_acq-refv-1.5_TB1DREAM.nii.gz:  97%|▉| 83.4k/85.8k [00:00<00:00, 591kB/\u001b[A\r\n",
      "\r",
      "                                                                                \u001b[A"
     ]
    },
    {
     "name": "stdout",
     "output_type": "stream",
     "text": [
      "\r",
      "sub-MGH_T2starw.nii.gz:   0%|                       | 0.00/1.14M [00:00<?, ?B/s]\r\n",
      "\r",
      "sub-MGH_rec-uncombined01_T2starw.json:   0%|        | 0.00/2.44k [00:00<?, ?B/s]\u001b[A\r\n",
      "\r",
      "                                                                                \u001b[A"
     ]
    },
    {
     "name": "stdout",
     "output_type": "stream",
     "text": [
      "\r",
      "sub-MGH_T2starw.nii.gz:   7%|█              | 83.6k/1.14M [00:00<00:01, 622kB/s]"
     ]
    },
    {
     "name": "stdout",
     "output_type": "stream",
     "text": [
      "\r\n",
      "\r",
      "sub-MGH_rec-uncombined02_T2starw.json:   0%|        | 0.00/2.44k [00:00<?, ?B/s]\u001b[A\r\n",
      "\r",
      "                                                                                \u001b[A"
     ]
    },
    {
     "name": "stdout",
     "output_type": "stream",
     "text": [
      "\r",
      "sub-MGH_T2starw.nii.gz:  26%|███▉           | 305k/1.14M [00:00<00:00, 1.22MB/s]"
     ]
    },
    {
     "name": "stdout",
     "output_type": "stream",
     "text": [
      "\r\n",
      "\r",
      "sub-MGH_rec-uncombined02_T2starw.nii.gz:   0%|       | 0.00/717k [00:00<?, ?B/s]\u001b[A\r\n",
      "\r\n",
      "\r",
      "sub-MGH_rec-uncombined01_T2starw.nii.gz:   0%|       | 0.00/804k [00:00<?, ?B/s]\u001b[A\u001b[A\r\n",
      "\r\n",
      "\r\n",
      "\r",
      "sub-MGH_rec-uncombined03_T2starw.nii.gz:   0%|       | 0.00/718k [00:00<?, ?B/s]\u001b[A\u001b[A\u001b[A"
     ]
    },
    {
     "name": "stdout",
     "output_type": "stream",
     "text": [
      "\r",
      "                                                                                \r"
     ]
    },
    {
     "name": "stdout",
     "output_type": "stream",
     "text": [
      "\r\n",
      "\r\n",
      "\r",
      "sub-MGH_rec-uncombined01_T2starw.nii.gz:   8%| | 65.4k/804k [00:00<00:01, 667kB/\u001b[A\u001b[A\r\n",
      "\r",
      "sub-MGH_rec-uncombined02_T2starw.nii.gz:  12%| | 83.6k/717k [00:00<00:00, 679kB/\u001b[A"
     ]
    },
    {
     "name": "stdout",
     "output_type": "stream",
     "text": [
      "\r\n",
      "\r\n",
      "\r\n",
      "\r",
      "sub-MGH_rec-uncombined03_T2starw.nii.gz:  12%| | 83.6k/718k [00:00<00:01, 646kB/\u001b[A\u001b[A\u001b[A\r",
      "sub-MGH_rec-uncombined03_T2starw.json:   0%|        | 0.00/2.44k [00:00<?, ?B/s]\r",
      "                                                                                \r"
     ]
    },
    {
     "name": "stdout",
     "output_type": "stream",
     "text": [
      "\r\n",
      "\r\n",
      "\r",
      "sub-MGH_rec-uncombined01_T2starw.nii.gz:  17%|▏| 134k/804k [00:00<00:01, 617kB/s\u001b[A\u001b[A\r\n",
      "\r",
      "sub-MGH_rec-uncombined02_T2starw.nii.gz:  31%|▎| 220k/717k [00:00<00:00, 1.05MB/\u001b[A"
     ]
    },
    {
     "name": "stdout",
     "output_type": "stream",
     "text": [
      "\r\n",
      "\r\n",
      "\r\n",
      "\r",
      "sub-MGH_rec-uncombined03_T2starw.nii.gz:  42%|▍| 305k/718k [00:00<00:00, 1.25MB/\u001b[A\u001b[A\u001b[A\r\n",
      "\r",
      "sub-MGH_rec-uncombined02_T2starw.nii.gz:  97%|▉| 697k/717k [00:00<00:00, 2.69MB/\u001b[A\r\n",
      "\r",
      "                                                                                \u001b[A"
     ]
    },
    {
     "name": "stdout",
     "output_type": "stream",
     "text": [
      "\r\n",
      "\r\n",
      "\r",
      "sub-MGH_rec-uncombined01_T2starw.nii.gz:  78%|▊| 626k/804k [00:00<00:00, 2.21MB/\u001b[A\u001b[A\r\n",
      "\r\n",
      "\r",
      "                                                                                \u001b[A\u001b[A\r",
      "sub-MGH_rec-uncombined04_T2starw.nii.gz:   0%|       | 0.00/725k [00:00<?, ?B/s]\r\n",
      "\r\n",
      "\r\n",
      "\r",
      "                                                                                \u001b[A\u001b[A\u001b[A"
     ]
    },
    {
     "name": "stdout",
     "output_type": "stream",
     "text": [
      "\r\n",
      "\r",
      "sub-MGH_rec-uncombined05_T2starw.json:   0%|        | 0.00/2.44k [00:00<?, ?B/s]\u001b[A\r\n",
      "\r",
      "                                                                                \u001b[A\r",
      "sub-MGH_rec-uncombined04_T2starw.nii.gz:  12%| | 83.6k/725k [00:00<00:01, 590kB/"
     ]
    },
    {
     "name": "stdout",
     "output_type": "stream",
     "text": [
      "\r\n",
      "\r",
      "sub-MGH_rec-uncombined04_T2starw.json:   0%|        | 0.00/2.44k [00:00<?, ?B/s]\u001b[A\r\n",
      "\r",
      "                                                                                \u001b[A"
     ]
    },
    {
     "name": "stdout",
     "output_type": "stream",
     "text": [
      "\r",
      "sub-MGH_rec-uncombined04_T2starw.nii.gz:  42%|▍| 305k/725k [00:00<00:00, 1.24MB/\r\n",
      "\r",
      "sub-MGH_rec-uncombined06_T2starw.json:   0%|        | 0.00/2.44k [00:00<?, ?B/s]\u001b[A\r\n",
      "\r",
      "                                                                                \u001b[A"
     ]
    },
    {
     "name": "stdout",
     "output_type": "stream",
     "text": [
      "\r\n",
      "\r",
      "sub-MGH_rec-uncombined05_T2starw.nii.gz:   0%|       | 0.00/798k [00:00<?, ?B/s]\u001b[A\r",
      "                                                                                \r"
     ]
    },
    {
     "name": "stdout",
     "output_type": "stream",
     "text": [
      "\r\n",
      "\r",
      "sub-MGH_rec-uncombined05_T2starw.nii.gz:  10%| | 83.4k/798k [00:00<00:01, 636kB/\u001b[A"
     ]
    },
    {
     "name": "stdout",
     "output_type": "stream",
     "text": [
      "\r",
      "sub-MGH_rec-uncombined07_T2starw.nii.gz:   0%|       | 0.00/773k [00:00<?, ?B/s]"
     ]
    },
    {
     "name": "stdout",
     "output_type": "stream",
     "text": [
      "\r\n",
      "\r\n",
      "\r",
      "sub-MGH_rec-uncombined06_T2starw.nii.gz:   0%|       | 0.00/794k [00:00<?, ?B/s]\u001b[A\u001b[A"
     ]
    },
    {
     "name": "stdout",
     "output_type": "stream",
     "text": [
      "\r\n",
      "\r",
      "sub-MGH_rec-uncombined05_T2starw.nii.gz:  38%|▍| 304k/798k [00:00<00:00, 1.24MB/\u001b[A\r\n",
      "\r\n",
      "\r\n",
      "\r",
      "sub-MGH_rec-uncombined07_T2starw.json:   0%|        | 0.00/2.44k [00:00<?, ?B/s]\u001b[A\u001b[A\u001b[A\r\n",
      "\r\n",
      "\r\n",
      "\r",
      "                                                                                \u001b[A\u001b[A\u001b[A"
     ]
    },
    {
     "name": "stdout",
     "output_type": "stream",
     "text": [
      "\r",
      "sub-MGH_rec-uncombined07_T2starw.nii.gz:  11%| | 83.4k/773k [00:00<00:01, 609kB/\r\n",
      "\r\n",
      "\r\n",
      "\r",
      "sub-MGH_rec-uncombined08_T2starw.json:   0%|        | 0.00/2.44k [00:00<?, ?B/s]\u001b[A\u001b[A\u001b[A\r\n",
      "\r\n",
      "\r\n",
      "\r",
      "                                                                                \u001b[A\u001b[A\u001b[A"
     ]
    },
    {
     "name": "stdout",
     "output_type": "stream",
     "text": [
      "\r\n",
      "\r\n",
      "\r",
      "sub-MGH_rec-uncombined06_T2starw.nii.gz:  10%| | 82.0k/794k [00:00<00:01, 518kB/\u001b[A\u001b[A\r\n",
      "\r",
      "sub-MGH_rec-uncombined05_T2starw.nii.gz:  87%|▊| 695k/798k [00:00<00:00, 2.29MB/\u001b[A\r\n",
      "\r",
      "                                                                                \u001b[A"
     ]
    },
    {
     "name": "stdout",
     "output_type": "stream",
     "text": [
      "\r",
      "sub-MGH_rec-uncombined07_T2starw.nii.gz:  37%|▎| 287k/773k [00:00<00:00, 1.33MB/"
     ]
    },
    {
     "name": "stdout",
     "output_type": "stream",
     "text": [
      "\r\n",
      "\r\n",
      "\r",
      "sub-MGH_rec-uncombined06_T2starw.nii.gz:  38%|▍| 303k/794k [00:00<00:00, 1.16MB/\u001b[A\u001b[A\r",
      "                                                                                \r"
     ]
    },
    {
     "name": "stdout",
     "output_type": "stream",
     "text": [
      "\r\n",
      "\r\n",
      "\r",
      "                                                                                \u001b[A\u001b[A"
     ]
    },
    {
     "name": "stdout",
     "output_type": "stream",
     "text": [
      "\r",
      "sub-MGH_rec-uncombined08_T2starw.nii.gz:   0%|       | 0.00/853k [00:00<?, ?B/s]"
     ]
    },
    {
     "name": "stdout",
     "output_type": "stream",
     "text": [
      "\r\n",
      "\r",
      "sub-MGH_rec-uncombined09_T2starw.nii.gz:   0%|       | 0.00/805k [00:00<?, ?B/s]\u001b[A"
     ]
    },
    {
     "name": "stdout",
     "output_type": "stream",
     "text": [
      "\r\n",
      "\r\n",
      "\r",
      "sub-MGH_rec-uncombined10_T2starw.json:   0%|        | 0.00/2.44k [00:00<?, ?B/s]\u001b[A\u001b[A\r\n",
      "\r\n",
      "\r",
      "                                                                                \u001b[A\u001b[A"
     ]
    },
    {
     "name": "stdout",
     "output_type": "stream",
     "text": [
      "\r",
      "sub-MGH_rec-uncombined08_T2starw.nii.gz:  10%| | 83.6k/853k [00:00<00:01, 607kB/\r\n",
      "\r\n",
      "\r",
      "sub-MGH_rec-uncombined09_T2starw.json:   0%|        | 0.00/2.44k [00:00<?, ?B/s]\u001b[A\u001b[A\r\n",
      "\r\n",
      "\r",
      "                                                                                \u001b[A\u001b[A"
     ]
    },
    {
     "name": "stdout",
     "output_type": "stream",
     "text": [
      "\r\n",
      "\r",
      "sub-MGH_rec-uncombined09_T2starw.nii.gz:  10%| | 81.4k/805k [00:00<00:01, 628kB/\u001b[A"
     ]
    },
    {
     "name": "stdout",
     "output_type": "stream",
     "text": [
      "\r\n",
      "\r\n",
      "\r",
      "sub-MGH_rec-uncombined11_T2starw.json:   0%|        | 0.00/2.44k [00:00<?, ?B/s]\u001b[A\u001b[A\r\n",
      "\r\n",
      "\r",
      "                                                                                \u001b[A\u001b[A"
     ]
    },
    {
     "name": "stdout",
     "output_type": "stream",
     "text": [
      "\r",
      "sub-MGH_rec-uncombined08_T2starw.nii.gz:  36%|▎| 305k/853k [00:00<00:00, 1.19MB/"
     ]
    },
    {
     "name": "stdout",
     "output_type": "stream",
     "text": [
      "\r\n",
      "\r",
      "sub-MGH_rec-uncombined09_T2starw.nii.gz:  44%|▍| 353k/805k [00:00<00:00, 1.49MB/\u001b[A\r",
      "                                                                                \r"
     ]
    },
    {
     "name": "stdout",
     "output_type": "stream",
     "text": [
      "\r\n",
      "\r",
      "                                                                                \u001b[A"
     ]
    },
    {
     "name": "stdout",
     "output_type": "stream",
     "text": [
      "\r",
      "sub-MGH_rec-uncombined10_T2starw.nii.gz:   0%|       | 0.00/838k [00:00<?, ?B/s]"
     ]
    },
    {
     "name": "stdout",
     "output_type": "stream",
     "text": [
      "\r\n",
      "\r",
      "sub-MGH_rec-uncombined12_T2starw.json:   0%|        | 0.00/2.44k [00:00<?, ?B/s]\u001b[A\r\n",
      "\r",
      "                                                                                \u001b[A\r",
      "sub-MGH_rec-uncombined10_T2starw.nii.gz:  10%| | 83.4k/838k [00:00<00:01, 608kB/\r\n",
      "\r",
      "sub-MGH_rec-uncombined11_T2starw.nii.gz:   0%|       | 0.00/857k [00:00<?, ?B/s]\u001b[A"
     ]
    },
    {
     "name": "stdout",
     "output_type": "stream",
     "text": [
      "\r\n",
      "\r\n",
      "\r",
      "sub-MGH_rec-uncombined12_T2starw.nii.gz:   0%|       | 0.00/861k [00:00<?, ?B/s]\u001b[A\u001b[A\r\n",
      "\r\n",
      "\r\n",
      "\r",
      "sub-MGH_rec-uncombined13_T2starw.json:   0%|        | 0.00/2.44k [00:00<?, ?B/s]\u001b[A\u001b[A\u001b[A\r\n",
      "\r\n",
      "\r\n",
      "\r",
      "                                                                                \u001b[A\u001b[A\u001b[A"
     ]
    },
    {
     "name": "stdout",
     "output_type": "stream",
     "text": [
      "\r\n",
      "\r",
      "sub-MGH_rec-uncombined11_T2starw.nii.gz:  10%| | 85.2k/857k [00:00<00:01, 638kB/\u001b[A\r",
      "sub-MGH_rec-uncombined10_T2starw.nii.gz:  36%|▎| 304k/838k [00:00<00:00, 1.19MB/"
     ]
    },
    {
     "name": "stdout",
     "output_type": "stream",
     "text": [
      "\r",
      "                                                                                \r",
      "\r\n",
      "\r\n",
      "\r",
      "sub-MGH_rec-uncombined12_T2starw.nii.gz:  10%| | 83.4k/861k [00:00<00:01, 544kB/\u001b[A\u001b[A"
     ]
    },
    {
     "name": "stdout",
     "output_type": "stream",
     "text": [
      "\r\n",
      "\r",
      "sub-MGH_rec-uncombined11_T2starw.nii.gz:  36%|▎| 306k/857k [00:00<00:00, 1.26MB/\u001b[A\r",
      "sub-MGH_rec-uncombined13_T2starw.nii.gz:   0%|       | 0.00/770k [00:00<?, ?B/s]"
     ]
    },
    {
     "name": "stdout",
     "output_type": "stream",
     "text": [
      "\r\n",
      "\r",
      "                                                                                \u001b[A"
     ]
    },
    {
     "name": "stdout",
     "output_type": "stream",
     "text": [
      "\r\n",
      "\r\n",
      "\r",
      "sub-MGH_rec-uncombined12_T2starw.nii.gz:  39%|▍| 338k/861k [00:00<00:00, 1.38MB/\u001b[A\u001b[A\r\n",
      "\r",
      "sub-MGH_rec-uncombined14_T2starw.json:   0%|        | 0.00/2.44k [00:00<?, ?B/s]\u001b[A\r\n",
      "\r",
      "                                                                                \u001b[A"
     ]
    },
    {
     "name": "stdout",
     "output_type": "stream",
     "text": [
      "\r",
      "sub-MGH_rec-uncombined13_T2starw.nii.gz:  11%| | 83.6k/770k [00:00<00:01, 583kB/\r\n",
      "\r\n",
      "\r",
      "                                                                                \u001b[A\u001b[A"
     ]
    },
    {
     "name": "stdout",
     "output_type": "stream",
     "text": [
      "\r\n",
      "\r",
      "sub-MGH_rec-uncombined15_T2starw.json:   0%|        | 0.00/2.44k [00:00<?, ?B/s]\u001b[A\r\n",
      "\r",
      "                                                                                \u001b[A"
     ]
    },
    {
     "name": "stdout",
     "output_type": "stream",
     "text": [
      "\r",
      "sub-MGH_rec-uncombined13_T2starw.nii.gz:  26%|▎| 203k/770k [00:00<00:00, 863kB/s"
     ]
    },
    {
     "name": "stdout",
     "output_type": "stream",
     "text": [
      "\r",
      "sub-MGH_rec-uncombined13_T2starw.nii.gz:  82%|▊| 628k/770k [00:00<00:00, 2.24MB/\r",
      "                                                                                \r"
     ]
    },
    {
     "name": "stdout",
     "output_type": "stream",
     "text": [
      "\r",
      "sub-MGH_rec-uncombined16_T2starw.json:   0%|        | 0.00/2.44k [00:00<?, ?B/s]\r\n",
      "\r",
      "sub-MGH_rec-uncombined14_T2starw.nii.gz:   0%|       | 0.00/812k [00:00<?, ?B/s]\u001b[A\r",
      "                                                                                \r"
     ]
    },
    {
     "name": "stdout",
     "output_type": "stream",
     "text": [
      "\r",
      "sub-MGH_rec-uncombined15_T2starw.nii.gz:   0%|       | 0.00/743k [00:00<?, ?B/s]"
     ]
    },
    {
     "name": "stdout",
     "output_type": "stream",
     "text": [
      "\r\n",
      "\r\n",
      "\r",
      "sub-MGH_rec-uncombined17_T2starw.json:   0%|        | 0.00/2.44k [00:00<?, ?B/s]\u001b[A\u001b[A\r\n",
      "\r\n",
      "\r",
      "                                                                                \u001b[A\u001b[A"
     ]
    },
    {
     "name": "stdout",
     "output_type": "stream",
     "text": [
      "\r\n",
      "\r",
      "sub-MGH_rec-uncombined14_T2starw.nii.gz:  10%| | 82.4k/812k [00:00<00:01, 614kB/\u001b[A"
     ]
    },
    {
     "name": "stdout",
     "output_type": "stream",
     "text": [
      "\r",
      "sub-MGH_rec-uncombined15_T2starw.nii.gz:   7%| | 52.3k/743k [00:00<00:01, 381kB/"
     ]
    },
    {
     "name": "stdout",
     "output_type": "stream",
     "text": [
      "\r\n",
      "\r",
      "sub-MGH_rec-uncombined14_T2starw.nii.gz:  37%|▎| 303k/812k [00:00<00:00, 1.20MB/\u001b[A\r\n",
      "\r\n",
      "\r",
      "sub-MGH_rec-uncombined17_T2starw.nii.gz:   0%|       | 0.00/829k [00:00<?, ?B/s]\u001b[A\u001b[A"
     ]
    },
    {
     "name": "stdout",
     "output_type": "stream",
     "text": [
      "\r\n",
      "\r\n",
      "\r\n",
      "\r",
      "sub-MGH_rec-uncombined16_T2starw.nii.gz:   0%|       | 0.00/785k [00:00<?, ?B/s]\u001b[A\u001b[A\u001b[A"
     ]
    },
    {
     "name": "stdout",
     "output_type": "stream",
     "text": [
      "\r",
      "sub-MGH_rec-uncombined15_T2starw.nii.gz:  15%|▏| 114k/743k [00:00<00:01, 419kB/s\r\n",
      "\r",
      "                                                                                \u001b[A"
     ]
    },
    {
     "name": "stdout",
     "output_type": "stream",
     "text": [
      "\r\n",
      "\r\n",
      "\r",
      "sub-MGH_rec-uncombined17_T2starw.nii.gz:  10%| | 83.6k/829k [00:00<00:01, 606kB/\u001b[A\u001b[A\r\n",
      "\r",
      "sub-MGH_rec-uncombined18_T2starw.nii.gz:   0%|       | 0.00/739k [00:00<?, ?B/s]\u001b[A"
     ]
    },
    {
     "name": "stdout",
     "output_type": "stream",
     "text": [
      "\r\n",
      "\r\n",
      "\r\n",
      "\r",
      "sub-MGH_rec-uncombined16_T2starw.nii.gz:   9%| | 68.3k/785k [00:00<00:01, 486kB/\u001b[A\u001b[A\u001b[A\r",
      "sub-MGH_rec-uncombined15_T2starw.nii.gz:  23%|▏| 174k/743k [00:00<00:01, 461kB/s"
     ]
    },
    {
     "name": "stdout",
     "output_type": "stream",
     "text": [
      "\r\n",
      "\r",
      "sub-MGH_rec-uncombined18_T2starw.nii.gz:  11%| | 82.4k/739k [00:00<00:01, 638kB/\u001b[A\r\n",
      "\r\n",
      "\r",
      "sub-MGH_rec-uncombined17_T2starw.nii.gz:  37%|▎| 305k/829k [00:00<00:00, 1.19MB/\u001b[A\u001b[A"
     ]
    },
    {
     "name": "stdout",
     "output_type": "stream",
     "text": [
      "\r\n",
      "\r\n",
      "\r\n",
      "\r",
      "sub-MGH_rec-uncombined16_T2starw.nii.gz:  20%|▏| 156k/785k [00:00<00:01, 593kB/s\u001b[A\u001b[A\u001b[A\r",
      "sub-MGH_rec-uncombined15_T2starw.nii.gz:  33%|▎| 246k/743k [00:00<00:01, 486kB/s\r\n",
      "\r\n",
      "\r\n",
      "\r\n",
      "\r",
      "sub-MGH_rec-uncombined18_T2starw.json:   0%|        | 0.00/2.44k [00:00<?, ?B/s]\u001b[A\u001b[A\u001b[A\u001b[A\r\n",
      "\r\n",
      "\r\n",
      "\r\n",
      "\r",
      "                                                                                \u001b[A\u001b[A\u001b[A\u001b[A"
     ]
    },
    {
     "name": "stdout",
     "output_type": "stream",
     "text": [
      "\r\n",
      "\r",
      "sub-MGH_rec-uncombined18_T2starw.nii.gz:  39%|▍| 287k/739k [00:00<00:00, 1.40MB/\u001b[A\r\n",
      "\r\n",
      "\r",
      "                                                                                \u001b[A\u001b[A"
     ]
    },
    {
     "name": "stdout",
     "output_type": "stream",
     "text": [
      "\r",
      "sub-MGH_rec-uncombined15_T2starw.nii.gz:  40%|▍| 296k/743k [00:00<00:00, 484kB/s\r\n",
      "\r\n",
      "\r\n",
      "\r",
      "sub-MGH_rec-uncombined16_T2starw.nii.gz:  31%|▎| 241k/785k [00:00<00:00, 618kB/s\u001b[A\u001b[A\u001b[A"
     ]
    },
    {
     "name": "stdout",
     "output_type": "stream",
     "text": [
      "\r\n",
      "\r",
      "sub-MGH_rec-uncombined18_T2starw.nii.gz:  82%|▊| 609k/739k [00:00<00:00, 2.20MB/\u001b[A\r\n",
      "\r",
      "                                                                                \u001b[A"
     ]
    },
    {
     "name": "stdout",
     "output_type": "stream",
     "text": [
      "\r",
      "sub-MGH_rec-uncombined15_T2starw.nii.gz:  50%|▍| 369k/743k [00:00<00:00, 535kB/s"
     ]
    },
    {
     "name": "stdout",
     "output_type": "stream",
     "text": [
      "\r\n",
      "\r\n",
      "\r\n",
      "\r",
      "sub-MGH_rec-uncombined16_T2starw.nii.gz:  44%|▍| 343k/785k [00:00<00:00, 671kB/s\u001b[A\u001b[A\u001b[A"
     ]
    },
    {
     "name": "stdout",
     "output_type": "stream",
     "text": [
      "\r\n",
      "\r",
      "sub-MGH_rec-uncombined19_T2starw.nii.gz:   0%|       | 0.00/684k [00:00<?, ?B/s]\u001b[A\r",
      "sub-MGH_rec-uncombined15_T2starw.nii.gz:  59%|▌| 436k/743k [00:00<00:00, 561kB/s"
     ]
    },
    {
     "name": "stdout",
     "output_type": "stream",
     "text": [
      "\r\n",
      "\r\n",
      "\r",
      "sub-MGH_rec-uncombined20_T2starw.json:   0%|        | 0.00/2.44k [00:00<?, ?B/s]\u001b[A\u001b[A\r\n",
      "\r\n",
      "\r",
      "                                                                                \u001b[A\u001b[A\r\n",
      "\r\n",
      "\r\n",
      "\r",
      "sub-MGH_rec-uncombined16_T2starw.nii.gz:  57%|▌| 445k/785k [00:00<00:00, 711kB/s\u001b[A\u001b[A\u001b[A"
     ]
    },
    {
     "name": "stdout",
     "output_type": "stream",
     "text": [
      "\r\n",
      "\r",
      "sub-MGH_rec-uncombined19_T2starw.nii.gz:  12%| | 83.6k/684k [00:00<00:01, 611kB/\u001b[A\r",
      "sub-MGH_rec-uncombined15_T2starw.nii.gz:  70%|▋| 521k/743k [00:01<00:00, 573kB/s"
     ]
    },
    {
     "name": "stdout",
     "output_type": "stream",
     "text": [
      "\r\n",
      "\r\n",
      "\r\n",
      "\r",
      "sub-MGH_rec-uncombined16_T2starw.nii.gz:  72%|▋| 564k/785k [00:00<00:00, 841kB/s\u001b[A\u001b[A\u001b[A"
     ]
    },
    {
     "name": "stdout",
     "output_type": "stream",
     "text": [
      "\r\n",
      "\r\n",
      "\r\n",
      "\r",
      "sub-MGH_rec-uncombined16_T2starw.nii.gz:  87%|▊| 684k/785k [00:00<00:00, 949kB/s\u001b[A\u001b[A\u001b[A\r\n",
      "\r\n",
      "\r",
      "sub-MGH_rec-uncombined19_T2starw.json:   0%|        | 0.00/2.44k [00:00<?, ?B/s]\u001b[A\u001b[A\r\n",
      "\r\n",
      "\r",
      "                                                                                \u001b[A\u001b[A\r\n",
      "\r",
      "sub-MGH_rec-uncombined19_T2starw.nii.gz:  45%|▍| 305k/684k [00:00<00:00, 1.12MB/\u001b[A\r\n",
      "\r\n",
      "\r",
      "sub-MGH_acq-anat_TB1TFL.json:   0%|                 | 0.00/2.62k [00:00<?, ?B/s]\u001b[A\u001b[A\r",
      "sub-MGH_rec-uncombined15_T2starw.nii.gz:  84%|▊| 623k/743k [00:01<00:00, 625kB/s\r\n",
      "\r\n",
      "\r",
      "                                                                                \u001b[A\u001b[A"
     ]
    },
    {
     "name": "stdout",
     "output_type": "stream",
     "text": [
      "\r\n",
      "\r",
      "                                                                                \u001b[A"
     ]
    },
    {
     "name": "stdout",
     "output_type": "stream",
     "text": [
      "\r\n",
      "\r\n",
      "\r\n",
      "\r",
      "sub-MGH_rec-uncombined16_T2starw.nii.gz: 100%|▉| 785k/785k [00:01<00:00, 888kB/s\u001b[A\u001b[A\u001b[A\r\n",
      "\r\n",
      "\r\n",
      "\r",
      "                                                                                \u001b[A\u001b[A\u001b[A"
     ]
    },
    {
     "name": "stdout",
     "output_type": "stream",
     "text": [
      "\r",
      "sub-MGH_rec-uncombined15_T2starw.nii.gz: 100%|▉| 742k/743k [00:01<00:00, 679kB/s\r",
      "                                                                                \r"
     ]
    },
    {
     "name": "stdout",
     "output_type": "stream",
     "text": [
      "\r",
      "sub-MGH_rec-uncombined20_T2starw.nii.gz:   0%|       | 0.00/795k [00:00<?, ?B/s]"
     ]
    },
    {
     "name": "stdout",
     "output_type": "stream",
     "text": [
      "\r\n",
      "\r",
      "sub-MGH_acq-coilQaSagLarge_SNR.json:   0%|          | 0.00/2.17k [00:00<?, ?B/s]\u001b[A\r\n",
      "\r",
      "                                                                                \u001b[A"
     ]
    },
    {
     "name": "stdout",
     "output_type": "stream",
     "text": [
      "\r\n",
      "\r",
      "sub-MGH_acq-coilQaSagLarge_SNR.nii.gz:   0%|        | 0.00/3.81M [00:00<?, ?B/s]\u001b[A\r",
      "sub-MGH_rec-uncombined20_T2starw.nii.gz:  11%| | 83.6k/795k [00:00<00:01, 648kB/\r\n",
      "\r\n",
      "\r",
      "sub-MGH_acq-anat_TB1TFL.nii.gz:   0%|                | 0.00/939k [00:00<?, ?B/s]\u001b[A\u001b[A"
     ]
    },
    {
     "name": "stdout",
     "output_type": "stream",
     "text": [
      "\r\n",
      "\r\n",
      "\r\n",
      "\r",
      "sub-MGH_acq-coilQaSagSmall_GFactor.json:   0%|      | 0.00/2.18k [00:00<?, ?B/s]\u001b[A\u001b[A\u001b[A\r\n",
      "\r\n",
      "\r\n",
      "\r",
      "                                                                                \u001b[A\u001b[A\u001b[A"
     ]
    },
    {
     "name": "stdout",
     "output_type": "stream",
     "text": [
      "\r\n",
      "\r",
      "sub-MGH_acq-coilQaSagLarge_SNR.nii.gz:   2%| | 66.6k/3.81M [00:00<00:05, 681kB/s\u001b[A"
     ]
    },
    {
     "name": "stdout",
     "output_type": "stream",
     "text": [
      "\r\n",
      "\r\n",
      "\r",
      "sub-MGH_acq-anat_TB1TFL.nii.gz:   9%|▋       | 83.6k/939k [00:00<00:01, 655kB/s]\u001b[A\u001b[A\r",
      "sub-MGH_rec-uncombined20_T2starw.nii.gz:  38%|▍| 305k/795k [00:00<00:00, 1.27MB/"
     ]
    },
    {
     "name": "stdout",
     "output_type": "stream",
     "text": [
      "\r\n",
      "\r",
      "sub-MGH_acq-coilQaSagLarge_SNR.nii.gz:   5%| | 186k/3.81M [00:00<00:04, 858kB/s]\u001b[A"
     ]
    },
    {
     "name": "stdout",
     "output_type": "stream",
     "text": [
      "\r",
      "                                                                                \r"
     ]
    },
    {
     "name": "stdout",
     "output_type": "stream",
     "text": [
      "\r\n",
      "\r\n",
      "\r",
      "sub-MGH_acq-anat_TB1TFL.nii.gz:  32%|██▌     | 305k/939k [00:00<00:00, 1.27MB/s]\u001b[A\u001b[A\r\n",
      "\r",
      "sub-MGH_acq-coilQaSagLarge_SNR.nii.gz:  16%|▏| 628k/3.81M [00:00<00:01, 2.38MB/s\u001b[A\r",
      "sub-MGH_acq-coilQaTra_GFactor.json:   0%|           | 0.00/2.08k [00:00<?, ?B/s]\r",
      "                                                                                \r"
     ]
    },
    {
     "name": "stdout",
     "output_type": "stream",
     "text": [
      "\r",
      "sub-MGH_acq-coilQaSagSmall_GFactor.nii.gz:   0%|    | 0.00/3.60M [00:00<?, ?B/s]\r\n",
      "\r\n",
      "\r",
      "                                                                                \u001b[A\u001b[A"
     ]
    },
    {
     "name": "stdout",
     "output_type": "stream",
     "text": [
      "\r\n",
      "\r",
      "sub-MGH_acq-coilQaSagLarge_SNR.nii.gz:  34%|▎| 1.29M/3.81M [00:00<00:00, 4.15MB/\u001b[A"
     ]
    },
    {
     "name": "stdout",
     "output_type": "stream",
     "text": [
      "\r",
      "sub-MGH_acq-coilQaSagSmall_GFactor.nii.gz:   1%| | 52.3k/3.60M [00:00<00:09, 403\r\n",
      "\r",
      "                                                                                \u001b[A"
     ]
    },
    {
     "name": "stdout",
     "output_type": "stream",
     "text": [
      "\r",
      "sub-MGH_acq-coilQaSagSmall_GFactor.nii.gz:   3%| | 114k/3.60M [00:00<00:08, 444k"
     ]
    },
    {
     "name": "stdout",
     "output_type": "stream",
     "text": [
      "\r\n",
      "\r",
      "sub-MGH_acq-coilQaTra_GFactor.nii.gz:   0%|         | 0.00/16.0M [00:00<?, ?B/s]\u001b[A\r\n",
      "\r\n",
      "\r",
      "sub-MGH_acq-famp-0.66_TB1DREAM.json:   0%|          | 0.00/2.14k [00:00<?, ?B/s]\u001b[A\u001b[A\r\n",
      "\r\n",
      "\r",
      "                                                                                \u001b[A\u001b[A"
     ]
    },
    {
     "name": "stdout",
     "output_type": "stream",
     "text": [
      "\r\n",
      "\r\n",
      "\r",
      "sub-MGH_acq-famp-0.66_TB1DREAM.nii.gz:   0%|        | 0.00/85.7k [00:00<?, ?B/s]\u001b[A\u001b[A\r",
      "sub-MGH_acq-coilQaSagSmall_GFactor.nii.gz:   5%| | 175k/3.60M [00:00<00:07, 502k"
     ]
    },
    {
     "name": "stdout",
     "output_type": "stream",
     "text": [
      "\r\n",
      "\r",
      "sub-MGH_acq-coilQaTra_GFactor.nii.gz:   0%| | 50.4k/16.0M [00:00<00:43, 384kB/s]\u001b[A"
     ]
    },
    {
     "name": "stdout",
     "output_type": "stream",
     "text": [
      "\r\n",
      "\r\n",
      "\r\n",
      "\r",
      "sub-MGH_acq-famp_TB1DREAM.json:   0%|               | 0.00/2.13k [00:00<?, ?B/s]\u001b[A\u001b[A\u001b[A\r\n",
      "\r\n",
      "\r\n",
      "\r",
      "                                                                                \u001b[A\u001b[A\u001b[A"
     ]
    },
    {
     "name": "stdout",
     "output_type": "stream",
     "text": [
      "\r",
      "sub-MGH_acq-coilQaSagSmall_GFactor.nii.gz:   7%| | 243k/3.60M [00:00<00:06, 543k\r\n",
      "\r\n",
      "\r",
      "sub-MGH_acq-famp-0.66_TB1DREAM.nii.gz: 100%|▉| 85.3k/85.7k [00:00<00:00, 628kB/s\u001b[A\u001b[A\r\n",
      "\r\n",
      "\r",
      "                                                                                \u001b[A\u001b[A"
     ]
    },
    {
     "name": "stdout",
     "output_type": "stream",
     "text": [
      "\r\n",
      "\r",
      "sub-MGH_acq-coilQaTra_GFactor.nii.gz:   1%|  | 114k/16.0M [00:00<00:37, 443kB/s]\u001b[A"
     ]
    },
    {
     "name": "stdout",
     "output_type": "stream",
     "text": [
      "\r\n",
      "\r\n",
      "\r",
      "sub-MGH_acq-famp_TB1TFL.nii.gz:   0%|                | 0.00/933k [00:00<?, ?B/s]\u001b[A\u001b[A\r",
      "sub-MGH_acq-coilQaSagSmall_GFactor.nii.gz:   8%| | 304k/3.60M [00:00<00:06, 546k"
     ]
    },
    {
     "name": "stdout",
     "output_type": "stream",
     "text": [
      "\r\n",
      "\r",
      "sub-MGH_acq-coilQaTra_GFactor.nii.gz:   1%|  | 187k/16.0M [00:00<00:33, 499kB/s]\u001b[A"
     ]
    },
    {
     "name": "stdout",
     "output_type": "stream",
     "text": [
      "\r\n",
      "\r\n",
      "\r",
      "sub-MGH_acq-famp_TB1TFL.nii.gz:   9%|▋       | 83.6k/933k [00:00<00:01, 649kB/s]\u001b[A\u001b[A\r",
      "sub-MGH_acq-coilQaSagSmall_GFactor.nii.gz:  10%| | 369k/3.60M [00:00<00:06, 537k"
     ]
    },
    {
     "name": "stdout",
     "output_type": "stream",
     "text": [
      "\r\n",
      "\r\n",
      "\r\n",
      "\r",
      "sub-MGH_acq-famp_TB1DREAM.nii.gz:   0%|             | 0.00/86.2k [00:00<?, ?B/s]\u001b[A\u001b[A\u001b[A\r\n",
      "\r\n",
      "\r\n",
      "\r\n",
      "\r",
      "sub-MGH_acq-famp_TB1TFL.json:   0%|                 | 0.00/2.66k [00:00<?, ?B/s]\u001b[A\u001b[A\u001b[A\u001b[A\r\n",
      "\r\n",
      "\r\n",
      "\r\n",
      "\r",
      "                                                                                \u001b[A\u001b[A\u001b[A\u001b[A"
     ]
    },
    {
     "name": "stdout",
     "output_type": "stream",
     "text": [
      "\r\n",
      "\r",
      "sub-MGH_acq-coilQaTra_GFactor.nii.gz:   2%|  | 246k/16.0M [00:00<00:32, 505kB/s]\u001b[A"
     ]
    },
    {
     "name": "stdout",
     "output_type": "stream",
     "text": [
      "\r\n",
      "\r\n",
      "\r",
      "sub-MGH_acq-famp_TB1TFL.nii.gz:  33%|██▌     | 305k/933k [00:00<00:00, 1.27MB/s]\u001b[A\u001b[A\r",
      "sub-MGH_acq-coilQaSagSmall_GFactor.nii.gz:  12%| | 453k/3.60M [00:00<00:05, 579k\r\n",
      "\r\n",
      "\r\n",
      "\r",
      "sub-MGH_acq-famp_TB1DREAM.nii.gz:  97%|████▊| 83.4k/86.2k [00:00<00:00, 641kB/s]\u001b[A\u001b[A\u001b[A\r\n",
      "\r\n",
      "\r\n",
      "\r",
      "                                                                                \u001b[A\u001b[A\u001b[A"
     ]
    },
    {
     "name": "stdout",
     "output_type": "stream",
     "text": [
      "\r\n",
      "\r",
      "sub-MGH_acq-coilQaTra_GFactor.nii.gz:   2%|  | 304k/16.0M [00:00<00:31, 517kB/s]\u001b[A\r\n",
      "\r\n",
      "\r",
      "                                                                                \u001b[A\u001b[A"
     ]
    },
    {
     "name": "stdout",
     "output_type": "stream",
     "text": [
      "\r",
      "sub-MGH_acq-coilQaSagSmall_GFactor.nii.gz:  14%|▏| 522k/3.60M [00:00<00:05, 613k"
     ]
    },
    {
     "name": "stdout",
     "output_type": "stream",
     "text": [
      "\r\n",
      "\r",
      "sub-MGH_acq-coilQaTra_GFactor.nii.gz:   2%|  | 375k/16.0M [00:00<00:29, 554kB/s]\u001b[A"
     ]
    },
    {
     "name": "stdout",
     "output_type": "stream",
     "text": [
      "\r\n",
      "\r\n",
      "\r",
      "sub-MGH_acq-refv-0.66_TB1DREAM.json:   0%|          | 0.00/2.16k [00:00<?, ?B/s]\u001b[A\u001b[A\r\n",
      "\r\n",
      "\r",
      "                                                                                \u001b[A\u001b[A"
     ]
    },
    {
     "name": "stdout",
     "output_type": "stream",
     "text": [
      "\r",
      "sub-MGH_acq-coilQaSagSmall_GFactor.nii.gz:  17%|▏| 623k/3.60M [00:01<00:04, 654k"
     ]
    },
    {
     "name": "stdout",
     "output_type": "stream",
     "text": [
      "\r\n",
      "\r",
      "sub-MGH_acq-coilQaTra_GFactor.nii.gz:   3%|  | 460k/16.0M [00:00<00:28, 572kB/s]\u001b[A"
     ]
    },
    {
     "name": "stdout",
     "output_type": "stream",
     "text": [
      "\r\n",
      "\r\n",
      "\r",
      "sub-MGH_acq-refv-0.66_TB1DREAM.nii.gz:   0%|        | 0.00/87.1k [00:00<?, ?B/s]\u001b[A\u001b[A\r\n",
      "\r\n",
      "\r\n",
      "\r",
      "sub-MGH_acq-refv_TB1DREAM.json:   0%|               | 0.00/2.14k [00:00<?, ?B/s]\u001b[A\u001b[A\u001b[A\r\n",
      "\r\n",
      "\r\n",
      "\r",
      "                                                                                \u001b[A\u001b[A\u001b[A"
     ]
    },
    {
     "name": "stdout",
     "output_type": "stream",
     "text": [
      "\r",
      "sub-MGH_acq-coilQaSagSmall_GFactor.nii.gz:  20%|▏| 742k/3.60M [00:01<00:04, 719k"
     ]
    },
    {
     "name": "stdout",
     "output_type": "stream",
     "text": [
      "\r\n",
      "\r",
      "sub-MGH_acq-coilQaTra_GFactor.nii.gz:   3%|  | 562k/16.0M [00:01<00:25, 624kB/s]\u001b[A"
     ]
    },
    {
     "name": "stdout",
     "output_type": "stream",
     "text": [
      "\r\n",
      "\r\n",
      "\r",
      "sub-MGH_acq-refv-0.66_TB1DREAM.nii.gz:  96%|▉| 83.6k/87.1k [00:00<00:00, 612kB/s\u001b[A\u001b[A\r\n",
      "\r\n",
      "\r",
      "                                                                                \u001b[A\u001b[A\r",
      "sub-MGH_acq-coilQaSagSmall_GFactor.nii.gz:  23%|▏| 862k/3.60M [00:01<00:03, 774k\r\n",
      "\r\n",
      "\r",
      "sub-MGH_acq-refv_TB1DREAM.nii.gz:   0%|             | 0.00/91.4k [00:00<?, ?B/s]\u001b[A\u001b[A"
     ]
    },
    {
     "name": "stdout",
     "output_type": "stream",
     "text": [
      "\r\n",
      "\r",
      "sub-MGH_acq-coilQaTra_GFactor.nii.gz:   4%|  | 681k/16.0M [00:01<00:22, 707kB/s]\u001b[A"
     ]
    },
    {
     "name": "stdout",
     "output_type": "stream",
     "text": [
      "\r",
      "sub-MGH_acq-coilQaSagSmall_GFactor.nii.gz:  28%|▎| 0.99M/3.60M [00:01<00:03, 892\r\n",
      "\r\n",
      "\r",
      "sub-MGH_acq-refv_TB1DREAM.nii.gz:  91%|████▌| 83.6k/91.4k [00:00<00:00, 624kB/s]\u001b[A\u001b[A\r\n",
      "\r\n",
      "\r",
      "                                                                                \u001b[A\u001b[A"
     ]
    },
    {
     "name": "stdout",
     "output_type": "stream",
     "text": [
      "\r\n",
      "\r\n",
      "\r",
      "sub-MNI_T2starw.json:   0%|                         | 0.00/2.41k [00:00<?, ?B/s]\u001b[A\u001b[A\r\n",
      "\r\n",
      "\r",
      "                                                                                \u001b[A\u001b[A\r\n",
      "\r",
      "sub-MGH_acq-coilQaTra_GFactor.nii.gz:   5%|  | 800k/16.0M [00:01<00:20, 759kB/s]\u001b[A"
     ]
    },
    {
     "name": "stdout",
     "output_type": "stream",
     "text": [
      "\r\n",
      "\r\n",
      "\r",
      "sub-MNI_rec-uncombined01_T2starw.json:   0%|        | 0.00/2.42k [00:00<?, ?B/s]\u001b[A\u001b[A\r\n",
      "\r\n",
      "\r",
      "                                                                                \u001b[A\u001b[A"
     ]
    },
    {
     "name": "stdout",
     "output_type": "stream",
     "text": [
      "\r",
      "sub-MGH_acq-coilQaSagSmall_GFactor.nii.gz:  32%|▎| 1.14M/3.60M [00:01<00:02, 933"
     ]
    },
    {
     "name": "stdout",
     "output_type": "stream",
     "text": [
      "\r\n",
      "\r",
      "sub-MGH_acq-coilQaTra_GFactor.nii.gz:   6%|  | 936k/16.0M [00:01<00:19, 817kB/s]\u001b[A"
     ]
    },
    {
     "name": "stdout",
     "output_type": "stream",
     "text": [
      "\r",
      "sub-MGH_acq-coilQaSagSmall_GFactor.nii.gz:  36%|▎| 1.31M/3.60M [00:01<00:02, 1.0"
     ]
    },
    {
     "name": "stdout",
     "output_type": "stream",
     "text": [
      "\r\n",
      "\r\n",
      "\r",
      "sub-MNI_T2starw.nii.gz:   0%|                       | 0.00/1.14M [00:00<?, ?B/s]\u001b[A\u001b[A"
     ]
    },
    {
     "name": "stdout",
     "output_type": "stream",
     "text": [
      "\r\n",
      "\r",
      "sub-MGH_acq-coilQaTra_GFactor.nii.gz:   7%| | 1.06M/16.0M [00:01<00:16, 922kB/s]\u001b[A\r\n",
      "\r\n",
      "\r\n",
      "\r",
      "sub-MNI_rec-uncombined01_T2starw.nii.gz:   0%|       | 0.00/734k [00:00<?, ?B/s]\u001b[A\u001b[A\u001b[A"
     ]
    },
    {
     "name": "stdout",
     "output_type": "stream",
     "text": [
      "\r\n",
      "\r\n",
      "\r\n",
      "\r\n",
      "\r",
      "sub-MNI_rec-uncombined02_T2starw.nii.gz:   0%|       | 0.00/742k [00:00<?, ?B/s]\u001b[A\u001b[A\u001b[A\u001b[A\r",
      "sub-MGH_acq-coilQaSagSmall_GFactor.nii.gz:  42%|▍| 1.50M/3.60M [00:01<00:01, 1.1"
     ]
    },
    {
     "name": "stdout",
     "output_type": "stream",
     "text": [
      "\r\n",
      "\r\n",
      "\r",
      "sub-MNI_T2starw.nii.gz:   7%|█              | 83.6k/1.14M [00:00<00:01, 648kB/s]\u001b[A\u001b[A\r\n",
      "\r",
      "sub-MGH_acq-coilQaTra_GFactor.nii.gz:   8%| | 1.23M/16.0M [00:01<00:15, 1.03MB/s\u001b[A"
     ]
    },
    {
     "name": "stdout",
     "output_type": "stream",
     "text": [
      "\r\n",
      "\r\n",
      "\r\n",
      "\r",
      "sub-MNI_rec-uncombined01_T2starw.nii.gz:  11%| | 83.6k/734k [00:00<00:01, 650kB/\u001b[A\u001b[A\u001b[A"
     ]
    },
    {
     "name": "stdout",
     "output_type": "stream",
     "text": [
      "\r\n",
      "\r\n",
      "\r\n",
      "\r\n",
      "\r",
      "sub-MNI_rec-uncombined02_T2starw.nii.gz:  11%| | 83.6k/742k [00:00<00:01, 647kB/\u001b[A\u001b[A\u001b[A\u001b[A\r",
      "sub-MGH_acq-coilQaSagSmall_GFactor.nii.gz:  47%|▍| 1.70M/3.60M [00:02<00:01, 1.3\r\n",
      "\r\n",
      "\r",
      "sub-MNI_T2starw.nii.gz:  26%|███▉           | 305k/1.14M [00:00<00:00, 1.27MB/s]\u001b[A\u001b[A"
     ]
    },
    {
     "name": "stdout",
     "output_type": "stream",
     "text": [
      "\r\n",
      "\r",
      "sub-MGH_acq-coilQaTra_GFactor.nii.gz:   9%| | 1.40M/16.0M [00:01<00:13, 1.11MB/s\u001b[A"
     ]
    },
    {
     "name": "stdout",
     "output_type": "stream",
     "text": [
      "\r\n",
      "\r\n",
      "\r\n",
      "\r",
      "sub-MNI_rec-uncombined01_T2starw.nii.gz:  41%|▍| 305k/734k [00:00<00:00, 1.27MB/\u001b[A\u001b[A\u001b[A\r\n",
      "\r\n",
      "\r",
      "                                                                                \u001b[A\u001b[A"
     ]
    },
    {
     "name": "stdout",
     "output_type": "stream",
     "text": [
      "\r\n",
      "\r\n",
      "\r\n",
      "\r\n",
      "\r",
      "sub-MNI_rec-uncombined02_T2starw.nii.gz:  41%|▍| 305k/742k [00:00<00:00, 1.13MB/\u001b[A\u001b[A\u001b[A\u001b[A\r",
      "sub-MGH_acq-coilQaSagSmall_GFactor.nii.gz:  54%|▌| 1.94M/3.60M [00:02<00:01, 1.4\r\n",
      "\r\n",
      "\r\n",
      "\r",
      "                                                                                \u001b[A\u001b[A\u001b[A"
     ]
    },
    {
     "name": "stdout",
     "output_type": "stream",
     "text": [
      "\r\n",
      "\r\n",
      "\r\n",
      "\r\n",
      "\r",
      "                                                                                \u001b[A\u001b[A\u001b[A\u001b[A\r\n",
      "\r",
      "sub-MGH_acq-coilQaTra_GFactor.nii.gz:  10%| | 1.59M/16.0M [00:02<00:13, 1.15MB/s\u001b[A"
     ]
    },
    {
     "name": "stdout",
     "output_type": "stream",
     "text": [
      "\r",
      "sub-MGH_acq-coilQaSagSmall_GFactor.nii.gz:  61%|▌| 2.19M/3.60M [00:02<00:00, 1.4"
     ]
    },
    {
     "name": "stdout",
     "output_type": "stream",
     "text": [
      "\r\n",
      "\r",
      "sub-MGH_acq-coilQaTra_GFactor.nii.gz:  11%| | 1.81M/16.0M [00:02<00:11, 1.30MB/s\u001b[A"
     ]
    },
    {
     "name": "stdout",
     "output_type": "stream",
     "text": [
      "\r\n",
      "\r\n",
      "\r",
      "sub-MNI_rec-uncombined02_T2starw.json:   0%|        | 0.00/2.42k [00:00<?, ?B/s]\u001b[A\u001b[A\r\n",
      "\r\n",
      "\r",
      "                                                                                \u001b[A\u001b[A"
     ]
    },
    {
     "name": "stdout",
     "output_type": "stream",
     "text": [
      "\r",
      "sub-MGH_acq-coilQaSagSmall_GFactor.nii.gz:  69%|▋| 2.47M/3.60M [00:02<00:00, 1.6\r\n",
      "\r\n",
      "\r",
      "sub-MNI_rec-uncombined03_T2starw.json:   0%|        | 0.00/2.42k [00:00<?, ?B/s]\u001b[A\u001b[A\r\n",
      "\r\n",
      "\r",
      "                                                                                \u001b[A\u001b[A"
     ]
    },
    {
     "name": "stdout",
     "output_type": "stream",
     "text": [
      "\r\n",
      "\r\n",
      "\r",
      "sub-MNI_rec-uncombined03_T2starw.nii.gz:   0%|       | 0.00/835k [00:00<?, ?B/s]\u001b[A\u001b[A\r\n",
      "\r",
      "sub-MGH_acq-coilQaTra_GFactor.nii.gz:  13%|▏| 2.06M/16.0M [00:02<00:10, 1.44MB/s\u001b[A"
     ]
    },
    {
     "name": "stdout",
     "output_type": "stream",
     "text": [
      "\r",
      "sub-MGH_acq-coilQaSagSmall_GFactor.nii.gz:  77%|▊| 2.77M/3.60M [00:02<00:00, 1.9"
     ]
    },
    {
     "name": "stdout",
     "output_type": "stream",
     "text": [
      "\r\n",
      "\r\n",
      "\r",
      "sub-MNI_rec-uncombined03_T2starw.nii.gz:   9%| | 77.1k/835k [00:00<00:01, 585kB/\u001b[A\u001b[A"
     ]
    },
    {
     "name": "stdout",
     "output_type": "stream",
     "text": [
      "\r\n",
      "\r",
      "sub-MGH_acq-coilQaTra_GFactor.nii.gz:  15%|▏| 2.32M/16.0M [00:02<00:08, 1.61MB/s\u001b[A\r\n",
      "\r\n",
      "\r\n",
      "\r",
      "sub-MNI_rec-uncombined05_T2starw.json:   0%|        | 0.00/2.42k [00:00<?, ?B/s]\u001b[A\u001b[A\u001b[A\r\n",
      "\r\n",
      "\r\n",
      "\r",
      "                                                                                \u001b[A\u001b[A\u001b[A"
     ]
    },
    {
     "name": "stdout",
     "output_type": "stream",
     "text": [
      "\r",
      "sub-MGH_acq-coilQaSagSmall_GFactor.nii.gz:  86%|▊| 3.10M/3.60M [00:02<00:00, 2.0"
     ]
    },
    {
     "name": "stdout",
     "output_type": "stream",
     "text": [
      "\r\n",
      "\r\n",
      "\r",
      "sub-MNI_rec-uncombined03_T2starw.nii.gz:  24%|▏| 200k/835k [00:00<00:00, 795kB/s\u001b[A\u001b[A\r\n",
      "\r\n",
      "\r\n",
      "\r",
      "sub-MNI_rec-uncombined04_T2starw.json:   0%|        | 0.00/2.42k [00:00<?, ?B/s]\u001b[A\u001b[A\u001b[A\r\n",
      "\r\n",
      "\r\n",
      "\r",
      "                                                                                \u001b[A\u001b[A\u001b[A"
     ]
    },
    {
     "name": "stdout",
     "output_type": "stream",
     "text": [
      "\r\n",
      "\r",
      "sub-MGH_acq-coilQaTra_GFactor.nii.gz:  16%|▏| 2.61M/16.0M [00:02<00:08, 1.70MB/s\u001b[A"
     ]
    },
    {
     "name": "stdout",
     "output_type": "stream",
     "text": [
      "\r",
      "sub-MGH_acq-coilQaSagSmall_GFactor.nii.gz:  97%|▉| 3.48M/3.60M [00:02<00:00, 2.2\r",
      "                                                                                \r"
     ]
    },
    {
     "name": "stdout",
     "output_type": "stream",
     "text": [
      "\r\n",
      "\r",
      "sub-MGH_acq-coilQaTra_GFactor.nii.gz:  18%|▏| 2.81M/16.0M [00:02<00:07, 1.78MB/s\u001b[A\r\n",
      "\r\n",
      "\r",
      "sub-MNI_rec-uncombined03_T2starw.nii.gz:  38%|▍| 316k/835k [00:00<00:00, 795kB/s\u001b[A\u001b[A"
     ]
    },
    {
     "name": "stdout",
     "output_type": "stream",
     "text": [
      "\r\n",
      "\r",
      "sub-MGH_acq-coilQaTra_GFactor.nii.gz:  19%|▏| 3.11M/16.0M [00:02<00:06, 2.10MB/s\u001b[A\r\n",
      "\r\n",
      "\r",
      "sub-MNI_rec-uncombined03_T2starw.nii.gz:  56%|▌| 470k/835k [00:00<00:00, 986kB/s\u001b[A\u001b[A\r",
      "sub-MNI_rec-uncombined04_T2starw.nii.gz:   0%|       | 0.00/792k [00:00<?, ?B/s]"
     ]
    },
    {
     "name": "stdout",
     "output_type": "stream",
     "text": [
      "\r\n",
      "\r\n",
      "\r",
      "sub-MNI_rec-uncombined03_T2starw.nii.gz:  73%|▋| 607k/835k [00:00<00:00, 1.06MB/\u001b[A\u001b[A\r\n",
      "\r",
      "sub-MGH_acq-coilQaTra_GFactor.nii.gz:  22%|▏| 3.47M/16.0M [00:02<00:05, 2.34MB/s\u001b[A\r\n",
      "\r\n",
      "\r\n",
      "\r",
      "sub-MNI_rec-uncombined05_T2starw.nii.gz:   0%|       | 0.00/792k [00:00<?, ?B/s]\u001b[A\u001b[A\u001b[A"
     ]
    },
    {
     "name": "stdout",
     "output_type": "stream",
     "text": [
      "\r\n",
      "\r\n",
      "\r\n",
      "\r\n",
      "\r",
      "sub-MNI_rec-uncombined06_T2starw.json:   0%|        | 0.00/2.42k [00:00<?, ?B/s]\u001b[A\u001b[A\u001b[A\u001b[A\r\n",
      "\r\n",
      "\r\n",
      "\r\n",
      "\r",
      "                                                                                \u001b[A\u001b[A\u001b[A\u001b[A\r",
      "sub-MNI_rec-uncombined04_T2starw.nii.gz:  10%| | 82.4k/792k [00:00<00:01, 532kB/"
     ]
    },
    {
     "name": "stdout",
     "output_type": "stream",
     "text": [
      "\r\n",
      "\r\n",
      "\r",
      "sub-MNI_rec-uncombined03_T2starw.nii.gz:  87%|▊| 725k/835k [00:00<00:00, 1.07MB/\u001b[A\u001b[A\r\n",
      "\r",
      "sub-MGH_acq-coilQaTra_GFactor.nii.gz:  24%|▏| 3.89M/16.0M [00:03<00:04, 2.62MB/s\u001b[A\r\n",
      "\r\n",
      "\r\n",
      "\r",
      "sub-MNI_rec-uncombined05_T2starw.nii.gz:  11%| | 83.6k/792k [00:00<00:01, 609kB/\u001b[A\u001b[A\u001b[A\r",
      "sub-MNI_rec-uncombined04_T2starw.nii.gz:  38%|▍| 303k/792k [00:00<00:00, 1.31MB/"
     ]
    },
    {
     "name": "stdout",
     "output_type": "stream",
     "text": [
      "\r\n",
      "\r\n",
      "\r",
      "                                                                                \u001b[A\u001b[A"
     ]
    },
    {
     "name": "stdout",
     "output_type": "stream",
     "text": [
      "\r",
      "                                                                                \r"
     ]
    },
    {
     "name": "stdout",
     "output_type": "stream",
     "text": [
      "\r\n",
      "\r",
      "sub-MGH_acq-coilQaTra_GFactor.nii.gz:  27%|▎| 4.33M/16.0M [00:03<00:04, 2.90MB/s\u001b[A\r\n",
      "\r\n",
      "\r\n",
      "\r",
      "sub-MNI_rec-uncombined05_T2starw.nii.gz:  38%|▍| 305k/792k [00:00<00:00, 1.20MB/\u001b[A\u001b[A\u001b[A\r",
      "sub-MNI_rec-uncombined07_T2starw.json:   0%|        | 0.00/2.42k [00:00<?, ?B/s]"
     ]
    },
    {
     "name": "stdout",
     "output_type": "stream",
     "text": [
      "\r",
      "                                                                                \r"
     ]
    },
    {
     "name": "stdout",
     "output_type": "stream",
     "text": [
      "\r\n",
      "\r\n",
      "\r\n",
      "\r",
      "                                                                                \u001b[A\u001b[A\u001b[A\r\n",
      "\r",
      "sub-MGH_acq-coilQaTra_GFactor.nii.gz:  30%|▎| 4.83M/16.0M [00:03<00:03, 3.17MB/s\u001b[A"
     ]
    },
    {
     "name": "stdout",
     "output_type": "stream",
     "text": [
      "\r",
      "sub-MNI_rec-uncombined06_T2starw.nii.gz:   0%|       | 0.00/801k [00:00<?, ?B/s]"
     ]
    },
    {
     "name": "stdout",
     "output_type": "stream",
     "text": [
      "\r\n",
      "\r\n",
      "\r",
      "sub-MNI_rec-uncombined07_T2starw.nii.gz:   0%|       | 0.00/817k [00:00<?, ?B/s]\u001b[A\u001b[A\r\n",
      "\r",
      "sub-MGH_acq-coilQaTra_GFactor.nii.gz:  34%|▎| 5.38M/16.0M [00:03<00:03, 3.51MB/s\u001b[A"
     ]
    },
    {
     "name": "stdout",
     "output_type": "stream",
     "text": [
      "\r\n",
      "\r\n",
      "\r\n",
      "\r",
      "sub-MNI_rec-uncombined08_T2starw.nii.gz:   0%|       | 0.00/804k [00:00<?, ?B/s]\u001b[A\u001b[A\u001b[A\r",
      "sub-MNI_rec-uncombined06_T2starw.nii.gz:  11%| | 85.2k/801k [00:00<00:01, 624kB/\r\n",
      "\r\n",
      "\r",
      "sub-MNI_rec-uncombined07_T2starw.nii.gz:  10%| | 83.6k/817k [00:00<00:01, 649kB/\u001b[A\u001b[A\r\n",
      "\r\n",
      "\r\n",
      "\r\n",
      "\r",
      "sub-MNI_rec-uncombined08_T2starw.json:   0%|        | 0.00/2.42k [00:00<?, ?B/s]\u001b[A\u001b[A\u001b[A\u001b[A"
     ]
    },
    {
     "name": "stdout",
     "output_type": "stream",
     "text": [
      "\r\n",
      "\r\n",
      "\r\n",
      "\r\n",
      "\r",
      "                                                                                \u001b[A\u001b[A\u001b[A\u001b[A\r\n",
      "\r",
      "sub-MGH_acq-coilQaTra_GFactor.nii.gz:  37%|▎| 5.98M/16.0M [00:03<00:02, 3.67MB/s\u001b[A"
     ]
    },
    {
     "name": "stdout",
     "output_type": "stream",
     "text": [
      "\r\n",
      "\r\n",
      "\r\n",
      "\r",
      "sub-MNI_rec-uncombined08_T2starw.nii.gz:   6%| | 49.4k/804k [00:00<00:02, 343kB/\u001b[A\u001b[A\u001b[A"
     ]
    },
    {
     "name": "stdout",
     "output_type": "stream",
     "text": [
      "\r",
      "sub-MNI_rec-uncombined06_T2starw.nii.gz:  36%|▎| 289k/801k [00:00<00:00, 1.13MB/\r\n",
      "\r\n",
      "\r",
      "sub-MNI_rec-uncombined07_T2starw.nii.gz:  37%|▎| 305k/817k [00:00<00:00, 1.27MB/\u001b[A\u001b[A"
     ]
    },
    {
     "name": "stdout",
     "output_type": "stream",
     "text": [
      "\r\n",
      "\r",
      "sub-MGH_acq-coilQaTra_GFactor.nii.gz:  42%|▍| 6.64M/16.0M [00:03<00:02, 4.12MB/s\u001b[A"
     ]
    },
    {
     "name": "stdout",
     "output_type": "stream",
     "text": [
      "\r\n",
      "\r\n",
      "\r",
      "                                                                                \u001b[A\u001b[A\r",
      "                                                                                \r"
     ]
    },
    {
     "name": "stdout",
     "output_type": "stream",
     "text": [
      "\r\n",
      "\r\n",
      "\r\n",
      "\r",
      "sub-MNI_rec-uncombined08_T2starw.nii.gz:  14%|▏| 109k/804k [00:00<00:01, 356kB/s\u001b[A\u001b[A\u001b[A\r\n",
      "\r",
      "sub-MGH_acq-coilQaTra_GFactor.nii.gz:  44%|▍| 7.04M/16.0M [00:03<00:02, 4.10MB/s\u001b[A\r",
      "sub-MNI_rec-uncombined09_T2starw.json:   0%|        | 0.00/2.42k [00:00<?, ?B/s]"
     ]
    },
    {
     "name": "stdout",
     "output_type": "stream",
     "text": [
      "\r",
      "                                                                                \r"
     ]
    },
    {
     "name": "stdout",
     "output_type": "stream",
     "text": [
      "\r\n",
      "\r\n",
      "\r\n",
      "\r",
      "sub-MNI_rec-uncombined08_T2starw.nii.gz:  22%|▏| 181k/804k [00:00<00:01, 484kB/s\u001b[A\u001b[A\u001b[A\r\n",
      "\r",
      "sub-MGH_acq-coilQaTra_GFactor.nii.gz:  49%|▍| 7.77M/16.0M [00:03<00:01, 4.98MB/s\u001b[A"
     ]
    },
    {
     "name": "stdout",
     "output_type": "stream",
     "text": [
      "\r\n",
      "\r\n",
      "\r\n",
      "\r",
      "sub-MNI_rec-uncombined08_T2starw.nii.gz:  31%|▎| 249k/804k [00:00<00:01, 497kB/s\u001b[A\u001b[A\u001b[A\r\n",
      "\r",
      "sub-MGH_acq-coilQaTra_GFactor.nii.gz:  54%|▌| 8.62M/16.0M [00:04<00:01, 5.51MB/s\u001b[A"
     ]
    },
    {
     "name": "stdout",
     "output_type": "stream",
     "text": [
      "\r",
      "sub-MNI_rec-uncombined10_T2starw.json:   0%|        | 0.00/2.42k [00:00<?, ?B/s]\r",
      "                                                                                \r"
     ]
    },
    {
     "name": "stdout",
     "output_type": "stream",
     "text": [
      "\r",
      "sub-MNI_rec-uncombined11_T2starw.json:   0%|        | 0.00/2.42k [00:00<?, ?B/s]\r",
      "                                                                                \r",
      "\r\n",
      "\r",
      "sub-MGH_acq-coilQaTra_GFactor.nii.gz:  58%|▌| 9.25M/16.0M [00:04<00:01, 5.72MB/s\u001b[A\r",
      "sub-MNI_rec-uncombined09_T2starw.nii.gz:   0%|       | 0.00/798k [00:00<?, ?B/s]"
     ]
    },
    {
     "name": "stdout",
     "output_type": "stream",
     "text": [
      "\r\n",
      "\r\n",
      "\r\n",
      "\r",
      "sub-MNI_rec-uncombined08_T2starw.nii.gz:  39%|▍| 317k/804k [00:00<00:00, 505kB/s\u001b[A\u001b[A\u001b[A"
     ]
    },
    {
     "name": "stdout",
     "output_type": "stream",
     "text": [
      "\r\n",
      "\r",
      "sub-MGH_acq-coilQaTra_GFactor.nii.gz:  63%|▋| 10.1M/16.0M [00:04<00:00, 6.65MB/s\u001b[A"
     ]
    },
    {
     "name": "stdout",
     "output_type": "stream",
     "text": [
      "\r",
      "sub-MNI_rec-uncombined09_T2starw.nii.gz:  10%| | 77.0k/798k [00:00<00:01, 563kB/"
     ]
    },
    {
     "name": "stdout",
     "output_type": "stream",
     "text": [
      "\r\n",
      "\r\n",
      "\r\n",
      "\r",
      "sub-MNI_rec-uncombined08_T2starw.nii.gz:  50%|▍| 402k/804k [00:00<00:00, 553kB/s\u001b[A\u001b[A\u001b[A\r\n",
      "\r",
      "sub-MGH_acq-coilQaTra_GFactor.nii.gz:  68%|▋| 10.8M/16.0M [00:04<00:00, 6.72MB/s\u001b[A"
     ]
    },
    {
     "name": "stdout",
     "output_type": "stream",
     "text": [
      "\r\n",
      "\r\n",
      "\r",
      "sub-MNI_rec-uncombined10_T2starw.nii.gz:   0%|       | 0.00/816k [00:00<?, ?B/s]\u001b[A\u001b[A"
     ]
    },
    {
     "name": "stdout",
     "output_type": "stream",
     "text": [
      "\r\n",
      "\r\n",
      "\r\n",
      "\r\n",
      "\r",
      "sub-MNI_rec-uncombined11_T2starw.nii.gz:   0%|       | 0.00/857k [00:00<?, ?B/s]\u001b[A\u001b[A\u001b[A\u001b[A\r",
      "sub-MNI_rec-uncombined09_T2starw.nii.gz:  27%|▎| 218k/798k [00:00<00:00, 835kB/s\r\n",
      "\r\n",
      "\r\n",
      "\r",
      "sub-MNI_rec-uncombined08_T2starw.nii.gz:  63%|▋| 504k/804k [00:00<00:00, 627kB/s\u001b[A\u001b[A\u001b[A\r\n",
      "\r",
      "sub-MGH_acq-coilQaTra_GFactor.nii.gz:  74%|▋| 11.8M/16.0M [00:04<00:00, 7.78MB/s\u001b[A"
     ]
    },
    {
     "name": "stdout",
     "output_type": "stream",
     "text": [
      "\r\n",
      "\r\n",
      "\r",
      "sub-MNI_rec-uncombined10_T2starw.nii.gz:   9%| | 75.8k/816k [00:00<00:01, 587kB/\u001b[A\u001b[A"
     ]
    },
    {
     "name": "stdout",
     "output_type": "stream",
     "text": [
      "\r\n",
      "\r",
      "sub-MGH_acq-coilQaTra_GFactor.nii.gz:  79%|▊| 12.6M/16.0M [00:04<00:00, 7.84MB/s\u001b[A"
     ]
    },
    {
     "name": "stdout",
     "output_type": "stream",
     "text": [
      "\r\n",
      "\r\n",
      "\r\n",
      "\r\n",
      "\r",
      "sub-MNI_rec-uncombined11_T2starw.nii.gz:   8%| | 64.4k/857k [00:00<00:01, 491kB/\u001b[A\u001b[A\u001b[A\u001b[A\r",
      "sub-MNI_rec-uncombined09_T2starw.nii.gz:  45%|▍| 357k/798k [00:00<00:00, 914kB/s\r\n",
      "\r\n",
      "\r\n",
      "\r",
      "sub-MNI_rec-uncombined08_T2starw.nii.gz:  75%|▊| 606k/804k [00:01<00:00, 674kB/s\u001b[A\u001b[A\u001b[A"
     ]
    },
    {
     "name": "stdout",
     "output_type": "stream",
     "text": [
      "\r\n",
      "\r\n",
      "\r",
      "sub-MNI_rec-uncombined10_T2starw.nii.gz:  36%|▎| 297k/816k [00:00<00:00, 1.25MB/\u001b[A\u001b[A\r\n",
      "\r",
      "sub-MGH_acq-coilQaTra_GFactor.nii.gz:  86%|▊| 13.7M/16.0M [00:04<00:00, 8.98MB/s\u001b[A"
     ]
    },
    {
     "name": "stdout",
     "output_type": "stream",
     "text": [
      "\r",
      "sub-MNI_rec-uncombined09_T2starw.nii.gz:  65%|▋| 518k/798k [00:00<00:00, 1.10MB/\r\n",
      "\r\n",
      "\r\n",
      "\r\n",
      "\r",
      "sub-MNI_rec-uncombined11_T2starw.nii.gz:  13%|▏| 114k/857k [00:00<00:01, 426kB/s\u001b[A\u001b[A\u001b[A\u001b[A\r\n",
      "\r\n",
      "\r",
      "                                                                                \u001b[A\u001b[A"
     ]
    },
    {
     "name": "stdout",
     "output_type": "stream",
     "text": [
      "\r\n",
      "\r\n",
      "\r\n",
      "\r",
      "sub-MNI_rec-uncombined08_T2starw.nii.gz:  88%|▉| 708k/804k [00:01<00:00, 670kB/s\u001b[A\u001b[A\u001b[A\r\n",
      "\r",
      "sub-MGH_acq-coilQaTra_GFactor.nii.gz:  91%|▉| 14.6M/16.0M [00:04<00:00, 9.16MB/s\u001b[A"
     ]
    },
    {
     "name": "stdout",
     "output_type": "stream",
     "text": [
      "\r\n",
      "\r\n",
      "\r\n",
      "\r",
      "                                                                                \u001b[A\u001b[A\u001b[A\r",
      "sub-MNI_rec-uncombined09_T2starw.nii.gz:  80%|▊| 636k/798k [00:00<00:00, 1.06MB/"
     ]
    },
    {
     "name": "stdout",
     "output_type": "stream",
     "text": [
      "\r\n",
      "\r\n",
      "\r\n",
      "\r\n",
      "\r",
      "sub-MNI_rec-uncombined11_T2starw.nii.gz:  21%|▏| 184k/857k [00:00<00:01, 459kB/s\u001b[A\u001b[A\u001b[A\u001b[A\r\n",
      "\r",
      "sub-MGH_acq-coilQaTra_GFactor.nii.gz:  98%|▉| 15.7M/16.0M [00:04<00:00, 9.74MB/s\u001b[A"
     ]
    },
    {
     "name": "stdout",
     "output_type": "stream",
     "text": [
      "\r\n",
      "\r",
      "                                                                                \u001b[A\r",
      "sub-MNI_rec-uncombined09_T2starw.nii.gz:  95%|▉| 756k/798k [00:00<00:00, 1.10MB/"
     ]
    },
    {
     "name": "stdout",
     "output_type": "stream",
     "text": [
      "\r\n",
      "\r\n",
      "\r\n",
      "\r\n",
      "\r",
      "sub-MNI_rec-uncombined11_T2starw.nii.gz:  30%|▎| 254k/857k [00:00<00:01, 494kB/s\u001b[A\u001b[A\u001b[A\u001b[A\r",
      "                                                                                \r"
     ]
    },
    {
     "name": "stdout",
     "output_type": "stream",
     "text": [
      "\r",
      "sub-MNI_rec-uncombined12_T2starw.nii.gz:   0%|       | 0.00/846k [00:00<?, ?B/s]\r\n",
      "\r\n",
      "\r\n",
      "\r\n",
      "\r",
      "sub-MNI_rec-uncombined11_T2starw.nii.gz:  38%|▍| 324k/857k [00:00<00:00, 558kB/s\u001b[A\u001b[A\u001b[A\u001b[A"
     ]
    },
    {
     "name": "stdout",
     "output_type": "stream",
     "text": [
      "\r\n",
      "\r",
      "sub-MNI_rec-uncombined12_T2starw.json:   0%|        | 0.00/2.42k [00:00<?, ?B/s]\u001b[A\r\n",
      "\r",
      "                                                                                \u001b[A"
     ]
    },
    {
     "name": "stdout",
     "output_type": "stream",
     "text": [
      "\r\n",
      "\r\n",
      "\r\n",
      "\r\n",
      "\r",
      "sub-MNI_rec-uncombined11_T2starw.nii.gz:  46%|▍| 393k/857k [00:00<00:00, 601kB/s\u001b[A\u001b[A\u001b[A\u001b[A\r\n",
      "\r",
      "sub-MNI_rec-uncombined13_T2starw.json:   0%|        | 0.00/2.42k [00:00<?, ?B/s]\u001b[A\r\n",
      "\r",
      "                                                                                \u001b[A"
     ]
    },
    {
     "name": "stdout",
     "output_type": "stream",
     "text": [
      "\r",
      "sub-MNI_rec-uncombined12_T2starw.nii.gz:  10%| | 83.6k/846k [00:00<00:01, 558kB/"
     ]
    },
    {
     "name": "stdout",
     "output_type": "stream",
     "text": [
      "\r\n",
      "\r",
      "sub-MNI_rec-uncombined14_T2starw.nii.gz:   0%|       | 0.00/803k [00:00<?, ?B/s]\u001b[A\r\n",
      "\r\n",
      "\r\n",
      "\r\n",
      "\r",
      "sub-MNI_rec-uncombined11_T2starw.nii.gz:  54%|▌| 464k/857k [00:00<00:00, 581kB/s\u001b[A\u001b[A\u001b[A\u001b[A"
     ]
    },
    {
     "name": "stdout",
     "output_type": "stream",
     "text": [
      "\r",
      "sub-MNI_rec-uncombined12_T2starw.nii.gz:  36%|▎| 305k/846k [00:00<00:00, 1.31MB/"
     ]
    },
    {
     "name": "stdout",
     "output_type": "stream",
     "text": [
      "\r",
      "                                                                                \r"
     ]
    },
    {
     "name": "stdout",
     "output_type": "stream",
     "text": [
      "\r\n",
      "\r",
      "sub-MNI_rec-uncombined14_T2starw.nii.gz:  10%| | 83.6k/803k [00:00<00:01, 518kB/\u001b[A\r\n",
      "\r\n",
      "\r\n",
      "\r\n",
      "\r",
      "sub-MNI_rec-uncombined11_T2starw.nii.gz:  66%|▋| 564k/857k [00:01<00:00, 635kB/s\u001b[A\u001b[A\u001b[A\u001b[A\r",
      "sub-MNI_rec-uncombined13_T2starw.nii.gz:   0%|       | 0.00/765k [00:00<?, ?B/s]"
     ]
    },
    {
     "name": "stdout",
     "output_type": "stream",
     "text": [
      "\r\n",
      "\r\n",
      "\r",
      "sub-MNI_rec-uncombined15_T2starw.json:   0%|        | 0.00/2.42k [00:00<?, ?B/s]\u001b[A\u001b[A\r\n",
      "\r\n",
      "\r",
      "                                                                                \u001b[A\u001b[A"
     ]
    },
    {
     "name": "stdout",
     "output_type": "stream",
     "text": [
      "\r\n",
      "\r",
      "sub-MNI_rec-uncombined14_T2starw.nii.gz:  38%|▍| 305k/803k [00:00<00:00, 1.24MB/\u001b[A"
     ]
    },
    {
     "name": "stdout",
     "output_type": "stream",
     "text": [
      "\r\n",
      "\r\n",
      "\r\n",
      "\r\n",
      "\r",
      "sub-MNI_rec-uncombined11_T2starw.nii.gz:  80%|▊| 683k/857k [00:01<00:00, 700kB/s\u001b[A\u001b[A\u001b[A\u001b[A\r",
      "sub-MNI_rec-uncombined13_T2starw.nii.gz:  11%| | 83.6k/765k [00:00<00:01, 607kB/"
     ]
    },
    {
     "name": "stdout",
     "output_type": "stream",
     "text": [
      "\r\n",
      "\r",
      "                                                                                \u001b[A"
     ]
    },
    {
     "name": "stdout",
     "output_type": "stream",
     "text": [
      "\r\n",
      "\r",
      "sub-MNI_rec-uncombined14_T2starw.json:   0%|        | 0.00/2.42k [00:00<?, ?B/s]\u001b[A\r\n",
      "\r",
      "                                                                                \u001b[A"
     ]
    },
    {
     "name": "stdout",
     "output_type": "stream",
     "text": [
      "\r\n",
      "\r\n",
      "\r\n",
      "\r\n",
      "\r",
      "sub-MNI_rec-uncombined11_T2starw.nii.gz:  94%|▉| 802k/857k [00:01<00:00, 744kB/s\u001b[A\u001b[A\u001b[A\u001b[A\r\n",
      "\r\n",
      "\r\n",
      "\r\n",
      "\r",
      "                                                                                \u001b[A\u001b[A\u001b[A\u001b[A\r",
      "sub-MNI_rec-uncombined13_T2starw.nii.gz:  40%|▍| 305k/765k [00:00<00:00, 1.09MB/"
     ]
    },
    {
     "name": "stdout",
     "output_type": "stream",
     "text": [
      "\r\n",
      "\r",
      "sub-MNI_rec-uncombined15_T2starw.nii.gz:   0%|       | 0.00/737k [00:00<?, ?B/s]\u001b[A\r",
      "                                                                                \r"
     ]
    },
    {
     "name": "stdout",
     "output_type": "stream",
     "text": [
      "\r",
      "sub-MNI_rec-uncombined17_T2starw.json:   0%|        | 0.00/2.42k [00:00<?, ?B/s]\r",
      "                                                                                \r"
     ]
    },
    {
     "name": "stdout",
     "output_type": "stream",
     "text": [
      "\r\n",
      "\r",
      "sub-MNI_rec-uncombined15_T2starw.nii.gz:  11%| | 83.6k/737k [00:00<00:01, 568kB/\u001b[A"
     ]
    },
    {
     "name": "stdout",
     "output_type": "stream",
     "text": [
      "\r",
      "sub-MNI_rec-uncombined16_T2starw.json:   0%|        | 0.00/2.42k [00:00<?, ?B/s]\r",
      "                                                                                \r"
     ]
    },
    {
     "name": "stdout",
     "output_type": "stream",
     "text": [
      "\r\n",
      "\r",
      "sub-MNI_rec-uncombined15_T2starw.nii.gz:  51%|▌| 373k/737k [00:00<00:00, 1.51MB/\u001b[A\r",
      "sub-MNI_rec-uncombined16_T2starw.nii.gz:   0%|       | 0.00/728k [00:00<?, ?B/s]"
     ]
    },
    {
     "name": "stdout",
     "output_type": "stream",
     "text": [
      "\r\n",
      "\r",
      "                                                                                \u001b[A"
     ]
    },
    {
     "name": "stdout",
     "output_type": "stream",
     "text": [
      "\r\n",
      "\r",
      "sub-MNI_rec-uncombined17_T2starw.nii.gz:   0%|       | 0.00/762k [00:00<?, ?B/s]\u001b[A\r",
      "sub-MNI_rec-uncombined16_T2starw.nii.gz:  12%| | 85.4k/728k [00:00<00:00, 662kB/\r\n",
      "\r\n",
      "\r",
      "sub-MNI_rec-uncombined18_T2starw.json:   0%|        | 0.00/2.42k [00:00<?, ?B/s]\u001b[A\u001b[A\r\n",
      "\r\n",
      "\r",
      "                                                                                \u001b[A\u001b[A"
     ]
    },
    {
     "name": "stdout",
     "output_type": "stream",
     "text": [
      "\r\n",
      "\r\n",
      "\r",
      "sub-MNI_rec-uncombined20_T2starw.json:   0%|        | 0.00/2.42k [00:00<?, ?B/s]\u001b[A\u001b[A\r\n",
      "\r\n",
      "\r",
      "                                                                                \u001b[A\u001b[A\r\n",
      "\r",
      "sub-MNI_rec-uncombined17_T2starw.nii.gz:  11%| | 85.2k/762k [00:00<00:01, 644kB/\u001b[A"
     ]
    },
    {
     "name": "stdout",
     "output_type": "stream",
     "text": [
      "\r",
      "sub-MNI_rec-uncombined16_T2starw.nii.gz:  42%|▍| 306k/728k [00:00<00:00, 1.21MB/"
     ]
    },
    {
     "name": "stdout",
     "output_type": "stream",
     "text": [
      "\r",
      "                                                                                \r"
     ]
    },
    {
     "name": "stdout",
     "output_type": "stream",
     "text": [
      "\r",
      "sub-MNI_rec-uncombined18_T2starw.nii.gz:   0%|       | 0.00/757k [00:00<?, ?B/s]\r\n",
      "\r",
      "sub-MNI_rec-uncombined17_T2starw.nii.gz:  27%|▎| 204k/762k [00:00<00:00, 812kB/s\u001b[A"
     ]
    },
    {
     "name": "stdout",
     "output_type": "stream",
     "text": [
      "\r\n",
      "\r\n",
      "\r",
      "sub-MNI_rec-uncombined19_T2starw.json:   0%|        | 0.00/2.42k [00:00<?, ?B/s]\u001b[A\u001b[A\r\n",
      "\r\n",
      "\r",
      "                                                                                \u001b[A\u001b[A"
     ]
    },
    {
     "name": "stdout",
     "output_type": "stream",
     "text": [
      "\r",
      "sub-MNI_rec-uncombined18_T2starw.nii.gz:  11%| | 83.6k/757k [00:00<00:01, 601kB/\r\n",
      "\r",
      "sub-MNI_rec-uncombined17_T2starw.nii.gz:  45%|▍| 340k/762k [00:00<00:00, 829kB/s\u001b[A"
     ]
    },
    {
     "name": "stdout",
     "output_type": "stream",
     "text": [
      "\r\n",
      "\r\n",
      "\r",
      "sub-MNI_rec-uncombined19_T2starw.nii.gz:   0%|       | 0.00/635k [00:00<?, ?B/s]\u001b[A\u001b[A"
     ]
    },
    {
     "name": "stdout",
     "output_type": "stream",
     "text": [
      "\r",
      "sub-MNI_rec-uncombined18_T2starw.nii.gz:  40%|▍| 305k/757k [00:00<00:00, 1.19MB/"
     ]
    },
    {
     "name": "stdout",
     "output_type": "stream",
     "text": [
      "\r\n",
      "\r",
      "sub-MNI_rec-uncombined17_T2starw.nii.gz:  65%|▋| 493k/762k [00:00<00:00, 957kB/s\u001b[A\r\n",
      "\r\n",
      "\r\n",
      "\r",
      "sub-MNI_rec-uncombined20_T2starw.nii.gz:   0%|       | 0.00/752k [00:00<?, ?B/s]\u001b[A\u001b[A\u001b[A\r\n",
      "\r\n",
      "\r\n",
      "\r\n",
      "\r",
      "sub-MNI_acq-coilQaSagLarge_SNR.json:   0%|          | 0.00/2.18k [00:00<?, ?B/s]\u001b[A\u001b[A\u001b[A\u001b[A\r\n",
      "\r\n",
      "\r",
      "sub-MNI_rec-uncombined19_T2starw.nii.gz:  10%| | 66.4k/635k [00:00<00:01, 513kB/\u001b[A\u001b[A\r\n",
      "\r\n",
      "\r\n",
      "\r\n",
      "\r",
      "                                                                                \u001b[A\u001b[A\u001b[A\u001b[A"
     ]
    },
    {
     "name": "stdout",
     "output_type": "stream",
     "text": [
      "\r",
      "                                                                                \r"
     ]
    },
    {
     "name": "stdout",
     "output_type": "stream",
     "text": [
      "\r\n",
      "\r",
      "sub-MNI_rec-uncombined17_T2starw.nii.gz:  87%|▊| 663k/762k [00:00<00:00, 1.06MB/\u001b[A"
     ]
    },
    {
     "name": "stdout",
     "output_type": "stream",
     "text": [
      "\r\n",
      "\r\n",
      "\r",
      "sub-MNI_rec-uncombined19_T2starw.nii.gz:  24%|▏| 154k/635k [00:00<00:00, 611kB/s\u001b[A\u001b[A\r\n",
      "\r\n",
      "\r\n",
      "\r",
      "sub-MNI_rec-uncombined20_T2starw.nii.gz:   9%| | 68.4k/752k [00:00<00:01, 454kB/\u001b[A\u001b[A\u001b[A"
     ]
    },
    {
     "name": "stdout",
     "output_type": "stream",
     "text": [
      "\r\n",
      "\r",
      "                                                                                \u001b[A"
     ]
    },
    {
     "name": "stdout",
     "output_type": "stream",
     "text": [
      "\r\n",
      "\r\n",
      "\r",
      "sub-MNI_rec-uncombined19_T2starw.nii.gz:  39%|▍| 246k/635k [00:00<00:00, 699kB/s\u001b[A\u001b[A"
     ]
    },
    {
     "name": "stdout",
     "output_type": "stream",
     "text": [
      "\r\n",
      "\r\n",
      "\r\n",
      "\r",
      "sub-MNI_rec-uncombined20_T2starw.nii.gz:  22%|▏| 164k/752k [00:00<00:01, 589kB/s\u001b[A\u001b[A\u001b[A"
     ]
    },
    {
     "name": "stdout",
     "output_type": "stream",
     "text": [
      "\r",
      "sub-MNI_acq-anat_TB1TFL.json:   0%|                 | 0.00/2.59k [00:00<?, ?B/s]\r",
      "                                                                                \r"
     ]
    },
    {
     "name": "stdout",
     "output_type": "stream",
     "text": [
      "\r\n",
      "\r\n",
      "\r",
      "sub-MNI_rec-uncombined19_T2starw.nii.gz:  57%|▌| 362k/635k [00:00<00:00, 724kB/s\u001b[A\u001b[A"
     ]
    },
    {
     "name": "stdout",
     "output_type": "stream",
     "text": [
      "\r",
      "sub-MNI_acq-coilQaSagLarge_SNR.nii.gz:   0%|        | 0.00/3.86M [00:00<?, ?B/s]\r\n",
      "\r\n",
      "\r\n",
      "\r",
      "sub-MNI_rec-uncombined20_T2starw.nii.gz:  35%|▎| 262k/752k [00:00<00:00, 639kB/s\u001b[A\u001b[A\u001b[A"
     ]
    },
    {
     "name": "stdout",
     "output_type": "stream",
     "text": [
      "\r\n",
      "\r",
      "sub-MNI_acq-anat_TB1TFL.nii.gz:   0%|                | 0.00/942k [00:00<?, ?B/s]\u001b[A"
     ]
    },
    {
     "name": "stdout",
     "output_type": "stream",
     "text": [
      "\r\n",
      "\r\n",
      "\r",
      "sub-MNI_rec-uncombined19_T2starw.nii.gz:  76%|▊| 481k/635k [00:00<00:00, 792kB/s\u001b[A\u001b[A\r",
      "sub-MNI_acq-coilQaSagLarge_SNR.nii.gz:   2%| | 82.4k/3.86M [00:00<00:06, 600kB/s"
     ]
    },
    {
     "name": "stdout",
     "output_type": "stream",
     "text": [
      "\r\n",
      "\r\n",
      "\r\n",
      "\r",
      "sub-MNI_rec-uncombined20_T2starw.nii.gz:  47%|▍| 357k/752k [00:00<00:00, 658kB/s\u001b[A\u001b[A\u001b[A"
     ]
    },
    {
     "name": "stdout",
     "output_type": "stream",
     "text": [
      "\r\n",
      "\r",
      "sub-MNI_acq-anat_TB1TFL.nii.gz:   9%|▋       | 83.6k/942k [00:00<00:01, 650kB/s]\u001b[A\r\n",
      "\r\n",
      "\r\n",
      "\r\n",
      "\r",
      "sub-MNI_acq-coilQaSagSmall_GFactor.json:   0%|      | 0.00/2.16k [00:00<?, ?B/s]\u001b[A\u001b[A\u001b[A\u001b[A\r\n",
      "\r\n",
      "\r\n",
      "\r\n",
      "\r",
      "                                                                                \u001b[A\u001b[A\u001b[A\u001b[A\r",
      "sub-MNI_acq-coilQaSagLarge_SNR.nii.gz:   6%| | 236k/3.86M [00:00<00:03, 1.05MB/s\r\n",
      "\r\n",
      "\r",
      "sub-MNI_rec-uncombined19_T2starw.nii.gz:  94%|▉| 600k/635k [00:00<00:00, 853kB/s\u001b[A\u001b[A"
     ]
    },
    {
     "name": "stdout",
     "output_type": "stream",
     "text": [
      "\r\n",
      "\r\n",
      "\r",
      "                                                                                \u001b[A\u001b[A\r\n",
      "\r\n",
      "\r\n",
      "\r",
      "sub-MNI_rec-uncombined20_T2starw.nii.gz:  64%|▋| 480k/752k [00:00<00:00, 739kB/s\u001b[A\u001b[A\u001b[A"
     ]
    },
    {
     "name": "stdout",
     "output_type": "stream",
     "text": [
      "\r\n",
      "\r",
      "sub-MNI_acq-anat_TB1TFL.nii.gz:  32%|██▌     | 305k/942k [00:00<00:00, 1.27MB/s]\u001b[A\r",
      "sub-MNI_acq-coilQaSagLarge_SNR.nii.gz:  15%|▏| 609k/3.86M [00:00<00:01, 2.15MB/s"
     ]
    },
    {
     "name": "stdout",
     "output_type": "stream",
     "text": [
      "\r\n",
      "\r",
      "                                                                                \u001b[A\r",
      "sub-MNI_acq-coilQaSagLarge_SNR.nii.gz:  32%|▎| 1.23M/3.86M [00:00<00:00, 3.76MB/\r\n",
      "\r\n",
      "\r\n",
      "\r",
      "sub-MNI_rec-uncombined20_T2starw.nii.gz:  80%|▊| 603k/752k [00:00<00:00, 766kB/s\u001b[A\u001b[A\u001b[A"
     ]
    },
    {
     "name": "stdout",
     "output_type": "stream",
     "text": [
      "\r\n",
      "\r",
      "sub-MNI_acq-coilQaTra_GFactor.json:   0%|           | 0.00/2.06k [00:00<?, ?B/s]\u001b[A\r\n",
      "\r",
      "                                                                                \u001b[A\r",
      "sub-MNI_acq-coilQaSagLarge_SNR.nii.gz:  84%|▊| 3.24M/3.86M [00:00<00:00, 9.67MB/\r\n",
      "\r",
      "sub-MNI_acq-famp-0.66_TB1DREAM.json:   0%|          | 0.00/2.12k [00:00<?, ?B/s]\u001b[A\r\n"
     ]
    },
    {
     "name": "stdout",
     "output_type": "stream",
     "text": [
      "\r",
      "                                                                                \u001b[A\r",
      "                                                                                \r"
     ]
    },
    {
     "name": "stdout",
     "output_type": "stream",
     "text": [
      "\r\n",
      "\r\n",
      "\r\n",
      "\r",
      "sub-MNI_rec-uncombined20_T2starw.nii.gz: 100%|█| 752k/752k [00:01<00:00, 805kB/s\u001b[A\u001b[A\u001b[A\r\n",
      "\r\n",
      "\r\n",
      "\r",
      "                                                                                \u001b[A\u001b[A\u001b[A"
     ]
    },
    {
     "name": "stdout",
     "output_type": "stream",
     "text": [
      "\r",
      "sub-MNI_acq-coilQaSagSmall_GFactor.nii.gz:   0%|    | 0.00/3.56M [00:00<?, ?B/s]"
     ]
    },
    {
     "name": "stdout",
     "output_type": "stream",
     "text": [
      "\r\n",
      "\r",
      "sub-MNI_acq-coilQaTra_GFactor.nii.gz:   0%|         | 0.00/15.9M [00:00<?, ?B/s]\u001b[A"
     ]
    },
    {
     "name": "stdout",
     "output_type": "stream",
     "text": [
      "\r\n",
      "\r\n",
      "\r",
      "sub-MNI_acq-famp-1.5_TB1DREAM.json:   0%|           | 0.00/2.12k [00:00<?, ?B/s]\u001b[A\u001b[A\r\n",
      "\r\n",
      "\r",
      "                                                                                \u001b[A\u001b[A\r\n",
      "\r\n",
      "\r",
      "sub-MNI_acq-famp-0.66_TB1DREAM.nii.gz:   0%|        | 0.00/88.2k [00:00<?, ?B/s]\u001b[A\u001b[A\r\n",
      "\r\n",
      "\r\n",
      "\r",
      "sub-MNI_acq-famp-1.5_TB1DREAM.nii.gz:   0%|         | 0.00/84.4k [00:00<?, ?B/s]\u001b[A\u001b[A\u001b[A\r",
      "sub-MNI_acq-coilQaSagSmall_GFactor.nii.gz:   2%| | 82.4k/3.56M [00:00<00:05, 634"
     ]
    },
    {
     "name": "stdout",
     "output_type": "stream",
     "text": [
      "\r\n",
      "\r",
      "sub-MNI_acq-coilQaTra_GFactor.nii.gz:   1%| | 83.6k/15.9M [00:00<00:25, 651kB/s]\u001b[A"
     ]
    },
    {
     "name": "stdout",
     "output_type": "stream",
     "text": [
      "\r\n",
      "\r\n",
      "\r",
      "sub-MNI_acq-famp-0.66_TB1DREAM.nii.gz:  95%|▉| 83.6k/88.2k [00:00<00:00, 702kB/s\u001b[A\u001b[A\r\n",
      "\r\n",
      "\r",
      "                                                                                \u001b[A\u001b[A\r\n",
      "\r\n",
      "\r\n",
      "\r",
      "sub-MNI_acq-famp-1.5_TB1DREAM.nii.gz:  77%|▊| 65.4k/84.4k [00:00<00:00, 435kB/s]\u001b[A\u001b[A\u001b[A\r",
      "sub-MNI_acq-coilQaSagSmall_GFactor.nii.gz:   6%| | 217k/3.56M [00:00<00:04, 811k\r\n",
      "\r",
      "sub-MNI_acq-coilQaTra_GFactor.nii.gz:   2%| | 271k/15.9M [00:00<00:12, 1.31MB/s]\u001b[A"
     ]
    },
    {
     "name": "stdout",
     "output_type": "stream",
     "text": [
      "\r\n",
      "\r\n",
      "\r\n",
      "\r",
      "                                                                                \u001b[A\u001b[A\u001b[A"
     ]
    },
    {
     "name": "stdout",
     "output_type": "stream",
     "text": [
      "\r\n",
      "\r",
      "sub-MNI_acq-coilQaTra_GFactor.nii.gz:   4%| | 646k/15.9M [00:00<00:06, 2.39MB/s]\u001b[A"
     ]
    },
    {
     "name": "stdout",
     "output_type": "stream",
     "text": [
      "\r",
      "sub-MNI_acq-coilQaSagSmall_GFactor.nii.gz:  10%| | 365k/3.56M [00:00<00:03, 1.00\r\n",
      "\r\n",
      "\r",
      "sub-MNI_acq-famp_TB1DREAM.json:   0%|               | 0.00/2.11k [00:00<?, ?B/s]\u001b[A\u001b[A\r\n",
      "\r\n",
      "\r",
      "                                                                                \u001b[A\u001b[A"
     ]
    },
    {
     "name": "stdout",
     "output_type": "stream",
     "text": [
      "\r\n",
      "\r",
      "sub-MNI_acq-coilQaTra_GFactor.nii.gz:  14%|▏| 2.27M/15.9M [00:00<00:01, 8.00MB/s\u001b[A"
     ]
    },
    {
     "name": "stdout",
     "output_type": "stream",
     "text": [
      "\r",
      "sub-MNI_acq-coilQaSagSmall_GFactor.nii.gz:  13%|▏| 466k/3.56M [00:00<00:03, 954k"
     ]
    },
    {
     "name": "stdout",
     "output_type": "stream",
     "text": [
      "\r\n",
      "\r",
      "sub-MNI_acq-coilQaTra_GFactor.nii.gz:  31%|▎| 4.91M/15.9M [00:00<00:00, 14.9MB/s\u001b[A"
     ]
    },
    {
     "name": "stdout",
     "output_type": "stream",
     "text": [
      "\r\n",
      "\r\n",
      "\r",
      "sub-MNI_acq-famp_TB1TFL.json:   0%|                 | 0.00/2.63k [00:00<?, ?B/s]\u001b[A\u001b[A\r\n",
      "\r\n",
      "\r\n",
      "\r",
      "sub-MNI_acq-famp_TB1DREAM.nii.gz:   0%|             | 0.00/85.9k [00:00<?, ?B/s]\u001b[A\u001b[A\u001b[A\r\n",
      "\r\n",
      "\r",
      "                                                                                \u001b[A\u001b[A\r",
      "sub-MNI_acq-coilQaSagSmall_GFactor.nii.gz:  17%|▏| 636k/3.56M [00:00<00:02, 1.11"
     ]
    },
    {
     "name": "stdout",
     "output_type": "stream",
     "text": [
      "\r\n",
      "\r",
      "sub-MNI_acq-coilQaTra_GFactor.nii.gz:  51%|▌| 8.08M/15.9M [00:00<00:00, 21.0MB/s\u001b[A"
     ]
    },
    {
     "name": "stdout",
     "output_type": "stream",
     "text": [
      "\r\n",
      "\r\n",
      "\r",
      "sub-MNI_acq-famp_TB1TFL.nii.gz:   0%|                | 0.00/938k [00:00<?, ?B/s]\u001b[A\u001b[A"
     ]
    },
    {
     "name": "stdout",
     "output_type": "stream",
     "text": [
      "\r\n",
      "\r\n",
      "\r\n",
      "\r",
      "sub-MNI_acq-famp_TB1DREAM.nii.gz:  99%|████▉| 85.3k/85.9k [00:00<00:00, 625kB/s]\u001b[A\u001b[A\u001b[A\r\n",
      "\r\n",
      "\r\n",
      "\r",
      "                                                                                \u001b[A\u001b[A\u001b[A\r\n",
      "\r",
      "sub-MNI_acq-coilQaTra_GFactor.nii.gz:  68%|▋| 10.9M/15.9M [00:00<00:00, 23.6MB/s\u001b[A\r",
      "sub-MNI_acq-coilQaSagSmall_GFactor.nii.gz:  23%|▏| 840k/3.56M [00:00<00:02, 1.23"
     ]
    },
    {
     "name": "stdout",
     "output_type": "stream",
     "text": [
      "\r\n",
      "\r\n",
      "\r",
      "sub-MNI_acq-famp_TB1TFL.nii.gz:   7%|▌       | 68.2k/938k [00:00<00:01, 527kB/s]\u001b[A\u001b[A\r\n",
      "\r",
      "sub-MNI_acq-coilQaTra_GFactor.nii.gz:  96%|▉| 15.3M/15.9M [00:00<00:00, 30.9MB/s\u001b[A\r\n",
      "\r\n",
      "\r\n",
      "\r",
      "sub-MNI_acq-refv-0.66_TB1DREAM.json:   0%|          | 0.00/2.13k [00:00<?, ?B/s]\u001b[A\u001b[A\u001b[A\r\n",
      "\r\n",
      "\r\n",
      "\r",
      "                                                                                \u001b[A\u001b[A\u001b[A"
     ]
    },
    {
     "name": "stdout",
     "output_type": "stream",
     "text": [
      "\r",
      "sub-MNI_acq-coilQaSagSmall_GFactor.nii.gz:  29%|▎| 1.02M/3.56M [00:00<00:02, 1.3\r\n",
      "\r",
      "                                                                                \u001b[A"
     ]
    },
    {
     "name": "stdout",
     "output_type": "stream",
     "text": [
      "\r\n",
      "\r\n",
      "\r",
      "sub-MNI_acq-famp_TB1TFL.nii.gz:  16%|█▍       | 154k/938k [00:00<00:01, 606kB/s]\u001b[A\u001b[A"
     ]
    },
    {
     "name": "stdout",
     "output_type": "stream",
     "text": [
      "\r\n",
      "\r",
      "sub-MNI_acq-refv-1.5_TB1DREAM.json:   0%|           | 0.00/2.13k [00:00<?, ?B/s]\u001b[A\r\n",
      "\r",
      "                                                                                \u001b[A"
     ]
    },
    {
     "name": "stdout",
     "output_type": "stream",
     "text": [
      "\r",
      "sub-MNI_acq-coilQaSagSmall_GFactor.nii.gz:  35%|▎| 1.25M/3.56M [00:01<00:01, 1.4"
     ]
    },
    {
     "name": "stdout",
     "output_type": "stream",
     "text": [
      "\r\n",
      "\r\n",
      "\r",
      "sub-MNI_acq-famp_TB1TFL.nii.gz:  25%|██▎      | 238k/938k [00:00<00:01, 625kB/s]\u001b[A\u001b[A"
     ]
    },
    {
     "name": "stdout",
     "output_type": "stream",
     "text": [
      "\r",
      "sub-MNI_acq-coilQaSagSmall_GFactor.nii.gz:  42%|▍| 1.50M/3.56M [00:01<00:01, 1.6"
     ]
    },
    {
     "name": "stdout",
     "output_type": "stream",
     "text": [
      "\r\n",
      "\r",
      "sub-MNI_acq-refv-0.66_TB1DREAM.nii.gz:   0%|        | 0.00/85.1k [00:00<?, ?B/s]\u001b[A"
     ]
    },
    {
     "name": "stdout",
     "output_type": "stream",
     "text": [
      "\r\n",
      "\r\n",
      "\r",
      "sub-MNI_acq-famp_TB1TFL.nii.gz:  36%|███▎     | 340k/938k [00:00<00:00, 687kB/s]\u001b[A\u001b[A\r\n",
      "\r\n",
      "\r\n",
      "\r",
      "sub-MNI_acq-refv-1.5_TB1DREAM.nii.gz:   0%|         | 0.00/91.3k [00:00<?, ?B/s]\u001b[A\u001b[A\u001b[A"
     ]
    },
    {
     "name": "stdout",
     "output_type": "stream",
     "text": [
      "\r\n",
      "\r\n",
      "\r\n",
      "\r\n",
      "\r",
      "sub-MNI_acq-refv_TB1DREAM.json:   0%|               | 0.00/2.12k [00:00<?, ?B/s]\u001b[A\u001b[A\u001b[A\u001b[A\r\n",
      "\r\n",
      "\r\n",
      "\r\n",
      "\r",
      "                                                                                \u001b[A\u001b[A\u001b[A\u001b[A\r",
      "sub-MNI_acq-coilQaSagSmall_GFactor.nii.gz:  50%|▌| 1.78M/3.56M [00:01<00:01, 1.7\r\n",
      "\r",
      "sub-MNI_acq-refv-0.66_TB1DREAM.nii.gz:  98%|▉| 83.6k/85.1k [00:00<00:00, 646kB/s\u001b[A\r\n",
      "\r",
      "                                                                                \u001b[A"
     ]
    },
    {
     "name": "stdout",
     "output_type": "stream",
     "text": [
      "\r\n",
      "\r\n",
      "\r",
      "sub-MNI_acq-famp_TB1TFL.nii.gz:  47%|████▏    | 442k/938k [00:00<00:00, 696kB/s]\u001b[A\u001b[A\r\n",
      "\r\n",
      "\r\n",
      "\r",
      "sub-MNI_acq-refv-1.5_TB1DREAM.nii.gz:  92%|▉| 83.6k/91.3k [00:00<00:00, 646kB/s]\u001b[A\u001b[A\u001b[A\r\n",
      "\r\n",
      "\r\n",
      "\r",
      "                                                                                \u001b[A\u001b[A\u001b[A\r",
      "sub-MNI_acq-coilQaSagSmall_GFactor.nii.gz:  56%|▌| 1.98M/3.56M [00:01<00:00, 1.8"
     ]
    },
    {
     "name": "stdout",
     "output_type": "stream",
     "text": [
      "\r",
      "sub-MNI_acq-coilQaSagSmall_GFactor.nii.gz:  63%|▋| 2.25M/3.56M [00:01<00:00, 2.0\r\n",
      "\r\n",
      "\r",
      "sub-MNI_acq-famp_TB1TFL.nii.gz:  60%|█████▍   | 561k/938k [00:00<00:00, 759kB/s]\u001b[A\u001b[A"
     ]
    },
    {
     "name": "stdout",
     "output_type": "stream",
     "text": [
      "\r\n",
      "\r",
      "sub-MNI_acq-refv_TB1DREAM.nii.gz:   0%|             | 0.00/89.8k [00:00<?, ?B/s]\u001b[A\r",
      "sub-MNI_acq-coilQaSagSmall_GFactor.nii.gz:  72%|▋| 2.55M/3.56M [00:01<00:00, 2.3\r\n",
      "\r\n",
      "\r\n",
      "\r",
      "sub-MPI_T2starw.nii.gz:   0%|                       | 0.00/1.16M [00:00<?, ?B/s]\u001b[A\u001b[A\u001b[A"
     ]
    },
    {
     "name": "stdout",
     "output_type": "stream",
     "text": [
      "\r\n",
      "\r\n",
      "\r\n",
      "\r\n",
      "\r",
      "sub-MPI_T2starw.json:   0%|                         | 0.00/2.42k [00:00<?, ?B/s]\u001b[A\u001b[A\u001b[A\u001b[A\r\n",
      "\r\n",
      "\r\n",
      "\r\n",
      "\r",
      "                                                                                \u001b[A\u001b[A\u001b[A\u001b[A\r\n",
      "\r\n",
      "\r",
      "sub-MNI_acq-famp_TB1TFL.nii.gz:  74%|██████▋  | 697k/938k [00:00<00:00, 813kB/s]\u001b[A\u001b[A"
     ]
    },
    {
     "name": "stdout",
     "output_type": "stream",
     "text": [
      "\r",
      "sub-MNI_acq-coilQaSagSmall_GFactor.nii.gz:  78%|▊| 2.78M/3.56M [00:01<00:00, 2.2\r\n",
      "\r",
      "sub-MNI_acq-refv_TB1DREAM.nii.gz:  76%|███▊ | 68.2k/89.8k [00:00<00:00, 522kB/s]\u001b[A\r\n",
      "\r",
      "                                                                                \u001b[A\r\n",
      "\r\n",
      "\r\n",
      "\r",
      "sub-MPI_T2starw.nii.gz:   4%|▋              | 50.4k/1.16M [00:00<00:03, 336kB/s]\u001b[A\u001b[A\u001b[A"
     ]
    },
    {
     "name": "stdout",
     "output_type": "stream",
     "text": [
      "\r\n",
      "\r\n",
      "\r",
      "sub-MNI_acq-famp_TB1TFL.nii.gz:  91%|████████▏| 850k/938k [00:01<00:00, 924kB/s]\u001b[A\u001b[A"
     ]
    },
    {
     "name": "stdout",
     "output_type": "stream",
     "text": [
      "\r",
      "sub-MNI_acq-coilQaSagSmall_GFactor.nii.gz:  88%|▉| 3.14M/3.56M [00:01<00:00, 2.6\r\n",
      "\r\n",
      "\r",
      "                                                                                \u001b[A\u001b[A"
     ]
    },
    {
     "name": "stdout",
     "output_type": "stream",
     "text": [
      "\r\n",
      "\r\n",
      "\r\n",
      "\r",
      "sub-MPI_T2starw.nii.gz:  10%|█▌              | 114k/1.16M [00:00<00:02, 432kB/s]\u001b[A\u001b[A\u001b[A\r\n",
      "\r",
      "sub-MPI_rec-uncombined10_T2starw.json:   0%|        | 0.00/2.43k [00:00<?, ?B/s]\u001b[A\r\n",
      "\r",
      "                                                                                \u001b[A"
     ]
    },
    {
     "name": "stdout",
     "output_type": "stream",
     "text": [
      "\r",
      "sub-MNI_acq-coilQaSagSmall_GFactor.nii.gz:  96%|▉| 3.41M/3.56M [00:02<00:00, 2.5\r",
      "                                                                                \r"
     ]
    },
    {
     "name": "stdout",
     "output_type": "stream",
     "text": [
      "\r\n",
      "\r\n",
      "\r\n",
      "\r",
      "sub-MPI_T2starw.nii.gz:  16%|██▍             | 184k/1.16M [00:00<00:02, 500kB/s]\u001b[A\u001b[A\u001b[A"
     ]
    },
    {
     "name": "stdout",
     "output_type": "stream",
     "text": [
      "\r\n",
      "\r\n",
      "\r\n",
      "\r",
      "sub-MPI_T2starw.nii.gz:  22%|███▍            | 258k/1.16M [00:00<00:01, 524kB/s]\u001b[A\u001b[A\u001b[A\r",
      "sub-MPI_rec-uncombined10_T2starw.nii.gz:   0%|       | 0.00/923k [00:00<?, ?B/s]\r\n",
      "\r",
      "sub-MPI_rec-uncombined12_T2starw.json:   0%|        | 0.00/2.43k [00:00<?, ?B/s]\u001b[A\r\n",
      "\r",
      "                                                                                \u001b[A"
     ]
    },
    {
     "name": "stdout",
     "output_type": "stream",
     "text": [
      "\r\n",
      "\r",
      "sub-MPI_rec-uncombined11_T2starw.json:   0%|        | 0.00/2.43k [00:00<?, ?B/s]\u001b[A\r\n",
      "\r",
      "                                                                                \u001b[A"
     ]
    },
    {
     "name": "stdout",
     "output_type": "stream",
     "text": [
      "\r\n",
      "\r\n",
      "\r\n",
      "\r",
      "sub-MPI_T2starw.nii.gz:  27%|████▍           | 326k/1.16M [00:00<00:01, 563kB/s]\u001b[A\u001b[A\u001b[A"
     ]
    },
    {
     "name": "stdout",
     "output_type": "stream",
     "text": [
      "\r",
      "sub-MPI_rec-uncombined10_T2starw.nii.gz:   9%| | 85.3k/923k [00:00<00:01, 660kB/\r\n",
      "\r",
      "sub-MPI_rec-uncombined11_T2starw.nii.gz:   0%|       | 0.00/929k [00:00<?, ?B/s]\u001b[A"
     ]
    },
    {
     "name": "stdout",
     "output_type": "stream",
     "text": [
      "\r\n",
      "\r\n",
      "\r\n",
      "\r",
      "sub-MPI_T2starw.nii.gz:  33%|█████▎          | 394k/1.16M [00:00<00:01, 587kB/s]\u001b[A\u001b[A\u001b[A"
     ]
    },
    {
     "name": "stdout",
     "output_type": "stream",
     "text": [
      "\r",
      "sub-MPI_rec-uncombined10_T2starw.nii.gz:  33%|▎| 306k/923k [00:00<00:00, 1.27MB/\r\n",
      "\r",
      "sub-MPI_rec-uncombined11_T2starw.nii.gz:   9%| | 83.6k/929k [00:00<00:01, 648kB/\u001b[A"
     ]
    },
    {
     "name": "stdout",
     "output_type": "stream",
     "text": [
      "\r\n",
      "\r\n",
      "\r\n",
      "\r",
      "sub-MPI_T2starw.nii.gz:  39%|██████▏         | 462k/1.16M [00:00<00:01, 586kB/s]\u001b[A\u001b[A\u001b[A\r\n",
      "\r\n",
      "\r",
      "sub-MPI_rec-uncombined14_T2starw.nii.gz:   0%|       | 0.00/966k [00:00<?, ?B/s]\u001b[A\u001b[A\r",
      "                                                                                \r"
     ]
    },
    {
     "name": "stdout",
     "output_type": "stream",
     "text": [
      "\r",
      "sub-MPI_rec-uncombined12_T2starw.nii.gz:   0%|       | 0.00/944k [00:00<?, ?B/s]\r\n",
      "\r",
      "sub-MPI_rec-uncombined11_T2starw.nii.gz:  33%|▎| 305k/929k [00:00<00:00, 1.27MB/\u001b[A"
     ]
    },
    {
     "name": "stdout",
     "output_type": "stream",
     "text": [
      "\r\n",
      "\r\n",
      "\r\n",
      "\r",
      "sub-MPI_T2starw.nii.gz:  48%|███████▌        | 564k/1.16M [00:01<00:00, 649kB/s]\u001b[A\u001b[A\u001b[A\r\n",
      "\r\n",
      "\r",
      "sub-MPI_rec-uncombined14_T2starw.nii.gz:   9%| | 83.6k/966k [00:00<00:01, 635kB/\u001b[A\u001b[A"
     ]
    },
    {
     "name": "stdout",
     "output_type": "stream",
     "text": [
      "\r\n",
      "\r",
      "                                                                                \u001b[A\r",
      "sub-MPI_rec-uncombined12_T2starw.nii.gz:   9%| | 83.6k/944k [00:00<00:01, 646kB/"
     ]
    },
    {
     "name": "stdout",
     "output_type": "stream",
     "text": [
      "\r\n",
      "\r\n",
      "\r",
      "sub-MPI_rec-uncombined14_T2starw.nii.gz:  32%|▎| 305k/966k [00:00<00:00, 1.28MB/\u001b[A\u001b[A\r\n",
      "\r\n",
      "\r\n",
      "\r",
      "sub-MPI_T2starw.nii.gz:  58%|█████████▏      | 683k/1.16M [00:01<00:00, 712kB/s]\u001b[A\u001b[A\u001b[A\r",
      "sub-MPI_rec-uncombined12_T2starw.nii.gz:  32%|▎| 305k/944k [00:00<00:00, 1.43MB/"
     ]
    },
    {
     "name": "stdout",
     "output_type": "stream",
     "text": [
      "\r\n",
      "\r",
      "sub-MPI_rec-uncombined13_T2starw.json:   0%|        | 0.00/2.43k [00:00<?, ?B/s]\u001b[A\r\n",
      "\r",
      "                                                                                \u001b[A"
     ]
    },
    {
     "name": "stdout",
     "output_type": "stream",
     "text": [
      "\r\n",
      "\r\n",
      "\r",
      "                                                                                \u001b[A\u001b[A\r",
      "sub-MPI_rec-uncombined12_T2starw.nii.gz:  79%|▊| 748k/944k [00:00<00:00, 2.72MB/\r",
      "                                                                                \r"
     ]
    },
    {
     "name": "stdout",
     "output_type": "stream",
     "text": [
      "\r\n",
      "\r\n",
      "\r\n",
      "\r",
      "sub-MPI_T2starw.nii.gz:  68%|██████████▊     | 802k/1.16M [00:01<00:00, 749kB/s]\u001b[A\u001b[A\u001b[A"
     ]
    },
    {
     "name": "stdout",
     "output_type": "stream",
     "text": [
      "\r",
      "sub-MPI_rec-uncombined14_T2starw.json:   0%|        | 0.00/2.43k [00:00<?, ?B/s]\r",
      "                                                                                \r"
     ]
    },
    {
     "name": "stdout",
     "output_type": "stream",
     "text": [
      "\r\n",
      "\r\n",
      "\r\n",
      "\r",
      "sub-MPI_T2starw.nii.gz:  79%|████████████▋   | 938k/1.16M [00:01<00:00, 837kB/s]\u001b[A\u001b[A\u001b[A"
     ]
    },
    {
     "name": "stdout",
     "output_type": "stream",
     "text": [
      "\r",
      "sub-MPI_rec-uncombined13_T2starw.nii.gz:   0%|       | 0.00/925k [00:00<?, ?B/s]"
     ]
    },
    {
     "name": "stdout",
     "output_type": "stream",
     "text": [
      "\r\n",
      "\r",
      "sub-MPI_rec-uncombined15_T2starw.json:   0%|        | 0.00/2.43k [00:00<?, ?B/s]\u001b[A\r\n",
      "\r",
      "                                                                                \u001b[A"
     ]
    },
    {
     "name": "stdout",
     "output_type": "stream",
     "text": [
      "\r\n",
      "\r\n",
      "\r\n",
      "\r",
      "sub-MPI_T2starw.nii.gz:  92%|█████████████▊ | 1.07M/1.16M [00:01<00:00, 883kB/s]\u001b[A\u001b[A\u001b[A\r\n",
      "\r",
      "sub-MPI_rec-uncombined15_T2starw.nii.gz:   0%|       | 0.00/953k [00:00<?, ?B/s]\u001b[A"
     ]
    },
    {
     "name": "stdout",
     "output_type": "stream",
     "text": [
      "\r",
      "sub-MPI_rec-uncombined13_T2starw.nii.gz:   9%| | 82.4k/925k [00:00<00:01, 596kB/\r\n",
      "\r\n",
      "\r\n",
      "\r",
      "                                                                                \u001b[A\u001b[A\u001b[A"
     ]
    },
    {
     "name": "stdout",
     "output_type": "stream",
     "text": [
      "\r\n",
      "\r\n",
      "\r",
      "sub-MPI_rec-uncombined16_T2starw.nii.gz:   0%|       | 0.00/987k [00:00<?, ?B/s]\u001b[A\u001b[A"
     ]
    },
    {
     "name": "stdout",
     "output_type": "stream",
     "text": [
      "\r\n",
      "\r",
      "sub-MPI_rec-uncombined15_T2starw.nii.gz:   9%| | 83.6k/953k [00:00<00:01, 596kB/\u001b[A"
     ]
    },
    {
     "name": "stdout",
     "output_type": "stream",
     "text": [
      "\r",
      "sub-MPI_rec-uncombined13_T2starw.nii.gz:  35%|▎| 320k/925k [00:00<00:00, 1.25MB/\r\n",
      "\r\n",
      "\r",
      "sub-MPI_rec-uncombined16_T2starw.nii.gz:   8%| | 82.4k/987k [00:00<00:01, 716kB/\u001b[A\u001b[A"
     ]
    },
    {
     "name": "stdout",
     "output_type": "stream",
     "text": [
      "\r",
      "                                                                                \r"
     ]
    },
    {
     "name": "stdout",
     "output_type": "stream",
     "text": [
      "\r",
      "sub-MPI_rec-uncombined17_T2starw.json:   0%|        | 0.00/2.43k [00:00<?, ?B/s]\r",
      "                                                                                \r",
      "\r\n",
      "\r",
      "sub-MPI_rec-uncombined15_T2starw.nii.gz:  32%|▎| 305k/953k [00:00<00:00, 1.06MB/\u001b[A\r\n",
      "\r\n",
      "\r",
      "sub-MPI_rec-uncombined16_T2starw.nii.gz:  17%|▏| 167k/987k [00:00<00:01, 790kB/s\u001b[A\u001b[A"
     ]
    },
    {
     "name": "stdout",
     "output_type": "stream",
     "text": [
      "\r",
      "sub-MPI_rec-uncombined16_T2starw.json:   0%|        | 0.00/2.43k [00:00<?, ?B/s]\r",
      "                                                                                \r",
      "\r\n",
      "\r\n",
      "\r",
      "sub-MPI_rec-uncombined16_T2starw.nii.gz:  26%|▎| 253k/987k [00:00<00:00, 784kB/s\u001b[A\u001b[A\r\n",
      "\r",
      "sub-MPI_rec-uncombined15_T2starw.nii.gz:  43%|▍| 407k/953k [00:00<00:00, 1.00MB/\u001b[A"
     ]
    },
    {
     "name": "stdout",
     "output_type": "stream",
     "text": [
      "\r\n",
      "\r",
      "                                                                                \u001b[A"
     ]
    },
    {
     "name": "stdout",
     "output_type": "stream",
     "text": [
      "\r\n",
      "\r\n",
      "\r",
      "                                                                                \u001b[A\u001b[A"
     ]
    },
    {
     "name": "stdout",
     "output_type": "stream",
     "text": [
      "\r",
      "sub-MPI_rec-uncombined18_T2starw.json:   0%|        | 0.00/2.43k [00:00<?, ?B/s]\r",
      "                                                                                \r",
      "\r",
      "sub-MPI_rec-uncombined19_T2starw.json:   0%|        | 0.00/2.43k [00:00<?, ?B/s]\r",
      "                                                                                \r"
     ]
    },
    {
     "name": "stdout",
     "output_type": "stream",
     "text": [
      "\r",
      "sub-MPI_rec-uncombined19_T2starw.nii.gz:   0%|      | 0.00/1.01M [00:00<?, ?B/s]\r\n",
      "\r",
      "sub-MPI_rec-uncombined17_T2starw.nii.gz:   0%|      | 0.00/0.99M [00:00<?, ?B/s]\u001b[A"
     ]
    },
    {
     "name": "stdout",
     "output_type": "stream",
     "text": [
      "\r\n",
      "\r\n",
      "\r",
      "sub-MPI_rec-uncombined18_T2starw.nii.gz:   0%|      | 0.00/0.99M [00:00<?, ?B/s]\u001b[A\u001b[A"
     ]
    },
    {
     "name": "stdout",
     "output_type": "stream",
     "text": [
      "\r",
      "sub-MPI_rec-uncombined19_T2starw.nii.gz:   8%| | 83.6k/1.01M [00:00<00:01, 636kB"
     ]
    },
    {
     "name": "stdout",
     "output_type": "stream",
     "text": [
      "\r\n",
      "\r",
      "sub-MPI_rec-uncombined17_T2starw.nii.gz:   8%| | 83.6k/0.99M [00:00<00:01, 649kB\u001b[A\r\n",
      "\r\n",
      "\r\n",
      "\r",
      "sub-MPI_rec-uncombined1_T2starw.json:   0%|         | 0.00/2.43k [00:00<?, ?B/s]\u001b[A\u001b[A\u001b[A\r\n",
      "\r\n",
      "\r\n",
      "\r",
      "                                                                                \u001b[A\u001b[A\u001b[A"
     ]
    },
    {
     "name": "stdout",
     "output_type": "stream",
     "text": [
      "\r\n",
      "\r\n",
      "\r",
      "sub-MPI_rec-uncombined18_T2starw.nii.gz:   8%| | 83.6k/0.99M [00:00<00:01, 643kB\u001b[A\u001b[A"
     ]
    },
    {
     "name": "stdout",
     "output_type": "stream",
     "text": [
      "\r",
      "sub-MPI_rec-uncombined19_T2starw.nii.gz:  36%|▎| 373k/1.01M [00:00<00:00, 1.56MB\r\n",
      "\r\n",
      "\r\n",
      "\r",
      "sub-MPI_rec-uncombined1_T2starw.nii.gz:   0%|        | 0.00/967k [00:00<?, ?B/s]\u001b[A\u001b[A\u001b[A\r\n",
      "\r",
      "sub-MPI_rec-uncombined17_T2starw.nii.gz:  37%|▎| 373k/0.99M [00:00<00:00, 1.58MB\u001b[A"
     ]
    },
    {
     "name": "stdout",
     "output_type": "stream",
     "text": [
      "\r\n",
      "\r",
      "sub-MPI_rec-uncombined17_T2starw.nii.gz:  69%|▋| 696k/0.99M [00:00<00:00, 1.18MB\u001b[A\r\n",
      "\r\n",
      "\r",
      "sub-MPI_rec-uncombined18_T2starw.nii.gz:  30%|▎| 305k/0.99M [00:00<00:01, 569kB/\u001b[A\u001b[A\r",
      "sub-MPI_rec-uncombined19_T2starw.nii.gz:  74%|▋| 764k/1.01M [00:00<00:00, 1.27MB\r\n",
      "\r\n",
      "\r\n",
      "\r",
      "sub-MPI_rec-uncombined1_T2starw.nii.gz:   3%| | 32.6k/967k [00:00<00:09, 97.8kB/\u001b[A\u001b[A\u001b[A"
     ]
    },
    {
     "name": "stdout",
     "output_type": "stream",
     "text": [
      "\r",
      "                                                                                \r",
      "\r\n",
      "\r",
      "                                                                                \u001b[A"
     ]
    },
    {
     "name": "stdout",
     "output_type": "stream",
     "text": [
      "\r\n",
      "\r\n",
      "\r",
      "sub-MPI_rec-uncombined18_T2starw.nii.gz:  82%|▊| 833k/0.99M [00:00<00:00, 1.64MB\u001b[A\u001b[A\r\n",
      "\r\n",
      "\r",
      "                                                                                \u001b[A\u001b[A"
     ]
    },
    {
     "name": "stdout",
     "output_type": "stream",
     "text": [
      "\r\n",
      "\r\n",
      "\r\n",
      "\r",
      "sub-MPI_rec-uncombined1_T2starw.nii.gz:  19%|▏| 186k/967k [00:00<00:01, 477kB/s]\u001b[A\u001b[A\u001b[A\r",
      "sub-MPI_rec-uncombined20_T2starw.nii.gz:   0%|       | 0.00/990k [00:00<?, ?B/s]"
     ]
    },
    {
     "name": "stdout",
     "output_type": "stream",
     "text": [
      "\r\n",
      "\r\n",
      "\r\n",
      "\r",
      "sub-MPI_rec-uncombined1_T2starw.nii.gz:  61%|▌| 594k/967k [00:00<00:00, 1.34MB/s\u001b[A\u001b[A\u001b[A"
     ]
    },
    {
     "name": "stdout",
     "output_type": "stream",
     "text": [
      "\r",
      "sub-MPI_rec-uncombined20_T2starw.nii.gz:   8%| | 83.6k/990k [00:00<00:01, 607kB/\r\n",
      "\r\n",
      "\r\n",
      "\r",
      "                                                                                \u001b[A\u001b[A\u001b[A\r\n",
      "\r",
      "sub-MPI_rec-uncombined20_T2starw.json:   0%|        | 0.00/2.43k [00:00<?, ?B/s]\u001b[A\r\n",
      "\r",
      "                                                                                \u001b[A"
     ]
    },
    {
     "name": "stdout",
     "output_type": "stream",
     "text": [
      "\r\n",
      "\r",
      "sub-MPI_rec-uncombined21_T2starw.json:   0%|        | 0.00/2.43k [00:00<?, ?B/s]\u001b[A\r\n",
      "\r",
      "                                                                                \u001b[A"
     ]
    },
    {
     "name": "stdout",
     "output_type": "stream",
     "text": [
      "\r",
      "sub-MPI_rec-uncombined20_T2starw.nii.gz:  19%|▏| 186k/990k [00:00<00:01, 809kB/s\r\n",
      "\r",
      "sub-MPI_rec-uncombined21_T2starw.nii.gz:   0%|       | 0.00/989k [00:00<?, ?B/s]\u001b[A"
     ]
    },
    {
     "name": "stdout",
     "output_type": "stream",
     "text": [
      "\r",
      "sub-MPI_rec-uncombined20_T2starw.nii.gz:  63%|▋| 628k/990k [00:00<00:00, 2.28MB/\r",
      "                                                                                \r"
     ]
    },
    {
     "name": "stdout",
     "output_type": "stream",
     "text": [
      "\r\n",
      "\r",
      "sub-MPI_rec-uncombined21_T2starw.nii.gz:   8%| | 83.6k/989k [00:00<00:01, 613kB/\u001b[A\r",
      "sub-MPI_rec-uncombined22_T2starw.json:   0%|        | 0.00/2.43k [00:00<?, ?B/s]\r",
      "                                                                                \r"
     ]
    },
    {
     "name": "stdout",
     "output_type": "stream",
     "text": [
      "\r",
      "sub-MPI_rec-uncombined22_T2starw.nii.gz:   0%|      | 0.00/1.00M [00:00<?, ?B/s]"
     ]
    },
    {
     "name": "stdout",
     "output_type": "stream",
     "text": [
      "\r\n",
      "\r\n",
      "\r",
      "sub-MPI_rec-uncombined23_T2starw.nii.gz:   0%|      | 0.00/1.00M [00:00<?, ?B/s]\u001b[A\u001b[A\r\n",
      "\r",
      "sub-MPI_rec-uncombined21_T2starw.nii.gz:  31%|▎| 305k/989k [00:00<00:00, 1.20MB/\u001b[A"
     ]
    },
    {
     "name": "stdout",
     "output_type": "stream",
     "text": [
      "\r\n",
      "\r",
      "                                                                                \u001b[A"
     ]
    },
    {
     "name": "stdout",
     "output_type": "stream",
     "text": [
      "\r",
      "sub-MPI_rec-uncombined22_T2starw.nii.gz:   8%| | 83.6k/1.00M [00:00<00:01, 522kB\r\n",
      "\r",
      "sub-MPI_rec-uncombined23_T2starw.json:   0%|        | 0.00/2.43k [00:00<?, ?B/s]\u001b[A\r\n",
      "\r",
      "                                                                                \u001b[A"
     ]
    },
    {
     "name": "stdout",
     "output_type": "stream",
     "text": [
      "\r\n",
      "\r",
      "sub-MPI_rec-uncombined24_T2starw.json:   0%|        | 0.00/2.43k [00:00<?, ?B/s]\u001b[A\r\n",
      "\r\n",
      "\r",
      "sub-MPI_rec-uncombined23_T2starw.nii.gz:   9%| | 87.4k/1.00M [00:00<00:01, 564kB\u001b[A\u001b[A\r\n",
      "\r",
      "                                                                                \u001b[A"
     ]
    },
    {
     "name": "stdout",
     "output_type": "stream",
     "text": [
      "\r",
      "sub-MPI_rec-uncombined22_T2starw.nii.gz:  28%|▎| 288k/1.00M [00:00<00:00, 1.16MB"
     ]
    },
    {
     "name": "stdout",
     "output_type": "stream",
     "text": [
      "\r\n",
      "\r\n",
      "\r",
      "sub-MPI_rec-uncombined23_T2starw.nii.gz:  30%|▎| 308k/1.00M [00:00<00:00, 1.34MB\u001b[A\u001b[A"
     ]
    },
    {
     "name": "stdout",
     "output_type": "stream",
     "text": [
      "\r",
      "                                                                                \r"
     ]
    },
    {
     "name": "stdout",
     "output_type": "stream",
     "text": [
      "\r\n",
      "\r\n",
      "\r",
      "sub-MPI_rec-uncombined23_T2starw.nii.gz:  85%|▊| 869k/1.00M [00:00<00:00, 3.09MB\u001b[A\u001b[A\r\n",
      "\r\n",
      "\r",
      "                                                                                \u001b[A\u001b[A"
     ]
    },
    {
     "name": "stdout",
     "output_type": "stream",
     "text": [
      "\r",
      "sub-MPI_rec-uncombined24_T2starw.nii.gz:   0%|       | 0.00/983k [00:00<?, ?B/s]\r\n",
      "\r",
      "sub-MPI_rec-uncombined3_T2starw.json:   0%|         | 0.00/2.43k [00:00<?, ?B/s]\u001b[A\r\n",
      "\r",
      "                                                                                \u001b[A"
     ]
    },
    {
     "name": "stdout",
     "output_type": "stream",
     "text": [
      "\r\n",
      "\r",
      "sub-MPI_rec-uncombined2_T2starw.json:   0%|         | 0.00/2.43k [00:00<?, ?B/s]\u001b[A\r\n",
      "\r",
      "                                                                                \u001b[A"
     ]
    },
    {
     "name": "stdout",
     "output_type": "stream",
     "text": [
      "\r",
      "sub-MPI_rec-uncombined24_T2starw.nii.gz:   8%| | 83.6k/983k [00:00<00:01, 650kB/"
     ]
    },
    {
     "name": "stdout",
     "output_type": "stream",
     "text": [
      "\r\n",
      "\r",
      "sub-MPI_rec-uncombined2_T2starw.nii.gz:   0%|        | 0.00/937k [00:00<?, ?B/s]\u001b[A"
     ]
    },
    {
     "name": "stdout",
     "output_type": "stream",
     "text": [
      "\r",
      "sub-MPI_rec-uncombined24_T2starw.nii.gz:  31%|▎| 305k/983k [00:00<00:00, 1.27MB/"
     ]
    },
    {
     "name": "stdout",
     "output_type": "stream",
     "text": [
      "\r\n",
      "\r\n",
      "\r",
      "sub-MPI_rec-uncombined3_T2starw.nii.gz:   0%|        | 0.00/956k [00:00<?, ?B/s]\u001b[A\u001b[A\r\n",
      "\r\n",
      "\r\n",
      "\r",
      "sub-MPI_rec-uncombined4_T2starw.json:   0%|         | 0.00/2.43k [00:00<?, ?B/s]\u001b[A\u001b[A\u001b[A\r\n",
      "\r\n",
      "\r\n",
      "\r",
      "                                                                                \u001b[A\u001b[A\u001b[A"
     ]
    },
    {
     "name": "stdout",
     "output_type": "stream",
     "text": [
      "\r\n",
      "\r",
      "sub-MPI_rec-uncombined2_T2starw.nii.gz:   9%| | 83.4k/937k [00:00<00:01, 648kB/s\u001b[A\r",
      "sub-MPI_rec-uncombined24_T2starw.nii.gz:  86%|▊| 850k/983k [00:00<00:00, 2.95MB/\r",
      "                                                                                \r",
      "\r",
      "sub-MPI_rec-uncombined4_T2starw.nii.gz:   0%|        | 0.00/960k [00:00<?, ?B/s]"
     ]
    },
    {
     "name": "stdout",
     "output_type": "stream",
     "text": [
      "\r\n",
      "\r\n",
      "\r",
      "sub-MPI_rec-uncombined3_T2starw.nii.gz:   9%| | 83.4k/956k [00:00<00:01, 612kB/s\u001b[A\u001b[A\r\n",
      "\r",
      "sub-MPI_rec-uncombined2_T2starw.nii.gz:  32%|▎| 304k/937k [00:00<00:00, 1.27MB/s\u001b[A"
     ]
    },
    {
     "name": "stdout",
     "output_type": "stream",
     "text": [
      "\r",
      "sub-MPI_rec-uncombined4_T2starw.nii.gz:   7%| | 66.4k/960k [00:00<00:01, 542kB/s"
     ]
    },
    {
     "name": "stdout",
     "output_type": "stream",
     "text": [
      "\r\n",
      "\r",
      "                                                                                \u001b[A\r\n",
      "\r\n",
      "\r",
      "sub-MPI_rec-uncombined3_T2starw.nii.gz:  32%|▎| 304k/956k [00:00<00:00, 1.20MB/s\u001b[A\u001b[A\r\n",
      "\r",
      "sub-MPI_rec-uncombined5_T2starw.json:   0%|         | 0.00/2.43k [00:00<?, ?B/s]\u001b[A\r\n",
      "\r",
      "                                                                                \u001b[A"
     ]
    },
    {
     "name": "stdout",
     "output_type": "stream",
     "text": [
      "\r",
      "sub-MPI_rec-uncombined4_T2starw.nii.gz:  21%|▏| 202k/960k [00:00<00:00, 945kB/s]"
     ]
    },
    {
     "name": "stdout",
     "output_type": "stream",
     "text": [
      "\r\n",
      "\r",
      "sub-MPI_rec-uncombined5_T2starw.nii.gz:   0%|        | 0.00/964k [00:00<?, ?B/s]\u001b[A\r\n",
      "\r\n",
      "\r",
      "                                                                                \u001b[A\u001b[A"
     ]
    },
    {
     "name": "stdout",
     "output_type": "stream",
     "text": [
      "\r",
      "sub-MPI_rec-uncombined4_T2starw.nii.gz:  62%|▌| 593k/960k [00:00<00:00, 2.22MB/s\r",
      "                                                                                \r"
     ]
    },
    {
     "name": "stdout",
     "output_type": "stream",
     "text": [
      "\r\n",
      "\r",
      "sub-MPI_rec-uncombined5_T2starw.nii.gz:   9%| | 83.6k/964k [00:00<00:01, 611kB/s\u001b[A\r",
      "sub-MPI_rec-uncombined6_T2starw.json:   0%|         | 0.00/2.43k [00:00<?, ?B/s]\r",
      "                                                                                \r"
     ]
    },
    {
     "name": "stdout",
     "output_type": "stream",
     "text": [
      "\r",
      "sub-MPI_rec-uncombined6_T2starw.nii.gz:   0%|        | 0.00/930k [00:00<?, ?B/s]\r\n",
      "\r",
      "sub-MPI_rec-uncombined5_T2starw.nii.gz:  26%|▎| 255k/964k [00:00<00:00, 1.19MB/s\u001b[A"
     ]
    },
    {
     "name": "stdout",
     "output_type": "stream",
     "text": [
      "\r\n",
      "\r\n",
      "\r",
      "sub-MPI_rec-uncombined7_T2starw.json:   0%|         | 0.00/2.43k [00:00<?, ?B/s]\u001b[A\u001b[A\r\n",
      "\r\n",
      "\r",
      "                                                                                \u001b[A\u001b[A"
     ]
    },
    {
     "name": "stdout",
     "output_type": "stream",
     "text": [
      "\r\n",
      "\r",
      "sub-MPI_rec-uncombined5_T2starw.nii.gz:  63%|▋| 611k/964k [00:00<00:00, 2.08MB/s\u001b[A\r",
      "sub-MPI_rec-uncombined6_T2starw.nii.gz:   9%| | 83.4k/930k [00:00<00:01, 611kB/s"
     ]
    },
    {
     "name": "stdout",
     "output_type": "stream",
     "text": [
      "\r\n",
      "\r",
      "                                                                                \u001b[A\r\n",
      "\r",
      "sub-MPI_rec-uncombined7_T2starw.nii.gz:   0%|        | 0.00/968k [00:00<?, ?B/s]\u001b[A"
     ]
    },
    {
     "name": "stdout",
     "output_type": "stream",
     "text": [
      "\r\n",
      "\r\n",
      "\r",
      "sub-MPI_rec-uncombined8_T2starw.json:   0%|         | 0.00/2.43k [00:00<?, ?B/s]\u001b[A\u001b[A\r\n",
      "\r\n",
      "\r",
      "                                                                                \u001b[A\u001b[A"
     ]
    },
    {
     "name": "stdout",
     "output_type": "stream",
     "text": [
      "\r",
      "sub-MPI_rec-uncombined6_T2starw.nii.gz:  33%|▎| 304k/930k [00:00<00:00, 1.20MB/s"
     ]
    },
    {
     "name": "stdout",
     "output_type": "stream",
     "text": [
      "\r\n",
      "\r",
      "sub-MPI_rec-uncombined7_T2starw.nii.gz:   9%| | 83.4k/968k [00:00<00:01, 605kB/s\u001b[A"
     ]
    },
    {
     "name": "stdout",
     "output_type": "stream",
     "text": [
      "\r",
      "                                                                                \r"
     ]
    },
    {
     "name": "stdout",
     "output_type": "stream",
     "text": [
      "\r",
      "sub-MPI_rec-uncombined8_T2starw.nii.gz:   0%|        | 0.00/951k [00:00<?, ?B/s]"
     ]
    },
    {
     "name": "stdout",
     "output_type": "stream",
     "text": [
      "\r\n",
      "\r\n",
      "\r",
      "sub-MPI_rec-uncombined9_T2starw.json:   0%|         | 0.00/2.43k [00:00<?, ?B/s]\u001b[A\u001b[A\r\n",
      "\r",
      "sub-MPI_rec-uncombined7_T2starw.nii.gz:  31%|▎| 304k/968k [00:00<00:00, 1.19MB/s\u001b[A\r\n",
      "\r\n",
      "\r",
      "                                                                                \u001b[A\u001b[A"
     ]
    },
    {
     "name": "stdout",
     "output_type": "stream",
     "text": [
      "\r\n",
      "\r",
      "                                                                                \u001b[A"
     ]
    },
    {
     "name": "stdout",
     "output_type": "stream",
     "text": [
      "\r\n",
      "\r",
      "sub-MPI_rec-uncombined9_T2starw.nii.gz:   0%|        | 0.00/925k [00:00<?, ?B/s]\u001b[A\r",
      "sub-MPI_rec-uncombined8_T2starw.nii.gz:   9%| | 85.3k/951k [00:00<00:01, 595kB/s"
     ]
    },
    {
     "name": "stdout",
     "output_type": "stream",
     "text": [
      "\r\n",
      "\r\n",
      "\r",
      "sub-MPI_acq-anat_TB1TFL.json:   0%|                 | 0.00/2.63k [00:00<?, ?B/s]\u001b[A\u001b[A\r\n",
      "\r\n",
      "\r",
      "                                                                                \u001b[A\u001b[A"
     ]
    },
    {
     "name": "stdout",
     "output_type": "stream",
     "text": [
      "\r",
      "sub-MPI_rec-uncombined8_T2starw.nii.gz:  30%|▎| 289k/951k [00:00<00:00, 1.14MB/s\r\n",
      "\r",
      "sub-MPI_rec-uncombined9_T2starw.nii.gz:   9%| | 82.4k/925k [00:00<00:01, 540kB/s\u001b[A"
     ]
    },
    {
     "name": "stdout",
     "output_type": "stream",
     "text": [
      "\r",
      "                                                                                \r"
     ]
    },
    {
     "name": "stdout",
     "output_type": "stream",
     "text": [
      "\r",
      "sub-MPI_acq-anat_TB1TFL.nii.gz:   0%|                | 0.00/702k [00:00<?, ?B/s]"
     ]
    },
    {
     "name": "stdout",
     "output_type": "stream",
     "text": [
      "\r\n",
      "\r\n",
      "\r",
      "sub-MPI_acq-coilQaSagLarge_SNR.json:   0%|          | 0.00/2.16k [00:00<?, ?B/s]\u001b[A\u001b[A\r\n",
      "\r\n",
      "\r",
      "                                                                                \u001b[A\u001b[A\r\n",
      "\r",
      "sub-MPI_rec-uncombined9_T2starw.nii.gz:  21%|▏| 191k/925k [00:00<00:01, 688kB/s]\u001b[A"
     ]
    },
    {
     "name": "stdout",
     "output_type": "stream",
     "text": [
      "\r\n",
      "\r\n",
      "\r",
      "sub-MPI_acq-coilQaSagLarge_SNR.nii.gz:   0%|        | 0.00/3.99M [00:00<?, ?B/s]\u001b[A\u001b[A\r",
      "sub-MPI_acq-anat_TB1TFL.nii.gz:  12%|▉       | 83.6k/702k [00:00<00:01, 597kB/s]\r\n",
      "\r",
      "sub-MPI_rec-uncombined9_T2starw.nii.gz:  35%|▎| 327k/925k [00:00<00:00, 858kB/s]\u001b[A"
     ]
    },
    {
     "name": "stdout",
     "output_type": "stream",
     "text": [
      "\r\n",
      "\r\n",
      "\r\n",
      "\r",
      "sub-MPI_acq-coilQaSagSmall_GFactor.json:   0%|      | 0.00/2.16k [00:00<?, ?B/s]\u001b[A\u001b[A\u001b[A\r\n",
      "\r\n",
      "\r\n",
      "\r",
      "                                                                                \u001b[A\u001b[A\u001b[A\r",
      "sub-MPI_acq-anat_TB1TFL.nii.gz:  43%|███▍    | 305k/702k [00:00<00:00, 1.22MB/s]\r\n",
      "\r\n",
      "\r",
      "sub-MPI_acq-coilQaSagLarge_SNR.nii.gz:   2%| | 83.6k/3.99M [00:00<00:06, 609kB/s\u001b[A\u001b[A"
     ]
    },
    {
     "name": "stdout",
     "output_type": "stream",
     "text": [
      "\r\n",
      "\r",
      "sub-MPI_rec-uncombined9_T2starw.nii.gz:  50%|▌| 463k/925k [00:00<00:00, 931kB/s]\u001b[A"
     ]
    },
    {
     "name": "stdout",
     "output_type": "stream",
     "text": [
      "\r",
      "                                                                                \r",
      "\r\n",
      "\r\n",
      "\r",
      "sub-MPI_acq-coilQaSagLarge_SNR.nii.gz:   6%| | 237k/3.99M [00:00<00:03, 1.09MB/s\u001b[A\u001b[A"
     ]
    },
    {
     "name": "stdout",
     "output_type": "stream",
     "text": [
      "\r",
      "sub-MPI_acq-coilQaSagSmall_GFactor.nii.gz:   0%|    | 0.00/3.53M [00:00<?, ?B/s]"
     ]
    },
    {
     "name": "stdout",
     "output_type": "stream",
     "text": [
      "\r\n",
      "\r",
      "sub-MPI_rec-uncombined9_T2starw.nii.gz:  67%|▋| 616k/925k [00:00<00:00, 1.01MB/s\u001b[A"
     ]
    },
    {
     "name": "stdout",
     "output_type": "stream",
     "text": [
      "\r\n",
      "\r\n",
      "\r",
      "sub-MPI_acq-coilQaSagLarge_SNR.nii.gz:  17%|▏| 696k/3.99M [00:00<00:01, 2.49MB/s\u001b[A\u001b[A"
     ]
    },
    {
     "name": "stdout",
     "output_type": "stream",
     "text": [
      "\r",
      "sub-MPI_acq-coilQaSagSmall_GFactor.nii.gz:   2%| | 77.0k/3.53M [00:00<00:06, 557\r\n",
      "\r",
      "sub-MPI_rec-uncombined9_T2starw.nii.gz:  85%|▊| 786k/925k [00:00<00:00, 1.11MB/s\u001b[A"
     ]
    },
    {
     "name": "stdout",
     "output_type": "stream",
     "text": [
      "\r\n",
      "\r\n",
      "\r",
      "sub-MPI_acq-coilQaSagLarge_SNR.nii.gz:  54%|▌| 2.16M/3.99M [00:00<00:00, 7.22MB/\u001b[A\u001b[A\r\n",
      "\r\n",
      "\r\n",
      "\r",
      "sub-MPI_acq-coilQaTra_GFactor.nii.gz:   0%|         | 0.00/15.5M [00:00<?, ?B/s]\u001b[A\u001b[A\u001b[A\r\n",
      "\r\n",
      "\r\n",
      "\r\n",
      "\r",
      "sub-MPI_acq-coilQaTra_GFactor.json:   0%|           | 0.00/2.07k [00:00<?, ?B/s]\u001b[A\u001b[A\u001b[A\u001b[A\r\n",
      "\r\n",
      "\r\n",
      "\r\n",
      "\r",
      "                                                                                \u001b[A\u001b[A\u001b[A\u001b[A"
     ]
    },
    {
     "name": "stdout",
     "output_type": "stream",
     "text": [
      "\r\n",
      "\r",
      "                                                                                \u001b[A"
     ]
    },
    {
     "name": "stdout",
     "output_type": "stream",
     "text": [
      "\r\n",
      "\r\n",
      "\r",
      "sub-MPI_acq-coilQaSagLarge_SNR.nii.gz:  73%|▋| 2.90M/3.99M [00:00<00:00, 7.38MB/\u001b[A\u001b[A\r",
      "sub-MPI_acq-coilQaSagSmall_GFactor.nii.gz:   5%| | 164k/3.53M [00:00<00:05, 599k\r\n",
      "\r\n",
      "\r",
      "                                                                                \u001b[A\u001b[A"
     ]
    },
    {
     "name": "stdout",
     "output_type": "stream",
     "text": [
      "\r\n",
      "\r\n",
      "\r\n",
      "\r",
      "sub-MPI_acq-coilQaTra_GFactor.nii.gz:   1%| | 83.6k/15.5M [00:00<00:24, 645kB/s]\u001b[A\u001b[A\u001b[A"
     ]
    },
    {
     "name": "stdout",
     "output_type": "stream",
     "text": [
      "\r",
      "sub-MPI_acq-coilQaSagSmall_GFactor.nii.gz:   8%| | 276k/3.53M [00:00<00:04, 698k\r\n",
      "\r\n",
      "\r\n",
      "\r",
      "sub-MPI_acq-coilQaTra_GFactor.nii.gz:   2%| | 305k/15.5M [00:00<00:12, 1.26MB/s]\u001b[A\u001b[A\u001b[A"
     ]
    },
    {
     "name": "stdout",
     "output_type": "stream",
     "text": [
      "\r\n",
      "\r",
      "sub-MPI_acq-famp-0.66_TB1DREAM.json:   0%|          | 0.00/2.08k [00:00<?, ?B/s]\u001b[A\r\n",
      "\r",
      "                                                                                \u001b[A"
     ]
    },
    {
     "name": "stdout",
     "output_type": "stream",
     "text": [
      "\r",
      "sub-MPI_acq-coilQaSagSmall_GFactor.nii.gz:  10%| | 378k/3.53M [00:00<00:04, 800k\r\n",
      "\r",
      "sub-MPI_acq-famp-0.66_TB1DREAM.nii.gz:   0%|        | 0.00/87.4k [00:00<?, ?B/s]\u001b[A"
     ]
    },
    {
     "name": "stdout",
     "output_type": "stream",
     "text": [
      "\r\n",
      "\r\n",
      "\r",
      "sub-MPI_acq-famp-1.5_TB1DREAM.json:   0%|           | 0.00/2.08k [00:00<?, ?B/s]\u001b[A\u001b[A\r\n",
      "\r\n",
      "\r",
      "                                                                                \u001b[A\u001b[A\r\n",
      "\r\n",
      "\r\n",
      "\r",
      "sub-MPI_acq-coilQaTra_GFactor.nii.gz:   8%| | 1.23M/15.5M [00:00<00:04, 3.73MB/s\u001b[A\u001b[A\u001b[A"
     ]
    },
    {
     "name": "stdout",
     "output_type": "stream",
     "text": [
      "\r",
      "sub-MPI_acq-coilQaSagSmall_GFactor.nii.gz:  13%|▏| 463k/3.53M [00:00<00:04, 798k"
     ]
    },
    {
     "name": "stdout",
     "output_type": "stream",
     "text": [
      "\r\n",
      "\r",
      "sub-MPI_acq-famp-0.66_TB1DREAM.nii.gz:  58%|▌| 50.4k/87.4k [00:00<00:00, 392kB/s\u001b[A"
     ]
    },
    {
     "name": "stdout",
     "output_type": "stream",
     "text": [
      "\r\n",
      "\r\n",
      "\r\n",
      "\r",
      "sub-MPI_acq-coilQaTra_GFactor.nii.gz:  28%|▎| 4.30M/15.5M [00:00<00:00, 12.3MB/s\u001b[A\u001b[A\u001b[A\r\n",
      "\r",
      "                                                                                \u001b[A"
     ]
    },
    {
     "name": "stdout",
     "output_type": "stream",
     "text": [
      "\r\n",
      "\r",
      "sub-MPI_acq-famp_TB1DREAM.json:   0%|               | 0.00/2.06k [00:00<?, ?B/s]\u001b[A\r",
      "sub-MPI_acq-coilQaSagSmall_GFactor.nii.gz:  17%|▏| 599k/3.53M [00:00<00:03, 827k\r\n",
      "\r",
      "                                                                                \u001b[A"
     ]
    },
    {
     "name": "stdout",
     "output_type": "stream",
     "text": [
      "\r\n",
      "\r\n",
      "\r\n",
      "\r",
      "sub-MPI_acq-coilQaTra_GFactor.nii.gz:  41%|▍| 6.27M/15.5M [00:00<00:00, 14.5MB/s\u001b[A\u001b[A\u001b[A"
     ]
    },
    {
     "name": "stdout",
     "output_type": "stream",
     "text": [
      "\r\n",
      "\r",
      "sub-MPI_acq-famp-1.5_TB1DREAM.nii.gz:   0%|         | 0.00/89.9k [00:00<?, ?B/s]\u001b[A\r\n",
      "\r\n",
      "\r\n",
      "\r",
      "sub-MPI_acq-coilQaTra_GFactor.nii.gz:  70%|▋| 10.8M/15.5M [00:00<00:00, 24.4MB/s\u001b[A\u001b[A\u001b[A\r",
      "sub-MPI_acq-coilQaSagSmall_GFactor.nii.gz:  20%|▏| 736k/3.53M [00:00<00:03, 888k"
     ]
    },
    {
     "name": "stdout",
     "output_type": "stream",
     "text": [
      "\r\n",
      "\r\n",
      "\r\n",
      "\r",
      "sub-MPI_acq-coilQaTra_GFactor.nii.gz:  94%|▉| 14.5M/15.5M [00:00<00:00, 28.6MB/s\u001b[A\u001b[A\u001b[A\r\n",
      "\r\n",
      "\r\n",
      "\r",
      "                                                                                \u001b[A\u001b[A\u001b[A"
     ]
    },
    {
     "name": "stdout",
     "output_type": "stream",
     "text": [
      "\r\n",
      "\r",
      "sub-MPI_acq-famp-1.5_TB1DREAM.nii.gz:  93%|▉| 83.6k/89.9k [00:00<00:00, 582kB/s]\u001b[A\r",
      "sub-MPI_acq-coilQaSagSmall_GFactor.nii.gz:  25%|▎| 905k/3.53M [00:01<00:02, 998k\r\n",
      "\r",
      "                                                                                \u001b[A\r\n",
      "\r",
      "sub-MPI_acq-famp_TB1DREAM.nii.gz:   0%|             | 0.00/87.5k [00:00<?, ?B/s]\u001b[A\r\n",
      "\r\n",
      "\r",
      "sub-MPI_acq-famp_TB1TFL.json:   0%|                 | 0.00/2.66k [00:00<?, ?B/s]\u001b[A\u001b[A\r\n",
      "\r\n",
      "\r",
      "                                                                                \u001b[A\u001b[A"
     ]
    },
    {
     "name": "stdout",
     "output_type": "stream",
     "text": [
      "\r",
      "sub-MPI_acq-coilQaSagSmall_GFactor.nii.gz:  30%|▎| 1.07M/3.53M [00:01<00:02, 1.1"
     ]
    },
    {
     "name": "stdout",
     "output_type": "stream",
     "text": [
      "\r\n",
      "\r",
      "sub-MPI_acq-famp_TB1DREAM.nii.gz:  95%|████▊| 83.6k/87.5k [00:00<00:00, 715kB/s]\u001b[A\r\n",
      "\r",
      "                                                                                \u001b[A"
     ]
    },
    {
     "name": "stdout",
     "output_type": "stream",
     "text": [
      "\r",
      "sub-MPI_acq-coilQaSagSmall_GFactor.nii.gz:  36%|▎| 1.27M/3.53M [00:01<00:01, 1.2"
     ]
    },
    {
     "name": "stdout",
     "output_type": "stream",
     "text": [
      "\r\n",
      "\r",
      "sub-MPI_acq-refv-0.66_TB1DREAM.json:   0%|          | 0.00/2.09k [00:00<?, ?B/s]\u001b[A\r\n",
      "\r",
      "                                                                                \u001b[A\r\n",
      "\r",
      "sub-MPI_acq-famp_TB1TFL.nii.gz:   0%|                | 0.00/933k [00:00<?, ?B/s]\u001b[A\r\n",
      "\r\n",
      "\r",
      "sub-MPI_acq-refv-0.66_TB1DREAM.nii.gz:   0%|        | 0.00/80.7k [00:00<?, ?B/s]\u001b[A\u001b[A"
     ]
    },
    {
     "name": "stdout",
     "output_type": "stream",
     "text": [
      "\r",
      "sub-MPI_acq-coilQaSagSmall_GFactor.nii.gz:  42%|▍| 1.48M/3.53M [00:01<00:01, 1.3"
     ]
    },
    {
     "name": "stdout",
     "output_type": "stream",
     "text": [
      "\r\n",
      "\r\n",
      "\r\n",
      "\r",
      "sub-MPI_acq-refv-1.5_TB1DREAM.json:   0%|           | 0.00/2.09k [00:00<?, ?B/s]\u001b[A\u001b[A\u001b[A\r\n",
      "\r\n",
      "\r\n",
      "\r",
      "                                                                                \u001b[A\u001b[A\u001b[A\r\n",
      "\r\n",
      "\r",
      "sub-MPI_acq-refv-0.66_TB1DREAM.nii.gz: 100%|█| 80.7k/80.7k [00:00<00:00, 531kB/s\u001b[A\u001b[A\r\n",
      "\r",
      "sub-MPI_acq-famp_TB1TFL.nii.gz:   9%|▋       | 82.4k/933k [00:00<00:01, 537kB/s]\u001b[A\r\n",
      "\r\n",
      "\r",
      "                                                                                \u001b[A\u001b[A"
     ]
    },
    {
     "name": "stdout",
     "output_type": "stream",
     "text": [
      "\r",
      "sub-MPI_acq-coilQaSagSmall_GFactor.nii.gz:  46%|▍| 1.61M/3.53M [00:01<00:01, 1.3"
     ]
    },
    {
     "name": "stdout",
     "output_type": "stream",
     "text": [
      "\r\n"
     ]
    },
    {
     "name": "stdout",
     "output_type": "stream",
     "text": [
      "\r",
      "sub-MPI_acq-famp_TB1TFL.nii.gz:  21%|█▊       | 193k/933k [00:00<00:00, 794kB/s]\u001b[A\r\n",
      "\r\n",
      "\r",
      "sub-MPI_acq-refv-1.5_TB1DREAM.nii.gz:   0%|         | 0.00/93.2k [00:00<?, ?B/s]\u001b[A\u001b[A\r",
      "sub-MPI_acq-coilQaSagSmall_GFactor.nii.gz:  52%|▌| 1.85M/3.53M [00:01<00:01, 1.5"
     ]
    },
    {
     "name": "stdout",
     "output_type": "stream",
     "text": [
      "\r\n",
      "\r",
      "sub-MPI_acq-famp_TB1TFL.nii.gz:  33%|███      | 312k/933k [00:00<00:00, 929kB/s]\u001b[A\r",
      "sub-MPI_acq-coilQaSagSmall_GFactor.nii.gz:  58%|▌| 2.05M/3.53M [00:01<00:00, 1.6\r\n",
      "\r\n",
      "\r\n",
      "\r",
      "sub-MPI_acq-refv_TB1DREAM.json:   0%|               | 0.00/2.07k [00:00<?, ?B/s]\u001b[A\u001b[A\u001b[A\r\n",
      "\r\n",
      "\r\n",
      "\r",
      "                                                                                \u001b[A\u001b[A\u001b[A"
     ]
    },
    {
     "name": "stdout",
     "output_type": "stream",
     "text": [
      "\r\n",
      "\r\n",
      "\r",
      "sub-MPI_acq-refv-1.5_TB1DREAM.nii.gz:  73%|▋| 68.2k/93.2k [00:00<00:00, 459kB/s]\u001b[A\u001b[A\r\n",
      "\r\n",
      "\r",
      "                                                                                \u001b[A\u001b[A"
     ]
    },
    {
     "name": "stdout",
     "output_type": "stream",
     "text": [
      "\r\n",
      "\r\n",
      "\r",
      "sub-MPI_acq-refv_TB1DREAM.nii.gz:   0%|             | 0.00/84.7k [00:00<?, ?B/s]\u001b[A\u001b[A\r\n",
      "\r",
      "sub-MPI_acq-famp_TB1TFL.nii.gz:  44%|███▉     | 413k/933k [00:00<00:00, 942kB/s]\u001b[A\r",
      "sub-MPI_acq-coilQaSagSmall_GFactor.nii.gz:  64%|▋| 2.26M/3.53M [00:01<00:00, 1.7"
     ]
    },
    {
     "name": "stdout",
     "output_type": "stream",
     "text": [
      "\r\n",
      "\r\n",
      "\r",
      "sub-MPI_acq-refv_TB1DREAM.nii.gz:  99%|████▉| 83.6k/84.7k [00:00<00:00, 718kB/s]\u001b[A\u001b[A\r\n",
      "\r\n",
      "\r",
      "                                                                                \u001b[A\u001b[A"
     ]
    },
    {
     "name": "stdout",
     "output_type": "stream",
     "text": [
      "\r",
      "sub-MPI_acq-coilQaSagSmall_GFactor.nii.gz:  71%|▋| 2.49M/3.53M [00:02<00:00, 1.8\r\n",
      "\r",
      "sub-MPI_acq-famp_TB1TFL.nii.gz:  57%|█████▏   | 532k/933k [00:00<00:00, 888kB/s]\u001b[A"
     ]
    },
    {
     "name": "stdout",
     "output_type": "stream",
     "text": [
      "\r\n",
      "\r\n",
      "\r",
      "sub-MSSM_T2starw.json:   0%|                        | 0.00/2.53k [00:00<?, ?B/s]\u001b[A\u001b[A\r\n",
      "\r\n",
      "\r",
      "                                                                                \u001b[A\u001b[A"
     ]
    },
    {
     "name": "stdout",
     "output_type": "stream",
     "text": [
      "\r\n",
      "\r",
      "sub-MPI_acq-famp_TB1TFL.nii.gz:  75%|██████  | 702k/933k [00:00<00:00, 1.01MB/s]\u001b[A"
     ]
    },
    {
     "name": "stdout",
     "output_type": "stream",
     "text": [
      "\r",
      "sub-MPI_acq-coilQaSagSmall_GFactor.nii.gz:  80%|▊| 2.84M/3.53M [00:02<00:00, 2.1\r\n",
      "\r\n",
      "\r",
      "sub-MSSM_T2starw.nii.gz:   0%|                      | 0.00/1.74M [00:00<?, ?B/s]\u001b[A\u001b[A"
     ]
    },
    {
     "name": "stdout",
     "output_type": "stream",
     "text": [
      "\r\n",
      "\r\n",
      "\r\n",
      "\r",
      "sub-MSSM_rec-uncombined10_T2starw.json:   0%|       | 0.00/2.36k [00:00<?, ?B/s]\u001b[A\u001b[A\u001b[A\r\n",
      "\r\n",
      "\r\n",
      "\r",
      "                                                                                \u001b[A\u001b[A\u001b[A\r\n",
      "\r",
      "sub-MPI_acq-famp_TB1TFL.nii.gz:  93%|███████▍| 873k/933k [00:00<00:00, 1.07MB/s]\u001b[A\r",
      "sub-MPI_acq-coilQaSagSmall_GFactor.nii.gz:  91%|▉| 3.22M/3.53M [00:02<00:00, 2.3"
     ]
    },
    {
     "name": "stdout",
     "output_type": "stream",
     "text": [
      "\r\n",
      "\r",
      "                                                                                \u001b[A\r\n",
      "\r\n",
      "\r",
      "sub-MSSM_T2starw.nii.gz:   5%|▋             | 83.6k/1.74M [00:00<00:02, 607kB/s]\u001b[A\u001b[A\r\n",
      "\r",
      "sub-MSSM_rec-uncombined10_T2starw.nii.gz:   0%|      | 0.00/974k [00:00<?, ?B/s]\u001b[A"
     ]
    },
    {
     "name": "stdout",
     "output_type": "stream",
     "text": [
      "\r",
      "sub-MPI_acq-coilQaSagSmall_GFactor.nii.gz: 100%|▉| 3.52M/3.53M [00:02<00:00, 2.4\r",
      "                                                                                \r",
      "\r\n",
      "\r\n",
      "\r",
      "sub-MSSM_T2starw.nii.gz:  16%|██▎           | 288k/1.74M [00:00<00:01, 1.11MB/s]\u001b[A\u001b[A"
     ]
    },
    {
     "name": "stdout",
     "output_type": "stream",
     "text": [
      "\r\n",
      "\r",
      "sub-MSSM_rec-uncombined10_T2starw.nii.gz:   8%| | 82.4k/974k [00:00<00:01, 675kB\u001b[A"
     ]
    },
    {
     "name": "stdout",
     "output_type": "stream",
     "text": [
      "\r",
      "sub-MSSM_rec-uncombined11_T2starw.json:   0%|       | 0.00/2.36k [00:00<?, ?B/s]\r",
      "                                                                                \r"
     ]
    },
    {
     "name": "stdout",
     "output_type": "stream",
     "text": [
      "\r\n",
      "\r",
      "sub-MSSM_rec-uncombined10_T2starw.nii.gz:  24%|▏| 235k/974k [00:00<00:00, 1.08MB\u001b[A\r\n",
      "\r\n",
      "\r",
      "sub-MSSM_T2starw.nii.gz:  63%|████████▏    | 1.09M/1.74M [00:00<00:00, 3.34MB/s]\u001b[A\u001b[A"
     ]
    },
    {
     "name": "stdout",
     "output_type": "stream",
     "text": [
      "\r\n",
      "\r\n",
      "\r",
      "                                                                                \u001b[A\u001b[A\r",
      "sub-MSSM_rec-uncombined11_T2starw.nii.gz:   0%|      | 0.00/934k [00:00<?, ?B/s]"
     ]
    },
    {
     "name": "stdout",
     "output_type": "stream",
     "text": [
      "\r\n",
      "\r\n",
      "\r",
      "sub-MSSM_rec-uncombined12_T2starw.json:   0%|       | 0.00/2.36k [00:00<?, ?B/s]\u001b[A\u001b[A\r\n",
      "\r\n",
      "\r",
      "                                                                                \u001b[A\u001b[A\r\n",
      "\r",
      "sub-MSSM_rec-uncombined10_T2starw.nii.gz:  66%|▋| 643k/974k [00:00<00:00, 2.22MB\u001b[A"
     ]
    },
    {
     "name": "stdout",
     "output_type": "stream",
     "text": [
      "\r\n",
      "\r",
      "                                                                                \u001b[A"
     ]
    },
    {
     "name": "stdout",
     "output_type": "stream",
     "text": [
      "\r",
      "sub-MSSM_rec-uncombined11_T2starw.nii.gz:   9%| | 83.6k/934k [00:00<00:01, 677kB"
     ]
    },
    {
     "name": "stdout",
     "output_type": "stream",
     "text": [
      "\r\n",
      "\r",
      "sub-MSSM_rec-uncombined13_T2starw.json:   0%|       | 0.00/2.36k [00:00<?, ?B/s]\u001b[A\r\n",
      "\r",
      "                                                                                \u001b[A"
     ]
    },
    {
     "name": "stdout",
     "output_type": "stream",
     "text": [
      "\r\n",
      "\r",
      "sub-MSSM_rec-uncombined12_T2starw.nii.gz:   0%|      | 0.00/826k [00:00<?, ?B/s]\u001b[A\r",
      "sub-MSSM_rec-uncombined11_T2starw.nii.gz:  36%|▎| 339k/934k [00:00<00:00, 1.33MB"
     ]
    },
    {
     "name": "stdout",
     "output_type": "stream",
     "text": [
      "\r",
      "                                                                                \r",
      "\r",
      "sub-MSSM_rec-uncombined14_T2starw.json:   0%|       | 0.00/2.36k [00:00<?, ?B/s]"
     ]
    },
    {
     "name": "stdout",
     "output_type": "stream",
     "text": [
      "\r",
      "                                                                                \r",
      "\r\n",
      "\r",
      "sub-MSSM_rec-uncombined12_T2starw.nii.gz:   7%| | 58.2k/826k [00:00<00:01, 593kB\u001b[A\r",
      "sub-MSSM_rec-uncombined13_T2starw.nii.gz:   0%|     | 0.00/1.12M [00:00<?, ?B/s]"
     ]
    },
    {
     "name": "stdout",
     "output_type": "stream",
     "text": [
      "\r",
      "sub-MSSM_rec-uncombined13_T2starw.nii.gz:   7%| | 83.4k/1.12M [00:00<00:01, 627k\r\n",
      "\r",
      "sub-MSSM_rec-uncombined12_T2starw.nii.gz:  21%|▏| 175k/826k [00:00<00:00, 773kB/\u001b[A"
     ]
    },
    {
     "name": "stdout",
     "output_type": "stream",
     "text": [
      "\r\n",
      "\r\n",
      "\r",
      "sub-MSSM_rec-uncombined14_T2starw.nii.gz:   0%|      | 0.00/949k [00:00<?, ?B/s]\u001b[A\u001b[A"
     ]
    },
    {
     "name": "stdout",
     "output_type": "stream",
     "text": [
      "\r",
      "sub-MSSM_rec-uncombined13_T2starw.nii.gz:  23%|▏| 270k/1.12M [00:00<00:00, 1.06M\r\n",
      "\r\n",
      "\r\n",
      "\r",
      "sub-MSSM_rec-uncombined15_T2starw.json:   0%|       | 0.00/2.36k [00:00<?, ?B/s]\u001b[A\u001b[A\u001b[A\r\n",
      "\r\n",
      "\r\n",
      "\r",
      "                                                                                \u001b[A\u001b[A\u001b[A"
     ]
    },
    {
     "name": "stdout",
     "output_type": "stream",
     "text": [
      "\r\n",
      "\r",
      "sub-MSSM_rec-uncombined12_T2starw.nii.gz:  37%|▎| 304k/826k [00:00<00:00, 747kB/\u001b[A\r\n",
      "\r\n",
      "\r\n",
      "\r",
      "sub-MSSM_rec-uncombined15_T2starw.nii.gz:   0%|      | 0.00/934k [00:00<?, ?B/s]\u001b[A\u001b[A\u001b[A"
     ]
    },
    {
     "name": "stdout",
     "output_type": "stream",
     "text": [
      "\r\n",
      "\r\n",
      "\r",
      "sub-MSSM_rec-uncombined14_T2starw.nii.gz:   9%| | 83.6k/949k [00:00<00:01, 608kB\u001b[A\u001b[A"
     ]
    },
    {
     "name": "stdout",
     "output_type": "stream",
     "text": [
      "\r",
      "sub-MSSM_rec-uncombined13_T2starw.nii.gz:  90%|▉| 1.01M/1.12M [00:00<00:00, 3.12\r",
      "                                                                                \r"
     ]
    },
    {
     "name": "stdout",
     "output_type": "stream",
     "text": [
      "\r\n",
      "\r",
      "sub-MSSM_rec-uncombined12_T2starw.nii.gz:  52%|▌| 427k/826k [00:00<00:00, 815kB/\u001b[A\r\n",
      "\r\n",
      "\r\n",
      "\r",
      "sub-MSSM_rec-uncombined15_T2starw.nii.gz:   9%| | 83.6k/934k [00:00<00:01, 614kB\u001b[A\u001b[A\u001b[A"
     ]
    },
    {
     "name": "stdout",
     "output_type": "stream",
     "text": [
      "\r\n",
      "\r\n",
      "\r",
      "sub-MSSM_rec-uncombined14_T2starw.nii.gz:  32%|▎| 305k/949k [00:00<00:00, 1.19MB\u001b[A\u001b[A"
     ]
    },
    {
     "name": "stdout",
     "output_type": "stream",
     "text": [
      "\r",
      "sub-MSSM_rec-uncombined16_T2starw.json:   0%|       | 0.00/2.36k [00:00<?, ?B/s]\r",
      "                                                                                \r",
      "\r\n",
      "\r",
      "sub-MSSM_rec-uncombined12_T2starw.nii.gz:  68%|▋| 563k/826k [00:00<00:00, 879kB/\u001b[A"
     ]
    },
    {
     "name": "stdout",
     "output_type": "stream",
     "text": [
      "\r\n",
      "\r\n",
      "\r\n",
      "\r",
      "sub-MSSM_rec-uncombined15_T2starw.nii.gz:  33%|▎| 305k/934k [00:00<00:00, 1.20MB\u001b[A\u001b[A\u001b[A\r\n",
      "\r\n",
      "\r",
      "sub-MSSM_rec-uncombined14_T2starw.nii.gz: 100%|█| 949k/949k [00:00<00:00, 3.21MB\u001b[A\u001b[A\r\n",
      "\r\n",
      "\r",
      "                                                                                \u001b[A\u001b[A"
     ]
    },
    {
     "name": "stdout",
     "output_type": "stream",
     "text": [
      "\r\n",
      "\r\n",
      "\r\n",
      "\r",
      "                                                                                \u001b[A\u001b[A\u001b[A"
     ]
    },
    {
     "name": "stdout",
     "output_type": "stream",
     "text": [
      "\r\n",
      "\r",
      "sub-MSSM_rec-uncombined12_T2starw.nii.gz:  87%|▊| 716k/826k [00:00<00:00, 978kB/\u001b[A\r",
      "sub-MSSM_rec-uncombined16_T2starw.nii.gz:   0%|     | 0.00/1.06M [00:00<?, ?B/s]"
     ]
    },
    {
     "name": "stdout",
     "output_type": "stream",
     "text": [
      "\r\n",
      "\r",
      "                                                                                \u001b[A"
     ]
    },
    {
     "name": "stdout",
     "output_type": "stream",
     "text": [
      "\r",
      "sub-MSSM_rec-uncombined16_T2starw.nii.gz:   8%| | 83.4k/1.06M [00:00<00:01, 608k\r\n",
      "\r",
      "sub-MSSM_rec-uncombined17_T2starw.json:   0%|       | 0.00/2.36k [00:00<?, ?B/s]\u001b[A\r\n",
      "\r",
      "                                                                                \u001b[A"
     ]
    },
    {
     "name": "stdout",
     "output_type": "stream",
     "text": [
      "\r\n",
      "\r",
      "sub-MSSM_rec-uncombined17_T2starw.nii.gz:   0%|      | 0.00/721k [00:00<?, ?B/s]\u001b[A"
     ]
    },
    {
     "name": "stdout",
     "output_type": "stream",
     "text": [
      "\r\n",
      "\r\n",
      "\r",
      "sub-MSSM_rec-uncombined18_T2starw.json:   0%|       | 0.00/2.36k [00:00<?, ?B/s]\u001b[A\u001b[A\r\n",
      "\r\n",
      "\r",
      "                                                                                \u001b[A\u001b[A\r",
      "sub-MSSM_rec-uncombined16_T2starw.nii.gz:  17%|▏| 185k/1.06M [00:00<00:01, 757kB"
     ]
    },
    {
     "name": "stdout",
     "output_type": "stream",
     "text": [
      "\r\n",
      "\r",
      "sub-MSSM_rec-uncombined17_T2starw.nii.gz:  12%| | 83.6k/721k [00:00<00:00, 702kB\u001b[A"
     ]
    },
    {
     "name": "stdout",
     "output_type": "stream",
     "text": [
      "\r\n",
      "\r\n",
      "\r",
      "sub-MSSM_rec-uncombined19_T2starw.json:   0%|       | 0.00/2.36k [00:00<?, ?B/s]\u001b[A\u001b[A\r\n",
      "\r\n",
      "\r",
      "                                                                                \u001b[A\u001b[A"
     ]
    },
    {
     "name": "stdout",
     "output_type": "stream",
     "text": [
      "\r",
      "sub-MSSM_rec-uncombined16_T2starw.nii.gz:  58%|▌| 627k/1.06M [00:00<00:00, 2.07M\r",
      "                                                                                \r"
     ]
    },
    {
     "name": "stdout",
     "output_type": "stream",
     "text": [
      "\r\n",
      "\r",
      "sub-MSSM_rec-uncombined17_T2starw.nii.gz:  42%|▍| 305k/721k [00:00<00:00, 1.30MB\u001b[A"
     ]
    },
    {
     "name": "stdout",
     "output_type": "stream",
     "text": [
      "\r",
      "sub-MSSM_rec-uncombined18_T2starw.nii.gz:   0%|      | 0.00/695k [00:00<?, ?B/s]\r\n",
      "\r",
      "                                                                                \u001b[A"
     ]
    },
    {
     "name": "stdout",
     "output_type": "stream",
     "text": [
      "\r\n",
      "\r",
      "sub-MSSM_rec-uncombined19_T2starw.nii.gz:   0%|      | 0.00/896k [00:00<?, ?B/s]\u001b[A"
     ]
    },
    {
     "name": "stdout",
     "output_type": "stream",
     "text": [
      "\r",
      "sub-MSSM_rec-uncombined18_T2starw.nii.gz:   9%| | 65.4k/695k [00:00<00:01, 479kB\r\n",
      "\r\n",
      "\r",
      "sub-MSSM_rec-uncombined20_T2starw.json:   0%|       | 0.00/2.36k [00:00<?, ?B/s]\u001b[A\u001b[A\r\n",
      "\r\n",
      "\r",
      "                                                                                \u001b[A\u001b[A"
     ]
    },
    {
     "name": "stdout",
     "output_type": "stream",
     "text": [
      "\r\n",
      "\r",
      "sub-MSSM_rec-uncombined19_T2starw.nii.gz:   9%| | 83.4k/896k [00:00<00:01, 610kB\u001b[A"
     ]
    },
    {
     "name": "stdout",
     "output_type": "stream",
     "text": [
      "\r\n",
      "\r\n",
      "\r",
      "sub-MSSM_rec-uncombined1_T2starw.nii.gz:   0%|       | 0.00/927k [00:00<?, ?B/s]\u001b[A\u001b[A\r",
      "sub-MSSM_rec-uncombined18_T2starw.nii.gz:  39%|▍| 269k/695k [00:00<00:00, 1.16MB"
     ]
    },
    {
     "name": "stdout",
     "output_type": "stream",
     "text": [
      "\r\n",
      "\r\n",
      "\r\n",
      "\r",
      "sub-MSSM_rec-uncombined1_T2starw.json:   0%|        | 0.00/2.36k [00:00<?, ?B/s]\u001b[A\u001b[A\u001b[A\r\n",
      "\r\n",
      "\r\n",
      "\r",
      "                                                                                \u001b[A\u001b[A\u001b[A"
     ]
    },
    {
     "name": "stdout",
     "output_type": "stream",
     "text": [
      "\r\n",
      "\r",
      "sub-MSSM_rec-uncombined19_T2starw.nii.gz:  26%|▎| 232k/896k [00:00<00:00, 888kB/\u001b[A\r",
      "                                                                                \r"
     ]
    },
    {
     "name": "stdout",
     "output_type": "stream",
     "text": [
      "\r\n",
      "\r\n",
      "\r",
      "sub-MSSM_rec-uncombined1_T2starw.nii.gz:   9%| | 83.6k/927k [00:00<00:01, 580kB/\u001b[A\u001b[A"
     ]
    },
    {
     "name": "stdout",
     "output_type": "stream",
     "text": [
      "\r",
      "sub-MSSM_rec-uncombined21_T2starw.json:   0%|       | 0.00/2.36k [00:00<?, ?B/s]\r",
      "                                                                                \r"
     ]
    },
    {
     "name": "stdout",
     "output_type": "stream",
     "text": [
      "\r\n",
      "\r",
      "sub-MSSM_rec-uncombined19_T2starw.nii.gz:  47%|▍| 419k/896k [00:00<00:00, 1.04MB\u001b[A\r\n",
      "\r\n",
      "\r",
      "sub-MSSM_rec-uncombined1_T2starw.nii.gz:  22%|▏| 204k/927k [00:00<00:00, 899kB/s\u001b[A\u001b[A"
     ]
    },
    {
     "name": "stdout",
     "output_type": "stream",
     "text": [
      "\r\n",
      "\r\n",
      "\r",
      "sub-MSSM_rec-uncombined1_T2starw.nii.gz:  68%|▋| 628k/927k [00:00<00:00, 2.25MB/\u001b[A\u001b[A\r\n",
      "\r\n",
      "\r",
      "                                                                                \u001b[A\u001b[A"
     ]
    },
    {
     "name": "stdout",
     "output_type": "stream",
     "text": [
      "\r",
      "sub-MSSM_rec-uncombined20_T2starw.nii.gz:   0%|      | 0.00/582k [00:00<?, ?B/s]\r\n",
      "\r",
      "sub-MSSM_rec-uncombined19_T2starw.nii.gz:  80%|▊| 719k/896k [00:00<00:00, 1.40MB\u001b[A"
     ]
    },
    {
     "name": "stdout",
     "output_type": "stream",
     "text": [
      "\r\n",
      "\r\n",
      "\r",
      "sub-MSSM_rec-uncombined21_T2starw.nii.gz:   0%|      | 0.00/831k [00:00<?, ?B/s]\u001b[A\u001b[A\r\n",
      "\r",
      "                                                                                \u001b[A"
     ]
    },
    {
     "name": "stdout",
     "output_type": "stream",
     "text": [
      "\r\n",
      "\r",
      "sub-MSSM_rec-uncombined22_T2starw.nii.gz:   0%|      | 0.00/833k [00:00<?, ?B/s]\u001b[A"
     ]
    },
    {
     "name": "stdout",
     "output_type": "stream",
     "text": [
      "\r",
      "sub-MSSM_rec-uncombined20_T2starw.nii.gz:  13%|▏| 74.4k/582k [00:00<00:00, 552kB"
     ]
    },
    {
     "name": "stdout",
     "output_type": "stream",
     "text": [
      "\r\n",
      "\r\n",
      "\r",
      "sub-MSSM_rec-uncombined21_T2starw.nii.gz:   6%| | 50.4k/831k [00:00<00:02, 390kB\u001b[A\u001b[A\r\n",
      "\r\n",
      "\r\n",
      "\r",
      "sub-MSSM_rec-uncombined22_T2starw.json:   0%|       | 0.00/2.36k [00:00<?, ?B/s]\u001b[A\u001b[A\u001b[A\r\n",
      "\r\n",
      "\r\n",
      "\r",
      "                                                                                \u001b[A\u001b[A\u001b[A"
     ]
    },
    {
     "name": "stdout",
     "output_type": "stream",
     "text": [
      "\r\n",
      "\r",
      "sub-MSSM_rec-uncombined22_T2starw.nii.gz:  10%| | 83.6k/833k [00:00<00:01, 624kB\u001b[A\r",
      "sub-MSSM_rec-uncombined20_T2starw.nii.gz:  51%|▌| 295k/582k [00:00<00:00, 1.17MB"
     ]
    },
    {
     "name": "stdout",
     "output_type": "stream",
     "text": [
      "\r\n",
      "\r\n",
      "\r",
      "sub-MSSM_rec-uncombined21_T2starw.nii.gz:  14%|▏| 114k/831k [00:00<00:01, 446kB/\u001b[A\u001b[A"
     ]
    },
    {
     "name": "stdout",
     "output_type": "stream",
     "text": [
      "\r",
      "                                                                                \r"
     ]
    },
    {
     "name": "stdout",
     "output_type": "stream",
     "text": [
      "\r\n",
      "\r",
      "sub-MSSM_rec-uncombined22_T2starw.nii.gz:  43%|▍| 356k/833k [00:00<00:00, 1.52MB\u001b[A\r",
      "sub-MSSM_rec-uncombined2_T2starw.nii.gz:   0%|       | 0.00/871k [00:00<?, ?B/s]"
     ]
    },
    {
     "name": "stdout",
     "output_type": "stream",
     "text": [
      "\r\n",
      "\r",
      "                                                                                \u001b[A"
     ]
    },
    {
     "name": "stdout",
     "output_type": "stream",
     "text": [
      "\r\n",
      "\r\n",
      "\r",
      "sub-MSSM_rec-uncombined21_T2starw.nii.gz:  22%|▏| 184k/831k [00:00<00:01, 448kB/\u001b[A\u001b[A\r\n",
      "\r",
      "sub-MSSM_rec-uncombined2_T2starw.json:   0%|        | 0.00/2.36k [00:00<?, ?B/s]\u001b[A\r\n",
      "\r",
      "                                                                                \u001b[A"
     ]
    },
    {
     "name": "stdout",
     "output_type": "stream",
     "text": [
      "\r",
      "sub-MSSM_rec-uncombined2_T2starw.nii.gz:   9%| | 81.4k/871k [00:00<00:01, 552kB/"
     ]
    },
    {
     "name": "stdout",
     "output_type": "stream",
     "text": [
      "\r\n",
      "\r\n",
      "\r",
      "sub-MSSM_rec-uncombined21_T2starw.nii.gz:  31%|▎| 254k/831k [00:00<00:01, 522kB/\u001b[A\u001b[A"
     ]
    },
    {
     "name": "stdout",
     "output_type": "stream",
     "text": [
      "\r\n",
      "\r",
      "sub-MSSM_rec-uncombined3_T2starw.json:   0%|        | 0.00/2.36k [00:00<?, ?B/s]\u001b[A\r\n",
      "\r",
      "                                                                                \u001b[A\r",
      "sub-MSSM_rec-uncombined2_T2starw.nii.gz:  35%|▎| 302k/871k [00:00<00:00, 1.19MB/"
     ]
    },
    {
     "name": "stdout",
     "output_type": "stream",
     "text": [
      "\r\n",
      "\r\n",
      "\r",
      "sub-MSSM_rec-uncombined21_T2starw.nii.gz:  40%|▍| 332k/831k [00:00<00:00, 514kB/\u001b[A\u001b[A\r",
      "                                                                                \r"
     ]
    },
    {
     "name": "stdout",
     "output_type": "stream",
     "text": [
      "\r",
      "sub-MSSM_rec-uncombined4_T2starw.json:   0%|        | 0.00/2.36k [00:00<?, ?B/s]\r",
      "                                                                                \r",
      "\r",
      "sub-MSSM_rec-uncombined3_T2starw.nii.gz:   0%|       | 0.00/901k [00:00<?, ?B/s]"
     ]
    },
    {
     "name": "stdout",
     "output_type": "stream",
     "text": [
      "\r\n",
      "\r\n",
      "\r",
      "sub-MSSM_rec-uncombined21_T2starw.nii.gz:  50%|▌| 417k/831k [00:00<00:00, 552kB/\u001b[A\u001b[A"
     ]
    },
    {
     "name": "stdout",
     "output_type": "stream",
     "text": [
      "\r\n",
      "\r",
      "sub-MSSM_rec-uncombined4_T2starw.nii.gz:   0%|       | 0.00/891k [00:00<?, ?B/s]\u001b[A\r",
      "sub-MSSM_rec-uncombined3_T2starw.nii.gz:   9%| | 82.4k/901k [00:00<00:01, 736kB/"
     ]
    },
    {
     "name": "stdout",
     "output_type": "stream",
     "text": [
      "\r\n",
      "\r\n",
      "\r",
      "sub-MSSM_rec-uncombined21_T2starw.nii.gz:  62%|▌| 519k/831k [00:00<00:00, 625kB/\u001b[A\u001b[A\r\n",
      "\r\n",
      "\r\n",
      "\r",
      "sub-MSSM_rec-uncombined5_T2starw.json:   0%|        | 0.00/2.36k [00:00<?, ?B/s]\u001b[A\u001b[A\u001b[A\r\n",
      "\r\n",
      "\r\n",
      "\r",
      "                                                                                \u001b[A\u001b[A\u001b[A"
     ]
    },
    {
     "name": "stdout",
     "output_type": "stream",
     "text": [
      "\r\n",
      "\r",
      "sub-MSSM_rec-uncombined4_T2starw.nii.gz:   6%| | 52.2k/891k [00:00<00:02, 403kB/\u001b[A\r",
      "sub-MSSM_rec-uncombined3_T2starw.nii.gz:  34%|▎| 303k/901k [00:00<00:00, 1.30MB/"
     ]
    },
    {
     "name": "stdout",
     "output_type": "stream",
     "text": [
      "\r\n",
      "\r\n",
      "\r\n",
      "\r",
      "sub-MSSM_rec-uncombined5_T2starw.nii.gz:   0%|       | 0.00/980k [00:00<?, ?B/s]\u001b[A\u001b[A\u001b[A"
     ]
    },
    {
     "name": "stdout",
     "output_type": "stream",
     "text": [
      "\r\n",
      "\r\n",
      "\r",
      "sub-MSSM_rec-uncombined21_T2starw.nii.gz:  75%|▋| 621k/831k [00:01<00:00, 673kB/\u001b[A\u001b[A\r",
      "                                                                                \r"
     ]
    },
    {
     "name": "stdout",
     "output_type": "stream",
     "text": [
      "\r\n",
      "\r",
      "sub-MSSM_rec-uncombined4_T2starw.nii.gz:  13%|▏| 114k/891k [00:00<00:01, 444kB/s\u001b[A"
     ]
    },
    {
     "name": "stdout",
     "output_type": "stream",
     "text": [
      "\r\n",
      "\r\n",
      "\r\n",
      "\r",
      "sub-MSSM_rec-uncombined5_T2starw.nii.gz:   9%| | 85.2k/980k [00:00<00:01, 661kB/\u001b[A\u001b[A\u001b[A\r\n",
      "\r\n",
      "\r",
      "sub-MSSM_rec-uncombined21_T2starw.nii.gz:  89%|▉| 740k/831k [00:01<00:00, 748kB/\u001b[A\u001b[A"
     ]
    },
    {
     "name": "stdout",
     "output_type": "stream",
     "text": [
      "\r\n",
      "\r",
      "sub-MSSM_rec-uncombined4_T2starw.nii.gz:  21%|▏| 184k/891k [00:00<00:01, 488kB/s\u001b[A"
     ]
    },
    {
     "name": "stdout",
     "output_type": "stream",
     "text": [
      "\r\n",
      "\r\n",
      "\r",
      "                                                                                \u001b[A\u001b[A\r",
      "sub-MSSM_rec-uncombined6_T2starw.nii.gz:   0%|      | 0.00/0.98M [00:00<?, ?B/s]\r\n",
      "\r\n",
      "\r\n",
      "\r",
      "sub-MSSM_rec-uncombined5_T2starw.nii.gz:  31%|▎| 306k/980k [00:00<00:00, 1.27MB/\u001b[A\u001b[A\u001b[A"
     ]
    },
    {
     "name": "stdout",
     "output_type": "stream",
     "text": [
      "\r\n",
      "\r\n",
      "\r",
      "sub-MSSM_rec-uncombined6_T2starw.json:   0%|        | 0.00/2.36k [00:00<?, ?B/s]\u001b[A\u001b[A\r\n",
      "\r\n",
      "\r",
      "                                                                                \u001b[A\u001b[A"
     ]
    },
    {
     "name": "stdout",
     "output_type": "stream",
     "text": [
      "\r\n",
      "\r",
      "sub-MSSM_rec-uncombined4_T2starw.nii.gz:  29%|▎| 254k/891k [00:00<00:01, 508kB/s\u001b[A\r\n",
      "\r\n",
      "\r\n",
      "\r",
      "                                                                                \u001b[A\u001b[A\u001b[A"
     ]
    },
    {
     "name": "stdout",
     "output_type": "stream",
     "text": [
      "\r",
      "sub-MSSM_rec-uncombined6_T2starw.nii.gz:   8%| | 83.4k/0.98M [00:00<00:01, 682kB"
     ]
    },
    {
     "name": "stdout",
     "output_type": "stream",
     "text": [
      "\r\n",
      "\r",
      "sub-MSSM_rec-uncombined4_T2starw.nii.gz:  37%|▎| 332k/891k [00:00<00:01, 539kB/s\u001b[A\r\n",
      "\r\n",
      "\r",
      "sub-MSSM_rec-uncombined7_T2starw.json:   0%|        | 0.00/2.36k [00:00<?, ?B/s]\u001b[A\u001b[A\r\n",
      "\r\n",
      "\r",
      "                                                                                \u001b[A\u001b[A"
     ]
    },
    {
     "name": "stdout",
     "output_type": "stream",
     "text": [
      "\r",
      "sub-MSSM_rec-uncombined6_T2starw.nii.gz:  30%|▎| 304k/0.98M [00:00<00:00, 1.13MB"
     ]
    },
    {
     "name": "stdout",
     "output_type": "stream",
     "text": [
      "\r\n",
      "\r",
      "sub-MSSM_rec-uncombined4_T2starw.nii.gz:  47%|▍| 418k/891k [00:00<00:00, 565kB/s\u001b[A"
     ]
    },
    {
     "name": "stdout",
     "output_type": "stream",
     "text": [
      "\r",
      "                                                                                \r",
      "\r",
      "sub-MSSM_rec-uncombined8_T2starw.json:   0%|        | 0.00/2.36k [00:00<?, ?B/s]\r",
      "                                                                                \r"
     ]
    },
    {
     "name": "stdout",
     "output_type": "stream",
     "text": [
      "\r",
      "sub-MSSM_rec-uncombined7_T2starw.nii.gz:   0%|       | 0.00/756k [00:00<?, ?B/s]"
     ]
    },
    {
     "name": "stdout",
     "output_type": "stream",
     "text": [
      "\r\n",
      "\r",
      "sub-MSSM_rec-uncombined4_T2starw.nii.gz:  58%|▌| 520k/891k [00:00<00:00, 627kB/s\u001b[A"
     ]
    },
    {
     "name": "stdout",
     "output_type": "stream",
     "text": [
      "\r\n",
      "\r\n",
      "\r",
      "sub-MSSM_rec-uncombined9_T2starw.json:   0%|        | 0.00/2.36k [00:00<?, ?B/s]\u001b[A\u001b[A\r\n",
      "\r\n",
      "\r",
      "                                                                                \u001b[A\u001b[A"
     ]
    },
    {
     "name": "stdout",
     "output_type": "stream",
     "text": [
      "\r",
      "sub-MSSM_rec-uncombined7_T2starw.nii.gz:  11%| | 83.5k/756k [00:00<00:01, 540kB/"
     ]
    },
    {
     "name": "stdout",
     "output_type": "stream",
     "text": [
      "\r\n",
      "\r",
      "sub-MSSM_rec-uncombined4_T2starw.nii.gz:  70%|▋| 622k/891k [00:01<00:00, 642kB/s\u001b[A"
     ]
    },
    {
     "name": "stdout",
     "output_type": "stream",
     "text": [
      "\r\n",
      "\r\n",
      "\r",
      "sub-MSSM_acq-coilQaSagLarge_SNR.json:   0%|         | 0.00/2.10k [00:00<?, ?B/s]\u001b[A\u001b[A\r\n",
      "\r\n",
      "\r",
      "                                                                                \u001b[A\u001b[A\r",
      "sub-MSSM_rec-uncombined7_T2starw.nii.gz:  24%|▏| 179k/756k [00:00<00:00, 675kB/s\r\n",
      "\r\n",
      "\r",
      "sub-MSSM_rec-uncombined8_T2starw.nii.gz:   0%|       | 0.00/858k [00:00<?, ?B/s]\u001b[A\u001b[A"
     ]
    },
    {
     "name": "stdout",
     "output_type": "stream",
     "text": [
      "\r\n",
      "\r",
      "sub-MSSM_rec-uncombined4_T2starw.nii.gz:  83%|▊| 741k/891k [00:01<00:00, 722kB/s\u001b[A"
     ]
    },
    {
     "name": "stdout",
     "output_type": "stream",
     "text": [
      "\r\n",
      "\r\n",
      "\r",
      "sub-MSSM_rec-uncombined8_T2starw.nii.gz:  10%| | 83.6k/858k [00:00<00:01, 685kB/\u001b[A\u001b[A\r",
      "sub-MSSM_rec-uncombined7_T2starw.nii.gz:  41%|▍| 311k/756k [00:00<00:00, 782kB/s"
     ]
    },
    {
     "name": "stdout",
     "output_type": "stream",
     "text": [
      "\r\n",
      "\r\n",
      "\r\n",
      "\r",
      "sub-MSSM_rec-uncombined9_T2starw.nii.gz:   0%|       | 0.00/949k [00:00<?, ?B/s]\u001b[A\u001b[A\u001b[A\r\n",
      "\r",
      "sub-MSSM_rec-uncombined4_T2starw.nii.gz:  98%|▉| 877k/891k [00:01<00:00, 813kB/s\u001b[A\r\n",
      "\r",
      "                                                                                \u001b[A"
     ]
    },
    {
     "name": "stdout",
     "output_type": "stream",
     "text": [
      "\r\n",
      "\r",
      "sub-MSSM_acq-coilQaSagSmall_GFactor.json:   0%|     | 0.00/2.14k [00:00<?, ?B/s]\u001b[A\r\n",
      "\r",
      "                                                                                \u001b[A"
     ]
    },
    {
     "name": "stdout",
     "output_type": "stream",
     "text": [
      "\r",
      "sub-MSSM_rec-uncombined7_T2starw.nii.gz:  52%|▌| 396k/756k [00:00<00:00, 746kB/s\r\n",
      "\r\n",
      "\r\n",
      "\r",
      "sub-MSSM_rec-uncombined9_T2starw.nii.gz:   6%| | 57.4k/949k [00:00<00:01, 528kB/\u001b[A\u001b[A\u001b[A\r\n",
      "\r\n",
      "\r",
      "sub-MSSM_rec-uncombined8_T2starw.nii.gz:  35%|▎| 305k/858k [00:00<00:00, 1.19MB/\u001b[A\u001b[A"
     ]
    },
    {
     "name": "stdout",
     "output_type": "stream",
     "text": [
      "\r\n",
      "\r\n",
      "\r",
      "                                                                                \u001b[A\u001b[A"
     ]
    },
    {
     "name": "stdout",
     "output_type": "stream",
     "text": [
      "\r\n",
      "\r\n",
      "\r\n",
      "\r",
      "sub-MSSM_rec-uncombined9_T2starw.nii.gz:  15%|▏| 142k/949k [00:00<00:01, 718kB/s\u001b[A\u001b[A\u001b[A\r",
      "sub-MSSM_rec-uncombined7_T2starw.nii.gz:  68%|▋| 515k/756k [00:00<00:00, 864kB/s"
     ]
    },
    {
     "name": "stdout",
     "output_type": "stream",
     "text": [
      "\r\n",
      "\r\n",
      "\r\n",
      "\r",
      "sub-MSSM_rec-uncombined9_T2starw.nii.gz:  65%|▋| 619k/949k [00:00<00:00, 2.17MB/\u001b[A\u001b[A\u001b[A"
     ]
    },
    {
     "name": "stdout",
     "output_type": "stream",
     "text": [
      "\r",
      "sub-MSSM_rec-uncombined7_T2starw.nii.gz:  86%|▊| 651k/756k [00:00<00:00, 905kB/s\r\n",
      "\r\n",
      "\r\n",
      "\r",
      "                                                                                \u001b[A\u001b[A\u001b[A\r\n",
      "\r",
      "sub-MSSM_acq-coilQaSagLarge_SNR.nii.gz:   0%|       | 0.00/3.94M [00:00<?, ?B/s]\u001b[A"
     ]
    },
    {
     "name": "stdout",
     "output_type": "stream",
     "text": [
      "\r",
      "                                                                                \r"
     ]
    },
    {
     "name": "stdout",
     "output_type": "stream",
     "text": [
      "\r",
      "sub-MSSM_acq-coilQaTra_GFactor.nii.gz:   0%|        | 0.00/16.8M [00:00<?, ?B/s]\r\n",
      "\r\n",
      "\r",
      "sub-MSSM_acq-coilQaTra_GFactor.json:   0%|          | 0.00/2.05k [00:00<?, ?B/s]\u001b[A\u001b[A\r\n",
      "\r\n",
      "\r",
      "                                                                                \u001b[A\u001b[A"
     ]
    },
    {
     "name": "stdout",
     "output_type": "stream",
     "text": [
      "\r\n",
      "\r",
      "sub-MSSM_acq-coilQaSagLarge_SNR.nii.gz:   2%| | 83.6k/3.94M [00:00<00:05, 683kB/\u001b[A"
     ]
    },
    {
     "name": "stdout",
     "output_type": "stream",
     "text": [
      "\r",
      "sub-MSSM_acq-coilQaTra_GFactor.nii.gz:   0%| | 83.6k/16.8M [00:00<00:24, 724kB/s"
     ]
    },
    {
     "name": "stdout",
     "output_type": "stream",
     "text": [
      "\r\n",
      "\r",
      "sub-MSSM_acq-coilQaSagLarge_SNR.nii.gz:   8%| | 305k/3.94M [00:00<00:02, 1.30MB/\u001b[A"
     ]
    },
    {
     "name": "stdout",
     "output_type": "stream",
     "text": [
      "\r\n",
      "\r\n",
      "\r",
      "sub-MSSM_acq-coilQaSagSmall_GFactor.nii.gz:   0%|   | 0.00/4.19M [00:00<?, ?B/s]\u001b[A\u001b[A\r",
      "sub-MSSM_acq-coilQaTra_GFactor.nii.gz:   2%| | 305k/16.8M [00:00<00:13, 1.28MB/s"
     ]
    },
    {
     "name": "stdout",
     "output_type": "stream",
     "text": [
      "\r\n",
      "\r\n",
      "\r\n",
      "\r",
      "sub-MSSM_acq-famp-0.66_TB1DREAM.nii.gz:   0%|       | 0.00/89.1k [00:00<?, ?B/s]\u001b[A\u001b[A\u001b[A\r\n",
      "\r\n",
      "\r\n",
      "\r\n",
      "\r",
      "sub-MSSM_acq-famp-0.66_TB1DREAM.json:   0%|         | 0.00/2.10k [00:00<?, ?B/s]\u001b[A\u001b[A\u001b[A\u001b[A\r\n",
      "\r",
      "sub-MSSM_acq-coilQaSagLarge_SNR.nii.gz:  31%|▎| 1.23M/3.94M [00:00<00:00, 4.00MB\u001b[A\r\n",
      "\r\n",
      "\r\n",
      "\r\n",
      "\r",
      "                                                                                \u001b[A\u001b[A\u001b[A\u001b[A"
     ]
    },
    {
     "name": "stdout",
     "output_type": "stream",
     "text": [
      "\r\n",
      "\r\n",
      "\r",
      "sub-MSSM_acq-coilQaSagSmall_GFactor.nii.gz:   2%| | 66.6k/4.19M [00:00<00:07, 60\u001b[A\u001b[A\r",
      "sub-MSSM_acq-coilQaTra_GFactor.nii.gz:   4%| | 662k/16.8M [00:00<00:07, 2.16MB/s"
     ]
    },
    {
     "name": "stdout",
     "output_type": "stream",
     "text": [
      "\r\n",
      "\r",
      "sub-MSSM_acq-coilQaSagLarge_SNR.nii.gz:  57%|▌| 2.24M/3.94M [00:00<00:00, 6.17MB\u001b[A"
     ]
    },
    {
     "name": "stdout",
     "output_type": "stream",
     "text": [
      "\r\n",
      "\r\n",
      "\r\n",
      "\r",
      "sub-MSSM_acq-famp-0.66_TB1DREAM.nii.gz:  88%|▉| 78.5k/89.1k [00:00<00:00, 603kB/\u001b[A\u001b[A\u001b[A\r\n",
      "\r\n",
      "\r\n",
      "\r",
      "                                                                                \u001b[A\u001b[A\u001b[A\r",
      "sub-MSSM_acq-coilQaTra_GFactor.nii.gz:  12%| | 2.06M/16.8M [00:00<00:02, 6.14MB/\r\n",
      "\r\n",
      "\r",
      "sub-MSSM_acq-coilQaSagSmall_GFactor.nii.gz:   3%| | 135k/4.19M [00:00<00:07, 580\u001b[A\u001b[A"
     ]
    },
    {
     "name": "stdout",
     "output_type": "stream",
     "text": [
      "\r\n",
      "\r",
      "sub-MSSM_acq-coilQaSagLarge_SNR.nii.gz:  91%|▉| 3.59M/3.94M [00:00<00:00, 8.70MB\u001b[A"
     ]
    },
    {
     "name": "stdout",
     "output_type": "stream",
     "text": [
      "\r\n",
      "\r",
      "                                                                                \u001b[A\r",
      "sub-MSSM_acq-coilQaTra_GFactor.nii.gz:  21%|▏| 3.57M/16.8M [00:00<00:01, 9.24MB/\r\n",
      "\r\n",
      "\r",
      "sub-MSSM_acq-coilQaSagSmall_GFactor.nii.gz:  13%|▏| 544k/4.19M [00:00<00:01, 2.0\u001b[A\u001b[A"
     ]
    },
    {
     "name": "stdout",
     "output_type": "stream",
     "text": [
      "\r\n",
      "\r",
      "sub-MSSM_acq-famp_TB1DREAM.json:   0%|              | 0.00/2.10k [00:00<?, ?B/s]\u001b[A\r\n",
      "\r",
      "                                                                                \u001b[A"
     ]
    },
    {
     "name": "stdout",
     "output_type": "stream",
     "text": [
      "\r",
      "sub-MSSM_acq-coilQaTra_GFactor.nii.gz:  34%|▎| 5.71M/16.8M [00:00<00:00, 13.4MB/\r\n",
      "\r\n",
      "\r",
      "sub-MSSM_acq-coilQaSagSmall_GFactor.nii.gz:  33%|▎| 1.38M/4.19M [00:00<00:00, 4.\u001b[A\u001b[A"
     ]
    },
    {
     "name": "stdout",
     "output_type": "stream",
     "text": [
      "\r\n",
      "\r",
      "sub-MSSM_acq-famp-1.5_TB1DREAM.nii.gz:   0%|        | 0.00/89.9k [00:00<?, ?B/s]\u001b[A\r",
      "sub-MSSM_acq-coilQaTra_GFactor.nii.gz:  50%|▌| 8.45M/16.8M [00:00<00:00, 18.1MB/\r\n",
      "\r\n",
      "\r",
      "sub-MSSM_acq-coilQaSagSmall_GFactor.nii.gz:  85%|▊| 3.57M/4.19M [00:00<00:00, 10\u001b[A\u001b[A"
     ]
    },
    {
     "name": "stdout",
     "output_type": "stream",
     "text": [
      "\r\n",
      "\r\n",
      "\r",
      "                                                                                \u001b[A\u001b[A\r\n",
      "\r\n",
      "\r",
      "sub-MSSM_acq-famp-1.5_TB1DREAM.json:   0%|          | 0.00/2.10k [00:00<?, ?B/s]\u001b[A\u001b[A\r\n",
      "\r\n",
      "\r",
      "                                                                                \u001b[A\u001b[A"
     ]
    },
    {
     "name": "stdout",
     "output_type": "stream",
     "text": [
      "\r\n",
      "\r",
      "sub-MSSM_acq-famp-1.5_TB1DREAM.nii.gz:  74%|▋| 66.6k/89.9k [00:00<00:00, 649kB/s\u001b[A\r",
      "sub-MSSM_acq-coilQaTra_GFactor.nii.gz:  61%|▌| 10.2M/16.8M [00:00<00:00, 17.6MB/"
     ]
    },
    {
     "name": "stdout",
     "output_type": "stream",
     "text": [
      "\r\n",
      "\r",
      "                                                                                \u001b[A"
     ]
    },
    {
     "name": "stdout",
     "output_type": "stream",
     "text": [
      "\r\n",
      "\r",
      "sub-MSSM_acq-famp_TB1DREAM.nii.gz:   0%|            | 0.00/89.8k [00:00<?, ?B/s]\u001b[A\r",
      "sub-MSSM_acq-coilQaTra_GFactor.nii.gz:  82%|▊| 13.8M/16.8M [00:00<00:00, 23.6MB/"
     ]
    },
    {
     "name": "stdout",
     "output_type": "stream",
     "text": [
      "\r",
      "                                                                                \r",
      "\r\n",
      "\r",
      "sub-MSSM_acq-famp_TB1DREAM.nii.gz:  83%|███▎| 74.4k/89.8k [00:00<00:00, 507kB/s]\u001b[A"
     ]
    },
    {
     "name": "stdout",
     "output_type": "stream",
     "text": [
      "\r\n",
      "\r",
      "                                                                                \u001b[A\r",
      "sub-MSSM_acq-refv-0.66_TB1DREAM.json:   0%|         | 0.00/2.12k [00:00<?, ?B/s]\r",
      "                                                                                \r"
     ]
    },
    {
     "name": "stdout",
     "output_type": "stream",
     "text": [
      "\r",
      "sub-MSSM_acq-famp_TB1TFL.json:   0%|                | 0.00/2.50k [00:00<?, ?B/s]\r",
      "                                                                                \r"
     ]
    },
    {
     "name": "stdout",
     "output_type": "stream",
     "text": [
      "\r",
      "sub-MSSM_acq-refv-0.66_TB1DREAM.nii.gz:   0%|       | 0.00/87.2k [00:00<?, ?B/s]"
     ]
    },
    {
     "name": "stdout",
     "output_type": "stream",
     "text": [
      "\r\n",
      "\r",
      "sub-MSSM_acq-refv-1.5_TB1DREAM.nii.gz:   0%|        | 0.00/90.7k [00:00<?, ?B/s]\u001b[A\r",
      "sub-MSSM_acq-refv-0.66_TB1DREAM.nii.gz:  96%|▉| 83.4k/87.2k [00:00<00:00, 611kB/\r",
      "                                                                                \r"
     ]
    },
    {
     "name": "stdout",
     "output_type": "stream",
     "text": [
      "\r",
      "sub-MSSM_acq-famp_TB1TFL.nii.gz:   0%|               | 0.00/809k [00:00<?, ?B/s]\r\n",
      "\r\n",
      "\r",
      "sub-MSSM_acq-refv-1.5_TB1DREAM.json:   0%|          | 0.00/2.12k [00:00<?, ?B/s]\u001b[A\u001b[A\r\n",
      "\r\n",
      "\r",
      "                                                                                \u001b[A\u001b[A\r\n",
      "\r\n",
      "\r",
      "sub-NTNU_T2starw.json:   0%|                        | 0.00/2.47k [00:00<?, ?B/s]\u001b[A\u001b[A\r\n",
      "\r\n",
      "\r",
      "                                                                                \u001b[A\u001b[A"
     ]
    },
    {
     "name": "stdout",
     "output_type": "stream",
     "text": [
      "\r\n",
      "\r",
      "sub-MSSM_acq-refv-1.5_TB1DREAM.nii.gz:  36%|▎| 32.6k/90.7k [00:00<00:00, 287kB/s\u001b[A"
     ]
    },
    {
     "name": "stdout",
     "output_type": "stream",
     "text": [
      "\r\n",
      "\r",
      "                                                                                \u001b[A"
     ]
    },
    {
     "name": "stdout",
     "output_type": "stream",
     "text": [
      "\r",
      "sub-MSSM_acq-famp_TB1TFL.nii.gz:  10%|▋      | 83.6k/809k [00:00<00:01, 610kB/s]"
     ]
    },
    {
     "name": "stdout",
     "output_type": "stream",
     "text": [
      "\r\n",
      "\r",
      "sub-MSSM_acq-refv_TB1DREAM.json:   0%|              | 0.00/2.12k [00:00<?, ?B/s]\u001b[A\r\n",
      "\r",
      "                                                                                \u001b[A"
     ]
    },
    {
     "name": "stdout",
     "output_type": "stream",
     "text": [
      "\r",
      "sub-MSSM_acq-famp_TB1TFL.nii.gz:  38%|██▋    | 305k/809k [00:00<00:00, 1.10MB/s]\r\n",
      "\r",
      "sub-MSSM_acq-refv_TB1DREAM.nii.gz:   0%|            | 0.00/89.8k [00:00<?, ?B/s]\u001b[A"
     ]
    },
    {
     "name": "stdout",
     "output_type": "stream",
     "text": [
      "\r",
      "                                                                                \r",
      "\r",
      "sub-NTNU_T2starw.nii.gz:   0%|                      | 0.00/1.18M [00:00<?, ?B/s]"
     ]
    },
    {
     "name": "stdout",
     "output_type": "stream",
     "text": [
      "\r\n",
      "\r\n",
      "\r",
      "sub-NTNU_rec-uncombined01_T2starw.json:   0%|       | 0.00/2.49k [00:00<?, ?B/s]\u001b[A\u001b[A\r\n",
      "\r\n",
      "\r",
      "                                                                                \u001b[A\u001b[A\r\n",
      "\r",
      "sub-MSSM_acq-refv_TB1DREAM.nii.gz:  93%|███▋| 83.6k/89.8k [00:00<00:00, 555kB/s]\u001b[A\r",
      "sub-NTNU_T2starw.nii.gz:   6%|▊             | 74.4k/1.18M [00:00<00:01, 710kB/s]"
     ]
    },
    {
     "name": "stdout",
     "output_type": "stream",
     "text": [
      "\r\n",
      "\r",
      "                                                                                \u001b[A"
     ]
    },
    {
     "name": "stdout",
     "output_type": "stream",
     "text": [
      "\r\n",
      "\r",
      "sub-NTNU_rec-uncombined01_T2starw.nii.gz:   0%|      | 0.00/981k [00:00<?, ?B/s]\u001b[A\r",
      "sub-NTNU_T2starw.nii.gz:  25%|███▍          | 295k/1.18M [00:00<00:00, 1.38MB/s]"
     ]
    },
    {
     "name": "stdout",
     "output_type": "stream",
     "text": [
      "\r\n",
      "\r\n",
      "\r",
      "sub-NTNU_rec-uncombined02_T2starw.nii.gz:   0%|      | 0.00/939k [00:00<?, ?B/s]\u001b[A\u001b[A"
     ]
    },
    {
     "name": "stdout",
     "output_type": "stream",
     "text": [
      "\r",
      "                                                                                \r"
     ]
    },
    {
     "name": "stdout",
     "output_type": "stream",
     "text": [
      "\r\n",
      "\r",
      "sub-NTNU_rec-uncombined01_T2starw.nii.gz:   9%| | 87.4k/981k [00:00<00:01, 632kB\u001b[A\r",
      "sub-NTNU_rec-uncombined02_T2starw.json:   0%|       | 0.00/2.49k [00:00<?, ?B/s]\r",
      "                                                                                \r"
     ]
    },
    {
     "name": "stdout",
     "output_type": "stream",
     "text": [
      "\r\n",
      "\r\n",
      "\r",
      "sub-NTNU_rec-uncombined02_T2starw.nii.gz:   9%| | 83.4k/939k [00:00<00:01, 652kB\u001b[A\u001b[A\r",
      "sub-NTNU_rec-uncombined03_T2starw.nii.gz:   0%|      | 0.00/988k [00:00<?, ?B/s]"
     ]
    },
    {
     "name": "stdout",
     "output_type": "stream",
     "text": [
      "\r\n",
      "\r",
      "sub-NTNU_rec-uncombined01_T2starw.nii.gz:  31%|▎| 308k/981k [00:00<00:00, 1.20MB\u001b[A"
     ]
    },
    {
     "name": "stdout",
     "output_type": "stream",
     "text": [
      "\r\n",
      "\r\n",
      "\r",
      "sub-NTNU_rec-uncombined02_T2starw.nii.gz:  32%|▎| 304k/939k [00:00<00:00, 1.28MB\u001b[A\u001b[A\r",
      "sub-NTNU_rec-uncombined03_T2starw.nii.gz:   8%| | 75.8k/988k [00:00<00:01, 548kB\r\n",
      "\r",
      "                                                                                \u001b[A"
     ]
    },
    {
     "name": "stdout",
     "output_type": "stream",
     "text": [
      "\r\n",
      "\r",
      "sub-NTNU_rec-uncombined03_T2starw.json:   0%|       | 0.00/2.49k [00:00<?, ?B/s]\u001b[A\r\n",
      "\r",
      "                                                                                \u001b[A\r\n",
      "\r",
      "sub-NTNU_rec-uncombined04_T2starw.json:   0%|       | 0.00/2.49k [00:00<?, ?B/s]\u001b[A\r\n",
      "\r\n"
     ]
    },
    {
     "name": "stdout",
     "output_type": "stream",
     "text": [
      "\r",
      "sub-NTNU_rec-uncombined02_T2starw.nii.gz:  83%|▊| 780k/939k [00:00<00:00, 2.66MB\u001b[A\u001b[A\r\n",
      "\r",
      "                                                                                \u001b[A\r",
      "sub-NTNU_rec-uncombined03_T2starw.nii.gz:  25%|▏| 247k/988k [00:00<00:00, 1.10MB\r\n",
      "\r\n",
      "\r",
      "                                                                                \u001b[A\u001b[A"
     ]
    },
    {
     "name": "stdout",
     "output_type": "stream",
     "text": [
      "\r",
      "sub-NTNU_rec-uncombined03_T2starw.nii.gz:  63%|▋| 621k/988k [00:00<00:00, 2.18MB\r",
      "                                                                                \r"
     ]
    },
    {
     "name": "stdout",
     "output_type": "stream",
     "text": [
      "\r",
      "sub-NTNU_rec-uncombined04_T2starw.nii.gz:   0%|      | 0.00/975k [00:00<?, ?B/s]"
     ]
    },
    {
     "name": "stdout",
     "output_type": "stream",
     "text": [
      "\r\n",
      "\r",
      "sub-NTNU_rec-uncombined05_T2starw.json:   0%|       | 0.00/2.49k [00:00<?, ?B/s]\u001b[A\r\n",
      "\r",
      "                                                                                \u001b[A"
     ]
    },
    {
     "name": "stdout",
     "output_type": "stream",
     "text": [
      "\r\n",
      "\r",
      "sub-NTNU_rec-uncombined05_T2starw.nii.gz:   0%|      | 0.00/968k [00:00<?, ?B/s]\u001b[A"
     ]
    },
    {
     "name": "stdout",
     "output_type": "stream",
     "text": [
      "\r\n",
      "\r\n",
      "\r",
      "sub-NTNU_rec-uncombined06_T2starw.json:   0%|       | 0.00/2.49k [00:00<?, ?B/s]\u001b[A\u001b[A\r\n",
      "\r\n",
      "\r",
      "                                                                                \u001b[A\u001b[A"
     ]
    },
    {
     "name": "stdout",
     "output_type": "stream",
     "text": [
      "\r\n",
      "\r",
      "sub-NTNU_rec-uncombined05_T2starw.nii.gz:   8%| | 82.0k/968k [00:00<00:01, 630kB\u001b[A\r\n",
      "\r\n",
      "\r",
      "sub-NTNU_rec-uncombined06_T2starw.nii.gz:   0%|      | 0.00/961k [00:00<?, ?B/s]\u001b[A\u001b[A"
     ]
    },
    {
     "name": "stdout",
     "output_type": "stream",
     "text": [
      "\r\n",
      "\r\n",
      "\r\n",
      "\r",
      "sub-NTNU_rec-uncombined07_T2starw.json:   0%|       | 0.00/2.49k [00:00<?, ?B/s]\u001b[A\u001b[A\u001b[A\r\n",
      "\r",
      "sub-NTNU_rec-uncombined05_T2starw.nii.gz:  31%|▎| 303k/968k [00:00<00:00, 1.25MB\u001b[A\r\n",
      "\r\n",
      "\r\n",
      "\r",
      "                                                                                \u001b[A\u001b[A\u001b[A"
     ]
    },
    {
     "name": "stdout",
     "output_type": "stream",
     "text": [
      "\r\n",
      "\r\n",
      "\r",
      "sub-NTNU_rec-uncombined06_T2starw.nii.gz:   9%| | 82.4k/961k [00:00<00:01, 531kB\u001b[A\u001b[A"
     ]
    },
    {
     "name": "stdout",
     "output_type": "stream",
     "text": [
      "\r",
      "sub-NTNU_rec-uncombined04_T2starw.nii.gz:   3%| | 32.6k/975k [00:00<00:13, 73.3k\r\n",
      "\r",
      "sub-NTNU_rec-uncombined05_T2starw.nii.gz:  96%|▉| 933k/968k [00:00<00:00, 3.25MB\u001b[A\r\n",
      "\r",
      "                                                                                \u001b[A"
     ]
    },
    {
     "name": "stdout",
     "output_type": "stream",
     "text": [
      "\r\n",
      "\r",
      "sub-NTNU_rec-uncombined07_T2starw.nii.gz:   0%|     | 0.00/0.99M [00:00<?, ?B/s]\u001b[A\r\n",
      "\r\n",
      "\r",
      "sub-NTNU_rec-uncombined06_T2starw.nii.gz:  32%|▎| 303k/961k [00:00<00:00, 1.32MB\u001b[A\u001b[A"
     ]
    },
    {
     "name": "stdout",
     "output_type": "stream",
     "text": [
      "\r",
      "sub-NTNU_rec-uncombined04_T2starw.nii.gz:   5%| | 50.6k/975k [00:00<00:10, 92.8k\r\n",
      "\r\n",
      "\r",
      "                                                                                \u001b[A\u001b[A"
     ]
    },
    {
     "name": "stdout",
     "output_type": "stream",
     "text": [
      "\r\n",
      "\r",
      "sub-NTNU_rec-uncombined07_T2starw.nii.gz:   5%| | 52.3k/0.99M [00:00<00:02, 382k\u001b[A\r\n",
      "\r\n",
      "\r",
      "sub-NTNU_rec-uncombined08_T2starw.json:   0%|       | 0.00/2.49k [00:00<?, ?B/s]\u001b[A\u001b[A\r\n",
      "\r\n",
      "\r",
      "                                                                                \u001b[A\u001b[A"
     ]
    },
    {
     "name": "stdout",
     "output_type": "stream",
     "text": [
      "\r",
      "sub-NTNU_rec-uncombined04_T2starw.nii.gz:  10%| | 101k/975k [00:00<00:05, 178kB/"
     ]
    },
    {
     "name": "stdout",
     "output_type": "stream",
     "text": [
      "\r\n",
      "\r\n",
      "\r",
      "sub-NTNU_rec-uncombined08_T2starw.nii.gz:   0%|      | 0.00/944k [00:00<?, ?B/s]\u001b[A\u001b[A\r\n",
      "\r",
      "sub-NTNU_rec-uncombined07_T2starw.nii.gz:  11%| | 114k/0.99M [00:00<00:02, 418kB\u001b[A"
     ]
    },
    {
     "name": "stdout",
     "output_type": "stream",
     "text": [
      "\r",
      "sub-NTNU_rec-uncombined04_T2starw.nii.gz:  17%|▏| 169k/975k [00:00<00:02, 284kB/"
     ]
    },
    {
     "name": "stdout",
     "output_type": "stream",
     "text": [
      "\r\n",
      "\r",
      "sub-NTNU_rec-uncombined07_T2starw.nii.gz:  17%|▏| 175k/0.99M [00:00<00:01, 473kB\u001b[A\r\n",
      "\r\n",
      "\r",
      "sub-NTNU_rec-uncombined08_T2starw.nii.gz:   9%| | 83.6k/944k [00:00<00:01, 647kB\u001b[A\u001b[A\r\n",
      "\r\n",
      "\r\n",
      "\r",
      "sub-NTNU_rec-uncombined09_T2starw.nii.gz:   0%|     | 0.00/0.99M [00:00<?, ?B/s]\u001b[A\u001b[A\u001b[A"
     ]
    },
    {
     "name": "stdout",
     "output_type": "stream",
     "text": [
      "\r",
      "sub-NTNU_rec-uncombined04_T2starw.nii.gz:  24%|▏| 238k/975k [00:00<00:02, 358kB/"
     ]
    },
    {
     "name": "stdout",
     "output_type": "stream",
     "text": [
      "\r\n",
      "\r\n",
      "\r\n",
      "\r\n",
      "\r",
      "sub-NTNU_rec-uncombined10_T2starw.json:   0%|       | 0.00/2.49k [00:00<?, ?B/s]\u001b[A\u001b[A\u001b[A\u001b[A\r\n",
      "\r\n",
      "\r\n",
      "\r\n",
      "\r",
      "                                                                                \u001b[A\u001b[A\u001b[A\u001b[A"
     ]
    },
    {
     "name": "stdout",
     "output_type": "stream",
     "text": [
      "\r\n",
      "\r\n",
      "\r",
      "sub-NTNU_rec-uncombined08_T2starw.nii.gz:  29%|▎| 271k/944k [00:00<00:00, 1.07MB\u001b[A\u001b[A\r\n",
      "\r\n",
      "\r\n",
      "\r",
      "sub-NTNU_rec-uncombined09_T2starw.nii.gz:   8%| | 85.3k/0.99M [00:00<00:01, 651k\u001b[A\u001b[A\u001b[A\r\n",
      "\r",
      "sub-NTNU_rec-uncombined07_T2starw.nii.gz:  26%|▎| 262k/0.99M [00:00<00:01, 497kB\u001b[A"
     ]
    },
    {
     "name": "stdout",
     "output_type": "stream",
     "text": [
      "\r",
      "sub-NTNU_rec-uncombined04_T2starw.nii.gz:  33%|▎| 322k/975k [00:01<00:01, 445kB/\r\n",
      "\r\n",
      "\r",
      "                                                                                \u001b[A\u001b[A"
     ]
    },
    {
     "name": "stdout",
     "output_type": "stream",
     "text": [
      "\r\n",
      "\r\n",
      "\r\n",
      "\r",
      "sub-NTNU_rec-uncombined09_T2starw.nii.gz:  17%|▏| 175k/0.99M [00:00<00:01, 681kB\u001b[A\u001b[A\u001b[A"
     ]
    },
    {
     "name": "stdout",
     "output_type": "stream",
     "text": [
      "\r\n",
      "\r",
      "sub-NTNU_rec-uncombined07_T2starw.nii.gz:  32%|▎| 330k/0.99M [00:00<00:01, 496kB\u001b[A\r",
      "sub-NTNU_rec-uncombined04_T2starw.nii.gz:  42%|▍| 407k/975k [00:01<00:01, 509kB/"
     ]
    },
    {
     "name": "stdout",
     "output_type": "stream",
     "text": [
      "\r\n",
      "\r\n",
      "\r",
      "sub-NTNU_rec-uncombined09_T2starw.json:   0%|       | 0.00/2.49k [00:00<?, ?B/s]\u001b[A\u001b[A\r\n",
      "\r\n",
      "\r",
      "                                                                                \u001b[A\u001b[A\r\n",
      "\r\n",
      "\r\n",
      "\r",
      "sub-NTNU_rec-uncombined09_T2starw.nii.gz:  29%|▎| 290k/0.99M [00:00<00:01, 724kB\u001b[A\u001b[A\u001b[A\r\n",
      "\r",
      "sub-NTNU_rec-uncombined07_T2starw.nii.gz:  42%|▍| 427k/0.99M [00:00<00:01, 566kB\u001b[A"
     ]
    },
    {
     "name": "stdout",
     "output_type": "stream",
     "text": [
      "\r",
      "sub-NTNU_rec-uncombined04_T2starw.nii.gz:  52%|▌| 509k/975k [00:01<00:00, 593kB/"
     ]
    },
    {
     "name": "stdout",
     "output_type": "stream",
     "text": [
      "\r\n",
      "\r\n",
      "\r",
      "sub-NTNU_rec-uncombined10_T2starw.nii.gz:   0%|      | 0.00/998k [00:00<?, ?B/s]\u001b[A\u001b[A\r\n",
      "\r\n",
      "\r\n"
     ]
    },
    {
     "name": "stdout",
     "output_type": "stream",
     "text": [
      "\r",
      "sub-NTNU_rec-uncombined09_T2starw.nii.gz:  41%|▍| 419k/0.99M [00:00<00:00, 872kB\u001b[A\u001b[A\u001b[A\r\n",
      "\r",
      "sub-NTNU_rec-uncombined07_T2starw.nii.gz:  51%|▌| 523k/0.99M [00:00<00:00, 607kB\u001b[A\r",
      "sub-NTNU_rec-uncombined04_T2starw.nii.gz:  61%|▌| 594k/975k [00:01<00:00, 611kB/"
     ]
    },
    {
     "name": "stdout",
     "output_type": "stream",
     "text": [
      "\r\n",
      "\r\n",
      "\r",
      "sub-NTNU_rec-uncombined10_T2starw.nii.gz:   8%| | 83.4k/998k [00:00<00:01, 608kB\u001b[A\u001b[A\r\n",
      "\r\n",
      "\r\n",
      "\r",
      "sub-NTNU_rec-uncombined09_T2starw.nii.gz:  55%|▌| 555k/0.99M [00:00<00:00, 936kB\u001b[A\u001b[A\u001b[A\r\n",
      "\r\n",
      "\r\n",
      "\r\n",
      "\r",
      "sub-NTNU_rec-uncombined11_T2starw.json:   0%|       | 0.00/2.49k [00:00<?, ?B/s]\u001b[A\u001b[A\u001b[A\u001b[A\r\n",
      "\r\n",
      "\r\n",
      "\r\n",
      "\r",
      "                                                                                \u001b[A\u001b[A\u001b[A\u001b[A"
     ]
    },
    {
     "name": "stdout",
     "output_type": "stream",
     "text": [
      "\r\n",
      "\r",
      "sub-NTNU_rec-uncombined07_T2starw.nii.gz:  62%|▌| 625k/0.99M [00:01<00:00, 649kB\u001b[A\r",
      "sub-NTNU_rec-uncombined04_T2starw.nii.gz:  70%|▋| 679k/975k [00:01<00:00, 625kB/"
     ]
    },
    {
     "name": "stdout",
     "output_type": "stream",
     "text": [
      "\r\n",
      "\r\n",
      "\r\n",
      "\r",
      "sub-NTNU_rec-uncombined09_T2starw.nii.gz:  65%|▋| 657k/0.99M [00:00<00:00, 937kB\u001b[A\u001b[A\u001b[A"
     ]
    },
    {
     "name": "stdout",
     "output_type": "stream",
     "text": [
      "\r\n",
      "\r\n",
      "\r",
      "sub-NTNU_rec-uncombined10_T2starw.nii.gz:  31%|▎| 304k/998k [00:00<00:00, 1.19MB\u001b[A\u001b[A"
     ]
    },
    {
     "name": "stdout",
     "output_type": "stream",
     "text": [
      "\r",
      "sub-NTNU_rec-uncombined04_T2starw.nii.gz:  80%|▊| 781k/975k [00:01<00:00, 672kB/\r\n",
      "\r",
      "sub-NTNU_rec-uncombined07_T2starw.nii.gz:  73%|▋| 744k/0.99M [00:01<00:00, 717kB\u001b[A\r\n",
      "\r\n",
      "\r",
      "                                                                                \u001b[A\u001b[A"
     ]
    },
    {
     "name": "stdout",
     "output_type": "stream",
     "text": [
      "\r\n",
      "\r\n",
      "\r\n",
      "\r",
      "sub-NTNU_rec-uncombined09_T2starw.nii.gz:  78%|▊| 793k/0.99M [00:00<00:00, 963kB\u001b[A\u001b[A\u001b[A"
     ]
    },
    {
     "name": "stdout",
     "output_type": "stream",
     "text": [
      "\r\n",
      "\r\n",
      "\r",
      "sub-NTNU_rec-uncombined12_T2starw.json:   0%|       | 0.00/2.49k [00:00<?, ?B/s]\u001b[A\u001b[A\r\n",
      "\r\n",
      "\r",
      "                                                                                \u001b[A\u001b[A"
     ]
    },
    {
     "name": "stdout",
     "output_type": "stream",
     "text": [
      "\r",
      "sub-NTNU_rec-uncombined04_T2starw.nii.gz:  89%|▉| 866k/975k [00:01<00:00, 645kB/\r\n",
      "\r",
      "sub-NTNU_rec-uncombined07_T2starw.nii.gz:  87%|▊| 880k/0.99M [00:01<00:00, 790kB\u001b[A"
     ]
    },
    {
     "name": "stdout",
     "output_type": "stream",
     "text": [
      "\r\n",
      "\r\n",
      "\r\n",
      "\r",
      "sub-NTNU_rec-uncombined09_T2starw.nii.gz:  97%|▉| 980k/0.99M [00:01<00:00, 1.08M\u001b[A\u001b[A\u001b[A\r\n",
      "\r\n",
      "\r\n",
      "\r",
      "                                                                                \u001b[A\u001b[A\u001b[A"
     ]
    },
    {
     "name": "stdout",
     "output_type": "stream",
     "text": [
      "\r",
      "sub-NTNU_rec-uncombined04_T2starw.nii.gz:  98%|▉| 952k/975k [00:02<00:00, 697kB/\r\n",
      "\r",
      "sub-NTNU_rec-uncombined07_T2starw.nii.gz:  95%|▉| 965k/0.99M [00:01<00:00, 802kB\u001b[A\r\n",
      "\r",
      "                                                                                \u001b[A\r",
      "                                                                                \r"
     ]
    },
    {
     "name": "stdout",
     "output_type": "stream",
     "text": [
      "\r",
      "sub-NTNU_rec-uncombined11_T2starw.nii.gz:   0%|     | 0.00/1.01M [00:00<?, ?B/s]\r\n",
      "\r",
      "sub-NTNU_rec-uncombined12_T2starw.nii.gz:   0%|     | 0.00/1.00M [00:00<?, ?B/s]\u001b[A"
     ]
    },
    {
     "name": "stdout",
     "output_type": "stream",
     "text": [
      "\r",
      "sub-NTNU_rec-uncombined11_T2starw.nii.gz:   6%| | 64.4k/1.01M [00:00<00:01, 498k"
     ]
    },
    {
     "name": "stdout",
     "output_type": "stream",
     "text": [
      "\r\n",
      "\r",
      "sub-NTNU_rec-uncombined12_T2starw.nii.gz:   8%| | 85.3k/1.00M [00:00<00:01, 615k\u001b[A\r\n",
      "\r\n",
      "\r",
      "sub-NTNU_rec-uncombined13_T2starw.nii.gz:   0%|      | 0.00/999k [00:00<?, ?B/s]\u001b[A\u001b[A"
     ]
    },
    {
     "name": "stdout",
     "output_type": "stream",
     "text": [
      "\r\n",
      "\r\n",
      "\r\n",
      "\r",
      "sub-NTNU_rec-uncombined13_T2starw.json:   0%|       | 0.00/2.49k [00:00<?, ?B/s]\u001b[A\u001b[A\u001b[A\r\n",
      "\r\n",
      "\r\n",
      "\r",
      "                                                                                \u001b[A\u001b[A\u001b[A\r",
      "sub-NTNU_rec-uncombined11_T2starw.nii.gz:  23%|▏| 234k/1.01M [00:00<00:00, 1.14M"
     ]
    },
    {
     "name": "stdout",
     "output_type": "stream",
     "text": [
      "\r\n",
      "\r\n",
      "\r\n",
      "\r",
      "sub-NTNU_rec-uncombined15_T2starw.json:   0%|       | 0.00/2.49k [00:00<?, ?B/s]\u001b[A\u001b[A\u001b[A\r\n",
      "\r\n",
      "\r\n",
      "\r",
      "                                                                                \u001b[A\u001b[A\u001b[A\r\n",
      "\r",
      "sub-NTNU_rec-uncombined12_T2starw.nii.gz:  30%|▎| 306k/1.00M [00:00<00:00, 1.19M\u001b[A"
     ]
    },
    {
     "name": "stdout",
     "output_type": "stream",
     "text": [
      "\r\n",
      "\r\n",
      "\r",
      "sub-NTNU_rec-uncombined13_T2starw.nii.gz:   8%| | 83.4k/999k [00:00<00:01, 590kB\u001b[A\u001b[A\r",
      "sub-NTNU_rec-uncombined11_T2starw.nii.gz:  58%|▌| 592k/1.01M [00:00<00:00, 2.21M"
     ]
    },
    {
     "name": "stdout",
     "output_type": "stream",
     "text": [
      "\r",
      "                                                                                \r",
      "\r\n",
      "\r",
      "sub-NTNU_rec-uncombined12_T2starw.nii.gz:  73%|▋| 748k/1.00M [00:00<00:00, 2.43M\u001b[A"
     ]
    },
    {
     "name": "stdout",
     "output_type": "stream",
     "text": [
      "\r\n",
      "\r",
      "                                                                                \u001b[A\r\n",
      "\r\n"
     ]
    },
    {
     "name": "stdout",
     "output_type": "stream",
     "text": [
      "\r",
      "sub-NTNU_rec-uncombined13_T2starw.nii.gz:  36%|▎| 355k/999k [00:00<00:00, 1.39MB\u001b[A\u001b[A"
     ]
    },
    {
     "name": "stdout",
     "output_type": "stream",
     "text": [
      "\r",
      "sub-NTNU_rec-uncombined14_T2starw.nii.gz:   0%|     | 0.00/1.03M [00:00<?, ?B/s]\r\n",
      "\r\n",
      "\r",
      "                                                                                \u001b[A\u001b[A"
     ]
    },
    {
     "name": "stdout",
     "output_type": "stream",
     "text": [
      "\r\n",
      "\r",
      "sub-NTNU_rec-uncombined14_T2starw.json:   0%|       | 0.00/2.49k [00:00<?, ?B/s]\u001b[A\r\n",
      "\r",
      "                                                                                \u001b[A"
     ]
    },
    {
     "name": "stdout",
     "output_type": "stream",
     "text": [
      "\r",
      "sub-NTNU_rec-uncombined14_T2starw.nii.gz:   8%| | 82.4k/1.03M [00:00<00:01, 577k\r\n",
      "\r",
      "sub-NTNU_rec-uncombined15_T2starw.nii.gz:   0%|     | 0.00/0.99M [00:00<?, ?B/s]\u001b[A"
     ]
    },
    {
     "name": "stdout",
     "output_type": "stream",
     "text": [
      "\r\n",
      "\r\n",
      "\r",
      "sub-NTNU_rec-uncombined16_T2starw.json:   0%|       | 0.00/2.49k [00:00<?, ?B/s]\u001b[A\u001b[A\r\n",
      "\r\n",
      "\r",
      "                                                                                \u001b[A\u001b[A"
     ]
    },
    {
     "name": "stdout",
     "output_type": "stream",
     "text": [
      "\r",
      "sub-NTNU_rec-uncombined14_T2starw.nii.gz:  27%|▎| 286k/1.03M [00:00<00:00, 1.13M\r\n",
      "\r",
      "sub-NTNU_rec-uncombined15_T2starw.nii.gz:   6%| | 65.4k/0.99M [00:00<00:01, 503k\u001b[A"
     ]
    },
    {
     "name": "stdout",
     "output_type": "stream",
     "text": [
      "\r\n",
      "\r\n",
      "\r",
      "sub-NTNU_rec-uncombined17_T2starw.json:   0%|       | 0.00/2.49k [00:00<?, ?B/s]\u001b[A\u001b[A\r\n",
      "\r\n",
      "\r",
      "                                                                                \u001b[A\u001b[A"
     ]
    },
    {
     "name": "stdout",
     "output_type": "stream",
     "text": [
      "\r\n",
      "\r\n",
      "\r",
      "sub-NTNU_rec-uncombined17_T2starw.nii.gz:   0%|      | 0.00/932k [00:00<?, ?B/s]\u001b[A\u001b[A\r",
      "sub-NTNU_rec-uncombined14_T2starw.nii.gz:  79%|▊| 830k/1.03M [00:00<00:00, 2.80M\r",
      "                                                                                \r"
     ]
    },
    {
     "name": "stdout",
     "output_type": "stream",
     "text": [
      "\r\n",
      "\r",
      "sub-NTNU_rec-uncombined15_T2starw.nii.gz:  27%|▎| 269k/0.99M [00:00<00:00, 1.11M\u001b[A"
     ]
    },
    {
     "name": "stdout",
     "output_type": "stream",
     "text": [
      "\r\n",
      "\r\n",
      "\r",
      "sub-NTNU_rec-uncombined17_T2starw.nii.gz:   9%| | 81.4k/932k [00:00<00:01, 727kB\u001b[A\u001b[A"
     ]
    },
    {
     "name": "stdout",
     "output_type": "stream",
     "text": [
      "\r\n",
      "\r",
      "                                                                                \u001b[A"
     ]
    },
    {
     "name": "stdout",
     "output_type": "stream",
     "text": [
      "\r",
      "sub-NTNU_rec-uncombined16_T2starw.nii.gz:   0%|      | 0.00/998k [00:00<?, ?B/s]"
     ]
    },
    {
     "name": "stdout",
     "output_type": "stream",
     "text": [
      "\r\n",
      "\r\n",
      "\r",
      "sub-NTNU_rec-uncombined17_T2starw.nii.gz:  32%|▎| 302k/932k [00:00<00:00, 1.25MB\u001b[A\u001b[A\r\n",
      "\r",
      "sub-NTNU_rec-uncombined18_T2starw.json:   0%|       | 0.00/2.49k [00:00<?, ?B/s]\u001b[A\r\n",
      "\r",
      "                                                                                \u001b[A"
     ]
    },
    {
     "name": "stdout",
     "output_type": "stream",
     "text": [
      "\r",
      "sub-NTNU_rec-uncombined16_T2starw.nii.gz:   8%| | 83.4k/998k [00:00<00:01, 606kB"
     ]
    },
    {
     "name": "stdout",
     "output_type": "stream",
     "text": [
      "\r\n",
      "\r",
      "sub-NTNU_rec-uncombined18_T2starw.nii.gz:   0%|      | 0.00/919k [00:00<?, ?B/s]\u001b[A\r\n",
      "\r\n",
      "\r",
      "                                                                                \u001b[A\u001b[A"
     ]
    },
    {
     "name": "stdout",
     "output_type": "stream",
     "text": [
      "\r\n",
      "\r\n",
      "\r",
      "sub-NTNU_rec-uncombined19_T2starw.json:   0%|       | 0.00/2.49k [00:00<?, ?B/s]\u001b[A\u001b[A\r\n",
      "\r\n",
      "\r",
      "                                                                                \u001b[A\u001b[A"
     ]
    },
    {
     "name": "stdout",
     "output_type": "stream",
     "text": [
      "\r",
      "sub-NTNU_rec-uncombined16_T2starw.nii.gz:  31%|▎| 304k/998k [00:00<00:00, 1.19MB\r\n",
      "\r",
      "sub-NTNU_rec-uncombined18_T2starw.nii.gz:   9%| | 83.4k/919k [00:00<00:01, 595kB\u001b[A"
     ]
    },
    {
     "name": "stdout",
     "output_type": "stream",
     "text": [
      "\r",
      "                                                                                \r",
      "\r\n",
      "\r",
      "sub-NTNU_rec-uncombined18_T2starw.nii.gz:  22%|▏| 202k/919k [00:00<00:00, 880kB/\u001b[A"
     ]
    },
    {
     "name": "stdout",
     "output_type": "stream",
     "text": [
      "\r",
      "sub-NTNU_rec-uncombined20_T2starw.json:   0%|       | 0.00/2.49k [00:00<?, ?B/s]\r",
      "                                                                                \r"
     ]
    },
    {
     "name": "stdout",
     "output_type": "stream",
     "text": [
      "\r",
      "sub-NTNU_rec-uncombined19_T2starw.nii.gz:   0%|      | 0.00/971k [00:00<?, ?B/s]"
     ]
    },
    {
     "name": "stdout",
     "output_type": "stream",
     "text": [
      "\r\n",
      "\r",
      "sub-NTNU_rec-uncombined18_T2starw.nii.gz:  55%|▌| 508k/919k [00:00<00:00, 1.75MB\u001b[A\r\n",
      "\r",
      "                                                                                \u001b[A\r\n",
      "\r",
      "sub-NTNU_rec-uncombined21_T2starw.json:   0%|       | 0.00/2.49k [00:00<?, ?B/s]\u001b[A\r\n",
      "\r",
      "                                                                                \u001b[A"
     ]
    },
    {
     "name": "stdout",
     "output_type": "stream",
     "text": [
      "\r",
      "sub-NTNU_rec-uncombined19_T2starw.nii.gz:   5%| | 49.6k/971k [00:00<00:01, 500kB"
     ]
    },
    {
     "name": "stdout",
     "output_type": "stream",
     "text": [
      "\r",
      "sub-NTNU_rec-uncombined19_T2starw.nii.gz:  14%|▏| 136k/971k [00:00<00:01, 674kB/"
     ]
    },
    {
     "name": "stdout",
     "output_type": "stream",
     "text": [
      "\r\n",
      "\r",
      "sub-NTNU_rec-uncombined21_T2starw.nii.gz:   0%|      | 0.00/949k [00:00<?, ?B/s]\u001b[A\r\n",
      "\r\n",
      "\r",
      "sub-NTNU_rec-uncombined20_T2starw.nii.gz:   0%|      | 0.00/947k [00:00<?, ?B/s]\u001b[A\u001b[A"
     ]
    },
    {
     "name": "stdout",
     "output_type": "stream",
     "text": [
      "\r\n",
      "\r\n",
      "\r\n",
      "\r",
      "sub-NTNU_rec-uncombined22_T2starw.json:   0%|       | 0.00/2.49k [00:00<?, ?B/s]\u001b[A\u001b[A\u001b[A\r\n",
      "\r\n",
      "\r\n",
      "\r",
      "                                                                                \u001b[A\u001b[A\u001b[A"
     ]
    },
    {
     "name": "stdout",
     "output_type": "stream",
     "text": [
      "\r",
      "sub-NTNU_rec-uncombined19_T2starw.nii.gz:  59%|▌| 577k/971k [00:00<00:00, 2.00MB\r",
      "                                                                                \r"
     ]
    },
    {
     "name": "stdout",
     "output_type": "stream",
     "text": [
      "\r",
      "sub-NTNU_rec-uncombined22_T2starw.nii.gz:   0%|      | 0.00/948k [00:00<?, ?B/s]\r\n",
      "\r\n",
      "\r",
      "sub-NTNU_rec-uncombined20_T2starw.nii.gz:   9%| | 85.3k/947k [00:00<00:01, 594kB\u001b[A\u001b[A\r\n",
      "\r",
      "sub-NTNU_rec-uncombined21_T2starw.nii.gz:   9%| | 82.4k/949k [00:00<00:01, 534kB\u001b[A"
     ]
    },
    {
     "name": "stdout",
     "output_type": "stream",
     "text": [
      "\r",
      "sub-NTNU_rec-uncombined22_T2starw.nii.gz:   9%| | 85.3k/948k [00:00<00:01, 720kB"
     ]
    },
    {
     "name": "stdout",
     "output_type": "stream",
     "text": [
      "\r\n",
      "\r\n",
      "\r",
      "sub-NTNU_rec-uncombined20_T2starw.nii.gz:  32%|▎| 306k/947k [00:00<00:00, 1.19MB\u001b[A\u001b[A\r\n",
      "\r",
      "sub-NTNU_rec-uncombined21_T2starw.nii.gz:  32%|▎| 303k/949k [00:00<00:00, 1.17MB\u001b[A\r\n",
      "\r\n",
      "\r\n",
      "\r",
      "sub-NTNU_rec-uncombined23_T2starw.json:   0%|       | 0.00/2.49k [00:00<?, ?B/s]\u001b[A\u001b[A\u001b[A\r\n",
      "\r\n",
      "\r\n",
      "\r",
      "                                                                                \u001b[A\u001b[A\u001b[A"
     ]
    },
    {
     "name": "stdout",
     "output_type": "stream",
     "text": [
      "\r\n",
      "\r",
      "                                                                                \u001b[A"
     ]
    },
    {
     "name": "stdout",
     "output_type": "stream",
     "text": [
      "\r\n",
      "\r\n",
      "\r",
      "sub-NTNU_rec-uncombined20_T2starw.nii.gz:  90%|▉| 850k/947k [00:00<00:00, 2.63MB\u001b[A\u001b[A\r",
      "sub-NTNU_rec-uncombined22_T2starw.nii.gz:  29%|▎| 272k/948k [00:00<00:00, 1.12MB\r\n",
      "\r\n",
      "\r",
      "                                                                                \u001b[A\u001b[A"
     ]
    },
    {
     "name": "stdout",
     "output_type": "stream",
     "text": [
      "\r\n",
      "\r",
      "sub-NTNU_rec-uncombined23_T2starw.nii.gz:   0%|      | 0.00/944k [00:00<?, ?B/s]\u001b[A"
     ]
    },
    {
     "name": "stdout",
     "output_type": "stream",
     "text": [
      "\r",
      "                                                                                \r"
     ]
    },
    {
     "name": "stdout",
     "output_type": "stream",
     "text": [
      "\r\n",
      "\r",
      "sub-NTNU_rec-uncombined23_T2starw.nii.gz:   9%| | 83.6k/944k [00:00<00:01, 608kB\u001b[A\r",
      "sub-NTNU_rec-uncombined24_T2starw.json:   0%|       | 0.00/2.49k [00:00<?, ?B/s]\r",
      "                                                                                \r"
     ]
    },
    {
     "name": "stdout",
     "output_type": "stream",
     "text": [
      "\r",
      "sub-NTNU_acq-anat_TB1TFL.json:   0%|                | 0.00/2.71k [00:00<?, ?B/s]\r",
      "                                                                                \r"
     ]
    },
    {
     "name": "stdout",
     "output_type": "stream",
     "text": [
      "\r\n",
      "\r",
      "sub-NTNU_rec-uncombined23_T2starw.nii.gz:  16%|▏| 152k/944k [00:00<00:01, 636kB/\u001b[A\r",
      "sub-NTNU_rec-uncombined24_T2starw.nii.gz:   0%|      | 0.00/951k [00:00<?, ?B/s]"
     ]
    },
    {
     "name": "stdout",
     "output_type": "stream",
     "text": [
      "\r\n",
      "\r",
      "sub-NTNU_rec-uncombined23_T2starw.nii.gz:  77%|▊| 730k/944k [00:00<00:00, 2.81MB\u001b[A\r\n",
      "\r",
      "                                                                                \u001b[A"
     ]
    },
    {
     "name": "stdout",
     "output_type": "stream",
     "text": [
      "\r\n",
      "\r",
      "sub-NTNU_acq-anat_TB1TFL.nii.gz:   0%|               | 0.00/727k [00:00<?, ?B/s]\u001b[A\r",
      "sub-NTNU_rec-uncombined24_T2starw.nii.gz:   9%| | 83.4k/951k [00:00<00:01, 637kB"
     ]
    },
    {
     "name": "stdout",
     "output_type": "stream",
     "text": [
      "\r\n",
      "\r\n",
      "\r",
      "sub-NTNU_acq-coilQaSagLarge_SNR.json:   0%|         | 0.00/2.21k [00:00<?, ?B/s]\u001b[A\u001b[A\r\n",
      "\r\n",
      "\r",
      "                                                                                \u001b[A\u001b[A\r\n",
      "\r",
      "sub-NTNU_acq-anat_TB1TFL.nii.gz:  10%|▋      | 75.8k/727k [00:00<00:01, 565kB/s]\u001b[A"
     ]
    },
    {
     "name": "stdout",
     "output_type": "stream",
     "text": [
      "\r",
      "sub-NTNU_rec-uncombined24_T2starw.nii.gz:  32%|▎| 304k/951k [00:00<00:00, 1.25MB\r\n",
      "\r\n",
      "\r",
      "sub-NTNU_acq-coilQaSagLarge_SNR.nii.gz:   0%|       | 0.00/3.93M [00:00<?, ?B/s]\u001b[A\u001b[A"
     ]
    },
    {
     "name": "stdout",
     "output_type": "stream",
     "text": [
      "\r\n",
      "\r\n",
      "\r\n",
      "\r",
      "sub-NTNU_acq-coilQaSagSmall_GFactor.json:   0%|     | 0.00/2.23k [00:00<?, ?B/s]\u001b[A\u001b[A\u001b[A\r\n",
      "\r\n",
      "\r\n",
      "\r",
      "                                                                                \u001b[A\u001b[A\u001b[A"
     ]
    },
    {
     "name": "stdout",
     "output_type": "stream",
     "text": [
      "\r",
      "sub-NTNU_rec-uncombined24_T2starw.nii.gz:  80%|▊| 764k/951k [00:00<00:00, 2.47MB\r\n",
      "\r",
      "sub-NTNU_acq-anat_TB1TFL.nii.gz:  41%|██▊    | 297k/727k [00:00<00:00, 1.21MB/s]\u001b[A\r",
      "                                                                                \r"
     ]
    },
    {
     "name": "stdout",
     "output_type": "stream",
     "text": [
      "\r\n",
      "\r\n",
      "\r",
      "sub-NTNU_acq-coilQaSagLarge_SNR.nii.gz:   2%| | 85.3k/3.93M [00:00<00:07, 576kB/\u001b[A\u001b[A\r\n",
      "\r",
      "                                                                                \u001b[A"
     ]
    },
    {
     "name": "stdout",
     "output_type": "stream",
     "text": [
      "\r\n",
      "\r\n",
      "\r",
      "sub-NTNU_acq-coilQaSagLarge_SNR.nii.gz:   8%| | 306k/3.93M [00:00<00:03, 1.22MB/\u001b[A\u001b[A"
     ]
    },
    {
     "name": "stdout",
     "output_type": "stream",
     "text": [
      "\r",
      "sub-NTNU_acq-coilQaSagSmall_GFactor.nii.gz:   0%|   | 0.00/3.58M [00:00<?, ?B/s]"
     ]
    },
    {
     "name": "stdout",
     "output_type": "stream",
     "text": [
      "\r\n",
      "\r",
      "sub-NTNU_acq-coilQaTra_GFactor.json:   0%|          | 0.00/2.12k [00:00<?, ?B/s]\u001b[A\r\n",
      "\r",
      "                                                                                \u001b[A\r\n",
      "\r\n",
      "\r",
      "sub-NTNU_acq-coilQaSagLarge_SNR.nii.gz:  31%|▎| 1.23M/3.93M [00:00<00:00, 3.81MB\u001b[A\u001b[A"
     ]
    },
    {
     "name": "stdout",
     "output_type": "stream",
     "text": [
      "\r\n",
      "\r",
      "sub-NTNU_acq-famp-0.66_TB1DREAM.json:   0%|         | 0.00/2.19k [00:00<?, ?B/s]\u001b[A\r\n",
      "\r",
      "                                                                                \u001b[A\r\n",
      "\r",
      "sub-NTNU_acq-coilQaTra_GFactor.nii.gz:   0%|        | 0.00/15.5M [00:00<?, ?B/s]\u001b[A"
     ]
    },
    {
     "name": "stdout",
     "output_type": "stream",
     "text": [
      "\r",
      "sub-NTNU_acq-coilQaSagSmall_GFactor.nii.gz:   2%| | 83.6k/3.58M [00:00<00:06, 55\r\n",
      "\r\n",
      "\r",
      "sub-NTNU_acq-coilQaSagLarge_SNR.nii.gz:  97%|▉| 3.80M/3.93M [00:00<00:00, 11.1MB\u001b[A\u001b[A\r\n",
      "\r\n",
      "\r",
      "                                                                                \u001b[A\u001b[A"
     ]
    },
    {
     "name": "stdout",
     "output_type": "stream",
     "text": [
      "\r\n",
      "\r",
      "sub-NTNU_acq-coilQaTra_GFactor.nii.gz:   1%| | 83.4k/15.5M [00:00<00:27, 587kB/s\u001b[A\r",
      "sub-NTNU_acq-coilQaSagSmall_GFactor.nii.gz:   8%| | 305k/3.58M [00:00<00:03, 1.1"
     ]
    },
    {
     "name": "stdout",
     "output_type": "stream",
     "text": [
      "\r\n",
      "\r\n",
      "\r",
      "sub-NTNU_acq-famp-1.5_TB1DREAM.json:   0%|          | 0.00/2.19k [00:00<?, ?B/s]\u001b[A\u001b[A\r\n",
      "\r\n",
      "\r",
      "                                                                                \u001b[A\u001b[A"
     ]
    },
    {
     "name": "stdout",
     "output_type": "stream",
     "text": [
      "\r\n",
      "\r",
      "sub-NTNU_acq-coilQaTra_GFactor.nii.gz:   2%| | 304k/15.5M [00:00<00:13, 1.17MB/s\u001b[A\r",
      "sub-NTNU_acq-coilQaSagSmall_GFactor.nii.gz:  35%|▎| 1.24M/3.58M [00:00<00:00, 3.\r\n",
      "\r\n",
      "\r",
      "sub-NTNU_acq-famp-0.66_TB1DREAM.nii.gz:   0%|       | 0.00/87.3k [00:00<?, ?B/s]\u001b[A\u001b[A"
     ]
    },
    {
     "name": "stdout",
     "output_type": "stream",
     "text": [
      "\r\n",
      "\r\n",
      "\r\n",
      "\r",
      "sub-NTNU_acq-famp-1.5_TB1DREAM.nii.gz:   0%|        | 0.00/89.8k [00:00<?, ?B/s]\u001b[A\u001b[A\u001b[A\r\n",
      "\r",
      "sub-NTNU_acq-coilQaTra_GFactor.nii.gz:   8%| | 1.21M/15.5M [00:00<00:03, 4.27MB/\u001b[A\r",
      "sub-NTNU_acq-coilQaSagSmall_GFactor.nii.gz:  86%|▊| 3.08M/3.58M [00:00<00:00, 8.\r",
      "                                                                                \r"
     ]
    },
    {
     "name": "stdout",
     "output_type": "stream",
     "text": [
      "\r\n",
      "\r\n",
      "\r",
      "sub-NTNU_acq-famp-0.66_TB1DREAM.nii.gz:  98%|▉| 85.3k/87.3k [00:00<00:00, 623kB/\u001b[A\u001b[A\r\n",
      "\r\n",
      "\r",
      "                                                                                \u001b[A\u001b[A"
     ]
    },
    {
     "name": "stdout",
     "output_type": "stream",
     "text": [
      "\r\n",
      "\r",
      "sub-NTNU_acq-coilQaTra_GFactor.nii.gz:  11%| | 1.69M/15.5M [00:00<00:03, 4.53MB/\u001b[A\r",
      "sub-NTNU_acq-famp_TB1DREAM.nii.gz:   0%|            | 0.00/88.2k [00:00<?, ?B/s]\r\n",
      "\r\n",
      "\r\n",
      "\r",
      "sub-NTNU_acq-famp-1.5_TB1DREAM.nii.gz:  83%|▊| 74.4k/89.8k [00:00<00:00, 545kB/s\u001b[A\u001b[A\u001b[A\r\n",
      "\r\n",
      "\r\n",
      "\r",
      "                                                                                \u001b[A\u001b[A\u001b[A"
     ]
    },
    {
     "name": "stdout",
     "output_type": "stream",
     "text": [
      "\r\n",
      "\r",
      "sub-NTNU_acq-coilQaTra_GFactor.nii.gz:  31%|▎| 4.75M/15.5M [00:00<00:00, 13.6MB/\u001b[A"
     ]
    },
    {
     "name": "stdout",
     "output_type": "stream",
     "text": [
      "\r",
      "sub-NTNU_acq-famp_TB1DREAM.nii.gz:  95%|███▊| 83.4k/88.2k [00:00<00:00, 652kB/s]\r",
      "                                                                                \r"
     ]
    },
    {
     "name": "stdout",
     "output_type": "stream",
     "text": [
      "\r\n",
      "\r",
      "sub-NTNU_acq-coilQaTra_GFactor.nii.gz:  49%|▍| 7.64M/15.5M [00:00<00:00, 19.0MB/\u001b[A"
     ]
    },
    {
     "name": "stdout",
     "output_type": "stream",
     "text": [
      "\r",
      "sub-NTNU_acq-famp_TB1DREAM.json:   0%|              | 0.00/2.18k [00:00<?, ?B/s]\r",
      "                                                                                \r",
      "\r",
      "sub-NTNU_acq-famp_TB1TFL.nii.gz:   0%|               | 0.00/910k [00:00<?, ?B/s]"
     ]
    },
    {
     "name": "stdout",
     "output_type": "stream",
     "text": [
      "\r\n",
      "\r\n",
      "\r",
      "sub-NTNU_acq-famp_TB1TFL.json:   0%|                | 0.00/2.73k [00:00<?, ?B/s]\u001b[A\u001b[A\r\n",
      "\r\n",
      "\r",
      "                                                                                \u001b[A\u001b[A\r\n",
      "\r",
      "sub-NTNU_acq-coilQaTra_GFactor.nii.gz:  66%|▋| 10.2M/15.5M [00:00<00:00, 20.1MB/\u001b[A"
     ]
    },
    {
     "name": "stdout",
     "output_type": "stream",
     "text": [
      "\r",
      "sub-NTNU_acq-famp_TB1TFL.nii.gz:   9%|▋      | 83.6k/910k [00:00<00:01, 649kB/s]"
     ]
    },
    {
     "name": "stdout",
     "output_type": "stream",
     "text": [
      "\r\n",
      "\r",
      "sub-NTNU_acq-coilQaTra_GFactor.nii.gz:  80%|▊| 12.4M/15.5M [00:00<00:00, 20.9MB/\u001b[A"
     ]
    },
    {
     "name": "stdout",
     "output_type": "stream",
     "text": [
      "\r\n",
      "\r\n",
      "\r",
      "sub-NTNU_acq-refv-0.66_TB1DREAM.json:   0%|         | 0.00/2.20k [00:00<?, ?B/s]\u001b[A\u001b[A\r\n",
      "\r\n",
      "\r",
      "                                                                                \u001b[A\u001b[A"
     ]
    },
    {
     "name": "stdout",
     "output_type": "stream",
     "text": [
      "\r",
      "sub-NTNU_acq-famp_TB1TFL.nii.gz:  33%|██▎    | 305k/910k [00:00<00:00, 1.25MB/s]\r\n",
      "\r",
      "sub-NTNU_acq-coilQaTra_GFactor.nii.gz:  97%|▉| 15.0M/15.5M [00:01<00:00, 22.8MB/\u001b[A\r\n",
      "\r",
      "                                                                                \u001b[A"
     ]
    },
    {
     "name": "stdout",
     "output_type": "stream",
     "text": [
      "\r\n",
      "\r",
      "sub-NTNU_acq-refv-1.5_TB1DREAM.json:   0%|          | 0.00/2.20k [00:00<?, ?B/s]\u001b[A\r\n",
      "\r",
      "                                                                                \u001b[A"
     ]
    },
    {
     "name": "stdout",
     "output_type": "stream",
     "text": [
      "\r",
      "                                                                                \r"
     ]
    },
    {
     "name": "stdout",
     "output_type": "stream",
     "text": [
      "\r",
      "sub-NTNU_acq-refv-1.5_TB1DREAM.nii.gz:   0%|        | 0.00/93.4k [00:00<?, ?B/s]"
     ]
    },
    {
     "name": "stdout",
     "output_type": "stream",
     "text": [
      "\r\n",
      "\r",
      "sub-NTNU_acq-refv_TB1DREAM.json:   0%|              | 0.00/2.19k [00:00<?, ?B/s]\u001b[A\r\n",
      "\r",
      "                                                                                \u001b[A"
     ]
    },
    {
     "name": "stdout",
     "output_type": "stream",
     "text": [
      "\r",
      "sub-NTNU_acq-refv-1.5_TB1DREAM.nii.gz:  91%|▉| 85.3k/93.4k [00:00<00:00, 622kB/s\r",
      "                                                                                \r",
      "\r",
      "sub-NTNU_acq-refv-0.66_TB1DREAM.nii.gz:   0%|       | 0.00/81.5k [00:00<?, ?B/s]"
     ]
    },
    {
     "name": "stdout",
     "output_type": "stream",
     "text": [
      "\r\n",
      "\r",
      "sub-NTNU_acq-refv_TB1DREAM.nii.gz:   0%|            | 0.00/86.1k [00:00<?, ?B/s]\u001b[A\r\n",
      "\r\n",
      "\r",
      "sub-UCL_T2starw.json:   0%|                         | 0.00/2.45k [00:00<?, ?B/s]\u001b[A\u001b[A\r\n",
      "\r\n",
      "\r",
      "                                                                                \u001b[A\u001b[A"
     ]
    },
    {
     "name": "stdout",
     "output_type": "stream",
     "text": [
      "\r",
      "sub-NTNU_acq-refv-0.66_TB1DREAM.nii.gz: 100%|█| 81.5k/81.5k [00:00<00:00, 626kB/\r",
      "                                                                                \r"
     ]
    },
    {
     "name": "stdout",
     "output_type": "stream",
     "text": [
      "\r\n",
      "\r",
      "sub-NTNU_acq-refv_TB1DREAM.nii.gz:  97%|███▉| 83.6k/86.1k [00:00<00:00, 611kB/s]\u001b[A\r\n",
      "\r",
      "                                                                                \u001b[A"
     ]
    },
    {
     "name": "stdout",
     "output_type": "stream",
     "text": [
      "\r",
      "sub-UCL_rec-uncombined1_T2starw.nii.gz:   0%|        | 0.00/860k [00:00<?, ?B/s]"
     ]
    },
    {
     "name": "stdout",
     "output_type": "stream",
     "text": [
      "\r\n",
      "\r",
      "sub-UCL_rec-uncombined1_T2starw.json:   0%|         | 0.00/2.46k [00:00<?, ?B/s]\u001b[A\r\n",
      "\r",
      "                                                                                \u001b[A"
     ]
    },
    {
     "name": "stdout",
     "output_type": "stream",
     "text": [
      "\r\n",
      "\r",
      "sub-UCL_T2starw.nii.gz:   0%|                       | 0.00/1.01M [00:00<?, ?B/s]\u001b[A\r",
      "sub-UCL_rec-uncombined1_T2starw.nii.gz:  10%| | 83.4k/860k [00:00<00:01, 602kB/s"
     ]
    },
    {
     "name": "stdout",
     "output_type": "stream",
     "text": [
      "\r\n",
      "\r\n",
      "\r",
      "sub-UCL_rec-uncombined2_T2starw.json:   0%|         | 0.00/2.46k [00:00<?, ?B/s]\u001b[A\u001b[A\r\n",
      "\r\n",
      "\r",
      "                                                                                \u001b[A\u001b[A"
     ]
    },
    {
     "name": "stdout",
     "output_type": "stream",
     "text": [
      "\r",
      "sub-UCL_rec-uncombined1_T2starw.nii.gz:  24%|▏| 202k/860k [00:00<00:00, 818kB/s]\r\n",
      "\r",
      "sub-UCL_T2starw.nii.gz:   8%|█▏             | 83.6k/1.01M [00:00<00:01, 648kB/s]\u001b[A\r\n",
      "\r\n",
      "\r",
      "sub-UCL_rec-uncombined2_T2starw.nii.gz:   0%|        | 0.00/841k [00:00<?, ?B/s]\u001b[A\u001b[A"
     ]
    },
    {
     "name": "stdout",
     "output_type": "stream",
     "text": [
      "\r",
      "sub-UCL_rec-uncombined1_T2starw.nii.gz:  97%|▉| 831k/860k [00:00<00:00, 2.99MB/s\r",
      "                                                                                \r"
     ]
    },
    {
     "name": "stdout",
     "output_type": "stream",
     "text": [
      "\r",
      "sub-UCL_rec-uncombined3_T2starw.json:   0%|         | 0.00/2.46k [00:00<?, ?B/s]\r",
      "                                                                                \r",
      "\r\n",
      "\r",
      "sub-UCL_T2starw.nii.gz:  29%|████▍          | 305k/1.01M [00:00<00:00, 1.13MB/s]\u001b[A\r\n",
      "\r\n",
      "\r",
      "sub-UCL_rec-uncombined2_T2starw.nii.gz:   6%| | 50.4k/841k [00:00<00:02, 322kB/s\u001b[A\u001b[A"
     ]
    },
    {
     "name": "stdout",
     "output_type": "stream",
     "text": [
      "\r\n",
      "\r",
      "                                                                                \u001b[A"
     ]
    },
    {
     "name": "stdout",
     "output_type": "stream",
     "text": [
      "\r",
      "sub-UCL_rec-uncombined4_T2starw.json:   0%|         | 0.00/2.46k [00:00<?, ?B/s]\r",
      "                                                                                \r"
     ]
    },
    {
     "name": "stdout",
     "output_type": "stream",
     "text": [
      "\r\n",
      "\r\n",
      "\r",
      "sub-UCL_rec-uncombined2_T2starw.nii.gz:  14%|▏| 114k/841k [00:00<00:01, 394kB/s]\u001b[A\u001b[A"
     ]
    },
    {
     "name": "stdout",
     "output_type": "stream",
     "text": [
      "\r\n",
      "\r\n",
      "\r",
      "sub-UCL_rec-uncombined2_T2starw.nii.gz:  21%|▏| 175k/841k [00:00<00:01, 446kB/s]\u001b[A\u001b[A"
     ]
    },
    {
     "name": "stdout",
     "output_type": "stream",
     "text": [
      "\r",
      "sub-UCL_rec-uncombined4_T2starw.nii.gz:   0%|        | 0.00/796k [00:00<?, ?B/s]\r\n",
      "\r",
      "sub-UCL_rec-uncombined3_T2starw.nii.gz:   0%|        | 0.00/813k [00:00<?, ?B/s]\u001b[A"
     ]
    },
    {
     "name": "stdout",
     "output_type": "stream",
     "text": [
      "\r\n",
      "\r\n",
      "\r\n",
      "\r",
      "sub-UCL_rec-uncombined5_T2starw.json:   0%|         | 0.00/2.46k [00:00<?, ?B/s]\u001b[A\u001b[A\u001b[A\r\n",
      "\r\n",
      "\r\n",
      "\r",
      "                                                                                \u001b[A\u001b[A\u001b[A"
     ]
    },
    {
     "name": "stdout",
     "output_type": "stream",
     "text": [
      "\r\n",
      "\r\n",
      "\r",
      "sub-UCL_rec-uncombined2_T2starw.nii.gz:  31%|▎| 262k/841k [00:00<00:01, 516kB/s]\u001b[A\u001b[A"
     ]
    },
    {
     "name": "stdout",
     "output_type": "stream",
     "text": [
      "\r",
      "sub-UCL_rec-uncombined4_T2starw.nii.gz:   9%| | 74.2k/796k [00:00<00:01, 544kB/s\r\n",
      "\r",
      "sub-UCL_rec-uncombined3_T2starw.nii.gz:  10%| | 84.2k/813k [00:00<00:01, 576kB/s\u001b[A\r\n",
      "\r\n",
      "\r\n",
      "\r",
      "sub-UCL_rec-uncombined6_T2starw.nii.gz:   0%|        | 0.00/821k [00:00<?, ?B/s]\u001b[A\u001b[A\u001b[A"
     ]
    },
    {
     "name": "stdout",
     "output_type": "stream",
     "text": [
      "\r\n",
      "\r\n",
      "\r",
      "sub-UCL_rec-uncombined2_T2starw.nii.gz:  40%|▍| 340k/841k [00:00<00:00, 534kB/s]\u001b[A\u001b[A\r",
      "sub-UCL_rec-uncombined4_T2starw.nii.gz:  39%|▍| 312k/796k [00:00<00:00, 1.24MB/s"
     ]
    },
    {
     "name": "stdout",
     "output_type": "stream",
     "text": [
      "\r\n",
      "\r",
      "sub-UCL_rec-uncombined3_T2starw.nii.gz:  26%|▎| 208k/813k [00:00<00:00, 785kB/s]\u001b[A\r\n",
      "\r\n",
      "\r\n",
      "\r",
      "sub-UCL_rec-uncombined6_T2starw.nii.gz:  10%| | 85.3k/821k [00:00<00:01, 618kB/s\u001b[A\u001b[A\u001b[A"
     ]
    },
    {
     "name": "stdout",
     "output_type": "stream",
     "text": [
      "\r",
      "                                                                                \r",
      "\r",
      "sub-UCL_rec-uncombined6_T2starw.json:   0%|         | 0.00/2.46k [00:00<?, ?B/s]\r",
      "                                                                                \r"
     ]
    },
    {
     "name": "stdout",
     "output_type": "stream",
     "text": [
      "\r\n",
      "\r",
      "sub-UCL_rec-uncombined3_T2starw.nii.gz:  40%|▍| 324k/813k [00:00<00:00, 858kB/s]\u001b[A\r\n",
      "\r\n",
      "\r\n",
      "\r",
      "sub-UCL_rec-uncombined6_T2starw.nii.gz:  21%|▏| 171k/821k [00:00<00:00, 712kB/s]\u001b[A\u001b[A\u001b[A\r\n",
      "\r\n",
      "\r",
      "sub-UCL_rec-uncombined2_T2starw.nii.gz:  51%|▌| 425k/841k [00:00<00:00, 545kB/s]\u001b[A\u001b[A"
     ]
    },
    {
     "name": "stdout",
     "output_type": "stream",
     "text": [
      "\r\n",
      "\r\n",
      "\r\n",
      "\r",
      "sub-UCL_rec-uncombined6_T2starw.nii.gz:  75%|▋| 612k/821k [00:00<00:00, 2.25MB/s\u001b[A\u001b[A\u001b[A\r\n",
      "\r\n",
      "\r\n",
      "\r",
      "                                                                                \u001b[A\u001b[A\u001b[A"
     ]
    },
    {
     "name": "stdout",
     "output_type": "stream",
     "text": [
      "\r\n",
      "\r",
      "sub-UCL_rec-uncombined3_T2starw.nii.gz:  66%|▋| 538k/813k [00:00<00:00, 1.14MB/s\u001b[A\r\n",
      "\r\n",
      "\r",
      "sub-UCL_rec-uncombined2_T2starw.nii.gz:  61%|▌| 511k/841k [00:01<00:00, 570kB/s]\u001b[A\u001b[A"
     ]
    },
    {
     "name": "stdout",
     "output_type": "stream",
     "text": [
      "\r\n",
      "\r",
      "sub-UCL_rec-uncombined3_T2starw.nii.gz:  89%|▉| 725k/813k [00:00<00:00, 1.24MB/s\u001b[A"
     ]
    },
    {
     "name": "stdout",
     "output_type": "stream",
     "text": [
      "\r",
      "sub-UCL_rec-uncombined5_T2starw.nii.gz:   0%|        | 0.00/935k [00:00<?, ?B/s]\r\n",
      "\r\n",
      "\r",
      "sub-UCL_rec-uncombined2_T2starw.nii.gz:  75%|▋| 629k/841k [00:01<00:00, 659kB/s]\u001b[A\u001b[A"
     ]
    },
    {
     "name": "stdout",
     "output_type": "stream",
     "text": [
      "\r\n",
      "\r\n",
      "\r\n",
      "\r",
      "sub-UCL_rec-uncombined7_T2starw.json:   0%|         | 0.00/2.46k [00:00<?, ?B/s]\u001b[A\u001b[A\u001b[A\r\n",
      "\r\n",
      "\r\n",
      "\r",
      "                                                                                \u001b[A\u001b[A\u001b[A\r\n",
      "\r",
      "                                                                                \u001b[A"
     ]
    },
    {
     "name": "stdout",
     "output_type": "stream",
     "text": [
      "\r",
      "sub-UCL_rec-uncombined5_T2starw.nii.gz:   7%| | 66.6k/935k [00:00<00:01, 569kB/s\r\n",
      "\r\n",
      "\r",
      "sub-UCL_rec-uncombined2_T2starw.nii.gz:  85%|▊| 714k/841k [00:01<00:00, 683kB/s]\u001b[A\u001b[A"
     ]
    },
    {
     "name": "stdout",
     "output_type": "stream",
     "text": [
      "\r\n",
      "\r",
      "sub-UCL_rec-uncombined7_T2starw.nii.gz:   0%|        | 0.00/788k [00:00<?, ?B/s]\u001b[A"
     ]
    },
    {
     "name": "stdout",
     "output_type": "stream",
     "text": [
      "\r",
      "sub-UCL_rec-uncombined5_T2starw.nii.gz:  16%|▏| 152k/935k [00:00<00:01, 733kB/s]\r\n",
      "\r\n",
      "\r",
      "sub-UCL_rec-uncombined2_T2starw.nii.gz:  95%|▉| 799k/841k [00:01<00:00, 715kB/s]\u001b[A\u001b[A\r\n",
      "\r\n",
      "\r",
      "                                                                                \u001b[A\u001b[A"
     ]
    },
    {
     "name": "stdout",
     "output_type": "stream",
     "text": [
      "\r\n",
      "\r",
      "sub-UCL_rec-uncombined7_T2starw.nii.gz:  10%| | 77.0k/788k [00:00<00:01, 593kB/s\u001b[A"
     ]
    },
    {
     "name": "stdout",
     "output_type": "stream",
     "text": [
      "\r",
      "sub-UCL_rec-uncombined5_T2starw.nii.gz:  67%|▋| 628k/935k [00:00<00:00, 2.24MB/s"
     ]
    },
    {
     "name": "stdout",
     "output_type": "stream",
     "text": [
      "\r",
      "                                                                                \r",
      "\r",
      "sub-UCL_rec-uncombined8_T2starw.nii.gz:   0%|        | 0.00/782k [00:00<?, ?B/s]\r\n",
      "\r\n",
      "\r",
      "sub-UCL_rec-uncombined8_T2starw.json:   0%|         | 0.00/2.46k [00:00<?, ?B/s]\u001b[A\u001b[A"
     ]
    },
    {
     "name": "stdout",
     "output_type": "stream",
     "text": [
      "\r\n",
      "\r\n",
      "\r",
      "                                                                                \u001b[A\u001b[A\r\n",
      "\r",
      "sub-UCL_rec-uncombined7_T2starw.nii.gz:  28%|▎| 217k/788k [00:00<00:00, 831kB/s]\u001b[A"
     ]
    },
    {
     "name": "stdout",
     "output_type": "stream",
     "text": [
      "\r\n",
      "\r\n",
      "\r",
      "sub-UCL_acq-anat_TB1TFL.json:   0%|                 | 0.00/2.68k [00:00<?, ?B/s]\u001b[A\u001b[A\r\n",
      "\r\n",
      "\r",
      "                                                                                \u001b[A\u001b[A\r",
      "sub-UCL_rec-uncombined8_T2starw.nii.gz:   9%| | 66.6k/782k [00:00<00:01, 447kB/s\r\n",
      "\r",
      "sub-UCL_rec-uncombined7_T2starw.nii.gz:  45%|▍| 353k/788k [00:00<00:00, 964kB/s]\u001b[A"
     ]
    },
    {
     "name": "stdout",
     "output_type": "stream",
     "text": [
      "\r",
      "sub-UCL_rec-uncombined8_T2starw.nii.gz:  35%|▎| 271k/782k [00:00<00:00, 1.17MB/s\r\n",
      "\r",
      "sub-UCL_rec-uncombined7_T2starw.nii.gz:  64%|▋| 506k/788k [00:00<00:00, 1.12MB/s\u001b[A\r\n",
      "\r\n",
      "\r",
      "sub-UCL_acq-coilQaSagLarge_SNR.json:   0%|          | 0.00/2.18k [00:00<?, ?B/s]\u001b[A\u001b[A\r\n",
      "\r\n",
      "\r",
      "                                                                                \u001b[A\u001b[A"
     ]
    },
    {
     "name": "stdout",
     "output_type": "stream",
     "text": [
      "\r\n",
      "\r\n",
      "\r",
      "sub-UCL_acq-anat_TB1TFL.nii.gz:   0%|                | 0.00/847k [00:00<?, ?B/s]\u001b[A\u001b[A\r",
      "                                                                                \r"
     ]
    },
    {
     "name": "stdout",
     "output_type": "stream",
     "text": [
      "\r\n",
      "\r",
      "sub-UCL_rec-uncombined7_T2starw.nii.gz:  79%|▊| 625k/788k [00:00<00:00, 1.11MB/s\u001b[A"
     ]
    },
    {
     "name": "stdout",
     "output_type": "stream",
     "text": [
      "\r",
      "sub-UCL_acq-coilQaSagSmall_GFactor.json:   0%|      | 0.00/2.20k [00:00<?, ?B/s]\r",
      "                                                                                \r"
     ]
    },
    {
     "name": "stdout",
     "output_type": "stream",
     "text": [
      "\r\n",
      "\r",
      "sub-UCL_rec-uncombined7_T2starw.nii.gz:  97%|▉| 761k/788k [00:00<00:00, 1.19MB/s\u001b[A\r\n",
      "\r\n",
      "\r",
      "sub-UCL_acq-anat_TB1TFL.nii.gz:  10%|▊       | 82.4k/847k [00:00<00:01, 499kB/s]\u001b[A\u001b[A\r\n",
      "\r",
      "                                                                                \u001b[A"
     ]
    },
    {
     "name": "stdout",
     "output_type": "stream",
     "text": [
      "\r\n",
      "\r\n",
      "\r",
      "sub-UCL_acq-anat_TB1TFL.nii.gz:  34%|██▋     | 286k/847k [00:00<00:00, 1.14MB/s]\u001b[A\u001b[A"
     ]
    },
    {
     "name": "stdout",
     "output_type": "stream",
     "text": [
      "\r\n",
      "\r\n",
      "\r",
      "                                                                                \u001b[A\u001b[A\r",
      "sub-UCL_acq-coilQaSagLarge_SNR.nii.gz:   0%|        | 0.00/3.76M [00:00<?, ?B/s]\r\n",
      "\r",
      "sub-UCL_acq-coilQaSagSmall_GFactor.nii.gz:   0%|    | 0.00/2.64M [00:00<?, ?B/s]\u001b[A"
     ]
    },
    {
     "name": "stdout",
     "output_type": "stream",
     "text": [
      "\r\n",
      "\r\n",
      "\r",
      "sub-UCL_acq-coilQaTra_GFactor.json:   0%|           | 0.00/2.10k [00:00<?, ?B/s]\u001b[A\u001b[A\r\n",
      "\r\n",
      "\r",
      "                                                                                \u001b[A\u001b[A"
     ]
    },
    {
     "name": "stdout",
     "output_type": "stream",
     "text": [
      "\r\n",
      "\r",
      "sub-UCL_acq-coilQaSagSmall_GFactor.nii.gz:   3%| | 83.6k/2.64M [00:00<00:04, 618\u001b[A\r",
      "sub-UCL_acq-coilQaSagLarge_SNR.nii.gz:   2%| | 83.6k/3.76M [00:00<00:06, 606kB/s"
     ]
    },
    {
     "name": "stdout",
     "output_type": "stream",
     "text": [
      "\r\n",
      "\r\n",
      "\r",
      "sub-UCL_acq-coilQaTra_GFactor.nii.gz:   0%|         | 0.00/11.7M [00:00<?, ?B/s]\u001b[A\u001b[A"
     ]
    },
    {
     "name": "stdout",
     "output_type": "stream",
     "text": [
      "\r\n",
      "\r\n",
      "\r\n",
      "\r",
      "sub-UCL_acq-famp-0.66_TB1DREAM.json:   0%|          | 0.00/2.16k [00:00<?, ?B/s]\u001b[A\u001b[A\u001b[A\r\n",
      "\r\n",
      "\r\n",
      "\r",
      "                                                                                \u001b[A\u001b[A\u001b[A"
     ]
    },
    {
     "name": "stdout",
     "output_type": "stream",
     "text": [
      "\r\n",
      "\r",
      "sub-UCL_acq-coilQaSagSmall_GFactor.nii.gz:  10%| | 271k/2.64M [00:00<00:02, 1.06\u001b[A\r",
      "sub-UCL_acq-coilQaSagLarge_SNR.nii.gz:   8%| | 305k/3.76M [00:00<00:03, 1.19MB/s"
     ]
    },
    {
     "name": "stdout",
     "output_type": "stream",
     "text": [
      "\r\n",
      "\r\n",
      "\r",
      "sub-UCL_acq-coilQaTra_GFactor.nii.gz:   1%| | 83.6k/11.7M [00:00<00:20, 600kB/s]\u001b[A\u001b[A\r\n",
      "\r\n",
      "\r\n",
      "\r",
      "sub-UCL_acq-famp-0.66_TB1DREAM.nii.gz:   0%|        | 0.00/90.9k [00:00<?, ?B/s]\u001b[A\u001b[A\u001b[A"
     ]
    },
    {
     "name": "stdout",
     "output_type": "stream",
     "text": [
      "\r\n",
      "\r",
      "sub-UCL_acq-coilQaSagSmall_GFactor.nii.gz:  34%|▎| 918k/2.64M [00:00<00:00, 3.15\u001b[A\r",
      "sub-UCL_acq-coilQaSagLarge_SNR.nii.gz:  27%|▎| 1.03M/3.76M [00:00<00:00, 3.61MB/"
     ]
    },
    {
     "name": "stdout",
     "output_type": "stream",
     "text": [
      "\r\n",
      "\r\n",
      "\r",
      "sub-UCL_acq-coilQaTra_GFactor.nii.gz:   3%| | 305k/11.7M [00:00<00:10, 1.19MB/s]\u001b[A\u001b[A\r\n",
      "\r",
      "sub-UCL_acq-coilQaSagSmall_GFactor.nii.gz:  68%|▋| 1.79M/2.64M [00:00<00:00, 5.3\u001b[A\r",
      "sub-UCL_acq-coilQaSagLarge_SNR.nii.gz:  54%|▌| 2.02M/3.76M [00:00<00:00, 5.98MB/\r\n",
      "\r\n",
      "\r\n",
      "\r",
      "sub-UCL_acq-famp-0.66_TB1DREAM.nii.gz:  92%|▉| 83.6k/90.9k [00:00<00:00, 641kB/s\u001b[A\u001b[A\u001b[A\r\n",
      "\r\n",
      "\r\n",
      "\r",
      "                                                                                \u001b[A\u001b[A\u001b[A"
     ]
    },
    {
     "name": "stdout",
     "output_type": "stream",
     "text": [
      "\r\n",
      "\r\n",
      "\r\n",
      "\r",
      "sub-UCL_acq-famp-1.5_TB1DREAM.json:   0%|           | 0.00/2.16k [00:00<?, ?B/s]\u001b[A\u001b[A\u001b[A\r\n",
      "\r\n",
      "\r\n",
      "\r",
      "                                                                                \u001b[A\u001b[A\u001b[A"
     ]
    },
    {
     "name": "stdout",
     "output_type": "stream",
     "text": [
      "\r\n",
      "\r\n",
      "\r",
      "sub-UCL_acq-coilQaTra_GFactor.nii.gz:   5%| | 628k/11.7M [00:00<00:05, 1.95MB/s]\u001b[A\u001b[A\r\n",
      "\r",
      "sub-UCL_acq-coilQaSagSmall_GFactor.nii.gz:  89%|▉| 2.36M/2.64M [00:00<00:00, 5.4\u001b[A\r\n",
      "\r",
      "                                                                                \u001b[A"
     ]
    },
    {
     "name": "stdout",
     "output_type": "stream",
     "text": [
      "\r",
      "sub-UCL_acq-coilQaSagLarge_SNR.nii.gz:  71%|▋| 2.67M/3.76M [00:00<00:00, 5.24MB/"
     ]
    },
    {
     "name": "stdout",
     "output_type": "stream",
     "text": [
      "\r\n",
      "\r\n",
      "\r",
      "sub-UCL_acq-coilQaTra_GFactor.nii.gz:  13%|▏| 1.54M/11.7M [00:00<00:02, 4.63MB/s\u001b[A\u001b[A\r",
      "                                                                                \r"
     ]
    },
    {
     "name": "stdout",
     "output_type": "stream",
     "text": [
      "\r\n",
      "\r\n",
      "\r",
      "sub-UCL_acq-coilQaTra_GFactor.nii.gz:  38%|▍| 4.48M/11.7M [00:00<00:00, 12.8MB/s\u001b[A\u001b[A\r",
      "sub-UCL_acq-famp-1.5_TB1DREAM.nii.gz:   0%|         | 0.00/91.5k [00:00<?, ?B/s]"
     ]
    },
    {
     "name": "stdout",
     "output_type": "stream",
     "text": [
      "\r\n",
      "\r",
      "sub-UCL_acq-famp_TB1DREAM.json:   0%|               | 0.00/2.14k [00:00<?, ?B/s]\u001b[A\r\n",
      "\r",
      "                                                                                \u001b[A"
     ]
    },
    {
     "name": "stdout",
     "output_type": "stream",
     "text": [
      "\r\n",
      "\r\n",
      "\r",
      "sub-UCL_acq-coilQaTra_GFactor.nii.gz:  61%|▌| 7.18M/11.7M [00:00<00:00, 17.6MB/s\u001b[A\u001b[A\r\n",
      "\r",
      "sub-UCL_acq-famp_TB1TFL.json:   0%|                 | 0.00/2.71k [00:00<?, ?B/s]\u001b[A\r\n",
      "\r",
      "                                                                                \u001b[A"
     ]
    },
    {
     "name": "stdout",
     "output_type": "stream",
     "text": [
      "\r",
      "sub-UCL_acq-famp-1.5_TB1DREAM.nii.gz:  93%|▉| 85.3k/91.5k [00:00<00:00, 621kB/s]\r",
      "                                                                                \r"
     ]
    },
    {
     "name": "stdout",
     "output_type": "stream",
     "text": [
      "\r\n",
      "\r\n",
      "\r",
      "sub-UCL_acq-coilQaTra_GFactor.nii.gz:  78%|▊| 9.10M/11.7M [00:00<00:00, 18.3MB/s\u001b[A\u001b[A"
     ]
    },
    {
     "name": "stdout",
     "output_type": "stream",
     "text": [
      "\r\n",
      "\r\n",
      "\r",
      "                                                                                \u001b[A\u001b[A"
     ]
    },
    {
     "name": "stdout",
     "output_type": "stream",
     "text": [
      "\r",
      "sub-UCL_acq-famp_TB1DREAM.nii.gz:   0%|             | 0.00/90.7k [00:00<?, ?B/s]"
     ]
    },
    {
     "name": "stdout",
     "output_type": "stream",
     "text": [
      "\r\n",
      "\r",
      "sub-UCL_acq-famp_TB1TFL.nii.gz:   0%|                | 0.00/921k [00:00<?, ?B/s]\u001b[A\r\n",
      "\r\n",
      "\r",
      "sub-UCL_acq-refv-0.66_TB1DREAM.json:   0%|          | 0.00/2.17k [00:00<?, ?B/s]\u001b[A\u001b[A\r\n",
      "\r\n",
      "\r",
      "                                                                                \u001b[A\u001b[A"
     ]
    },
    {
     "name": "stdout",
     "output_type": "stream",
     "text": [
      "\r",
      "sub-UCL_acq-famp_TB1DREAM.nii.gz:  67%|███▎ | 61.1k/90.7k [00:00<00:00, 447kB/s]"
     ]
    },
    {
     "name": "stdout",
     "output_type": "stream",
     "text": [
      "\r",
      "                                                                                \r",
      "\r",
      "sub-UCL_acq-refv-0.66_TB1DREAM.nii.gz:   0%|        | 0.00/81.8k [00:00<?, ?B/s]\r\n",
      "\r",
      "sub-UCL_acq-famp_TB1TFL.nii.gz:   5%|▍       | 50.4k/921k [00:00<00:02, 367kB/s]\u001b[A\r\n",
      "\r\n",
      "\r",
      "sub-UCL_acq-refv_TB1DREAM.json:   0%|               | 0.00/2.16k [00:00<?, ?B/s]\u001b[A\u001b[A\r\n",
      "\r\n",
      "\r",
      "                                                                                \u001b[A\u001b[A"
     ]
    },
    {
     "name": "stdout",
     "output_type": "stream",
     "text": [
      "\r",
      "sub-UCL_acq-refv-0.66_TB1DREAM.nii.gz: 100%|█| 81.8k/81.8k [00:00<00:00, 592kB/s\r",
      "                                                                                \r",
      "\r\n",
      "\r",
      "sub-UCL_acq-famp_TB1TFL.nii.gz:  12%|█        | 112k/921k [00:00<00:02, 411kB/s]\u001b[A"
     ]
    },
    {
     "name": "stdout",
     "output_type": "stream",
     "text": [
      "\r",
      "sub-UCL_acq-refv-1.5_TB1DREAM.nii.gz:   0%|         | 0.00/88.7k [00:00<?, ?B/s]"
     ]
    },
    {
     "name": "stdout",
     "output_type": "stream",
     "text": [
      "\r\n",
      "\r\n",
      "\r",
      "sub-UCL_acq-refv-1.5_TB1DREAM.json:   0%|           | 0.00/2.17k [00:00<?, ?B/s]\u001b[A\u001b[A\r\n",
      "\r\n",
      "\r",
      "                                                                                \u001b[A\u001b[A\r\n",
      "\r",
      "sub-UCL_acq-famp_TB1TFL.nii.gz:  20%|█▊       | 184k/921k [00:00<00:01, 457kB/s]\u001b[A"
     ]
    },
    {
     "name": "stdout",
     "output_type": "stream",
     "text": [
      "\r\n",
      "\r\n",
      "\r",
      "sub-UCL_acq-refv_TB1DREAM.nii.gz:   0%|             | 0.00/86.0k [00:00<?, ?B/s]\u001b[A\u001b[A"
     ]
    },
    {
     "name": "stdout",
     "output_type": "stream",
     "text": [
      "\r",
      "sub-UCL_acq-refv-1.5_TB1DREAM.nii.gz:  94%|▉| 83.6k/88.7k [00:00<00:00, 625kB/s]\r",
      "                                                                                \r"
     ]
    },
    {
     "name": "stdout",
     "output_type": "stream",
     "text": [
      "\r\n",
      "\r",
      "sub-UCL_acq-famp_TB1TFL.nii.gz:  28%|██▌      | 258k/921k [00:00<00:01, 488kB/s]\u001b[A\r\n",
      "\r\n",
      "\r",
      "sub-UCL_acq-refv_TB1DREAM.nii.gz:  96%|████▊| 82.4k/86.0k [00:00<00:00, 635kB/s]\u001b[A\u001b[A\r\n",
      "\r\n",
      "\r",
      "                                                                                \u001b[A\u001b[A"
     ]
    },
    {
     "name": "stdout",
     "output_type": "stream",
     "text": [
      "\r\n",
      "\r",
      "sub-UCL_acq-famp_TB1TFL.nii.gz:  36%|███▏     | 330k/921k [00:00<00:01, 501kB/s]\u001b[A"
     ]
    },
    {
     "name": "stdout",
     "output_type": "stream",
     "text": [
      "\r\n",
      "\r",
      "sub-UCL_acq-famp_TB1TFL.nii.gz:  45%|████     | 415k/921k [00:00<00:00, 535kB/s]\u001b[A"
     ]
    },
    {
     "name": "stdout",
     "output_type": "stream",
     "text": [
      "\r\n",
      "\r",
      "sub-UCL_acq-famp_TB1TFL.nii.gz:  56%|█████    | 517k/921k [00:00<00:00, 600kB/s]\u001b[A"
     ]
    },
    {
     "name": "stdout",
     "output_type": "stream",
     "text": [
      "\r\n",
      "\r",
      "sub-UCL_acq-famp_TB1TFL.nii.gz:  67%|██████   | 619k/921k [00:01<00:00, 644kB/s]\u001b[A"
     ]
    },
    {
     "name": "stdout",
     "output_type": "stream",
     "text": [
      "\r\n",
      "\r",
      "sub-UCL_acq-famp_TB1TFL.nii.gz:  80%|███████▏ | 738k/921k [00:01<00:00, 706kB/s]\u001b[A"
     ]
    },
    {
     "name": "stdout",
     "output_type": "stream",
     "text": [
      "\r\n",
      "\r",
      "sub-UCL_acq-famp_TB1TFL.nii.gz:  95%|████████▌| 874k/921k [00:01<00:00, 791kB/s]\u001b[A\r\n",
      "\r",
      "                                                                                \u001b[A✅ Finished downloading ds005090.\r\n",
      " \r\n",
      "🧠 Please enjoy your brains.\r\n",
      " \r\n"
     ]
    }
   ],
   "source": [
    "# Download data from OpenNeuro ⏳\n",
    "\n",
    "!openneuro-py download --dataset ds005090 --target-dir data-phantom/"
   ]
  },
  {
   "cell_type": "code",
   "execution_count": 3,
   "id": "4",
   "metadata": {
    "execution": {
     "iopub.execute_input": "2024-10-27T14:53:35.712888Z",
     "iopub.status.busy": "2024-10-27T14:53:35.712316Z",
     "iopub.status.idle": "2024-10-27T14:53:35.718650Z",
     "shell.execute_reply": "2024-10-27T14:53:35.718098Z"
    },
    "papermill": {
     "duration": 0.071466,
     "end_time": "2024-10-27T14:53:35.719970",
     "exception": false,
     "start_time": "2024-10-27T14:53:35.648504",
     "status": "completed"
    },
    "tags": []
   },
   "outputs": [
    {
     "name": "stdout",
     "output_type": "stream",
     "text": [
      "path_data: /home/runner/work/coil-qc-code/coil-qc-code/data-phantom/\n",
      "subjects: ['sub-CRMBM', 'sub-MGH', 'sub-MNI', 'sub-MPI', 'sub-MSSM', 'sub-NTNU', 'sub-UCL']\n"
     ]
    }
   ],
   "source": [
    "# Define path (needs to be run in the root directory of the project)\n",
    "path_data = os.path.join(os.getcwd(), \"data-phantom/\")\n",
    "print(f\"path_data: {path_data}\")\n",
    "path_labels = os.path.join(path_data, \"derivatives\", \"labels\")\n",
    "path_qc = os.path.join(path_data, \"qc\")\n",
    "subjects = [os.path.basename(subject_path) for subject_path in sorted(glob.glob(os.path.join(path_data, \"sub-*\")))]\n",
    "print(f\"subjects: {subjects}\")\n",
    "path_results = os.path.join(path_data, \"derivatives\", \"results\")\n",
    "\n",
    "# Create results directory\n",
    "os.makedirs(path_results, exist_ok=True)"
   ]
  },
  {
   "cell_type": "markdown",
   "id": "5",
   "metadata": {
    "papermill": {
     "duration": 0.039836,
     "end_time": "2024-10-27T14:53:35.800559",
     "exception": false,
     "start_time": "2024-10-27T14:53:35.760723",
     "status": "completed"
    },
    "tags": []
   },
   "source": [
    "## Convert TFL and DREAM flip angle maps to B1+ in units of nT/V"
   ]
  },
  {
   "cell_type": "code",
   "execution_count": 4,
   "id": "6",
   "metadata": {
    "execution": {
     "iopub.execute_input": "2024-10-27T14:53:35.883836Z",
     "iopub.status.busy": "2024-10-27T14:53:35.883329Z",
     "iopub.status.idle": "2024-10-27T14:53:36.311388Z",
     "shell.execute_reply": "2024-10-27T14:53:36.310691Z"
    },
    "papermill": {
     "duration": 0.471958,
     "end_time": "2024-10-27T14:53:36.312898",
     "exception": false,
     "start_time": "2024-10-27T14:53:35.840940",
     "status": "completed"
    },
    "tags": []
   },
   "outputs": [
    {
     "name": "stdout",
     "output_type": "stream",
     "text": [
      "ref_voltage [V]: 224.5 (sub-CRMBM_acq-famp_TB1TFL)\n",
      "flip angle [degrees]: 90 (sub-CRMBM_acq-famp_TB1TFL)\n"
     ]
    },
    {
     "name": "stdout",
     "output_type": "stream",
     "text": [
      "ref_voltage [V]: 419.5 (sub-MGH_acq-famp_TB1TFL)\n",
      "flip angle [degrees]: 89.99 (sub-MGH_acq-famp_TB1TFL)\n",
      "ref_voltage [V]: 464 (sub-MNI_acq-famp_TB1TFL)\n",
      "flip angle [degrees]: 89.99 (sub-MNI_acq-famp_TB1TFL)\n",
      "ref_voltage [V]: 408 (sub-MPI_acq-famp_TB1TFL)\n",
      "flip angle [degrees]: 90 (sub-MPI_acq-famp_TB1TFL)\n"
     ]
    },
    {
     "name": "stdout",
     "output_type": "stream",
     "text": [
      "ref_voltage [V]: 422 (sub-MSSM_acq-famp_TB1TFL)\n",
      "flip angle [degrees]: 68 (sub-MSSM_acq-famp_TB1TFL)\n"
     ]
    },
    {
     "name": "stdout",
     "output_type": "stream",
     "text": [
      "ref_voltage [V]: 408 (sub-NTNU_acq-famp_TB1TFL)\n",
      "flip angle [degrees]: 90 (sub-NTNU_acq-famp_TB1TFL)\n",
      "ref_voltage [V]: 270 (sub-UCL_acq-famp_TB1TFL)\n",
      "flip angle [degrees]: 90 (sub-UCL_acq-famp_TB1TFL)\n"
     ]
    }
   ],
   "source": [
    "# Convert the TFL flip angle maps to B1+ efficiency maps [nT/V] (inspired by code from Kyle Gilbert)\n",
    "# The approach consists in calculating the B1+ efficiency using a 1ms, pi-pulse at the acquisition voltage,\n",
    "# then scale the efficiency by the ratio of the measured flip angle to the requested flip angle in the pulse sequence.\n",
    "\n",
    "for subject in subjects:\n",
    "    os.chdir(os.path.join(path_data, subject, \"fmap\"))\n",
    "\n",
    "    # Fetch the reference voltage from the JSON sidecar \n",
    "    with open(f\"{subject}_acq-famp_TB1TFL.json\", \"r\") as f:\n",
    "        metadata = json.load(f)\n",
    "        ref_voltage = metadata.get(\"TxRefAmp\", \"N/A\")\n",
    "        if (ref_voltage == \"N/A\"):\n",
    "            ref_token = \"N/A\"\n",
    "            for token in metadata.get(\"SeriesDescription\", \"N/A\").split(\"_\"):\n",
    "                if token.startswith(\"RefV\"): ref_token = token\n",
    "            ref_voltage = float(ref_token[4:-1])\n",
    "        \n",
    "    print(f\"ref_voltage [V]: {ref_voltage} ({subject}_acq-famp_TB1TFL)\")\n",
    "                \n",
    "    # Fetch the flip angle from the JSON sidecar \n",
    "    with open(f\"{subject}_acq-famp_TB1TFL.json\", \"r\") as f:\n",
    "        metadata = json.load(f)\n",
    "        requested_fa = metadata.get(\"FlipAngle\", \"N/A\")\n",
    "        print(f\"flip angle [degrees]: {requested_fa} ({subject}_acq-famp_TB1TFL)\")\n",
    "\n",
    "    # Open flip angle map with nibabel\n",
    "    nii = nib.load(f\"{subject}_acq-famp_TB1TFL.nii.gz\")\n",
    "    meas_fa = nii.get_fdata()\n",
    "\n",
    "    # Account for the power loss between the coil and the socket. That number was given by Siemens.\n",
    "    voltage_at_socket = ref_voltage * 10 ** -0.095\n",
    "\n",
    "    # Compute B1 map in [T/V]\n",
    "    # Siemens maps are in units of flip angle * 10 (in degrees)\n",
    "    b1_map = ((meas_fa / 10) / requested_fa) * (np.pi / (GAMMA * 1e-3 * voltage_at_socket))\n",
    "\n",
    "    # Convert to [nT/V]\n",
    "    b1_map = b1_map * 1e9\n",
    "\n",
    "    # Save B1 map in [T/V] as NIfTI file\n",
    "    nii_b1 = nib.Nifti1Image(b1_map, nii.affine, nii.header)\n",
    "    nib.save(nii_b1, f\"{subject}_TFLTB1map.nii.gz\")"
   ]
  },
  {
   "cell_type": "code",
   "execution_count": 5,
   "id": "7",
   "metadata": {
    "execution": {
     "iopub.execute_input": "2024-10-27T14:53:36.394056Z",
     "iopub.status.busy": "2024-10-27T14:53:36.393787Z",
     "iopub.status.idle": "2024-10-27T14:53:36.506309Z",
     "shell.execute_reply": "2024-10-27T14:53:36.505565Z"
    },
    "papermill": {
     "duration": 0.15478,
     "end_time": "2024-10-27T14:53:36.507780",
     "exception": false,
     "start_time": "2024-10-27T14:53:36.353000",
     "status": "completed"
    },
    "tags": []
   },
   "outputs": [
    {
     "name": "stderr",
     "output_type": "stream",
     "text": [
      "/tmp/ipykernel_1862/3268472193.py:89: RuntimeWarning: Mean of empty slice\n",
      "  avgB1=np.nanmean(b1_maps,axis=0)\n",
      "/tmp/ipykernel_1862/3268472193.py:89: RuntimeWarning: Mean of empty slice\n",
      "  avgB1=np.nanmean(b1_maps,axis=0)\n",
      "/tmp/ipykernel_1862/3268472193.py:89: RuntimeWarning: Mean of empty slice\n",
      "  avgB1=np.nanmean(b1_maps,axis=0)\n",
      "/tmp/ipykernel_1862/3268472193.py:89: RuntimeWarning: Mean of empty slice\n",
      "  avgB1=np.nanmean(b1_maps,axis=0)\n",
      "/tmp/ipykernel_1862/3268472193.py:89: RuntimeWarning: Mean of empty slice\n",
      "  avgB1=np.nanmean(b1_maps,axis=0)\n",
      "/tmp/ipykernel_1862/3268472193.py:89: RuntimeWarning: Mean of empty slice\n",
      "  avgB1=np.nanmean(b1_maps,axis=0)\n",
      "/tmp/ipykernel_1862/3268472193.py:89: RuntimeWarning: Mean of empty slice\n",
      "  avgB1=np.nanmean(b1_maps,axis=0)\n"
     ]
    }
   ],
   "source": [
    "# load DREAM FA maps acquired with different reference voltages\n",
    "# threshold FA maps to 20deg < FA < 50deg\n",
    "# combine FA maps by averaging non-zero estimates of FA in each pixel\n",
    "\n",
    "voltages = [\"1.5\", \"0.66\"]\n",
    "\n",
    "for subject in subjects:\n",
    "    \n",
    "    b1_maps = []\n",
    "    os.chdir(os.path.join(path_data, subject, \"fmap\"))\n",
    "\n",
    "    # Fetch the reference voltage from the JSON sidecar \n",
    "    with open(f\"{subject}_acq-famp_TB1DREAM.json\", \"r\") as f:\n",
    "        metadata = json.load(f)\n",
    "        ref_voltage = metadata.get(\"TxRefAmp\", \"N/A\")\n",
    "        if (ref_voltage == \"N/A\"):\n",
    "            ref_token = \"N/A\"\n",
    "            for token in metadata.get(\"SeriesDescription\", \"N/A\").split(\"_\"):\n",
    "                if token.startswith(\"RefV\"): ref_token = token\n",
    "            ref_voltage = float(ref_token[4:-1])\n",
    "    \n",
    "    # Open refV flip angle map with nibabel\n",
    "    nii = nib.load(f\"{subject}_acq-famp_TB1DREAM.nii.gz\")\n",
    "    meas_fa = nii.get_fdata()\n",
    "    #thresholding\n",
    "    meas_fa[meas_fa < 200] = np.nan\n",
    "    meas_fa[meas_fa > 500] = np.nan\n",
    "\n",
    "    # Fetch the flip angle from the JSON sidecar \n",
    "    with open(f\"{subject}_acq-famp_TB1DREAM.json\", \"r\") as f:\n",
    "        metadata = json.load(f)\n",
    "        requested_fa = metadata.get(\"FlipAngle\", \"N/A\")\n",
    "        #convert measured FA to percent of requested FA (note that measured FA map is in degrees * 10)\n",
    "        meas_fa = (meas_fa/10) / requested_fa\n",
    "\n",
    "    # Account for the power loss between the coil and the socket. That number was given by Siemens.\n",
    "    voltage_at_socket = ref_voltage * 10 ** -0.095\n",
    "    # Compute B1 map in [T/V]\n",
    "    b1_map = meas_fa * (np.pi / (GAMMA * 1e-3 * voltage_at_socket))\n",
    "    # Convert to [nT/V]\n",
    "    b1_map = b1_map * 1e9\n",
    "    \n",
    "    b1_maps.append(b1_map)\n",
    "\n",
    "    for voltage in voltages:\n",
    "        \n",
    "        #check if map exists\n",
    "        my_file = Path(f\"{subject}_acq-famp-{voltage}_TB1DREAM.nii.gz\")\n",
    "        \n",
    "        if my_file.is_file():\n",
    "            \n",
    "            # Fetch the reference voltage from the JSON sidecar \n",
    "            with open(f\"{subject}_acq-famp-{voltage}_TB1DREAM.json\", \"r\") as f:\n",
    "                metadata = json.load(f)\n",
    "                ref_voltage = metadata.get(\"TxRefAmp\", \"N/A\")\n",
    "                if (ref_voltage == \"N/A\"):\n",
    "                    ref_token = \"N/A\"\n",
    "                    for token in metadata.get(\"SeriesDescription\", \"N/A\").split(\"_\"):\n",
    "                        if token.startswith(\"RefV\"): ref_token = token\n",
    "                    ref_voltage = float(ref_token[4:-1])\n",
    "                \n",
    "            # Open flip angle map with nibabel\n",
    "            nii = nib.load(f\"{subject}_acq-famp-{voltage}_TB1DREAM.nii.gz\")\n",
    "            meas_fa = nii.get_fdata()\n",
    "            #thresholding\n",
    "            meas_fa[meas_fa < 200] = np.nan\n",
    "            meas_fa[meas_fa > 500] = np.nan\n",
    "        \n",
    "            # Fetch the flip angle from the JSON sidecar \n",
    "            with open(f\"{subject}_acq-famp-{voltage}_TB1DREAM.json\", \"r\") as f:\n",
    "                metadata = json.load(f)\n",
    "                requested_fa = metadata.get(\"FlipAngle\", \"N/A\")\n",
    "                #convert measured FA to percent of requested FA (note that measured FA map is in degrees * 10)\n",
    "                meas_fa = (meas_fa/10) / requested_fa\n",
    "        else:\n",
    "            meas_fa = np.full((nii.header).get_data_shape(),np.nan)\n",
    "\n",
    "        # Account for the power loss between the coil and the socket. That number was given by Siemens.\n",
    "        voltage_at_socket = ref_voltage * 10 ** -0.095\n",
    "        # Compute B1 map in [T/V]\n",
    "        # Siemens maps are in units of flip angle * 10 (in degrees)\n",
    "        b1_map = meas_fa * (np.pi / (GAMMA * 1e-3 * voltage_at_socket))\n",
    "        # Convert to [nT/V]\n",
    "        b1_map = b1_map * 1e9\n",
    "        \n",
    "        b1_maps.append(b1_map)\n",
    " \n",
    "    # compute mean of non-zero values\n",
    "    avgB1=np.nanmean(b1_maps,axis=0)\n",
    "    \n",
    "    # Save as NIfTI file\n",
    "    nii_avgB1 = nib.Nifti1Image(avgB1, nii.affine, nii.header)\n",
    "    nib.save(nii_avgB1, f\"{subject}_DREAMTB1avgB1map.nii.gz\")"
   ]
  },
  {
   "cell_type": "code",
   "execution_count": 6,
   "id": "8",
   "metadata": {
    "execution": {
     "iopub.execute_input": "2024-10-27T14:53:36.588149Z",
     "iopub.status.busy": "2024-10-27T14:53:36.587622Z",
     "iopub.status.idle": "2024-10-27T14:53:37.381364Z",
     "shell.execute_reply": "2024-10-27T14:53:37.380572Z"
    },
    "papermill": {
     "duration": 0.835582,
     "end_time": "2024-10-27T14:53:37.383048",
     "exception": false,
     "start_time": "2024-10-27T14:53:36.547466",
     "status": "completed"
    },
    "tags": []
   },
   "outputs": [
    {
     "name": "stdout",
     "output_type": "stream",
     "text": [
      "/usr/bin/sh: 1: sct_image: not found\r\n"
     ]
    },
    {
     "name": "stdout",
     "output_type": "stream",
     "text": [
      "/usr/bin/sh: 1: sct_image: not found\r\n"
     ]
    },
    {
     "name": "stdout",
     "output_type": "stream",
     "text": [
      "/usr/bin/sh: 1: sct_image: not found\r\n"
     ]
    },
    {
     "name": "stdout",
     "output_type": "stream",
     "text": [
      "/usr/bin/sh: 1: sct_image: not found\r\n"
     ]
    },
    {
     "name": "stdout",
     "output_type": "stream",
     "text": [
      "/usr/bin/sh: 1: sct_image: not found\r\n"
     ]
    },
    {
     "name": "stdout",
     "output_type": "stream",
     "text": [
      "/usr/bin/sh: 1: sct_image: not found\r\n"
     ]
    },
    {
     "name": "stdout",
     "output_type": "stream",
     "text": [
      "/usr/bin/sh: 1: sct_image: not found\r\n"
     ]
    }
   ],
   "source": [
    "# Split SNR data across multiple volumes. The first volume corresponds to the SoS SNR reconstruction, which is\n",
    "#  what we will use for SNR comparison.\n",
    "for subject in subjects:\n",
    "    os.chdir(os.path.join(path_data, subject, \"fmap\"))\n",
    "    !sct_image -i {subject}_acq-coilQaSagLarge_SNR.nii.gz -split t -o {subject}_acq-coilQaSagLarge_SNR.nii.gz"
   ]
  },
  {
   "cell_type": "markdown",
   "id": "9",
   "metadata": {
    "papermill": {
     "duration": 0.039592,
     "end_time": "2024-10-27T14:53:37.463322",
     "exception": false,
     "start_time": "2024-10-27T14:53:37.423730",
     "status": "completed"
    },
    "tags": []
   },
   "source": [
    "## Generate approximate mask of spinal cord\n",
    "\n",
    "The purpose of this section is to generate an approximate mask of the spinal cord that will be used to quantify B1+ values inside the phantom. To do this, we identified a representative human subject, overlaid it on the anthropomorphic phantom, created a few pointwise labels along the spinal cord, interpolated those points using bsplines, and then created a cylindrical mask of 10mm diameter along the generated centerline.\n",
    "\n",
    "![image](figures/spinalcord_mask_creation.png)"
   ]
  },
  {
   "cell_type": "code",
   "execution_count": 7,
   "id": "10",
   "metadata": {
    "execution": {
     "iopub.execute_input": "2024-10-27T14:53:37.545751Z",
     "iopub.status.busy": "2024-10-27T14:53:37.544960Z",
     "iopub.status.idle": "2024-10-27T14:53:37.889843Z",
     "shell.execute_reply": "2024-10-27T14:53:37.889079Z"
    },
    "papermill": {
     "duration": 0.388244,
     "end_time": "2024-10-27T14:53:37.891472",
     "exception": false,
     "start_time": "2024-10-27T14:53:37.503228",
     "status": "completed"
    },
    "tags": []
   },
   "outputs": [
    {
     "name": "stdout",
     "output_type": "stream",
     "text": [
      "/usr/bin/sh: 1: sct_label_utils: not found\r\n"
     ]
    },
    {
     "name": "stdout",
     "output_type": "stream",
     "text": [
      "/usr/bin/sh: 1: sct_get_centerline: not found\r\n"
     ]
    },
    {
     "name": "stdout",
     "output_type": "stream",
     "text": [
      "/usr/bin/sh: 1: sct_create_mask: not found\r\n"
     ]
    }
   ],
   "source": [
    "os.chdir(os.path.join(path_data, \"sub-CRMBM\", \"fmap\"))\n",
    "\n",
    "# Create labels on TFL B1+ map along an approximate spinal cord\n",
    "! sct_label_utils -i \"sub-CRMBM_acq-anat_TB1TFL.nii.gz\" -create 49,108,23,1:49,99,23,1:49,88,23,1:50,76,23,1:55,63,23,1:62,51,23,1:68,35,23,1:72,26,23,1 -o \"label_cord.nii.gz\"\n",
    "# Create spinal cord centerline\n",
    "! sct_get_centerline -i \"label_cord.nii.gz\" -method fitseg -o \"centerline_spinalcord.nii.gz\"\n",
    "# Create mask of 10mm diameter around centerline\n",
    "! sct_create_mask -i \"sub-CRMBM_acq-anat_TB1TFL.nii.gz\" -p centerline,\"centerline_spinalcord.nii.gz\" -size 10mm -f cylinder -o \"sub-CRMBM_TFLTB1map_mask.nii.gz\""
   ]
  },
  {
   "cell_type": "markdown",
   "id": "11",
   "metadata": {
    "papermill": {
     "duration": 0.040142,
     "end_time": "2024-10-27T14:53:37.972717",
     "exception": false,
     "start_time": "2024-10-27T14:53:37.932575",
     "status": "completed"
    },
    "tags": []
   },
   "source": [
    "## Co-register fmap data\n",
    "\n",
    "The purpose of this section if to co-register phantom data across sites, to produce figures showing consistent placement of the phantom across sites, and to be able to use a single mask of the approximate spinal cord for quantitative analysis.\n",
    "\n",
    "The co-registration uses programatically-created labels that correspond to the posterior tip of the phantom, at the inflexion point:\n",
    "\n",
    "![image](figures/label_registration.png)"
   ]
  },
  {
   "cell_type": "code",
   "execution_count": 8,
   "id": "12",
   "metadata": {
    "execution": {
     "iopub.execute_input": "2024-10-27T14:53:38.056002Z",
     "iopub.status.busy": "2024-10-27T14:53:38.055717Z",
     "iopub.status.idle": "2024-10-27T14:53:44.635836Z",
     "shell.execute_reply": "2024-10-27T14:53:44.635020Z"
    },
    "papermill": {
     "duration": 6.624054,
     "end_time": "2024-10-27T14:53:44.637533",
     "exception": false,
     "start_time": "2024-10-27T14:53:38.013479",
     "status": "completed"
    },
    "tags": []
   },
   "outputs": [
    {
     "name": "stdout",
     "output_type": "stream",
     "text": [
      "👉 CREATE LABELS FOR: sub-CRMBM\n",
      "/usr/bin/sh: 1: sct_label_utils: not found\r\n"
     ]
    },
    {
     "name": "stdout",
     "output_type": "stream",
     "text": [
      "/usr/bin/sh: 1: sct_register_multimodal: not found\r\n"
     ]
    },
    {
     "name": "stdout",
     "output_type": "stream",
     "text": [
      "/usr/bin/sh: 1: sct_apply_transfo: not found\r\n"
     ]
    },
    {
     "name": "stdout",
     "output_type": "stream",
     "text": [
      "/usr/bin/sh: 1: sct_register_multimodal: not found\r\n"
     ]
    },
    {
     "name": "stdout",
     "output_type": "stream",
     "text": [
      "/usr/bin/sh: 1: sct_apply_transfo: not found\r\n"
     ]
    },
    {
     "name": "stdout",
     "output_type": "stream",
     "text": [
      "👉 CREATE LABELS FOR: sub-MGH\n",
      "/usr/bin/sh: 1: sct_label_utils: not found\r\n"
     ]
    },
    {
     "name": "stdout",
     "output_type": "stream",
     "text": [
      "/usr/bin/sh: 1: sct_register_multimodal: not found\r\n"
     ]
    },
    {
     "name": "stdout",
     "output_type": "stream",
     "text": [
      "/usr/bin/sh: 1: sct_apply_transfo: not found\r\n"
     ]
    },
    {
     "name": "stdout",
     "output_type": "stream",
     "text": [
      "/usr/bin/sh: 1: sct_register_multimodal: not found\r\n"
     ]
    },
    {
     "name": "stdout",
     "output_type": "stream",
     "text": [
      "/usr/bin/sh: 1: sct_apply_transfo: not found\r\n"
     ]
    },
    {
     "name": "stdout",
     "output_type": "stream",
     "text": [
      "👉 CREATE LABELS FOR: sub-MNI\n",
      "/usr/bin/sh: 1: sct_label_utils: not found\r\n"
     ]
    },
    {
     "name": "stdout",
     "output_type": "stream",
     "text": [
      "/usr/bin/sh: 1: sct_register_multimodal: not found\r\n"
     ]
    },
    {
     "name": "stdout",
     "output_type": "stream",
     "text": [
      "/usr/bin/sh: 1: sct_apply_transfo: not found\r\n"
     ]
    },
    {
     "name": "stdout",
     "output_type": "stream",
     "text": [
      "/usr/bin/sh: 1: sct_register_multimodal: not found\r\n"
     ]
    },
    {
     "name": "stdout",
     "output_type": "stream",
     "text": [
      "/usr/bin/sh: 1: sct_apply_transfo: not found\r\n"
     ]
    },
    {
     "name": "stdout",
     "output_type": "stream",
     "text": [
      "👉 CREATE LABELS FOR: sub-MPI\n",
      "/usr/bin/sh: 1: sct_label_utils: not found\r\n"
     ]
    },
    {
     "name": "stdout",
     "output_type": "stream",
     "text": [
      "/usr/bin/sh: 1: sct_register_multimodal: not found\r\n"
     ]
    },
    {
     "name": "stdout",
     "output_type": "stream",
     "text": [
      "/usr/bin/sh: 1: sct_apply_transfo: not found\r\n"
     ]
    },
    {
     "name": "stdout",
     "output_type": "stream",
     "text": [
      "/usr/bin/sh: 1: sct_register_multimodal: not found\r\n"
     ]
    },
    {
     "name": "stdout",
     "output_type": "stream",
     "text": [
      "/usr/bin/sh: 1: sct_apply_transfo: not found\r\n"
     ]
    },
    {
     "name": "stdout",
     "output_type": "stream",
     "text": [
      "👉 CREATE LABELS FOR: sub-MSSM\n",
      "/usr/bin/sh: 1: sct_label_utils: not found\r\n"
     ]
    },
    {
     "name": "stdout",
     "output_type": "stream",
     "text": [
      "/usr/bin/sh: 1: sct_register_multimodal: not found\r\n"
     ]
    },
    {
     "name": "stdout",
     "output_type": "stream",
     "text": [
      "/usr/bin/sh: 1: sct_apply_transfo: not found\r\n"
     ]
    },
    {
     "name": "stdout",
     "output_type": "stream",
     "text": [
      "/usr/bin/sh: 1: sct_register_multimodal: not found\r\n"
     ]
    },
    {
     "name": "stdout",
     "output_type": "stream",
     "text": [
      "/usr/bin/sh: 1: sct_apply_transfo: not found\r\n"
     ]
    },
    {
     "name": "stdout",
     "output_type": "stream",
     "text": [
      "👉 CREATE LABELS FOR: sub-NTNU\n",
      "/usr/bin/sh: 1: sct_label_utils: not found\r\n"
     ]
    },
    {
     "name": "stdout",
     "output_type": "stream",
     "text": [
      "/usr/bin/sh: 1: sct_register_multimodal: not found\r\n"
     ]
    },
    {
     "name": "stdout",
     "output_type": "stream",
     "text": [
      "/usr/bin/sh: 1: sct_apply_transfo: not found\r\n"
     ]
    },
    {
     "name": "stdout",
     "output_type": "stream",
     "text": [
      "/usr/bin/sh: 1: sct_register_multimodal: not found\r\n"
     ]
    },
    {
     "name": "stdout",
     "output_type": "stream",
     "text": [
      "/usr/bin/sh: 1: sct_apply_transfo: not found\r\n"
     ]
    },
    {
     "name": "stdout",
     "output_type": "stream",
     "text": [
      "👉 CREATE LABELS FOR: sub-UCL\n",
      "/usr/bin/sh: 1: sct_label_utils: not found\r\n"
     ]
    },
    {
     "name": "stdout",
     "output_type": "stream",
     "text": [
      "/usr/bin/sh: 1: sct_register_multimodal: not found\r\n"
     ]
    },
    {
     "name": "stdout",
     "output_type": "stream",
     "text": [
      "/usr/bin/sh: 1: sct_apply_transfo: not found\r\n"
     ]
    },
    {
     "name": "stdout",
     "output_type": "stream",
     "text": [
      "/usr/bin/sh: 1: sct_register_multimodal: not found\r\n"
     ]
    },
    {
     "name": "stdout",
     "output_type": "stream",
     "text": [
      "/usr/bin/sh: 1: sct_apply_transfo: not found\r\n"
     ]
    },
    {
     "name": "stdout",
     "output_type": "stream",
     "text": [
      "👉 REGISTER: sub-CRMBM\n",
      "/usr/bin/sh: 1: sct_register_multimodal: not found\r\n"
     ]
    },
    {
     "name": "stdout",
     "output_type": "stream",
     "text": [
      "/usr/bin/sh: 1: sct_register_multimodal: not found\r\n"
     ]
    },
    {
     "name": "stdout",
     "output_type": "stream",
     "text": [
      "/usr/bin/sh: 1: sct_register_multimodal: not found\r\n"
     ]
    },
    {
     "name": "stdout",
     "output_type": "stream",
     "text": [
      "👉 REGISTER: sub-MGH\n",
      "/usr/bin/sh: 1: sct_register_multimodal: not found\r\n"
     ]
    },
    {
     "name": "stdout",
     "output_type": "stream",
     "text": [
      "/usr/bin/sh: 1: sct_register_multimodal: not found\r\n"
     ]
    },
    {
     "name": "stdout",
     "output_type": "stream",
     "text": [
      "/usr/bin/sh: 1: sct_register_multimodal: not found\r\n"
     ]
    },
    {
     "name": "stdout",
     "output_type": "stream",
     "text": [
      "👉 REGISTER: sub-MNI\n",
      "/usr/bin/sh: 1: sct_register_multimodal: not found\r\n"
     ]
    },
    {
     "name": "stdout",
     "output_type": "stream",
     "text": [
      "/usr/bin/sh: 1: sct_register_multimodal: not found\r\n"
     ]
    },
    {
     "name": "stdout",
     "output_type": "stream",
     "text": [
      "/usr/bin/sh: 1: sct_register_multimodal: not found\r\n"
     ]
    },
    {
     "name": "stdout",
     "output_type": "stream",
     "text": [
      "👉 REGISTER: sub-MPI\n",
      "/usr/bin/sh: 1: sct_register_multimodal: not found\r\n"
     ]
    },
    {
     "name": "stdout",
     "output_type": "stream",
     "text": [
      "/usr/bin/sh: 1: sct_register_multimodal: not found\r\n"
     ]
    },
    {
     "name": "stdout",
     "output_type": "stream",
     "text": [
      "/usr/bin/sh: 1: sct_register_multimodal: not found\r\n"
     ]
    },
    {
     "name": "stdout",
     "output_type": "stream",
     "text": [
      "👉 REGISTER: sub-MSSM\n",
      "/usr/bin/sh: 1: sct_register_multimodal: not found\r\n"
     ]
    },
    {
     "name": "stdout",
     "output_type": "stream",
     "text": [
      "/usr/bin/sh: 1: sct_register_multimodal: not found\r\n"
     ]
    },
    {
     "name": "stdout",
     "output_type": "stream",
     "text": [
      "/usr/bin/sh: 1: sct_register_multimodal: not found\r\n"
     ]
    },
    {
     "name": "stdout",
     "output_type": "stream",
     "text": [
      "👉 REGISTER: sub-NTNU\n",
      "/usr/bin/sh: 1: sct_register_multimodal: not found\r\n"
     ]
    },
    {
     "name": "stdout",
     "output_type": "stream",
     "text": [
      "/usr/bin/sh: 1: sct_register_multimodal: not found\r\n"
     ]
    },
    {
     "name": "stdout",
     "output_type": "stream",
     "text": [
      "/usr/bin/sh: 1: sct_register_multimodal: not found\r\n"
     ]
    },
    {
     "name": "stdout",
     "output_type": "stream",
     "text": [
      "👉 REGISTER: sub-UCL\n",
      "/usr/bin/sh: 1: sct_register_multimodal: not found\r\n"
     ]
    },
    {
     "name": "stdout",
     "output_type": "stream",
     "text": [
      "/usr/bin/sh: 1: sct_register_multimodal: not found\r\n"
     ]
    },
    {
     "name": "stdout",
     "output_type": "stream",
     "text": [
      "/usr/bin/sh: 1: sct_register_multimodal: not found\r\n"
     ]
    },
    {
     "name": "stdout",
     "output_type": "stream",
     "text": [
      "/usr/bin/sh: 1: sct_register_multimodal: not found\r\n"
     ]
    },
    {
     "name": "stdout",
     "output_type": "stream",
     "text": [
      "/usr/bin/sh: 1: sct_register_multimodal: not found\r\n"
     ]
    }
   ],
   "source": [
    "# Create dictionary of labels across sites\n",
    "labels_phantom_TFL = {\n",
    "    'sub-CRMBM': '68,88,23',\n",
    "    'sub-MGH': '61,98,26',\n",
    "    'sub-MNI': '69,87,26',\n",
    "    'sub-MPI': '67,95,27',\n",
    "    'sub-MSSM': '73,65,28',\n",
    "    'sub-NTNU': '64,96,29',\n",
    "    'sub-UCL': '68,97,28',\n",
    "}\n",
    "\n",
    "# Define reference subject and suffix\n",
    "subject_ref = 'sub-CRMBM'\n",
    "suffix_ref = 'TFLTB1map'\n",
    "suffixes = [\"TFLTB1map\", \"DREAMTB1avgB1map\", \"acq-coilQaSagLarge_SNR_T0000\"]\n",
    "\n",
    "# Create labels for all suffixes, for all subjects\n",
    "for subject in subjects:\n",
    "    print(f\"👉 CREATE LABELS FOR: {subject}\")\n",
    "    os.chdir(os.path.join(path_data, subject, \"fmap\"))\n",
    "    !sct_label_utils -i {subject}_{suffix_ref}.nii.gz -create {labels_phantom_TFL[subject]},1 -o {subject}_{suffix_ref}_label.nii.gz\n",
    "    # Register label from TFLTB1map to other metric using the qform matrix (ie: no optimization)\n",
    "    for suffix in [other_suffixes for other_suffixes in suffixes if other_suffixes != suffix_ref]:\n",
    "        !sct_register_multimodal -i {subject}_{suffix_ref}_label.nii.gz -d {subject}_{suffix}.nii.gz -identity 1\n",
    "        !sct_apply_transfo -i {subject}_{suffix_ref}_label.nii.gz -d {subject}_{suffix}.nii.gz -w warp_{subject}_{suffix_ref}_label2{subject}_{suffix}.nii.gz -x label -o {subject}_{suffix}_label.nii.gz\n",
    "\n",
    "# Register other scans to the reference scan\n",
    "for subject in subjects:\n",
    "    print(f\"👉 REGISTER: {subject}\")\n",
    "    for suffix in suffixes:\n",
    "        os.chdir(os.path.join(path_data, subject, \"fmap\"))\n",
    "        # Perform registration\n",
    "        !sct_register_multimodal -i {subject}_{suffix}.nii.gz -ilabel {subject}_{suffix}_label.nii.gz -d {path_data}{subject_ref}/fmap/{subject_ref}_{suffix}.nii.gz -dlabel {path_data}{subject_ref}/fmap/{subject_ref}_{suffix}_label.nii.gz -param step=0,type=label,dof=Tx_Ty_Tz:step=1,type=im,algo=syn,iter=0\n",
    "\n",
    "# Register TFL B1+ spinal cord mask to DREAM and SNR reference scan\n",
    "os.chdir(os.path.join(path_data, subject_ref, \"fmap\"))\n",
    "for suffix in [other_suffixes for other_suffixes in suffixes if other_suffixes != suffix_ref]:\n",
    "    !sct_register_multimodal -i {subject_ref}_{suffix_ref}_mask.nii.gz -d {subject_ref}_{suffix}.nii.gz -identity 1 -o {subject_ref}_{suffix}_mask.nii.gz"
   ]
  },
  {
   "cell_type": "code",
   "execution_count": 9,
   "id": "13",
   "metadata": {
    "execution": {
     "iopub.execute_input": "2024-10-27T14:53:44.726522Z",
     "iopub.status.busy": "2024-10-27T14:53:44.725888Z",
     "iopub.status.idle": "2024-10-27T14:53:44.731357Z",
     "shell.execute_reply": "2024-10-27T14:53:44.730673Z"
    },
    "papermill": {
     "duration": 0.051654,
     "end_time": "2024-10-27T14:53:44.732761",
     "exception": false,
     "start_time": "2024-10-27T14:53:44.681107",
     "status": "completed"
    },
    "tags": []
   },
   "outputs": [
    {
     "name": "stdout",
     "output_type": "stream",
     "text": [
      "\n",
      "👉 CHECKING REGISTRATION FOR: TFLTB1map\n",
      "\n",
      "fsleyes sub-CRMBM/fmap/sub-CRMBM_TFLTB1map.nii.gz /home/runner/work/coil-qc-code/coil-qc-code/data-phantom/sub-MGH/fmap/sub-MGH_TFLTB1map_reg.nii.gz /home/runner/work/coil-qc-code/coil-qc-code/data-phantom/sub-MNI/fmap/sub-MNI_TFLTB1map_reg.nii.gz /home/runner/work/coil-qc-code/coil-qc-code/data-phantom/sub-MPI/fmap/sub-MPI_TFLTB1map_reg.nii.gz /home/runner/work/coil-qc-code/coil-qc-code/data-phantom/sub-MSSM/fmap/sub-MSSM_TFLTB1map_reg.nii.gz /home/runner/work/coil-qc-code/coil-qc-code/data-phantom/sub-NTNU/fmap/sub-NTNU_TFLTB1map_reg.nii.gz /home/runner/work/coil-qc-code/coil-qc-code/data-phantom/sub-UCL/fmap/sub-UCL_TFLTB1map_reg.nii.gz sub-CRMBM/fmap/sub-CRMBM_TFLTB1map_mask.nii.gz --cmap yellow -a 30 &\n",
      "\n",
      "👉 CHECKING REGISTRATION FOR: DREAMTB1avgB1map\n",
      "\n",
      "fsleyes sub-CRMBM/fmap/sub-CRMBM_DREAMTB1avgB1map.nii.gz /home/runner/work/coil-qc-code/coil-qc-code/data-phantom/sub-MGH/fmap/sub-MGH_DREAMTB1avgB1map_reg.nii.gz /home/runner/work/coil-qc-code/coil-qc-code/data-phantom/sub-MNI/fmap/sub-MNI_DREAMTB1avgB1map_reg.nii.gz /home/runner/work/coil-qc-code/coil-qc-code/data-phantom/sub-MPI/fmap/sub-MPI_DREAMTB1avgB1map_reg.nii.gz /home/runner/work/coil-qc-code/coil-qc-code/data-phantom/sub-MSSM/fmap/sub-MSSM_DREAMTB1avgB1map_reg.nii.gz /home/runner/work/coil-qc-code/coil-qc-code/data-phantom/sub-NTNU/fmap/sub-NTNU_DREAMTB1avgB1map_reg.nii.gz /home/runner/work/coil-qc-code/coil-qc-code/data-phantom/sub-UCL/fmap/sub-UCL_DREAMTB1avgB1map_reg.nii.gz sub-CRMBM/fmap/sub-CRMBM_DREAMTB1avgB1map_mask.nii.gz --cmap yellow -a 30 &\n",
      "\n",
      "👉 CHECKING REGISTRATION FOR: acq-coilQaSagLarge_SNR_T0000\n",
      "\n",
      "fsleyes sub-CRMBM/fmap/sub-CRMBM_acq-coilQaSagLarge_SNR_T0000.nii.gz /home/runner/work/coil-qc-code/coil-qc-code/data-phantom/sub-MGH/fmap/sub-MGH_acq-coilQaSagLarge_SNR_T0000_reg.nii.gz /home/runner/work/coil-qc-code/coil-qc-code/data-phantom/sub-MNI/fmap/sub-MNI_acq-coilQaSagLarge_SNR_T0000_reg.nii.gz /home/runner/work/coil-qc-code/coil-qc-code/data-phantom/sub-MPI/fmap/sub-MPI_acq-coilQaSagLarge_SNR_T0000_reg.nii.gz /home/runner/work/coil-qc-code/coil-qc-code/data-phantom/sub-MSSM/fmap/sub-MSSM_acq-coilQaSagLarge_SNR_T0000_reg.nii.gz /home/runner/work/coil-qc-code/coil-qc-code/data-phantom/sub-NTNU/fmap/sub-NTNU_acq-coilQaSagLarge_SNR_T0000_reg.nii.gz /home/runner/work/coil-qc-code/coil-qc-code/data-phantom/sub-UCL/fmap/sub-UCL_acq-coilQaSagLarge_SNR_T0000_reg.nii.gz sub-CRMBM/fmap/sub-CRMBM_acq-coilQaSagLarge_SNR_T0000_mask.nii.gz --cmap yellow -a 30 &\n"
     ]
    }
   ],
   "source": [
    "# Generate syntax to open registered data in FSLeyes. This should be run from within the `data-phantom/` folder.\n",
    "for suffix in suffixes:\n",
    "    print(f\"\\n👉 CHECKING REGISTRATION FOR: {suffix}\\n\")\n",
    "    cmd = f\"fsleyes sub-CRMBM/fmap/sub-CRMBM_{suffix}.nii.gz\"\n",
    "    for subject in [other_subjects for other_subjects in subjects if other_subjects != subject_ref]:\n",
    "        file_reg = os.path.join(path_data, subject, \"fmap\", f\"{subject}_{suffix}_reg.nii.gz\")\n",
    "        cmd = f\"{cmd} {file_reg}\"\n",
    "    # Add mask with color and opacity\n",
    "    cmd = f\"{cmd} sub-CRMBM/fmap/sub-CRMBM_{suffix}_mask.nii.gz --cmap yellow -a 30\"\n",
    "    print(cmd+\" &\")\n",
    "\n",
    "# TODO: undisplay all scans but the first"
   ]
  },
  {
   "cell_type": "markdown",
   "id": "14",
   "metadata": {
    "papermill": {
     "duration": 0.042861,
     "end_time": "2024-10-27T14:53:44.819261",
     "exception": false,
     "start_time": "2024-10-27T14:53:44.776400",
     "status": "completed"
    },
    "tags": []
   },
   "source": [
    "## Extract values in mask and generate figures "
   ]
  },
  {
   "cell_type": "code",
   "execution_count": 10,
   "id": "15",
   "metadata": {
    "execution": {
     "iopub.execute_input": "2024-10-27T14:53:44.908570Z",
     "iopub.status.busy": "2024-10-27T14:53:44.908071Z",
     "iopub.status.idle": "2024-10-27T14:53:47.292523Z",
     "shell.execute_reply": "2024-10-27T14:53:47.291694Z"
    },
    "papermill": {
     "duration": 2.430311,
     "end_time": "2024-10-27T14:53:47.294124",
     "exception": false,
     "start_time": "2024-10-27T14:53:44.863813",
     "status": "completed"
    },
    "tags": []
   },
   "outputs": [
    {
     "name": "stdout",
     "output_type": "stream",
     "text": [
      "/usr/bin/sh: 1: sct_extract_metric: not found\r\n"
     ]
    },
    {
     "name": "stdout",
     "output_type": "stream",
     "text": [
      "/usr/bin/sh: 1: sct_extract_metric: not found\r\n"
     ]
    },
    {
     "name": "stdout",
     "output_type": "stream",
     "text": [
      "/usr/bin/sh: 1: sct_extract_metric: not found\r\n"
     ]
    },
    {
     "name": "stdout",
     "output_type": "stream",
     "text": [
      "/usr/bin/sh: 1: sct_extract_metric: not found\r\n"
     ]
    },
    {
     "name": "stdout",
     "output_type": "stream",
     "text": [
      "/usr/bin/sh: 1: sct_extract_metric: not found\r\n"
     ]
    },
    {
     "name": "stdout",
     "output_type": "stream",
     "text": [
      "/usr/bin/sh: 1: sct_extract_metric: not found\r\n"
     ]
    },
    {
     "name": "stdout",
     "output_type": "stream",
     "text": [
      "/usr/bin/sh: 1: sct_extract_metric: not found\r\n"
     ]
    },
    {
     "name": "stdout",
     "output_type": "stream",
     "text": [
      "/usr/bin/sh: 1: sct_extract_metric: not found\r\n"
     ]
    },
    {
     "name": "stdout",
     "output_type": "stream",
     "text": [
      "/usr/bin/sh: 1: sct_extract_metric: not found\r\n"
     ]
    },
    {
     "name": "stdout",
     "output_type": "stream",
     "text": [
      "/usr/bin/sh: 1: sct_extract_metric: not found\r\n"
     ]
    },
    {
     "name": "stdout",
     "output_type": "stream",
     "text": [
      "/usr/bin/sh: 1: sct_extract_metric: not found\r\n"
     ]
    },
    {
     "name": "stdout",
     "output_type": "stream",
     "text": [
      "/usr/bin/sh: 1: sct_extract_metric: not found\r\n"
     ]
    },
    {
     "name": "stdout",
     "output_type": "stream",
     "text": [
      "/usr/bin/sh: 1: sct_extract_metric: not found\r\n"
     ]
    },
    {
     "name": "stdout",
     "output_type": "stream",
     "text": [
      "/usr/bin/sh: 1: sct_extract_metric: not found\r\n"
     ]
    },
    {
     "name": "stdout",
     "output_type": "stream",
     "text": [
      "/usr/bin/sh: 1: sct_extract_metric: not found\r\n"
     ]
    },
    {
     "name": "stdout",
     "output_type": "stream",
     "text": [
      "/usr/bin/sh: 1: sct_extract_metric: not found\r\n"
     ]
    },
    {
     "name": "stdout",
     "output_type": "stream",
     "text": [
      "/usr/bin/sh: 1: sct_extract_metric: not found\r\n"
     ]
    },
    {
     "name": "stdout",
     "output_type": "stream",
     "text": [
      "/usr/bin/sh: 1: sct_extract_metric: not found\r\n"
     ]
    },
    {
     "name": "stdout",
     "output_type": "stream",
     "text": [
      "/usr/bin/sh: 1: sct_extract_metric: not found\r\n"
     ]
    },
    {
     "name": "stdout",
     "output_type": "stream",
     "text": [
      "/usr/bin/sh: 1: sct_extract_metric: not found\r\n"
     ]
    },
    {
     "name": "stdout",
     "output_type": "stream",
     "text": [
      "/usr/bin/sh: 1: sct_extract_metric: not found\r\n"
     ]
    }
   ],
   "source": [
    "# Extract B1+ and SNR along the spinal cord mask and save data to CSV files\n",
    "\n",
    "for subject in subjects:\n",
    "    os.chdir(os.path.join(path_data, subject, \"fmap\"))\n",
    "    \n",
    "    fname_result_TFLb1plus = os.path.join(path_results, f\"{subject}_TFLTB1map.csv\")\n",
    "    fname_result_DREAMb1plus = os.path.join(path_results, f\"{subject}_DREAMTB1avgB1map.csv\")\n",
    "    fname_result_SNR = os.path.join(path_results, f\"{subject}_acq-coilQaSagLarge_SNR_T0000.csv\")\n",
    "\n",
    "    # For sites other than sub-CRMBM, use the registered qMRI map for metrics extraction\n",
    "    if subject=='sub-CRMBM':\n",
    "        file_suffix = ''\n",
    "    else:\n",
    "        file_suffix = '_reg'\n",
    "        \n",
    "    # Extract metrics within mask defined in the sub-CRMBM space\n",
    "    !sct_extract_metric -i {subject}_TFLTB1map{file_suffix}.nii.gz -f ../../{subject_ref}/fmap/{subject_ref}_TFLTB1map_mask.nii.gz -method wa -z 19:127 -perslice 1 -o \"{fname_result_TFLb1plus}\"\n",
    "    !sct_extract_metric -i {subject}_DREAMTB1avgB1map{file_suffix}.nii.gz -f ../../{subject_ref}/fmap/{subject_ref}_DREAMTB1avgB1map_mask.nii.gz -method wa -z 14:62 -perslice 1 -o \"{fname_result_DREAMb1plus}\"\n",
    "    !sct_extract_metric -i {subject}_acq-coilQaSagLarge_SNR_T0000{file_suffix}.nii.gz -f ../../{subject_ref}/fmap/{subject_ref}_acq-coilQaSagLarge_SNR_T0000_mask.nii.gz -method wa -z 151:368 -perslice 1 -o \"{fname_result_SNR}\""
   ]
  },
  {
   "cell_type": "markdown",
   "id": "16",
   "metadata": {
    "papermill": {
     "duration": 0.043995,
     "end_time": "2024-10-27T14:53:47.382618",
     "exception": false,
     "start_time": "2024-10-27T14:53:47.338623",
     "status": "completed"
    },
    "tags": []
   },
   "source": [
    "## Correct SNR using B1+ values\n",
    "\n",
    "SNR depends on the effective flip angle at each voxel, which is influenced by the B1+ efficiency and the transmit homogeneity. Therefore, if we want to report SNR values independently of the actual flip angle played out, we need to correct the SNR maps. To do so, we divide the reconstructed SNR maps by $\\sin(\\text{FA}_{\\text{gre, meas}})$, where $\\text{FA}_{\\text{gre, meas}}$ is the actual flip angle map for the GRE SNR scan. By normalizing, we extrapolate to the SNR value that we would achieve with $ \\text{FA} = 90^\\circ $:\n",
    "\n",
    "$$\\text{SNR}_{90} = \\frac{\\text{SNR}_{\\text{meas}}}{\\sin(\\text{FA}_{\\text{gre, meas}})}$$\n",
    "\n",
    "$\\text{FA}_{\\text{gre, meas}}$ is computed from the TFL B1+ scan as follows: \n",
    "\n",
    "$$\\text{FA}_{\\text{gre, meas}} = \\text{FA}_{\\text{gre, requested}} \\times \\left( \\frac{\\text{FA}_{\\text{TFL, meas}}}{\\text{FA}_{\\text{TFL, requested}}} \\right)$$\n",
    "\n",
    "The ratio $\\frac{\\text{FA}_{\\text{TFL, meas}}}{\\text{FA}_{\\text{TFL, requested}}}$ is obtained from the TFL B1+ efficiency values, which were previously extracted slicewise and saved as a CSV file.\n",
    "\n",
    "Before doing this correction, given that the B1+ and SNR maps don't have the same spatial resolution, we need to interpolate the B1+ array to match its length with that of the SNR array.\n",
    "\n",
    "Reference: https://onlinelibrary.wiley.com/doi/full/10.1002/mrm.27695"
   ]
  },
  {
   "cell_type": "markdown",
   "id": "f33720be",
   "metadata": {
    "tags": [
     "papermill-error-cell-tag"
    ]
   },
   "source": [
    "<span id=\"papermill-error-cell\" style=\"color:red; font-family:Helvetica Neue, Helvetica, Arial, sans-serif; font-size:2em;\">Execution using papermill encountered an exception here and stopped:</span>"
   ]
  },
  {
   "cell_type": "code",
   "execution_count": 11,
   "id": "17",
   "metadata": {
    "execution": {
     "iopub.execute_input": "2024-10-27T14:53:47.473423Z",
     "iopub.status.busy": "2024-10-27T14:53:47.473043Z",
     "iopub.status.idle": "2024-10-27T14:53:48.087485Z",
     "shell.execute_reply": "2024-10-27T14:53:48.086483Z"
    },
    "papermill": {
     "duration": 0.661741,
     "end_time": "2024-10-27T14:53:48.088529",
     "exception": true,
     "start_time": "2024-10-27T14:53:47.426788",
     "status": "failed"
    },
    "tags": []
   },
   "outputs": [
    {
     "ename": "FileNotFoundError",
     "evalue": "[Errno 2] No such file or directory: '/home/runner/work/coil-qc-code/coil-qc-code/data-phantom/derivatives/results/sub-CRMBM_TFLTB1map.csv'",
     "output_type": "error",
     "traceback": [
      "\u001b[0;31m---------------------------------------------------------------------------\u001b[0m",
      "\u001b[0;31mFileNotFoundError\u001b[0m                         Traceback (most recent call last)",
      "Cell \u001b[0;32mIn[11], line 10\u001b[0m\n\u001b[1;32m      5\u001b[0m fname_result_SNR_corrected \u001b[38;5;241m=\u001b[39m os\u001b[38;5;241m.\u001b[39mpath\u001b[38;5;241m.\u001b[39mjoin(path_results, \u001b[38;5;124mf\u001b[39m\u001b[38;5;124m\"\u001b[39m\u001b[38;5;132;01m{\u001b[39;00msubject\u001b[38;5;132;01m}\u001b[39;00m\u001b[38;5;124m_acq-coilQaSagLarge_SNR_T0000_corrected.csv\u001b[39m\u001b[38;5;124m\"\u001b[39m)\n\u001b[1;32m      7\u001b[0m \u001b[38;5;66;03m# INTERPOLATE B1+ MAP TO MATCH THE LENGTH OF THE SNR DATA\u001b[39;00m\n\u001b[1;32m      8\u001b[0m \u001b[38;5;66;03m# =======================================================\u001b[39;00m\n\u001b[1;32m      9\u001b[0m \u001b[38;5;66;03m# Read B1 values\u001b[39;00m\n\u001b[0;32m---> 10\u001b[0m df_b1 \u001b[38;5;241m=\u001b[39m \u001b[43mpd\u001b[49m\u001b[38;5;241;43m.\u001b[39;49m\u001b[43mread_csv\u001b[49m\u001b[43m(\u001b[49m\u001b[43mfname_result_TFLb1plus\u001b[49m\u001b[43m)\u001b[49m\n\u001b[1;32m     11\u001b[0m b1_map \u001b[38;5;241m=\u001b[39m df_b1[\u001b[38;5;124m\"\u001b[39m\u001b[38;5;124mWA()\u001b[39m\u001b[38;5;124m\"\u001b[39m]\u001b[38;5;241m.\u001b[39mvalues\n\u001b[1;32m     12\u001b[0m \u001b[38;5;66;03m# Read SNR values\u001b[39;00m\n",
      "File \u001b[0;32m/opt/hostedtoolcache/Python/3.10.15/x64/lib/python3.10/site-packages/pandas/io/parsers/readers.py:1026\u001b[0m, in \u001b[0;36mread_csv\u001b[0;34m(filepath_or_buffer, sep, delimiter, header, names, index_col, usecols, dtype, engine, converters, true_values, false_values, skipinitialspace, skiprows, skipfooter, nrows, na_values, keep_default_na, na_filter, verbose, skip_blank_lines, parse_dates, infer_datetime_format, keep_date_col, date_parser, date_format, dayfirst, cache_dates, iterator, chunksize, compression, thousands, decimal, lineterminator, quotechar, quoting, doublequote, escapechar, comment, encoding, encoding_errors, dialect, on_bad_lines, delim_whitespace, low_memory, memory_map, float_precision, storage_options, dtype_backend)\u001b[0m\n\u001b[1;32m   1013\u001b[0m kwds_defaults \u001b[38;5;241m=\u001b[39m _refine_defaults_read(\n\u001b[1;32m   1014\u001b[0m     dialect,\n\u001b[1;32m   1015\u001b[0m     delimiter,\n\u001b[0;32m   (...)\u001b[0m\n\u001b[1;32m   1022\u001b[0m     dtype_backend\u001b[38;5;241m=\u001b[39mdtype_backend,\n\u001b[1;32m   1023\u001b[0m )\n\u001b[1;32m   1024\u001b[0m kwds\u001b[38;5;241m.\u001b[39mupdate(kwds_defaults)\n\u001b[0;32m-> 1026\u001b[0m \u001b[38;5;28;01mreturn\u001b[39;00m \u001b[43m_read\u001b[49m\u001b[43m(\u001b[49m\u001b[43mfilepath_or_buffer\u001b[49m\u001b[43m,\u001b[49m\u001b[43m \u001b[49m\u001b[43mkwds\u001b[49m\u001b[43m)\u001b[49m\n",
      "File \u001b[0;32m/opt/hostedtoolcache/Python/3.10.15/x64/lib/python3.10/site-packages/pandas/io/parsers/readers.py:620\u001b[0m, in \u001b[0;36m_read\u001b[0;34m(filepath_or_buffer, kwds)\u001b[0m\n\u001b[1;32m    617\u001b[0m _validate_names(kwds\u001b[38;5;241m.\u001b[39mget(\u001b[38;5;124m\"\u001b[39m\u001b[38;5;124mnames\u001b[39m\u001b[38;5;124m\"\u001b[39m, \u001b[38;5;28;01mNone\u001b[39;00m))\n\u001b[1;32m    619\u001b[0m \u001b[38;5;66;03m# Create the parser.\u001b[39;00m\n\u001b[0;32m--> 620\u001b[0m parser \u001b[38;5;241m=\u001b[39m \u001b[43mTextFileReader\u001b[49m\u001b[43m(\u001b[49m\u001b[43mfilepath_or_buffer\u001b[49m\u001b[43m,\u001b[49m\u001b[43m \u001b[49m\u001b[38;5;241;43m*\u001b[39;49m\u001b[38;5;241;43m*\u001b[39;49m\u001b[43mkwds\u001b[49m\u001b[43m)\u001b[49m\n\u001b[1;32m    622\u001b[0m \u001b[38;5;28;01mif\u001b[39;00m chunksize \u001b[38;5;129;01mor\u001b[39;00m iterator:\n\u001b[1;32m    623\u001b[0m     \u001b[38;5;28;01mreturn\u001b[39;00m parser\n",
      "File \u001b[0;32m/opt/hostedtoolcache/Python/3.10.15/x64/lib/python3.10/site-packages/pandas/io/parsers/readers.py:1620\u001b[0m, in \u001b[0;36mTextFileReader.__init__\u001b[0;34m(self, f, engine, **kwds)\u001b[0m\n\u001b[1;32m   1617\u001b[0m     \u001b[38;5;28mself\u001b[39m\u001b[38;5;241m.\u001b[39moptions[\u001b[38;5;124m\"\u001b[39m\u001b[38;5;124mhas_index_names\u001b[39m\u001b[38;5;124m\"\u001b[39m] \u001b[38;5;241m=\u001b[39m kwds[\u001b[38;5;124m\"\u001b[39m\u001b[38;5;124mhas_index_names\u001b[39m\u001b[38;5;124m\"\u001b[39m]\n\u001b[1;32m   1619\u001b[0m \u001b[38;5;28mself\u001b[39m\u001b[38;5;241m.\u001b[39mhandles: IOHandles \u001b[38;5;241m|\u001b[39m \u001b[38;5;28;01mNone\u001b[39;00m \u001b[38;5;241m=\u001b[39m \u001b[38;5;28;01mNone\u001b[39;00m\n\u001b[0;32m-> 1620\u001b[0m \u001b[38;5;28mself\u001b[39m\u001b[38;5;241m.\u001b[39m_engine \u001b[38;5;241m=\u001b[39m \u001b[38;5;28;43mself\u001b[39;49m\u001b[38;5;241;43m.\u001b[39;49m\u001b[43m_make_engine\u001b[49m\u001b[43m(\u001b[49m\u001b[43mf\u001b[49m\u001b[43m,\u001b[49m\u001b[43m \u001b[49m\u001b[38;5;28;43mself\u001b[39;49m\u001b[38;5;241;43m.\u001b[39;49m\u001b[43mengine\u001b[49m\u001b[43m)\u001b[49m\n",
      "File \u001b[0;32m/opt/hostedtoolcache/Python/3.10.15/x64/lib/python3.10/site-packages/pandas/io/parsers/readers.py:1880\u001b[0m, in \u001b[0;36mTextFileReader._make_engine\u001b[0;34m(self, f, engine)\u001b[0m\n\u001b[1;32m   1878\u001b[0m     \u001b[38;5;28;01mif\u001b[39;00m \u001b[38;5;124m\"\u001b[39m\u001b[38;5;124mb\u001b[39m\u001b[38;5;124m\"\u001b[39m \u001b[38;5;129;01mnot\u001b[39;00m \u001b[38;5;129;01min\u001b[39;00m mode:\n\u001b[1;32m   1879\u001b[0m         mode \u001b[38;5;241m+\u001b[39m\u001b[38;5;241m=\u001b[39m \u001b[38;5;124m\"\u001b[39m\u001b[38;5;124mb\u001b[39m\u001b[38;5;124m\"\u001b[39m\n\u001b[0;32m-> 1880\u001b[0m \u001b[38;5;28mself\u001b[39m\u001b[38;5;241m.\u001b[39mhandles \u001b[38;5;241m=\u001b[39m \u001b[43mget_handle\u001b[49m\u001b[43m(\u001b[49m\n\u001b[1;32m   1881\u001b[0m \u001b[43m    \u001b[49m\u001b[43mf\u001b[49m\u001b[43m,\u001b[49m\n\u001b[1;32m   1882\u001b[0m \u001b[43m    \u001b[49m\u001b[43mmode\u001b[49m\u001b[43m,\u001b[49m\n\u001b[1;32m   1883\u001b[0m \u001b[43m    \u001b[49m\u001b[43mencoding\u001b[49m\u001b[38;5;241;43m=\u001b[39;49m\u001b[38;5;28;43mself\u001b[39;49m\u001b[38;5;241;43m.\u001b[39;49m\u001b[43moptions\u001b[49m\u001b[38;5;241;43m.\u001b[39;49m\u001b[43mget\u001b[49m\u001b[43m(\u001b[49m\u001b[38;5;124;43m\"\u001b[39;49m\u001b[38;5;124;43mencoding\u001b[39;49m\u001b[38;5;124;43m\"\u001b[39;49m\u001b[43m,\u001b[49m\u001b[43m \u001b[49m\u001b[38;5;28;43;01mNone\u001b[39;49;00m\u001b[43m)\u001b[49m\u001b[43m,\u001b[49m\n\u001b[1;32m   1884\u001b[0m \u001b[43m    \u001b[49m\u001b[43mcompression\u001b[49m\u001b[38;5;241;43m=\u001b[39;49m\u001b[38;5;28;43mself\u001b[39;49m\u001b[38;5;241;43m.\u001b[39;49m\u001b[43moptions\u001b[49m\u001b[38;5;241;43m.\u001b[39;49m\u001b[43mget\u001b[49m\u001b[43m(\u001b[49m\u001b[38;5;124;43m\"\u001b[39;49m\u001b[38;5;124;43mcompression\u001b[39;49m\u001b[38;5;124;43m\"\u001b[39;49m\u001b[43m,\u001b[49m\u001b[43m \u001b[49m\u001b[38;5;28;43;01mNone\u001b[39;49;00m\u001b[43m)\u001b[49m\u001b[43m,\u001b[49m\n\u001b[1;32m   1885\u001b[0m \u001b[43m    \u001b[49m\u001b[43mmemory_map\u001b[49m\u001b[38;5;241;43m=\u001b[39;49m\u001b[38;5;28;43mself\u001b[39;49m\u001b[38;5;241;43m.\u001b[39;49m\u001b[43moptions\u001b[49m\u001b[38;5;241;43m.\u001b[39;49m\u001b[43mget\u001b[49m\u001b[43m(\u001b[49m\u001b[38;5;124;43m\"\u001b[39;49m\u001b[38;5;124;43mmemory_map\u001b[39;49m\u001b[38;5;124;43m\"\u001b[39;49m\u001b[43m,\u001b[49m\u001b[43m \u001b[49m\u001b[38;5;28;43;01mFalse\u001b[39;49;00m\u001b[43m)\u001b[49m\u001b[43m,\u001b[49m\n\u001b[1;32m   1886\u001b[0m \u001b[43m    \u001b[49m\u001b[43mis_text\u001b[49m\u001b[38;5;241;43m=\u001b[39;49m\u001b[43mis_text\u001b[49m\u001b[43m,\u001b[49m\n\u001b[1;32m   1887\u001b[0m \u001b[43m    \u001b[49m\u001b[43merrors\u001b[49m\u001b[38;5;241;43m=\u001b[39;49m\u001b[38;5;28;43mself\u001b[39;49m\u001b[38;5;241;43m.\u001b[39;49m\u001b[43moptions\u001b[49m\u001b[38;5;241;43m.\u001b[39;49m\u001b[43mget\u001b[49m\u001b[43m(\u001b[49m\u001b[38;5;124;43m\"\u001b[39;49m\u001b[38;5;124;43mencoding_errors\u001b[39;49m\u001b[38;5;124;43m\"\u001b[39;49m\u001b[43m,\u001b[49m\u001b[43m \u001b[49m\u001b[38;5;124;43m\"\u001b[39;49m\u001b[38;5;124;43mstrict\u001b[39;49m\u001b[38;5;124;43m\"\u001b[39;49m\u001b[43m)\u001b[49m\u001b[43m,\u001b[49m\n\u001b[1;32m   1888\u001b[0m \u001b[43m    \u001b[49m\u001b[43mstorage_options\u001b[49m\u001b[38;5;241;43m=\u001b[39;49m\u001b[38;5;28;43mself\u001b[39;49m\u001b[38;5;241;43m.\u001b[39;49m\u001b[43moptions\u001b[49m\u001b[38;5;241;43m.\u001b[39;49m\u001b[43mget\u001b[49m\u001b[43m(\u001b[49m\u001b[38;5;124;43m\"\u001b[39;49m\u001b[38;5;124;43mstorage_options\u001b[39;49m\u001b[38;5;124;43m\"\u001b[39;49m\u001b[43m,\u001b[49m\u001b[43m \u001b[49m\u001b[38;5;28;43;01mNone\u001b[39;49;00m\u001b[43m)\u001b[49m\u001b[43m,\u001b[49m\n\u001b[1;32m   1889\u001b[0m \u001b[43m\u001b[49m\u001b[43m)\u001b[49m\n\u001b[1;32m   1890\u001b[0m \u001b[38;5;28;01massert\u001b[39;00m \u001b[38;5;28mself\u001b[39m\u001b[38;5;241m.\u001b[39mhandles \u001b[38;5;129;01mis\u001b[39;00m \u001b[38;5;129;01mnot\u001b[39;00m \u001b[38;5;28;01mNone\u001b[39;00m\n\u001b[1;32m   1891\u001b[0m f \u001b[38;5;241m=\u001b[39m \u001b[38;5;28mself\u001b[39m\u001b[38;5;241m.\u001b[39mhandles\u001b[38;5;241m.\u001b[39mhandle\n",
      "File \u001b[0;32m/opt/hostedtoolcache/Python/3.10.15/x64/lib/python3.10/site-packages/pandas/io/common.py:873\u001b[0m, in \u001b[0;36mget_handle\u001b[0;34m(path_or_buf, mode, encoding, compression, memory_map, is_text, errors, storage_options)\u001b[0m\n\u001b[1;32m    868\u001b[0m \u001b[38;5;28;01melif\u001b[39;00m \u001b[38;5;28misinstance\u001b[39m(handle, \u001b[38;5;28mstr\u001b[39m):\n\u001b[1;32m    869\u001b[0m     \u001b[38;5;66;03m# Check whether the filename is to be opened in binary mode.\u001b[39;00m\n\u001b[1;32m    870\u001b[0m     \u001b[38;5;66;03m# Binary mode does not support 'encoding' and 'newline'.\u001b[39;00m\n\u001b[1;32m    871\u001b[0m     \u001b[38;5;28;01mif\u001b[39;00m ioargs\u001b[38;5;241m.\u001b[39mencoding \u001b[38;5;129;01mand\u001b[39;00m \u001b[38;5;124m\"\u001b[39m\u001b[38;5;124mb\u001b[39m\u001b[38;5;124m\"\u001b[39m \u001b[38;5;129;01mnot\u001b[39;00m \u001b[38;5;129;01min\u001b[39;00m ioargs\u001b[38;5;241m.\u001b[39mmode:\n\u001b[1;32m    872\u001b[0m         \u001b[38;5;66;03m# Encoding\u001b[39;00m\n\u001b[0;32m--> 873\u001b[0m         handle \u001b[38;5;241m=\u001b[39m \u001b[38;5;28;43mopen\u001b[39;49m\u001b[43m(\u001b[49m\n\u001b[1;32m    874\u001b[0m \u001b[43m            \u001b[49m\u001b[43mhandle\u001b[49m\u001b[43m,\u001b[49m\n\u001b[1;32m    875\u001b[0m \u001b[43m            \u001b[49m\u001b[43mioargs\u001b[49m\u001b[38;5;241;43m.\u001b[39;49m\u001b[43mmode\u001b[49m\u001b[43m,\u001b[49m\n\u001b[1;32m    876\u001b[0m \u001b[43m            \u001b[49m\u001b[43mencoding\u001b[49m\u001b[38;5;241;43m=\u001b[39;49m\u001b[43mioargs\u001b[49m\u001b[38;5;241;43m.\u001b[39;49m\u001b[43mencoding\u001b[49m\u001b[43m,\u001b[49m\n\u001b[1;32m    877\u001b[0m \u001b[43m            \u001b[49m\u001b[43merrors\u001b[49m\u001b[38;5;241;43m=\u001b[39;49m\u001b[43merrors\u001b[49m\u001b[43m,\u001b[49m\n\u001b[1;32m    878\u001b[0m \u001b[43m            \u001b[49m\u001b[43mnewline\u001b[49m\u001b[38;5;241;43m=\u001b[39;49m\u001b[38;5;124;43m\"\u001b[39;49m\u001b[38;5;124;43m\"\u001b[39;49m\u001b[43m,\u001b[49m\n\u001b[1;32m    879\u001b[0m \u001b[43m        \u001b[49m\u001b[43m)\u001b[49m\n\u001b[1;32m    880\u001b[0m     \u001b[38;5;28;01melse\u001b[39;00m:\n\u001b[1;32m    881\u001b[0m         \u001b[38;5;66;03m# Binary mode\u001b[39;00m\n\u001b[1;32m    882\u001b[0m         handle \u001b[38;5;241m=\u001b[39m \u001b[38;5;28mopen\u001b[39m(handle, ioargs\u001b[38;5;241m.\u001b[39mmode)\n",
      "\u001b[0;31mFileNotFoundError\u001b[0m: [Errno 2] No such file or directory: '/home/runner/work/coil-qc-code/coil-qc-code/data-phantom/derivatives/results/sub-CRMBM_TFLTB1map.csv'"
     ]
    }
   ],
   "source": [
    "for subject in subjects:\n",
    "    \n",
    "    fname_result_TFLb1plus = os.path.join(path_results, f\"{subject}_TFLTB1map.csv\")\n",
    "    fname_result_SNR = os.path.join(path_results, f\"{subject}_acq-coilQaSagLarge_SNR_T0000.csv\")\n",
    "    fname_result_SNR_corrected = os.path.join(path_results, f\"{subject}_acq-coilQaSagLarge_SNR_T0000_corrected.csv\")\n",
    "\n",
    "    # INTERPOLATE B1+ MAP TO MATCH THE LENGTH OF THE SNR DATA\n",
    "    # =======================================================\n",
    "    # Read B1 values\n",
    "    df_b1 = pd.read_csv(fname_result_TFLb1plus)\n",
    "    b1_map = df_b1[\"WA()\"].values\n",
    "    # Read SNR values\n",
    "    df_snr = pd.read_csv(fname_result_SNR)\n",
    "    snr = df_snr[\"WA()\"].values\n",
    "    # Create interpolation function based on the length of snr\n",
    "    x = np.linspace(0, len(b1_map) - 1, len(b1_map))  # x values for original data points\n",
    "    f = interp1d(x, b1_map, kind='linear')\n",
    "    # Generate new x values to match the length of the `snr` array\n",
    "    x_new = np.linspace(0, len(b1_map) - 1, len(snr))\n",
    "    # Interpolate to get the new y values with the length of `snr`\n",
    "    b1_map_interp = f(x_new)\n",
    "\n",
    "    # CORRECT SNR VALUES FOR B1+ INHOMOGENEITY\n",
    "    # ========================================\n",
    "    # Fetch the reference voltage for the TFL scan\n",
    "    # TODO: create a function for this\n",
    "    with open(os.path.join(path_data, subject, \"fmap\", f\"{subject}_acq-famp_TB1TFL.json\"), \"r\") as f:\n",
    "        metadata = json.load(f)\n",
    "        ref_voltage = metadata.get(\"TxRefAmp\", \"N/A\")\n",
    "        if (ref_voltage == \"N/A\"):\n",
    "            ref_token = \"N/A\"\n",
    "            for token in metadata.get(\"SeriesDescription\", \"N/A\").split(\"_\"):\n",
    "                if token.startswith(\"RefV\"): ref_token = token\n",
    "            ref_voltage = float(ref_token[4:-1])\n",
    "    # Fetch the flip angle for the TFL scan\n",
    "    with open(os.path.join(path_data, subject, \"fmap\", f\"{subject}_acq-famp_TB1TFL.json\"), \"r\") as f:\n",
    "        metadata = json.load(f)\n",
    "        requested_fa_tfl = metadata.get(\"FlipAngle\", \"N/A\")\n",
    "    # Account for the power loss between the coil and the socket. That number was given by Siemens.\n",
    "    voltage_at_socket = ref_voltage * 10 ** -0.095\n",
    "    # measured-to-requested flip angle using B1 values (in nT/V)\n",
    "    meas_to_requested_fa = 10 * b1_map_interp * GAMMA * 1e-3 * voltage_at_socket / (np.pi * 1e9)\n",
    "    # Fetch the requested flip angle for the SNR GRE scan\n",
    "    with open(os.path.join(path_data, subject, \"fmap\", f\"{subject}_acq-coilQaSagLarge_SNR.json\"), \"r\") as f:\n",
    "        metadata = json.load(f)\n",
    "        requested_fa_gre = metadata.get(\"FlipAngle\", \"N/A\")\n",
    "    # Correct the SNR values for B1+ inhomogeneity\n",
    "    snr_corrected = snr / np.sin(np.deg2rad(requested_fa_gre * meas_to_requested_fa))\n",
    "    # Save corrected SNR values to CSV\n",
    "    df_snr_corrected = pd.DataFrame(snr_corrected)\n",
    "    # Insert 'WA()' as the first value in the DataFrame\n",
    "    df_snr_corrected.loc[-1] = ['WA()'] + [None] * (df_snr_corrected.shape[1] - 1)  # Prepend 'WA()' to the first column\n",
    "    df_snr_corrected.index = df_snr_corrected.index + 1  # Shift index\n",
    "    df_snr_corrected = df_snr_corrected.sort_index()  # Sort index to move the new row to the top\n",
    "    # Save corrected SNR values to CSV\n",
    "    df_snr_corrected.to_csv(fname_result_SNR_corrected, index=False, header=False)"
   ]
  },
  {
   "cell_type": "markdown",
   "id": "18",
   "metadata": {
    "papermill": {
     "duration": null,
     "end_time": null,
     "exception": null,
     "start_time": null,
     "status": "pending"
    },
    "tags": []
   },
   "source": [
    "## Generate figures"
   ]
  },
  {
   "cell_type": "markdown",
   "id": "19",
   "metadata": {
    "papermill": {
     "duration": null,
     "end_time": null,
     "exception": null,
     "start_time": null,
     "status": "pending"
    },
    "tags": []
   },
   "source": [
    "### g-factor maps"
   ]
  },
  {
   "cell_type": "code",
   "execution_count": null,
   "id": "20",
   "metadata": {
    "papermill": {
     "duration": null,
     "end_time": null,
     "exception": null,
     "start_time": null,
     "status": "pending"
    },
    "tags": []
   },
   "outputs": [],
   "source": [
    "\n",
    "# Compute the average and maximum 1/g factor in a central ROI\n",
    "# Display 1/g factor maps and T2w (coil-combined) maps for each site (MSSM excluded, see: https://github.com/spinal-cord-7t/coil-qc-code/issues/61)\n",
    "\n",
    "sites = [\"CRMBM\", \"MNI\", \"MPI\", \"UCL\", \"MGH\", \"NTNU\"] # MSSM excluded, see: https://github.com/spinal-cord-7t/coil-qc-code/issues/61\n",
    "\n",
    "# map types\n",
    "map_types = [\"acq-coilQaSagSmall_GFactor\", \"T2starw\"]\n",
    "# legend types\n",
    "legend_types = [\"[1/g]\", \"[a.u.]\"]\n",
    "\n",
    "mean_gfac = {}\n",
    "\n",
    "for map_type, legend_type in zip(map_types,legend_types):\n",
    "    \n",
    "    # Create a figure with multiple subplots\n",
    "    fig, axes = plt.subplots(2, 3, figsize=(10, 8))\n",
    "    font_size = 12\n",
    "    axes=axes.flatten() \n",
    "        \n",
    "    for i,site in enumerate(sites):\n",
    "        # T2starw\n",
    "        if map_type==\"T2starw\":\n",
    "            os.chdir(os.path.join(path_data, f\"sub-{site}\", \"anat\"))\n",
    "            map=nib.load(f\"sub-{site}_{map_type}.nii.gz\")\n",
    "            data=map.get_fdata()[:,:,round(map.get_fdata().shape[2]/2)]\n",
    "        # g-factor maps\n",
    "        else:\n",
    "            os.chdir(os.path.join(path_data, f\"sub-{site}\", \"fmap\"))\n",
    "            map=nib.load(f\"sub-{site}_{map_type}.nii.gz\")\n",
    "            data=(map.get_fdata()[64:191,64:191,round(map.get_fdata().shape[2]/2),5])/1000\n",
    "            \n",
    "            gfac_data=(map.get_fdata()[round(map.get_fdata().shape[0]/2)-10:round(map.get_fdata().shape[0]/2)+10,round(map.get_fdata().shape[1]/2)-10:round(map.get_fdata().shape[1]/2)+10,round(map.get_fdata().shape[2]/2),5])\n",
    "            mean_gfac[site]=np.nanmean(gfac_data)/1000\n",
    "        \n",
    "        # Plot    \n",
    "        splot=axes[i]\n",
    "        dynmin = 0\n",
    "        if map_type==\"acq-coilQaSagSmall_GFactor\":\n",
    "            dynmax = 1\n",
    "            axes[-1].axis('off')\n",
    "            splot.text(0, 3, r'mean 1/g = '+str(round(mean_gfac[site],3)), size=14)\n",
    "            \n",
    "            x = [data.shape[0]/2-10, data.shape[1]/2-10] \n",
    "            y = [data.shape[0]/2-10, data.shape[1]/2+10] \n",
    "            splot.plot(x, y, color=\"black\", linewidth=2) \n",
    "            \n",
    "            x = [data.shape[0]/2-10, data.shape[1]/2+10] \n",
    "            y = [data.shape[0]/2+10, data.shape[1]/2+10] \n",
    "            splot.plot(x, y, color=\"black\", linewidth=2) \n",
    "\n",
    "            x = [data.shape[0]/2+10, data.shape[1]/2+10] \n",
    "            y = [data.shape[0]/2+10, data.shape[1]/2-10] \n",
    "            splot.plot(x, y, color=\"black\", linewidth=2)\n",
    "\n",
    "            x = [data.shape[0]/2+10, data.shape[1]/2-10] \n",
    "            y = [data.shape[0]/2-10, data.shape[1]/2-10] \n",
    "            splot.plot(x, y, color=\"black\", linewidth=2) \n",
    "            \n",
    "        elif map_type==\"T2starw\":\n",
    "            dynmax = 2100\n",
    "            axes[-1].axis('off')\n",
    "        \n",
    "        im = splot.imshow((data.T), cmap='viridis', origin='lower',vmin=dynmin,vmax=dynmax) \n",
    "        splot.set_title(site, size=font_size)\n",
    "        splot.axis('off')\n",
    "\n",
    "    plt.tight_layout()\n",
    "\n",
    "    # Colorbar\n",
    "    # Assume that the colorbar should start at the bottom of the lower row of subplots and\n",
    "    # extend to the top of the upper row of subplots\n",
    "    cbar_bottom = 0.2  # This might need adjustment\n",
    "    cbar_height = 0.6  # This represents the total height of both rows of subplots\n",
    "    cbar_dist = 1.01\n",
    "    cbar_ax = fig.add_axes([cbar_dist, cbar_bottom, 0.03, cbar_height])\n",
    "    cbar = plt.colorbar(im, cax=cbar_ax)\n",
    "\n",
    "    cbar_ax.set_title(legend_type, size=12)\n",
    "    plt.show()\n"
   ]
  },
  {
   "cell_type": "markdown",
   "id": "21",
   "metadata": {
    "papermill": {
     "duration": null,
     "end_time": null,
     "exception": null,
     "start_time": null,
     "status": "pending"
    },
    "tags": []
   },
   "source": [
    "### B1+ and SNR maps"
   ]
  },
  {
   "cell_type": "code",
   "execution_count": null,
   "id": "22",
   "metadata": {
    "papermill": {
     "duration": null,
     "end_time": null,
     "exception": null,
     "start_time": null,
     "status": "pending"
    },
    "tags": []
   },
   "outputs": [],
   "source": [
    "sites = [\"CRMBM\", \"UCL\", \"MNI\", \"MGH\", \"MPI\", \"NTNU\", \"MSSM\"]\n",
    "\n",
    "# map types\n",
    "map_types = [\"TFLTB1map\", \"DREAMTB1avgB1map\", \"acq-coilQaSagLarge_SNR_T0000\"]\n",
    "\n",
    "# Define the dictionary with ranges for each map type\n",
    "# NIfTI voxel location: (xmin, xmax, ymin, ymax, zdata, zmask)\n",
    "range_dict = {\n",
    "    \"TFLTB1map\": (19, 83, 21, 122, 23, 23),\n",
    "    \"DREAMTB1avgB1map\": (18, 79, 14, 62, 5, 5),\n",
    "    \"acq-coilQaSagLarge_SNR_T0000\": (217, 317, 176, 335, 6, 6),\n",
    "}\n",
    "\n",
    "# legend types\n",
    "legend_types = [\"B1+ [nT/V]\", \"B1+ [nT/V]\", \"SNR [a.u.]\"]\n",
    "\n",
    "for map_type, legend_type in zip(map_types,legend_types):\n",
    "    \n",
    "    # Create a figure with multiple subplots\n",
    "    fig, axes = plt.subplots(2, 4, figsize=(10, 8))\n",
    "    font_size = 12\n",
    "    axes=axes.flatten() \n",
    "        \n",
    "    for i,site in enumerate(sites):\n",
    "        # Load data\n",
    "        os.chdir(os.path.join(path_data, f\"sub-{site}\", \"fmap\"))\n",
    "        if site=='CRMBM':\n",
    "            map=nib.load(f\"sub-{site}_{map_type}.nii.gz\")\n",
    "            if map_type==\"TFLTB1map\":\n",
    "                mask=nib.load(f\"sub-CRMBM_TFLTB1map_mask.nii.gz\")\n",
    "            elif map_type==\"DREAMTB1avgB1map\":\n",
    "                mask=nib.load(f\"sub-CRMBM_DREAMTB1avgB1map_mask.nii.gz\")\n",
    "            else: \n",
    "                mask=nib.load(f\"sub-CRMBM_acq-coilQaSagLarge_SNR_T0000_mask.nii.gz\")\n",
    "        else:\n",
    "            map=nib.load(f\"sub-{site}_{map_type}_reg.nii.gz\")\n",
    "            if map_type==\"TFLTB1map\":\n",
    "                mask=nib.load(f\"../../sub-CRMBM/fmap/sub-CRMBM_TFLTB1map_mask.nii.gz\")\n",
    "            elif map_type==\"DREAMTB1avgB1map\":\n",
    "                mask=nib.load(f\"../../sub-CRMBM/fmap/sub-CRMBM_DREAMTB1avgB1map_mask.nii.gz\")\n",
    "            else: \n",
    "                mask=nib.load(f\"../../sub-CRMBM/fmap/sub-CRMBM_acq-coilQaSagLarge_SNR_T0000_mask.nii.gz\")\n",
    "\n",
    "        # Crop data for display\n",
    "        data = map.get_fdata()[\n",
    "            range_dict[map_type][0]:range_dict[map_type][1],\n",
    "            range_dict[map_type][2]:range_dict[map_type][3],\n",
    "            range_dict[map_type][4]]\n",
    "        mask_data = mask.get_fdata()[\n",
    "            range_dict[map_type][0]:range_dict[map_type][1],\n",
    "            range_dict[map_type][2]:range_dict[map_type][3],\n",
    "            range_dict[map_type][5]]\n",
    "\n",
    "        # Binarize mask for display purpose\n",
    "        mask_data = (mask_data > 0.5).astype(int)\n",
    "        \n",
    "        # Plot\n",
    "        dynmin = 0 \n",
    "        if map_type==\"acq-coilQaSagLarge_SNR_T0000\":\n",
    "            dynmax = 310\n",
    "        else:\n",
    "            dynmax = 75    \n",
    "            \n",
    "        splot=axes[i]\n",
    "        im1 = splot.imshow((data.T), cmap='viridis', origin='lower',vmin=dynmin,vmax=dynmax)\n",
    "        # im2 = splot.imshow((mask_data.T), 'gray', origin='lower', alpha=0.2)\n",
    "        splot.contour(mask_data.T, levels=[0.5], colors='white', linewidths=0.5)\n",
    "        splot.set_title(site, size=font_size)\n",
    "        splot.axis('off')    \n",
    "    \n",
    "    # Display mean signal within mask for each site in an additional sub-plot\n",
    "    for site in sites:\n",
    "        # Read CSV file\n",
    "        if map_type == \"acq-coilQaSagLarge_SNR_T0000\":\n",
    "            file_csv = os.path.join(path_results, f\"sub-{site}_{map_type}_corrected.csv\")\n",
    "        else:\n",
    "            file_csv = os.path.join(path_results, f\"sub-{site}_{map_type}.csv\")\n",
    "        df = pd.read_csv(file_csv)\n",
    "        data = df['WA()'].dropna()\n",
    "        # Smooth data\n",
    "        data = uniform_filter1d(data, 10, mode='nearest')\n",
    "        # Display plot\n",
    "        axes[-1].plot(data, label=site)\n",
    "        axes[-1].legend(fontsize=10, loc='center left', bbox_to_anchor=(1.2, 0.5))\n",
    "        axes[-1].yaxis.set_label_position(\"right\")\n",
    "        axes[-1].yaxis.tick_right()\n",
    "        axes[-1].set_xticks([])  # Remove x-axis ticks\n",
    "        axes[-1].set_xlabel(\"← superior    inferior →\", fontsize=12, loc='center')\n",
    "        # axes[-1].set_yticks([])  # Remove y-axis ticks\n",
    "        axes[-1].invert_xaxis()  # Reverse the x-axis\n",
    "        axes[-1].yaxis.grid(True, color='grey', linestyle='-', linewidth=0.5)\n",
    "\n",
    "    # Reduce the space between the rows of subplots\n",
    "    fig.subplots_adjust(hspace=-0.2)  # Adjust this value as needed to reduce spacing\n",
    "\n",
    "    # Adjust figure subplots\n",
    "    plt.tight_layout()\n",
    "    box = axes[-1].get_position()\n",
    "    new_height = box.height * 0.76  # Reduce the height of the second subplot by 50%\n",
    "    axes[-1].set_position([box.x0, box.y0 + 0.068, box.width, new_height])\n",
    "\n",
    "    # Colorbar\n",
    "    cbar_bottom = 0.545  # This might need adjustment\n",
    "    cbar_height = 0.37  # This represents the total height of both rows of subplots\n",
    "    if (map_type == \"TFLTB1map\" or map_type == \"DREAMTB1avgB1map\" or map_type == \"acq-coilQaSagLarge_SNR_T0000\"):\n",
    "        cbar_dist = -0.1\n",
    "    else:\n",
    "        cbar_dist = 1.01\n",
    "    cbar_ax = fig.add_axes([0.9, cbar_bottom, 0.02, cbar_height])\n",
    "    cbar = plt.colorbar(im1, cax=cbar_ax)\n",
    "    cbar_ax.set_title(legend_type, size=10)\n",
    "    \n",
    "    plt.show()"
   ]
  },
  {
   "cell_type": "markdown",
   "id": "23",
   "metadata": {
    "papermill": {
     "duration": null,
     "end_time": null,
     "exception": null,
     "start_time": null,
     "status": "pending"
    },
    "tags": []
   },
   "source": [
    "### Individual coil channels"
   ]
  },
  {
   "cell_type": "code",
   "execution_count": null,
   "id": "24",
   "metadata": {
    "papermill": {
     "duration": null,
     "end_time": null,
     "exception": null,
     "start_time": null,
     "status": "pending"
    },
    "tags": []
   },
   "outputs": [],
   "source": [
    "sites = [\"CRMBM\", \"UCL\", \"MNI\", \"MGH\", \"MPI\", \"NTNU\", \"MSSM\"]\n",
    "        \n",
    "for i,site in enumerate(sites):\n",
    "\n",
    "    gre_files=sorted(glob.glob(os.path.join(path_data, f\"sub-{site}\", \"anat\", '*uncombined*.nii.gz')))\n",
    "        \n",
    "    #Tiled figure in a five-row layout\n",
    "    rows=int(np.ceil(len(gre_files)/4))\n",
    "    cols=int(np.ceil(len(gre_files)/rows))\n",
    "\n",
    "    fig=plt.figure(figsize=(15, 20))\n",
    "    \n",
    "    ax = fig.subplots(rows,cols,squeeze=True)\n",
    "    \n",
    "    for row in range(rows):\n",
    "        for col in range(cols):\n",
    "\n",
    "            i = row*cols+col\n",
    "\n",
    "            if i < len(gre_files):\n",
    "            \n",
    "                #read in files\n",
    "                data_to_plot=(nib.load(gre_files[i])).get_fdata() #load in nifti object, get only image data\n",
    "                data_to_plot=np.rot90(data_to_plot[:,:,int(np.floor(data_to_plot.shape[2]/2))]) #central slice\n",
    "           \n",
    "                ax[row,col].imshow(data_to_plot,cmap=plt.cm.gray,clim=[0, 300])\n",
    "                ax[row,col].text(0.5, 0.05, 'Rx channel : ' + str(i+1),horizontalalignment='center', transform=ax[row,col].transAxes,color='white',fontsize=17)\n",
    "                ax[row,col].axis('off')\n",
    "\n",
    "    plt.axis('off')\n",
    "    plt.subplots_adjust(hspace=0,wspace=0)\n",
    "    fig.suptitle(site, fontsize=20, y=0.9)\n"
   ]
  },
  {
   "cell_type": "markdown",
   "id": "25",
   "metadata": {
    "papermill": {
     "duration": null,
     "end_time": null,
     "exception": null,
     "start_time": null,
     "status": "pending"
    },
    "tags": []
   },
   "source": [
    "## Finished"
   ]
  },
  {
   "cell_type": "code",
   "execution_count": null,
   "id": "26",
   "metadata": {
    "papermill": {
     "duration": null,
     "end_time": null,
     "exception": null,
     "start_time": null,
     "status": "pending"
    },
    "tags": []
   },
   "outputs": [],
   "source": [
    "# Indicate duration of data processing\n",
    "\n",
    "end_time = datetime.now()\n",
    "total_time = (end_time - start_time).total_seconds()\n",
    "\n",
    "# Convert seconds to a timedelta object\n",
    "total_time_delta = timedelta(seconds=total_time)\n",
    "\n",
    "# Format the timedelta object to a string\n",
    "formatted_time = str(total_time_delta)\n",
    "\n",
    "# Pad the string representation if less than an hour\n",
    "formatted_time = formatted_time.rjust(8, '0')\n",
    "\n",
    "print(f\"Total Runtime [hour:min:sec]: {formatted_time}\")"
   ]
  }
 ],
 "metadata": {
  "kernelspec": {
   "display_name": "Python 3 (ipykernel)",
   "language": "python",
   "name": "python3"
  },
  "language_info": {
   "codemirror_mode": {
    "name": "ipython",
    "version": 3
   },
   "file_extension": ".py",
   "mimetype": "text/x-python",
   "name": "python",
   "nbconvert_exporter": "python",
   "pygments_lexer": "ipython3",
   "version": "3.10.15"
  },
  "papermill": {
   "default_parameters": {},
   "duration": 93.204368,
   "end_time": "2024-10-27T14:53:48.650884",
   "environment_variables": {},
   "exception": true,
   "input_path": "./data_processing-phantom.ipynb",
   "output_path": "executed_notebooks/data_processing-phantom.ipynb",
   "parameters": {},
   "start_time": "2024-10-27T14:52:15.446516",
   "version": "2.6.0"
  }
 },
 "nbformat": 4,
 "nbformat_minor": 5
}