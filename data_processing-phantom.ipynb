{
 "cells": [
  {
   "cell_type": "markdown",
   "id": "34f7bd81",
   "metadata": {
    "tags": [
     "papermill-error-cell-tag"
    ]
   },
   "source": [
    "<span style=\"color:red; font-family:Helvetica Neue, Helvetica, Arial, sans-serif; font-size:2em;\">An Exception was encountered at '<a href=\"#papermill-error-cell\">In [11]</a>'.</span>"
   ]
  },
  {
   "cell_type": "markdown",
   "id": "0",
   "metadata": {
    "papermill": {
     "duration": 0.004068,
     "end_time": "2024-10-27T14:43:01.123463",
     "exception": false,
     "start_time": "2024-10-27T14:43:01.119395",
     "status": "completed"
    },
    "tags": []
   },
   "source": [
    "# 7T coil comparison: processing of phantom data"
   ]
  },
  {
   "cell_type": "markdown",
   "id": "1",
   "metadata": {
    "papermill": {
     "duration": 0.003382,
     "end_time": "2024-10-27T14:43:01.130408",
     "exception": false,
     "start_time": "2024-10-27T14:43:01.127026",
     "status": "completed"
    },
    "tags": []
   },
   "source": [
    "## Setup environment"
   ]
  },
  {
   "cell_type": "code",
   "execution_count": 1,
   "id": "2",
   "metadata": {
    "execution": {
     "iopub.execute_input": "2024-10-27T14:43:01.139392Z",
     "iopub.status.busy": "2024-10-27T14:43:01.139134Z",
     "iopub.status.idle": "2024-10-27T14:43:02.328719Z",
     "shell.execute_reply": "2024-10-27T14:43:02.328041Z"
    },
    "papermill": {
     "duration": 1.195742,
     "end_time": "2024-10-27T14:43:02.330354",
     "exception": false,
     "start_time": "2024-10-27T14:43:01.134612",
     "status": "completed"
    },
    "tags": []
   },
   "outputs": [],
   "source": [
    "# Imports\n",
    "from datetime import datetime, timedelta\n",
    "import os\n",
    "import json\n",
    "import glob\n",
    "import matplotlib.pyplot as plt\n",
    "import numpy as np\n",
    "import nibabel as nib\n",
    "import pandas as pd\n",
    "from scipy.stats import iqr\n",
    "import shutil\n",
    "import zipfile\n",
    "from scipy.interpolate import interp1d\n",
    "from scipy.ndimage import uniform_filter1d\n",
    "from pathlib import Path\n",
    "\n",
    "# Define constants\n",
    "GAMMA = 2.675e8;  # [rad / (s T)]\n",
    "\n",
    "%matplotlib inline\n",
    "\n",
    "start_time = datetime.now()"
   ]
  },
  {
   "cell_type": "code",
   "execution_count": 2,
   "id": "3",
   "metadata": {
    "execution": {
     "iopub.execute_input": "2024-10-27T14:43:02.339156Z",
     "iopub.status.busy": "2024-10-27T14:43:02.338579Z",
     "iopub.status.idle": "2024-10-27T14:43:48.081397Z",
     "shell.execute_reply": "2024-10-27T14:43:48.080656Z"
    },
    "papermill": {
     "duration": 45.748925,
     "end_time": "2024-10-27T14:43:48.083074",
     "exception": false,
     "start_time": "2024-10-27T14:43:02.334149",
     "status": "completed"
    },
    "tags": []
   },
   "outputs": [
    {
     "name": "stdout",
     "output_type": "stream",
     "text": [
      "\r\n",
      "👋 Hello! This is openneuro-py 2024.2.0. Great to see you! 🤗\r\n",
      "\r\n",
      "   👉 Please report problems 🤯 and bugs 🪲 at\r\n",
      "      https://github.com/hoechenberger/openneuro-py/issues\r\n",
      "\r\n",
      "🌍 Preparing to download ds005090 …\r\n"
     ]
    },
    {
     "name": "stdout",
     "output_type": "stream",
     "text": [
      "\r",
      "📁 Traversing directories for ds005090 : 0 entities [00:00, ? entities/s]"
     ]
    },
    {
     "name": "stdout",
     "output_type": "stream",
     "text": [
      "\r",
      "📁 Traversing directories for ds005090 : 5 entities [00:00,  6.44 entities/s]"
     ]
    },
    {
     "name": "stdout",
     "output_type": "stream",
     "text": [
      "\r",
      "📁 Traversing directories for ds005090 : 23 entities [00:00, 29.18 entities/s]"
     ]
    },
    {
     "name": "stdout",
     "output_type": "stream",
     "text": [
      "\r",
      "📁 Traversing directories for ds005090 : 45 entities [00:01, 36.21 entities/s]"
     ]
    },
    {
     "name": "stdout",
     "output_type": "stream",
     "text": [
      "\r",
      "📁 Traversing directories for ds005090 : 87 entities [00:01, 68.28 entities/s]"
     ]
    },
    {
     "name": "stdout",
     "output_type": "stream",
     "text": [
      "\r",
      "📁 Traversing directories for ds005090 : 105 entities [00:02, 49.68 entities/s]"
     ]
    },
    {
     "name": "stdout",
     "output_type": "stream",
     "text": [
      "\r",
      "📁 Traversing directories for ds005090 : 147 entities [00:02, 69.12 entities/s]"
     ]
    },
    {
     "name": "stdout",
     "output_type": "stream",
     "text": [
      "\r",
      "📁 Traversing directories for ds005090 : 169 entities [00:03, 59.59 entities/s]"
     ]
    },
    {
     "name": "stdout",
     "output_type": "stream",
     "text": [
      "\r",
      "📁 Traversing directories for ds005090 : 219 entities [00:03, 97.24 entities/s]"
     ]
    },
    {
     "name": "stdout",
     "output_type": "stream",
     "text": [
      "\r",
      "📁 Traversing directories for ds005090 : 241 entities [00:03, 93.87 entities/s]"
     ]
    },
    {
     "name": "stdout",
     "output_type": "stream",
     "text": [
      "\r",
      "📁 Traversing directories for ds005090 : 287 entities [00:03, 132.18 entities/s]"
     ]
    },
    {
     "name": "stdout",
     "output_type": "stream",
     "text": [
      "\r",
      "📁 Traversing directories for ds005090 : 308 entities [00:04, 91.47 entities/s] "
     ]
    },
    {
     "name": "stdout",
     "output_type": "stream",
     "text": [
      "\r",
      "📁 Traversing directories for ds005090 : 357 entities [00:04, 134.37 entities/s]"
     ]
    },
    {
     "name": "stdout",
     "output_type": "stream",
     "text": [
      "\r",
      "📁 Traversing directories for ds005090 : 381 entities [00:04, 126.12 entities/s]"
     ]
    },
    {
     "name": "stdout",
     "output_type": "stream",
     "text": [
      "\r",
      "📁 Traversing directories for ds005090 : 401 entities [00:04, 117.90 entities/s]\r",
      "📁 Traversing directories for ds005090 : 418 entities [00:04, 86.52 entities/s] \r\n",
      "📥 Retrieving up to 418 files (5 concurrent downloads). \r\n"
     ]
    },
    {
     "name": "stdout",
     "output_type": "stream",
     "text": [
      "\r",
      ".bidsignore:   0%|                                   | 0.00/92.0 [00:00<?, ?B/s]\r\n",
      "\r",
      "CHANGES:   0%|                                       | 0.00/91.0 [00:00<?, ?B/s]\u001b[A\r\n",
      "\r\n",
      "\r",
      "dataset_description.json:   0%|                       | 0.00/314 [00:00<?, ?B/s]\u001b[A\u001b[A\r",
      "                                                                                \r",
      "\r\n",
      "\r",
      "                                                                                \u001b[A\r\n",
      "\r\n",
      "\r",
      "                                                                                \u001b[A\u001b[A"
     ]
    },
    {
     "name": "stdout",
     "output_type": "stream",
     "text": [
      "\r",
      "sub-CRMBM_T2starw.json:   0%|                       | 0.00/2.42k [00:00<?, ?B/s]\r",
      "                                                                                \r"
     ]
    },
    {
     "name": "stdout",
     "output_type": "stream",
     "text": [
      "\r",
      "participants.tsv:   0%|                               | 0.00/313 [00:00<?, ?B/s]\r",
      "                                                                                \r",
      "\r",
      "sub-CRMBM_rec-uncombined1_T2starw.json:   0%|       | 0.00/2.43k [00:00<?, ?B/s]\r",
      "                                                                                \r"
     ]
    },
    {
     "name": "stdout",
     "output_type": "stream",
     "text": [
      "\r",
      "sub-CRMBM_T2starw.nii.gz:   0%|                      | 0.00/864k [00:00<?, ?B/s]\r\n",
      "\r",
      "sub-CRMBM_rec-uncombined1_T2starw.nii.gz:   0%|      | 0.00/676k [00:00<?, ?B/s]\u001b[A\r\n",
      "\r\n",
      "\r",
      "sub-CRMBM_rec-uncombined2_T2starw.nii.gz:   0%|      | 0.00/737k [00:00<?, ?B/s]\u001b[A\u001b[A"
     ]
    },
    {
     "name": "stdout",
     "output_type": "stream",
     "text": [
      "\r\n",
      "\r",
      "                                                                                \u001b[A"
     ]
    },
    {
     "name": "stdout",
     "output_type": "stream",
     "text": [
      "\r",
      "sub-CRMBM_T2starw.nii.gz: 100%|██████████████| 864k/864k [00:00<00:00, 8.28MB/s]\r",
      "                                                                                \r",
      "\r",
      "sub-CRMBM_rec-uncombined4_T2starw.nii.gz:   0%|      | 0.00/700k [00:00<?, ?B/s]\r\n",
      "\r",
      "sub-CRMBM_rec-uncombined2_T2starw.json:   0%|       | 0.00/2.43k [00:00<?, ?B/s]\u001b[A\r\n",
      "\r\n",
      "\r",
      "sub-CRMBM_rec-uncombined2_T2starw.nii.gz:  62%|▌| 456k/737k [00:00<00:00, 4.65MB\u001b[A\u001b[A\r\n",
      "\r",
      "                                                                                \u001b[A"
     ]
    },
    {
     "name": "stdout",
     "output_type": "stream",
     "text": [
      "\r\n",
      "\r\n",
      "\r",
      "                                                                                \u001b[A\u001b[A\r",
      "sub-CRMBM_rec-uncombined4_T2starw.nii.gz:  41%|▍| 290k/700k [00:00<00:00, 2.60MB"
     ]
    },
    {
     "name": "stdout",
     "output_type": "stream",
     "text": [
      "\r",
      "                                                                                \r",
      "\r",
      "sub-CRMBM_rec-uncombined3_T2starw.nii.gz:   0%|      | 0.00/799k [00:00<?, ?B/s]\r\n",
      "\r",
      "sub-CRMBM_rec-uncombined4_T2starw.json:   0%|       | 0.00/2.43k [00:00<?, ?B/s]\u001b[A\r\n",
      "\r",
      "                                                                                \u001b[A"
     ]
    },
    {
     "name": "stdout",
     "output_type": "stream",
     "text": [
      "\r\n",
      "\r",
      "sub-CRMBM_rec-uncombined5_T2starw.json:   0%|       | 0.00/2.43k [00:00<?, ?B/s]\u001b[A\r\n",
      "\r",
      "                                                                                \u001b[A"
     ]
    },
    {
     "name": "stdout",
     "output_type": "stream",
     "text": [
      "\r\n",
      "\r",
      "sub-CRMBM_rec-uncombined3_T2starw.json:   0%|       | 0.00/2.43k [00:00<?, ?B/s]\u001b[A\r\n",
      "\r",
      "                                                                                \u001b[A\r",
      "sub-CRMBM_rec-uncombined3_T2starw.nii.gz:  13%|▏| 101k/799k [00:00<00:00, 1.00MB"
     ]
    },
    {
     "name": "stdout",
     "output_type": "stream",
     "text": [
      "\r\n",
      "\r",
      "sub-CRMBM_rec-uncombined7_T2starw.nii.gz:   0%|      | 0.00/606k [00:00<?, ?B/s]\u001b[A\r",
      "                                                                                \r"
     ]
    },
    {
     "name": "stdout",
     "output_type": "stream",
     "text": [
      "\r",
      "sub-CRMBM_rec-uncombined6_T2starw.json:   0%|       | 0.00/2.43k [00:00<?, ?B/s]\r",
      "                                                                                \r",
      "\r",
      "sub-CRMBM_rec-uncombined6_T2starw.nii.gz:   0%|      | 0.00/677k [00:00<?, ?B/s]"
     ]
    },
    {
     "name": "stdout",
     "output_type": "stream",
     "text": [
      "\r\n",
      "\r\n",
      "\r",
      "sub-CRMBM_rec-uncombined5_T2starw.nii.gz:   0%|      | 0.00/707k [00:00<?, ?B/s]\u001b[A\u001b[A\r\n",
      "\r",
      "                                                                                \u001b[A"
     ]
    },
    {
     "name": "stdout",
     "output_type": "stream",
     "text": [
      "\r\n",
      "\r",
      "sub-CRMBM_rec-uncombined7_T2starw.json:   0%|       | 0.00/2.43k [00:00<?, ?B/s]\u001b[A\r\n",
      "\r",
      "                                                                                \u001b[A\r",
      "sub-CRMBM_rec-uncombined6_T2starw.nii.gz:  54%|▌| 363k/677k [00:00<00:00, 3.72MB"
     ]
    },
    {
     "name": "stdout",
     "output_type": "stream",
     "text": [
      "\r\n",
      "\r",
      "sub-CRMBM_rec-uncombined8_T2starw.json:   0%|       | 0.00/2.43k [00:00<?, ?B/s]\u001b[A\r\n",
      "\r",
      "                                                                                \u001b[A\r\n",
      "\r\n",
      "\r",
      "sub-CRMBM_rec-uncombined5_T2starw.nii.gz:  53%|▌| 376k/707k [00:00<00:00, 3.13MB\u001b[A\u001b[A\r",
      "                                                                                \r"
     ]
    },
    {
     "name": "stdout",
     "output_type": "stream",
     "text": [
      "\r",
      "sub-CRMBM_acq-anat_TB1TFL.json:   0%|               | 0.00/2.66k [00:00<?, ?B/s]\r",
      "                                                                                \r"
     ]
    },
    {
     "name": "stdout",
     "output_type": "stream",
     "text": [
      "\r\n",
      "\r\n",
      "\r",
      "                                                                                \u001b[A\u001b[A\r",
      "sub-CRMBM_rec-uncombined8_T2starw.nii.gz:   0%|      | 0.00/639k [00:00<?, ?B/s]"
     ]
    },
    {
     "name": "stdout",
     "output_type": "stream",
     "text": [
      "\r\n",
      "\r",
      "sub-CRMBM_acq-coilQaSagLarge_SNR.json:   0%|        | 0.00/2.18k [00:00<?, ?B/s]\u001b[A\r\n",
      "\r",
      "                                                                                \u001b[A"
     ]
    },
    {
     "name": "stdout",
     "output_type": "stream",
     "text": [
      "\r\n",
      "\r",
      "sub-CRMBM_acq-anat_TB1TFL.nii.gz:   0%|              | 0.00/833k [00:00<?, ?B/s]\u001b[A\r",
      "                                                                                \r"
     ]
    },
    {
     "name": "stdout",
     "output_type": "stream",
     "text": [
      "\r",
      "sub-CRMBM_acq-coilQaSagLarge_SNR.nii.gz:   0%|      | 0.00/3.88M [00:00<?, ?B/s]\r\n",
      "\r",
      "                                                                                \u001b[A"
     ]
    },
    {
     "name": "stdout",
     "output_type": "stream",
     "text": [
      "\r\n",
      "\r",
      "sub-CRMBM_acq-coilQaSagSmall_GFactor.nii.gz:   0%|  | 0.00/2.65M [00:00<?, ?B/s]\u001b[A\r\n",
      "\r\n",
      "\r",
      "sub-CRMBM_acq-coilQaTra_GFactor.json:   0%|         | 0.00/2.07k [00:00<?, ?B/s]\u001b[A\u001b[A\r\n",
      "\r\n",
      "\r",
      "                                                                                \u001b[A\u001b[A"
     ]
    },
    {
     "name": "stdout",
     "output_type": "stream",
     "text": [
      "\r\n",
      "\r\n",
      "\r",
      "sub-CRMBM_acq-coilQaTra_GFactor.nii.gz:   0%|       | 0.00/11.7M [00:00<?, ?B/s]\u001b[A\u001b[A\r",
      "sub-CRMBM_acq-coilQaSagLarge_SNR.nii.gz:   8%| | 322k/3.88M [00:00<00:01, 3.28MB"
     ]
    },
    {
     "name": "stdout",
     "output_type": "stream",
     "text": [
      "\r\n",
      "\r\n",
      "\r\n",
      "\r",
      "sub-CRMBM_acq-coilQaSagSmall_GFactor.json:   0%|    | 0.00/2.18k [00:00<?, ?B/s]\u001b[A\u001b[A\u001b[A\r\n",
      "\r\n",
      "\r\n",
      "\r",
      "                                                                                \u001b[A\u001b[A\u001b[A\r\n",
      "\r",
      "sub-CRMBM_acq-coilQaSagSmall_GFactor.nii.gz:  28%|▎| 760k/2.65M [00:00<00:00, 7.\u001b[A"
     ]
    },
    {
     "name": "stdout",
     "output_type": "stream",
     "text": [
      "\r\n",
      "\r\n",
      "\r\n",
      "\r",
      "sub-CRMBM_acq-famp-0.66_TB1DREAM.json:   0%|        | 0.00/2.15k [00:00<?, ?B/s]\u001b[A\u001b[A\u001b[A\r\n",
      "\r\n",
      "\r\n",
      "\r",
      "                                                                                \u001b[A\u001b[A\u001b[A\r\n",
      "\r\n",
      "\r",
      "sub-CRMBM_acq-coilQaTra_GFactor.nii.gz:   4%| | 474k/11.7M [00:00<00:02, 4.86MB/\u001b[A\u001b[A\r",
      "sub-CRMBM_acq-coilQaSagLarge_SNR.nii.gz:  24%|▏| 934k/3.88M [00:00<00:00, 4.47MB"
     ]
    },
    {
     "name": "stdout",
     "output_type": "stream",
     "text": [
      "\r\n",
      "\r",
      "sub-CRMBM_acq-coilQaSagSmall_GFactor.nii.gz:  56%|▌| 1.49M/2.65M [00:00<00:00, 6\u001b[A\r\n",
      "\r\n",
      "\r",
      "sub-CRMBM_acq-coilQaTra_GFactor.nii.gz:  10%| | 1.19M/11.7M [00:00<00:01, 6.49MB\u001b[A\u001b[A\r\n",
      "\r\n",
      "\r\n",
      "\r",
      "sub-CRMBM_acq-famp-0.66_TB1DREAM.nii.gz:   0%|      | 0.00/90.7k [00:00<?, ?B/s]\u001b[A\u001b[A\u001b[A\r",
      "sub-CRMBM_acq-coilQaSagLarge_SNR.nii.gz:  51%|▌| 1.97M/3.88M [00:00<00:00, 7.32M"
     ]
    },
    {
     "name": "stdout",
     "output_type": "stream",
     "text": [
      "\r\n",
      "\r\n",
      "\r\n",
      "\r",
      "                                                                                \u001b[A\u001b[A\u001b[A\r\n",
      "\r\n",
      "\r\n",
      "\r",
      "sub-CRMBM_acq-famp-1.5_TB1DREAM.json:   0%|         | 0.00/2.14k [00:00<?, ?B/s]\u001b[A\u001b[A\u001b[A\r\n",
      "\r\n",
      "\r\n",
      "\r",
      "                                                                                \u001b[A\u001b[A\u001b[A"
     ]
    },
    {
     "name": "stdout",
     "output_type": "stream",
     "text": [
      "\r\n",
      "\r",
      "sub-CRMBM_acq-coilQaSagSmall_GFactor.nii.gz:  84%|▊| 2.23M/2.65M [00:00<00:00, 6\u001b[A\r\n",
      "\r\n",
      "\r",
      "sub-CRMBM_acq-coilQaTra_GFactor.nii.gz:  16%|▏| 1.82M/11.7M [00:00<00:01, 6.04MB\u001b[A\u001b[A"
     ]
    },
    {
     "name": "stdout",
     "output_type": "stream",
     "text": [
      "\r\n",
      "\r",
      "                                                                                \u001b[A\r\n",
      "\r",
      "sub-CRMBM_acq-famp_TB1DREAM.json:   0%|             | 0.00/2.13k [00:00<?, ?B/s]\u001b[A"
     ]
    },
    {
     "name": "stdout",
     "output_type": "stream",
     "text": [
      "\r\n",
      "\r",
      "                                                                                \u001b[A\r",
      "sub-CRMBM_acq-coilQaSagLarge_SNR.nii.gz:  69%|▋| 2.69M/3.88M [00:00<00:00, 5.41M\r\n",
      "\r\n",
      "\r",
      "sub-CRMBM_acq-coilQaTra_GFactor.nii.gz:  20%|▏| 2.40M/11.7M [00:00<00:01, 5.71MB\u001b[A\u001b[A"
     ]
    },
    {
     "name": "stdout",
     "output_type": "stream",
     "text": [
      "\r\n",
      "\r",
      "sub-CRMBM_acq-famp-1.5_TB1DREAM.nii.gz:   0%|       | 0.00/91.4k [00:00<?, ?B/s]\u001b[A\r\n",
      "\r",
      "                                                                                \u001b[A"
     ]
    },
    {
     "name": "stdout",
     "output_type": "stream",
     "text": [
      "\r\n",
      "\r",
      "sub-CRMBM_acq-famp_TB1TFL.json:   0%|               | 0.00/2.69k [00:00<?, ?B/s]\u001b[A\r\n",
      "\r",
      "                                                                                \u001b[A\r",
      "sub-CRMBM_acq-coilQaSagLarge_SNR.nii.gz:  86%|▊| 3.34M/3.88M [00:00<00:00, 5.70M\r\n",
      "\r\n",
      "\r",
      "sub-CRMBM_acq-coilQaTra_GFactor.nii.gz:  25%|▎| 2.95M/11.7M [00:00<00:01, 5.67MB\u001b[A\u001b[A\r\n",
      "\r",
      "sub-CRMBM_acq-famp_TB1TFL.nii.gz:   0%|              | 0.00/919k [00:00<?, ?B/s]\u001b[A"
     ]
    },
    {
     "name": "stdout",
     "output_type": "stream",
     "text": [
      "\r",
      "                                                                                \r"
     ]
    },
    {
     "name": "stdout",
     "output_type": "stream",
     "text": [
      "\r",
      "sub-CRMBM_acq-refv-0.66_TB1DREAM.json:   0%|        | 0.00/2.16k [00:00<?, ?B/s]\r",
      "                                                                                \r",
      "\r\n",
      "\r\n",
      "\r",
      "sub-CRMBM_acq-coilQaTra_GFactor.nii.gz:  32%|▎| 3.81M/11.7M [00:00<00:01, 6.66MB\u001b[A\u001b[A\r\n",
      "\r",
      "sub-CRMBM_acq-famp_TB1TFL.nii.gz:  20%|█▏    | 185k/919k [00:00<00:00, 1.89MB/s]\u001b[A"
     ]
    },
    {
     "name": "stdout",
     "output_type": "stream",
     "text": [
      "\r",
      "sub-CRMBM_acq-refv-0.66_TB1DREAM.nii.gz:   0%|      | 0.00/78.5k [00:00<?, ?B/s]\r",
      "                                                                                \r"
     ]
    },
    {
     "name": "stdout",
     "output_type": "stream",
     "text": [
      "\r\n",
      "\r",
      "                                                                                \u001b[A"
     ]
    },
    {
     "name": "stdout",
     "output_type": "stream",
     "text": [
      "\r\n",
      "\r\n",
      "\r",
      "sub-CRMBM_acq-coilQaTra_GFactor.nii.gz:  43%|▍| 5.07M/11.7M [00:00<00:00, 8.35MB\u001b[A\u001b[A\r",
      "sub-CRMBM_acq-famp_TB1DREAM.nii.gz:   0%|           | 0.00/90.9k [00:00<?, ?B/s]\r\n",
      "\r",
      "sub-CRMBM_acq-refv_TB1DREAM.nii.gz:   0%|           | 0.00/82.4k [00:00<?, ?B/s]\u001b[A\r",
      "                                                                                \r"
     ]
    },
    {
     "name": "stdout",
     "output_type": "stream",
     "text": [
      "\r\n",
      "\r",
      "                                                                                \u001b[A\r",
      "sub-CRMBM_acq-refv-1.5_TB1DREAM.nii.gz:   0%|       | 0.00/85.8k [00:00<?, ?B/s]"
     ]
    },
    {
     "name": "stdout",
     "output_type": "stream",
     "text": [
      "\r\n",
      "\r",
      "sub-CRMBM_acq-refv_TB1DREAM.json:   0%|             | 0.00/2.14k [00:00<?, ?B/s]\u001b[A\r\n",
      "\r",
      "                                                                                \u001b[A\r\n",
      "\r\n",
      "\r",
      "sub-CRMBM_acq-coilQaTra_GFactor.nii.gz:  50%|▌| 5.87M/11.7M [00:00<00:00, 7.77MB\u001b[A\u001b[A\r",
      "                                                                                \r"
     ]
    },
    {
     "name": "stdout",
     "output_type": "stream",
     "text": [
      "\r",
      "sub-CRMBM_acq-refv-1.5_TB1DREAM.json:   0%|         | 0.00/2.16k [00:00<?, ?B/s]\r",
      "                                                                                \r",
      "\r\n",
      "\r\n",
      "\r",
      "sub-CRMBM_acq-coilQaTra_GFactor.nii.gz:  70%|▋| 8.20M/11.7M [00:00<00:00, 11.9MB\u001b[A\u001b[A\r",
      "sub-MGH_T2starw.json:   0%|                         | 0.00/2.43k [00:00<?, ?B/s]"
     ]
    },
    {
     "name": "stdout",
     "output_type": "stream",
     "text": [
      "\r",
      "                                                                                \r",
      "\r",
      "sub-MGH_rec-uncombined01_T2starw.json:   0%|        | 0.00/2.44k [00:00<?, ?B/s]\r",
      "                                                                                \r"
     ]
    },
    {
     "name": "stdout",
     "output_type": "stream",
     "text": [
      "\r",
      "sub-MGH_T2starw.nii.gz:   0%|                       | 0.00/1.14M [00:00<?, ?B/s]"
     ]
    },
    {
     "name": "stdout",
     "output_type": "stream",
     "text": [
      "\r\n",
      "\r\n",
      "\r",
      "sub-CRMBM_acq-coilQaTra_GFactor.nii.gz:  80%|▊| 9.34M/11.7M [00:01<00:00, 11.7MB\u001b[A\u001b[A\r\n",
      "\r",
      "sub-MGH_rec-uncombined02_T2starw.nii.gz:   0%|       | 0.00/717k [00:00<?, ?B/s]\u001b[A\r\n",
      "\r\n",
      "\r\n",
      "\r",
      "sub-MGH_rec-uncombined02_T2starw.json:   0%|        | 0.00/2.44k [00:00<?, ?B/s]\u001b[A\u001b[A\u001b[A\r\n",
      "\r\n",
      "\r\n",
      "\r",
      "                                                                                \u001b[A\u001b[A\u001b[A"
     ]
    },
    {
     "name": "stdout",
     "output_type": "stream",
     "text": [
      "\r",
      "sub-MGH_T2starw.nii.gz:  88%|████████████▎ | 0.99M/1.14M [00:00<00:00, 9.31MB/s]\r\n",
      "\r\n",
      "\r\n",
      "\r",
      "sub-MGH_rec-uncombined01_T2starw.nii.gz:   0%|       | 0.00/804k [00:00<?, ?B/s]\u001b[A\u001b[A\u001b[A\r",
      "                                                                                \r"
     ]
    },
    {
     "name": "stdout",
     "output_type": "stream",
     "text": [
      "\r\n",
      "\r\n",
      "\r",
      "sub-CRMBM_acq-coilQaTra_GFactor.nii.gz:  92%|▉| 10.8M/11.7M [00:01<00:00, 11.7MB\u001b[A\u001b[A\r\n",
      "\r",
      "sub-MGH_rec-uncombined02_T2starw.nii.gz:  38%|▍| 269k/717k [00:00<00:00, 2.75MB/\u001b[A"
     ]
    },
    {
     "name": "stdout",
     "output_type": "stream",
     "text": [
      "\r",
      "sub-MGH_rec-uncombined04_T2starw.json:   0%|        | 0.00/2.44k [00:00<?, ?B/s]\r",
      "                                                                                \r"
     ]
    },
    {
     "name": "stdout",
     "output_type": "stream",
     "text": [
      "\r\n",
      "\r\n",
      "\r\n",
      "\r",
      "sub-MGH_rec-uncombined01_T2starw.nii.gz:  67%|▋| 543k/804k [00:00<00:00, 4.21MB/\u001b[A\u001b[A\u001b[A\r",
      "sub-MGH_rec-uncombined03_T2starw.json:   0%|        | 0.00/2.44k [00:00<?, ?B/s]\r",
      "                                                                                \r"
     ]
    },
    {
     "name": "stdout",
     "output_type": "stream",
     "text": [
      "\r\n",
      "\r",
      "sub-MGH_rec-uncombined02_T2starw.nii.gz:  97%|▉| 694k/717k [00:00<00:00, 3.20MB/\u001b[A\r\n",
      "\r",
      "                                                                                \u001b[A"
     ]
    },
    {
     "name": "stdout",
     "output_type": "stream",
     "text": [
      "\r\n",
      "\r\n",
      "\r",
      "                                                                                \u001b[A\u001b[A\r\n",
      "\r\n",
      "\r\n",
      "\r",
      "                                                                                \u001b[A\u001b[A\u001b[A"
     ]
    },
    {
     "name": "stdout",
     "output_type": "stream",
     "text": [
      "\r",
      "sub-MGH_rec-uncombined03_T2starw.nii.gz:   0%|       | 0.00/718k [00:00<?, ?B/s]\r\n",
      "\r",
      "sub-MGH_rec-uncombined05_T2starw.json:   0%|        | 0.00/2.44k [00:00<?, ?B/s]\u001b[A\r\n",
      "\r",
      "                                                                                \u001b[A"
     ]
    },
    {
     "name": "stdout",
     "output_type": "stream",
     "text": [
      "\r\n",
      "\r",
      "sub-MGH_rec-uncombined04_T2starw.nii.gz:   0%|       | 0.00/725k [00:00<?, ?B/s]\u001b[A"
     ]
    },
    {
     "name": "stdout",
     "output_type": "stream",
     "text": [
      "\r",
      "                                                                                \r"
     ]
    },
    {
     "name": "stdout",
     "output_type": "stream",
     "text": [
      "\r",
      "sub-MGH_rec-uncombined07_T2starw.json:   0%|        | 0.00/2.44k [00:00<?, ?B/s]\r\n",
      "\r\n",
      "\r",
      "sub-MGH_rec-uncombined06_T2starw.json:   0%|        | 0.00/2.44k [00:00<?, ?B/s]\u001b[A\u001b[A\r\n",
      "\r\n",
      "\r\n",
      "\r",
      "sub-MGH_rec-uncombined07_T2starw.nii.gz:   0%|       | 0.00/773k [00:00<?, ?B/s]\u001b[A\u001b[A\u001b[A\r",
      "                                                                                \r",
      "\r\n",
      "\r\n",
      "\r",
      "                                                                                \u001b[A\u001b[A"
     ]
    },
    {
     "name": "stdout",
     "output_type": "stream",
     "text": [
      "\r\n",
      "\r",
      "sub-MGH_rec-uncombined04_T2starw.nii.gz:  42%|▍| 307k/725k [00:00<00:00, 2.17MB/\u001b[A"
     ]
    },
    {
     "name": "stdout",
     "output_type": "stream",
     "text": [
      "\r\n",
      "\r",
      "                                                                                \u001b[A\r\n",
      "\r\n",
      "\r\n",
      "\r",
      "sub-MGH_rec-uncombined07_T2starw.nii.gz:  61%|▌| 473k/773k [00:00<00:00, 3.90MB/\u001b[A\u001b[A\u001b[A\r\n",
      "\r\n",
      "\r\n",
      "\r",
      "                                                                                \u001b[A\u001b[A\u001b[A"
     ]
    },
    {
     "name": "stdout",
     "output_type": "stream",
     "text": [
      "\r",
      "sub-MGH_rec-uncombined05_T2starw.nii.gz:   0%|       | 0.00/798k [00:00<?, ?B/s]\r\n",
      "\r",
      "sub-MGH_rec-uncombined10_T2starw.json:   0%|        | 0.00/2.44k [00:00<?, ?B/s]\u001b[A\r\n",
      "\r",
      "                                                                                \u001b[A"
     ]
    },
    {
     "name": "stdout",
     "output_type": "stream",
     "text": [
      "\r\n",
      "\r",
      "sub-MGH_rec-uncombined06_T2starw.nii.gz:   0%|       | 0.00/794k [00:00<?, ?B/s]\u001b[A\r\n",
      "\r\n",
      "\r",
      "sub-MGH_rec-uncombined08_T2starw.json:   0%|        | 0.00/2.44k [00:00<?, ?B/s]\u001b[A\u001b[A\r\n",
      "\r\n",
      "\r",
      "                                                                                \u001b[A\u001b[A"
     ]
    },
    {
     "name": "stdout",
     "output_type": "stream",
     "text": [
      "\r",
      "sub-MGH_rec-uncombined05_T2starw.nii.gz:  75%|▋| 594k/798k [00:00<00:00, 6.06MB/\r\n",
      "\r\n",
      "\r",
      "sub-MGH_rec-uncombined09_T2starw.json:   0%|        | 0.00/2.44k [00:00<?, ?B/s]\u001b[A\u001b[A\r\n",
      "\r\n",
      "\r",
      "                                                                                \u001b[A\u001b[A"
     ]
    },
    {
     "name": "stdout",
     "output_type": "stream",
     "text": [
      "\r\n",
      "\r",
      "sub-MGH_rec-uncombined06_T2starw.nii.gz:  23%|▏| 181k/794k [00:00<00:00, 1.84MB/\u001b[A\r\n",
      "\r\n",
      "\r",
      "sub-MGH_rec-uncombined09_T2starw.nii.gz:   0%|       | 0.00/805k [00:00<?, ?B/s]\u001b[A\u001b[A\r",
      "                                                                                \r"
     ]
    },
    {
     "name": "stdout",
     "output_type": "stream",
     "text": [
      "\r\n",
      "\r",
      "                                                                                \u001b[A"
     ]
    },
    {
     "name": "stdout",
     "output_type": "stream",
     "text": [
      "\r\n",
      "\r\n",
      "\r",
      "sub-MGH_rec-uncombined09_T2starw.nii.gz:  65%|▋| 521k/805k [00:00<00:00, 5.33MB/\u001b[A\u001b[A\r\n",
      "\r\n",
      "\r",
      "                                                                                \u001b[A\u001b[A"
     ]
    },
    {
     "name": "stdout",
     "output_type": "stream",
     "text": [
      "\r",
      "sub-MGH_rec-uncombined10_T2starw.nii.gz:   0%|       | 0.00/838k [00:00<?, ?B/s]\r\n",
      "\r",
      "sub-MGH_rec-uncombined08_T2starw.nii.gz:   0%|       | 0.00/853k [00:00<?, ?B/s]\u001b[A\r\n",
      "\r\n",
      "\r",
      "sub-MGH_rec-uncombined11_T2starw.json:   0%|        | 0.00/2.44k [00:00<?, ?B/s]\u001b[A\u001b[A\r\n",
      "\r\n",
      "\r",
      "                                                                                \u001b[A\u001b[A"
     ]
    },
    {
     "name": "stdout",
     "output_type": "stream",
     "text": [
      "\r\n",
      "\r",
      "                                                                                \u001b[A"
     ]
    },
    {
     "name": "stdout",
     "output_type": "stream",
     "text": [
      "\r",
      "sub-MGH_rec-uncombined10_T2starw.nii.gz:  44%|▍| 371k/838k [00:00<00:00, 3.56MB/\r\n",
      "\r",
      "sub-MGH_rec-uncombined11_T2starw.nii.gz:   0%|       | 0.00/857k [00:00<?, ?B/s]\u001b[A\r\n",
      "\r\n",
      "\r",
      "sub-MGH_rec-uncombined12_T2starw.json:   0%|        | 0.00/2.44k [00:00<?, ?B/s]\u001b[A\u001b[A\r\n",
      "\r\n",
      "\r",
      "                                                                                \u001b[A\u001b[A"
     ]
    },
    {
     "name": "stdout",
     "output_type": "stream",
     "text": [
      "\r\n",
      "\r\n",
      "\r",
      "sub-MGH_rec-uncombined12_T2starw.nii.gz:   0%|       | 0.00/861k [00:00<?, ?B/s]\u001b[A\u001b[A\r",
      "                                                                                \r"
     ]
    },
    {
     "name": "stdout",
     "output_type": "stream",
     "text": [
      "\r\n",
      "\r",
      "sub-MGH_rec-uncombined11_T2starw.nii.gz:  37%|▎| 320k/857k [00:00<00:00, 3.18MB/\u001b[A\r",
      "sub-MGH_rec-uncombined13_T2starw.nii.gz:   0%|       | 0.00/770k [00:00<?, ?B/s]\r\n",
      "\r\n",
      "\r\n",
      "\r",
      "sub-MGH_rec-uncombined15_T2starw.json:   0%|        | 0.00/2.44k [00:00<?, ?B/s]\u001b[A\u001b[A\u001b[A\r\n",
      "\r\n",
      "\r\n",
      "\r",
      "                                                                                \u001b[A\u001b[A\u001b[A"
     ]
    },
    {
     "name": "stdout",
     "output_type": "stream",
     "text": [
      "\r\n",
      "\r\n",
      "\r",
      "sub-MGH_rec-uncombined12_T2starw.nii.gz:  65%|▋| 560k/861k [00:00<00:00, 4.55MB/\u001b[A\u001b[A\r\n",
      "\r",
      "                                                                                \u001b[A"
     ]
    },
    {
     "name": "stdout",
     "output_type": "stream",
     "text": [
      "\r",
      "sub-MGH_rec-uncombined13_T2starw.nii.gz:  40%|▍| 305k/770k [00:00<00:00, 3.05MB/\r\n",
      "\r",
      "sub-MGH_rec-uncombined14_T2starw.json:   0%|        | 0.00/2.44k [00:00<?, ?B/s]\u001b[A\r\n",
      "\r",
      "                                                                                \u001b[A"
     ]
    },
    {
     "name": "stdout",
     "output_type": "stream",
     "text": [
      "\r\n",
      "\r\n",
      "\r",
      "                                                                                \u001b[A\u001b[A"
     ]
    },
    {
     "name": "stdout",
     "output_type": "stream",
     "text": [
      "\r",
      "                                                                                \r",
      "\r",
      "sub-MGH_rec-uncombined14_T2starw.nii.gz:   0%|       | 0.00/812k [00:00<?, ?B/s]\r\n",
      "\r",
      "sub-MGH_rec-uncombined13_T2starw.json:   0%|        | 0.00/2.44k [00:00<?, ?B/s]\u001b[A\r\n",
      "\r",
      "                                                                                \u001b[A"
     ]
    },
    {
     "name": "stdout",
     "output_type": "stream",
     "text": [
      "\r\n",
      "\r",
      "sub-MGH_rec-uncombined17_T2starw.json:   0%|        | 0.00/2.44k [00:00<?, ?B/s]\u001b[A\r\n",
      "\r",
      "                                                                                \u001b[A"
     ]
    },
    {
     "name": "stdout",
     "output_type": "stream",
     "text": [
      "\r\n",
      "\r",
      "sub-MGH_rec-uncombined15_T2starw.nii.gz:   0%|       | 0.00/743k [00:00<?, ?B/s]\u001b[A\r",
      "sub-MGH_rec-uncombined14_T2starw.nii.gz:  54%|▌| 439k/812k [00:00<00:00, 4.48MB/"
     ]
    },
    {
     "name": "stdout",
     "output_type": "stream",
     "text": [
      "\r\n",
      "\r\n",
      "\r",
      "sub-MGH_rec-uncombined16_T2starw.nii.gz:   0%|       | 0.00/785k [00:00<?, ?B/s]\u001b[A\u001b[A\r\n",
      "\r\n",
      "\r\n",
      "\r",
      "sub-MGH_rec-uncombined16_T2starw.json:   0%|        | 0.00/2.44k [00:00<?, ?B/s]\u001b[A\u001b[A\u001b[A\r\n",
      "\r\n",
      "\r\n",
      "\r",
      "                                                                                \u001b[A\u001b[A\u001b[A"
     ]
    },
    {
     "name": "stdout",
     "output_type": "stream",
     "text": [
      "\r",
      "                                                                                \r",
      "\r\n",
      "\r",
      "sub-MGH_rec-uncombined15_T2starw.nii.gz:  27%|▎| 204k/743k [00:00<00:00, 1.76MB/\u001b[A"
     ]
    },
    {
     "name": "stdout",
     "output_type": "stream",
     "text": [
      "\r",
      "sub-MGH_rec-uncombined17_T2starw.nii.gz:   0%|       | 0.00/829k [00:00<?, ?B/s]\r\n",
      "\r\n",
      "\r",
      "sub-MGH_rec-uncombined16_T2starw.nii.gz:  61%|▌| 476k/785k [00:00<00:00, 4.87MB/\u001b[A\u001b[A\r\n",
      "\r",
      "                                                                                \u001b[A"
     ]
    },
    {
     "name": "stdout",
     "output_type": "stream",
     "text": [
      "\r\n",
      "\r",
      "sub-MGH_rec-uncombined18_T2starw.json:   0%|        | 0.00/2.44k [00:00<?, ?B/s]\u001b[A\r\n",
      "\r",
      "                                                                                \u001b[A"
     ]
    },
    {
     "name": "stdout",
     "output_type": "stream",
     "text": [
      "\r\n",
      "\r\n",
      "\r",
      "                                                                                \u001b[A\u001b[A\r",
      "sub-MGH_rec-uncombined17_T2starw.nii.gz:  27%|▎| 227k/829k [00:00<00:00, 1.96MB/\r\n",
      "\r",
      "sub-MGH_rec-uncombined19_T2starw.nii.gz:   0%|       | 0.00/684k [00:00<?, ?B/s]\u001b[A"
     ]
    },
    {
     "name": "stdout",
     "output_type": "stream",
     "text": [
      "\r",
      "                                                                                \r"
     ]
    },
    {
     "name": "stdout",
     "output_type": "stream",
     "text": [
      "\r",
      "sub-MGH_rec-uncombined20_T2starw.json:   0%|        | 0.00/2.44k [00:00<?, ?B/s]\r",
      "                                                                                \r",
      "\r",
      "sub-MGH_rec-uncombined19_T2starw.json:   0%|        | 0.00/2.44k [00:00<?, ?B/s]\r",
      "                                                                                \r"
     ]
    },
    {
     "name": "stdout",
     "output_type": "stream",
     "text": [
      "\r\n",
      "\r",
      "sub-MGH_rec-uncombined19_T2starw.nii.gz:  53%|▌| 365k/684k [00:00<00:00, 2.91MB/\u001b[A\r",
      "sub-MGH_rec-uncombined18_T2starw.nii.gz:   0%|       | 0.00/739k [00:00<?, ?B/s]\r\n",
      "\r",
      "                                                                                \u001b[A"
     ]
    },
    {
     "name": "stdout",
     "output_type": "stream",
     "text": [
      "\r",
      "                                                                                \r"
     ]
    },
    {
     "name": "stdout",
     "output_type": "stream",
     "text": [
      "\r",
      "sub-MGH_rec-uncombined20_T2starw.nii.gz:   0%|       | 0.00/795k [00:00<?, ?B/s]\r\n",
      "\r",
      "sub-MGH_acq-anat_TB1TFL.nii.gz:   0%|                | 0.00/939k [00:00<?, ?B/s]\u001b[A"
     ]
    },
    {
     "name": "stdout",
     "output_type": "stream",
     "text": [
      "\r\n",
      "\r\n",
      "\r",
      "sub-MGH_acq-coilQaSagLarge_SNR.json:   0%|          | 0.00/2.17k [00:00<?, ?B/s]\u001b[A\u001b[A\r\n",
      "\r\n",
      "\r",
      "                                                                                \u001b[A\u001b[A"
     ]
    },
    {
     "name": "stdout",
     "output_type": "stream",
     "text": [
      "\r\n",
      "\r\n",
      "\r",
      "sub-MGH_acq-coilQaSagLarge_SNR.nii.gz:   0%|        | 0.00/3.81M [00:00<?, ?B/s]\u001b[A\u001b[A\r",
      "sub-MGH_rec-uncombined20_T2starw.nii.gz:  68%|▋| 543k/795k [00:00<00:00, 5.50MB/\r\n",
      "\r\n",
      "\r\n",
      "\r",
      "sub-MGH_acq-anat_TB1TFL.json:   0%|                 | 0.00/2.62k [00:00<?, ?B/s]\u001b[A\u001b[A\u001b[A\r\n",
      "\r\n",
      "\r\n",
      "\r",
      "                                                                                \u001b[A\u001b[A\u001b[A"
     ]
    },
    {
     "name": "stdout",
     "output_type": "stream",
     "text": [
      "\r\n",
      "\r",
      "sub-MGH_acq-anat_TB1TFL.nii.gz:  63%|█████   | 595k/939k [00:00<00:00, 4.80MB/s]\u001b[A\r",
      "                                                                                \r"
     ]
    },
    {
     "name": "stdout",
     "output_type": "stream",
     "text": [
      "\r",
      "sub-MGH_acq-coilQaSagSmall_GFactor.json:   0%|      | 0.00/2.18k [00:00<?, ?B/s]\r",
      "                                                                                \r",
      "\r\n",
      "\r\n",
      "\r",
      "sub-MGH_acq-coilQaSagLarge_SNR.nii.gz:   4%| | 169k/3.81M [00:00<00:02, 1.48MB/s\u001b[A\u001b[A\r\n",
      "\r",
      "                                                                                \u001b[A"
     ]
    },
    {
     "name": "stdout",
     "output_type": "stream",
     "text": [
      "\r",
      "sub-MGH_acq-famp-0.66_TB1DREAM.json:   0%|          | 0.00/2.14k [00:00<?, ?B/s]\r",
      "                                                                                \r"
     ]
    },
    {
     "name": "stdout",
     "output_type": "stream",
     "text": [
      "\r\n",
      "\r\n",
      "\r",
      "sub-MGH_acq-coilQaSagLarge_SNR.nii.gz:  25%|▎| 986k/3.81M [00:00<00:00, 5.27MB/s\u001b[A\u001b[A"
     ]
    },
    {
     "name": "stdout",
     "output_type": "stream",
     "text": [
      "\r",
      "sub-MGH_acq-coilQaTra_GFactor.json:   0%|           | 0.00/2.08k [00:00<?, ?B/s]\r",
      "                                                                                \r"
     ]
    },
    {
     "name": "stdout",
     "output_type": "stream",
     "text": [
      "\r\n",
      "\r\n",
      "\r",
      "                                                                                \u001b[A\u001b[A"
     ]
    },
    {
     "name": "stdout",
     "output_type": "stream",
     "text": [
      "\r",
      "sub-MGH_acq-famp_TB1TFL.nii.gz:   0%|                | 0.00/933k [00:00<?, ?B/s]\r\n",
      "\r",
      "sub-MGH_acq-coilQaTra_GFactor.nii.gz:   0%|         | 0.00/16.0M [00:00<?, ?B/s]\u001b[A\r\n",
      "\r\n",
      "\r",
      "sub-MGH_acq-coilQaSagSmall_GFactor.nii.gz:   0%|    | 0.00/3.60M [00:00<?, ?B/s]\u001b[A\u001b[A"
     ]
    },
    {
     "name": "stdout",
     "output_type": "stream",
     "text": [
      "\r\n",
      "\r\n",
      "\r\n",
      "\r",
      "sub-MGH_acq-famp_TB1DREAM.json:   0%|               | 0.00/2.13k [00:00<?, ?B/s]\u001b[A\u001b[A\u001b[A\r\n",
      "\r\n",
      "\r\n",
      "\r",
      "                                                                                \u001b[A\u001b[A\u001b[A"
     ]
    },
    {
     "name": "stdout",
     "output_type": "stream",
     "text": [
      "\r\n",
      "\r",
      "sub-MGH_acq-coilQaTra_GFactor.nii.gz:   4%| | 575k/16.0M [00:00<00:02, 5.64MB/s]\u001b[A\r\n",
      "\r\n",
      "\r",
      "sub-MGH_acq-coilQaSagSmall_GFactor.nii.gz:  20%|▏| 731k/3.60M [00:00<00:00, 7.18\u001b[A\u001b[A\r",
      "sub-MGH_acq-famp_TB1TFL.nii.gz:  76%|██████  | 714k/933k [00:00<00:00, 6.89MB/s]\r\n",
      "\r\n",
      "\r\n",
      "\r",
      "sub-MGH_acq-famp_TB1TFL.json:   0%|                 | 0.00/2.66k [00:00<?, ?B/s]\u001b[A\u001b[A\u001b[A\r\n",
      "\r\n",
      "\r\n",
      "\r",
      "                                                                                \u001b[A\u001b[A\u001b[A"
     ]
    },
    {
     "name": "stdout",
     "output_type": "stream",
     "text": [
      "\r",
      "                                                                                \r"
     ]
    },
    {
     "name": "stdout",
     "output_type": "stream",
     "text": [
      "\r\n",
      "\r",
      "sub-MGH_acq-coilQaTra_GFactor.nii.gz:   7%| | 1.11M/16.0M [00:00<00:02, 5.43MB/s\u001b[A\r\n",
      "\r\n",
      "\r",
      "sub-MGH_acq-coilQaSagSmall_GFactor.nii.gz:  39%|▍| 1.41M/3.60M [00:00<00:00, 6.5\u001b[A\u001b[A\r",
      "sub-MGH_acq-famp-0.66_TB1DREAM.nii.gz:   0%|        | 0.00/85.7k [00:00<?, ?B/s]"
     ]
    },
    {
     "name": "stdout",
     "output_type": "stream",
     "text": [
      "\r",
      "                                                                                \r"
     ]
    },
    {
     "name": "stdout",
     "output_type": "stream",
     "text": [
      "\r",
      "sub-MGH_acq-famp_TB1DREAM.nii.gz:   0%|             | 0.00/86.2k [00:00<?, ?B/s]\r\n",
      "\r",
      "sub-MGH_acq-coilQaTra_GFactor.nii.gz:  14%|▏| 2.19M/16.0M [00:00<00:01, 8.02MB/s\u001b[A\r",
      "                                                                                \r"
     ]
    },
    {
     "name": "stdout",
     "output_type": "stream",
     "text": [
      "\r\n",
      "\r\n",
      "\r",
      "sub-MGH_acq-coilQaSagSmall_GFactor.nii.gz:  67%|▋| 2.39M/3.60M [00:00<00:00, 7.2\u001b[A\u001b[A\r",
      "sub-MGH_acq-refv_TB1DREAM.nii.gz:   0%|             | 0.00/91.4k [00:00<?, ?B/s]\r",
      "                                                                                \r"
     ]
    },
    {
     "name": "stdout",
     "output_type": "stream",
     "text": [
      "\r\n",
      "\r",
      "sub-MGH_acq-coilQaTra_GFactor.nii.gz:  19%|▏| 3.03M/16.0M [00:00<00:01, 8.34MB/s\u001b[A\r",
      "sub-MGH_acq-refv-0.66_TB1DREAM.json:   0%|          | 0.00/2.16k [00:00<?, ?B/s]\r",
      "                                                                                \r"
     ]
    },
    {
     "name": "stdout",
     "output_type": "stream",
     "text": [
      "\r",
      "sub-MNI_T2starw.json:   0%|                         | 0.00/2.41k [00:00<?, ?B/s]\r",
      "                                                                                \r"
     ]
    },
    {
     "name": "stdout",
     "output_type": "stream",
     "text": [
      "\r\n",
      "\r\n",
      "\r",
      "sub-MGH_acq-coilQaSagSmall_GFactor.nii.gz:  86%|▊| 3.09M/3.60M [00:00<00:00, 6.2\u001b[A\u001b[A\r\n",
      "\r",
      "sub-MGH_acq-coilQaTra_GFactor.nii.gz:  24%|▏| 3.89M/16.0M [00:00<00:01, 8.57MB/s\u001b[A\r\n",
      "\r\n",
      "\r",
      "                                                                                \u001b[A\u001b[A"
     ]
    },
    {
     "name": "stdout",
     "output_type": "stream",
     "text": [
      "\r",
      "sub-MGH_acq-refv_TB1DREAM.json:   0%|               | 0.00/2.14k [00:00<?, ?B/s]\r\n",
      "\r\n",
      "\r",
      "sub-MGH_acq-refv-0.66_TB1DREAM.nii.gz:   0%|        | 0.00/87.1k [00:00<?, ?B/s]\u001b[A\u001b[A\r",
      "                                                                                \r"
     ]
    },
    {
     "name": "stdout",
     "output_type": "stream",
     "text": [
      "\r",
      "sub-MNI_rec-uncombined02_T2starw.json:   0%|        | 0.00/2.42k [00:00<?, ?B/s]\r",
      "                                                                                \r",
      "\r\n",
      "\r",
      "sub-MGH_acq-coilQaTra_GFactor.nii.gz:  30%|▎| 4.72M/16.0M [00:00<00:01, 7.75MB/s\u001b[A\r\n",
      "\r\n",
      "\r",
      "                                                                                \u001b[A\u001b[A"
     ]
    },
    {
     "name": "stdout",
     "output_type": "stream",
     "text": [
      "\r",
      "sub-MNI_rec-uncombined01_T2starw.json:   0%|        | 0.00/2.42k [00:00<?, ?B/s]\r",
      "                                                                                \r"
     ]
    },
    {
     "name": "stdout",
     "output_type": "stream",
     "text": [
      "\r\n",
      "\r",
      "sub-MGH_acq-coilQaTra_GFactor.nii.gz:  41%|▍| 6.47M/16.0M [00:00<00:00, 10.9MB/s\u001b[A"
     ]
    },
    {
     "name": "stdout",
     "output_type": "stream",
     "text": [
      "\r",
      "sub-MNI_T2starw.nii.gz:   0%|                       | 0.00/1.14M [00:00<?, ?B/s]\r\n",
      "\r\n",
      "\r",
      "sub-MNI_rec-uncombined01_T2starw.nii.gz:   0%|       | 0.00/734k [00:00<?, ?B/s]\u001b[A\u001b[A\r\n",
      "\r\n",
      "\r\n",
      "\r",
      "sub-MNI_rec-uncombined03_T2starw.json:   0%|        | 0.00/2.42k [00:00<?, ?B/s]\u001b[A\u001b[A\u001b[A\r\n",
      "\r\n",
      "\r\n",
      "\r",
      "                                                                                \u001b[A\u001b[A\u001b[A"
     ]
    },
    {
     "name": "stdout",
     "output_type": "stream",
     "text": [
      "\r\n",
      "\r\n",
      "\r\n",
      "\r",
      "sub-MNI_rec-uncombined02_T2starw.nii.gz:   0%|       | 0.00/742k [00:00<?, ?B/s]\u001b[A\u001b[A\u001b[A\r\n",
      "\r",
      "sub-MGH_acq-coilQaTra_GFactor.nii.gz:  57%|▌| 9.08M/16.0M [00:00<00:00, 15.9MB/s\u001b[A"
     ]
    },
    {
     "name": "stdout",
     "output_type": "stream",
     "text": [
      "\r",
      "sub-MNI_T2starw.nii.gz:  39%|█████▉         | 459k/1.14M [00:00<00:00, 4.70MB/s]\r\n",
      "\r\n",
      "\r",
      "sub-MNI_rec-uncombined01_T2starw.nii.gz:  74%|▋| 544k/734k [00:00<00:00, 5.54MB/\u001b[A\u001b[A"
     ]
    },
    {
     "name": "stdout",
     "output_type": "stream",
     "text": [
      "\r\n",
      "\r\n",
      "\r",
      "                                                                                \u001b[A\u001b[A\r\n",
      "\r\n",
      "\r\n",
      "\r",
      "sub-MNI_rec-uncombined02_T2starw.nii.gz:  66%|▋| 491k/742k [00:00<00:00, 4.97MB/\u001b[A\u001b[A\u001b[A\r\n",
      "\r\n",
      "\r",
      "sub-MNI_rec-uncombined03_T2starw.nii.gz:   0%|       | 0.00/835k [00:00<?, ?B/s]\u001b[A\u001b[A"
     ]
    },
    {
     "name": "stdout",
     "output_type": "stream",
     "text": [
      "\r",
      "sub-MNI_T2starw.nii.gz:  96%|█████████████▌| 1.10M/1.14M [00:00<00:00, 5.92MB/s]\r\n",
      "\r\n",
      "\r\n",
      "\r",
      "                                                                                \u001b[A\u001b[A\u001b[A\r",
      "                                                                                \r"
     ]
    },
    {
     "name": "stdout",
     "output_type": "stream",
     "text": [
      "\r",
      "sub-MNI_rec-uncombined04_T2starw.json:   0%|        | 0.00/2.42k [00:00<?, ?B/s]\r",
      "                                                                                \r",
      "\r\n",
      "\r",
      "sub-MGH_acq-coilQaTra_GFactor.nii.gz:  67%|▋| 10.6M/16.0M [00:01<00:00, 12.6MB/s\u001b[A"
     ]
    },
    {
     "name": "stdout",
     "output_type": "stream",
     "text": [
      "\r\n",
      "\r\n",
      "\r",
      "sub-MNI_rec-uncombined03_T2starw.nii.gz:  29%|▎| 238k/835k [00:00<00:00, 1.93MB/\u001b[A\u001b[A\r",
      "sub-MNI_rec-uncombined05_T2starw.json:   0%|        | 0.00/2.42k [00:00<?, ?B/s]\r",
      "                                                                                \r"
     ]
    },
    {
     "name": "stdout",
     "output_type": "stream",
     "text": [
      "\r\n",
      "\r\n",
      "\r",
      "                                                                                \u001b[A\u001b[A"
     ]
    },
    {
     "name": "stdout",
     "output_type": "stream",
     "text": [
      "\r",
      "sub-MNI_rec-uncombined04_T2starw.nii.gz:   0%|       | 0.00/792k [00:00<?, ?B/s]\r\n",
      "\r",
      "sub-MGH_acq-coilQaTra_GFactor.nii.gz:  75%|▊| 12.0M/16.0M [00:01<00:00, 11.5MB/s\u001b[A\r\n",
      "\r\n",
      "\r",
      "sub-MNI_rec-uncombined05_T2starw.nii.gz:   0%|       | 0.00/792k [00:00<?, ?B/s]\u001b[A\u001b[A"
     ]
    },
    {
     "name": "stdout",
     "output_type": "stream",
     "text": [
      "\r\n",
      "\r\n",
      "\r\n",
      "\r",
      "sub-MNI_rec-uncombined06_T2starw.json:   0%|        | 0.00/2.42k [00:00<?, ?B/s]\u001b[A\u001b[A\u001b[A\r\n",
      "\r\n",
      "\r\n",
      "\r",
      "                                                                                \u001b[A\u001b[A\u001b[A"
     ]
    },
    {
     "name": "stdout",
     "output_type": "stream",
     "text": [
      "\r",
      "sub-MNI_rec-uncombined04_T2starw.nii.gz:  67%|▋| 526k/792k [00:00<00:00, 5.37MB/\r\n",
      "\r",
      "sub-MGH_acq-coilQaTra_GFactor.nii.gz:  89%|▉| 14.2M/16.0M [00:01<00:00, 14.3MB/s\u001b[A\r\n",
      "\r\n",
      "\r\n",
      "\r",
      "sub-MNI_rec-uncombined07_T2starw.nii.gz:   0%|       | 0.00/817k [00:00<?, ?B/s]\u001b[A\u001b[A\u001b[A\r\n",
      "\r\n",
      "\r",
      "sub-MNI_rec-uncombined05_T2starw.nii.gz:  64%|▋| 508k/792k [00:00<00:00, 5.18MB/\u001b[A\u001b[A"
     ]
    },
    {
     "name": "stdout",
     "output_type": "stream",
     "text": [
      "\r",
      "                                                                                \r",
      "\r\n",
      "\r\n",
      "\r",
      "                                                                                \u001b[A\u001b[A"
     ]
    },
    {
     "name": "stdout",
     "output_type": "stream",
     "text": [
      "\r\n",
      "\r\n",
      "\r\n",
      "\r",
      "sub-MNI_rec-uncombined07_T2starw.nii.gz:  44%|▍| 356k/817k [00:00<00:00, 3.59MB/\u001b[A\u001b[A\u001b[A"
     ]
    },
    {
     "name": "stdout",
     "output_type": "stream",
     "text": [
      "\r\n",
      "\r",
      "sub-MGH_acq-coilQaTra_GFactor.nii.gz:  98%|▉| 15.7M/16.0M [00:01<00:00, 13.5MB/s\u001b[A\r\n",
      "\r\n",
      "\r\n",
      "\r",
      "                                                                                \u001b[A\u001b[A\u001b[A\r",
      "sub-MNI_rec-uncombined07_T2starw.json:   0%|        | 0.00/2.42k [00:00<?, ?B/s]\r\n",
      "\r\n",
      "\r",
      "sub-MNI_rec-uncombined06_T2starw.nii.gz:   0%|       | 0.00/801k [00:00<?, ?B/s]\u001b[A\u001b[A\r",
      "                                                                                \r"
     ]
    },
    {
     "name": "stdout",
     "output_type": "stream",
     "text": [
      "\r\n",
      "\r",
      "                                                                                \u001b[A"
     ]
    },
    {
     "name": "stdout",
     "output_type": "stream",
     "text": [
      "\r",
      "sub-MNI_rec-uncombined09_T2starw.nii.gz:   0%|       | 0.00/798k [00:00<?, ?B/s]\r\n",
      "\r\n",
      "\r",
      "sub-MNI_rec-uncombined06_T2starw.nii.gz:  55%|▌| 438k/801k [00:00<00:00, 4.47MB/\u001b[A\u001b[A"
     ]
    },
    {
     "name": "stdout",
     "output_type": "stream",
     "text": [
      "\r\n",
      "\r\n",
      "\r",
      "                                                                                \u001b[A\u001b[A\r\n",
      "\r",
      "sub-MNI_rec-uncombined08_T2starw.json:   0%|        | 0.00/2.42k [00:00<?, ?B/s]\u001b[A\r\n",
      "\r",
      "                                                                                \u001b[A\r\n",
      "\r",
      "sub-MNI_rec-uncombined10_T2starw.json:   0%|        | 0.00/2.42k [00:00<?, ?B/s]\u001b[A\r\n",
      "\r",
      "                                                                                \u001b[A"
     ]
    },
    {
     "name": "stdout",
     "output_type": "stream",
     "text": [
      "\r",
      "sub-MNI_rec-uncombined09_T2starw.nii.gz:  87%|▊| 695k/798k [00:00<00:00, 6.19MB/"
     ]
    },
    {
     "name": "stdout",
     "output_type": "stream",
     "text": [
      "\r\n",
      "\r",
      "sub-MNI_rec-uncombined08_T2starw.nii.gz:   0%|       | 0.00/804k [00:00<?, ?B/s]\u001b[A\r",
      "                                                                                \r"
     ]
    },
    {
     "name": "stdout",
     "output_type": "stream",
     "text": [
      "\r\n",
      "\r",
      "                                                                                \u001b[A"
     ]
    },
    {
     "name": "stdout",
     "output_type": "stream",
     "text": [
      "\r",
      "sub-MNI_rec-uncombined09_T2starw.json:   0%|        | 0.00/2.42k [00:00<?, ?B/s]\r",
      "                                                                                \r",
      "\r",
      "sub-MNI_rec-uncombined12_T2starw.nii.gz:   0%|       | 0.00/846k [00:00<?, ?B/s]"
     ]
    },
    {
     "name": "stdout",
     "output_type": "stream",
     "text": [
      "\r\n",
      "\r",
      "sub-MNI_rec-uncombined10_T2starw.nii.gz:   0%|       | 0.00/816k [00:00<?, ?B/s]\u001b[A\r\n",
      "\r\n",
      "\r",
      "sub-MNI_rec-uncombined11_T2starw.json:   0%|        | 0.00/2.42k [00:00<?, ?B/s]\u001b[A\u001b[A"
     ]
    },
    {
     "name": "stdout",
     "output_type": "stream",
     "text": [
      "\r\n",
      "\r\n",
      "\r",
      "                                                                                \u001b[A\u001b[A\r\n",
      "\r\n",
      "\r",
      "sub-MNI_rec-uncombined11_T2starw.nii.gz:   0%|       | 0.00/857k [00:00<?, ?B/s]\u001b[A\u001b[A\r\n",
      "\r\n",
      "\r\n",
      "\r",
      "sub-MNI_rec-uncombined12_T2starw.json:   0%|        | 0.00/2.42k [00:00<?, ?B/s]\u001b[A\u001b[A\u001b[A\r",
      "sub-MNI_rec-uncombined12_T2starw.nii.gz:  76%|▊| 645k/846k [00:00<00:00, 6.53MB/\r\n",
      "\r\n",
      "\r\n",
      "\r",
      "                                                                                \u001b[A\u001b[A\u001b[A"
     ]
    },
    {
     "name": "stdout",
     "output_type": "stream",
     "text": [
      "\r\n",
      "\r",
      "sub-MNI_rec-uncombined10_T2starw.nii.gz:  41%|▍| 338k/816k [00:00<00:00, 2.90MB/\u001b[A\r",
      "                                                                                \r"
     ]
    },
    {
     "name": "stdout",
     "output_type": "stream",
     "text": [
      "\r\n",
      "\r\n",
      "\r",
      "sub-MNI_rec-uncombined11_T2starw.nii.gz:  37%|▎| 320k/857k [00:00<00:00, 3.27MB/\u001b[A\u001b[A\r\n",
      "\r",
      "                                                                                \u001b[A"
     ]
    },
    {
     "name": "stdout",
     "output_type": "stream",
     "text": [
      "\r\n",
      "\r\n",
      "\r",
      "                                                                                \u001b[A\u001b[A"
     ]
    },
    {
     "name": "stdout",
     "output_type": "stream",
     "text": [
      "\r",
      "sub-MNI_rec-uncombined15_T2starw.json:   0%|        | 0.00/2.42k [00:00<?, ?B/s]\r",
      "                                                                                \r",
      "\r",
      "sub-MNI_rec-uncombined14_T2starw.json:   0%|        | 0.00/2.42k [00:00<?, ?B/s]\r\n",
      "\r",
      "sub-MNI_rec-uncombined14_T2starw.nii.gz:   0%|       | 0.00/803k [00:00<?, ?B/s]\u001b[A\r",
      "                                                                                \r"
     ]
    },
    {
     "name": "stdout",
     "output_type": "stream",
     "text": [
      "\r\n",
      "\r",
      "                                                                                \u001b[A"
     ]
    },
    {
     "name": "stdout",
     "output_type": "stream",
     "text": [
      "\r",
      "sub-MNI_rec-uncombined16_T2starw.json:   0%|        | 0.00/2.42k [00:00<?, ?B/s]\r\n",
      "\r",
      "sub-MNI_rec-uncombined13_T2starw.json:   0%|        | 0.00/2.42k [00:00<?, ?B/s]\u001b[A\r\n",
      "\r\n",
      "\r",
      "sub-MNI_rec-uncombined13_T2starw.nii.gz:   0%|       | 0.00/765k [00:00<?, ?B/s]\u001b[A\u001b[A\r",
      "                                                                                \r",
      "\r\n",
      "\r",
      "                                                                                \u001b[A"
     ]
    },
    {
     "name": "stdout",
     "output_type": "stream",
     "text": [
      "\r",
      "sub-MNI_rec-uncombined15_T2starw.nii.gz:   0%|       | 0.00/737k [00:00<?, ?B/s]"
     ]
    },
    {
     "name": "stdout",
     "output_type": "stream",
     "text": [
      "\r\n",
      "\r\n",
      "\r",
      "sub-MNI_rec-uncombined13_T2starw.nii.gz:  62%|▌| 475k/765k [00:00<00:00, 4.86MB/\u001b[A\u001b[A\r\n",
      "\r\n",
      "\r",
      "                                                                                \u001b[A\u001b[A"
     ]
    },
    {
     "name": "stdout",
     "output_type": "stream",
     "text": [
      "\r\n",
      "\r",
      "sub-MNI_rec-uncombined17_T2starw.json:   0%|        | 0.00/2.42k [00:00<?, ?B/s]\u001b[A\r\n",
      "\r",
      "                                                                                \u001b[A\r",
      "sub-MNI_rec-uncombined15_T2starw.nii.gz:  92%|▉| 679k/737k [00:00<00:00, 5.46MB/"
     ]
    },
    {
     "name": "stdout",
     "output_type": "stream",
     "text": [
      "\r\n",
      "\r",
      "sub-MNI_rec-uncombined16_T2starw.nii.gz:   0%|       | 0.00/728k [00:00<?, ?B/s]\u001b[A\r\n",
      "\r\n",
      "\r",
      "sub-MNI_rec-uncombined17_T2starw.nii.gz:   0%|       | 0.00/762k [00:00<?, ?B/s]\u001b[A\u001b[A\r",
      "                                                                                \r"
     ]
    },
    {
     "name": "stdout",
     "output_type": "stream",
     "text": [
      "\r\n",
      "\r",
      "                                                                                \u001b[A"
     ]
    },
    {
     "name": "stdout",
     "output_type": "stream",
     "text": [
      "\r\n",
      "\r\n",
      "\r",
      "sub-MNI_rec-uncombined17_T2starw.nii.gz:  51%|▌| 390k/762k [00:00<00:00, 3.84MB/\u001b[A\u001b[A\r",
      "sub-MNI_rec-uncombined20_T2starw.json:   0%|        | 0.00/2.42k [00:00<?, ?B/s]\r",
      "                                                                                \r",
      "\r\n",
      "\r\n",
      "\r",
      "                                                                                \u001b[A\u001b[A"
     ]
    },
    {
     "name": "stdout",
     "output_type": "stream",
     "text": [
      "\r",
      "sub-MNI_rec-uncombined18_T2starw.nii.gz:   0%|       | 0.00/757k [00:00<?, ?B/s]\r\n",
      "\r",
      "sub-MNI_rec-uncombined19_T2starw.nii.gz:   0%|       | 0.00/635k [00:00<?, ?B/s]\u001b[A"
     ]
    },
    {
     "name": "stdout",
     "output_type": "stream",
     "text": [
      "\r\n",
      "\r\n",
      "\r",
      "sub-MNI_rec-uncombined19_T2starw.json:   0%|        | 0.00/2.42k [00:00<?, ?B/s]\u001b[A\u001b[A\r\n",
      "\r\n",
      "\r",
      "                                                                                \u001b[A\u001b[A\r\n",
      "\r\n",
      "\r",
      "sub-MNI_rec-uncombined18_T2starw.json:   0%|        | 0.00/2.42k [00:00<?, ?B/s]\u001b[A\u001b[A\r\n",
      "\r\n",
      "\r",
      "                                                                                \u001b[A\u001b[A"
     ]
    },
    {
     "name": "stdout",
     "output_type": "stream",
     "text": [
      "\r",
      "sub-MNI_rec-uncombined18_T2starw.nii.gz:  38%|▍| 289k/757k [00:00<00:00, 2.90MB/\r\n",
      "\r",
      "sub-MNI_rec-uncombined19_T2starw.nii.gz:  78%|▊| 493k/635k [00:00<00:00, 4.97MB/\u001b[A\r\n",
      "\r",
      "                                                                                \u001b[A"
     ]
    },
    {
     "name": "stdout",
     "output_type": "stream",
     "text": [
      "\r",
      "                                                                                \r"
     ]
    },
    {
     "name": "stdout",
     "output_type": "stream",
     "text": [
      "\r",
      "sub-MNI_acq-coilQaSagLarge_SNR.nii.gz:   0%|        | 0.00/3.86M [00:00<?, ?B/s]\r\n",
      "\r",
      "sub-MNI_acq-coilQaSagLarge_SNR.json:   0%|          | 0.00/2.18k [00:00<?, ?B/s]\u001b[A\r\n",
      "\r",
      "                                                                                \u001b[A"
     ]
    },
    {
     "name": "stdout",
     "output_type": "stream",
     "text": [
      "\r\n",
      "\r",
      "sub-MNI_rec-uncombined20_T2starw.nii.gz:   0%|       | 0.00/752k [00:00<?, ?B/s]\u001b[A"
     ]
    },
    {
     "name": "stdout",
     "output_type": "stream",
     "text": [
      "\r\n",
      "\r\n",
      "\r",
      "sub-MNI_acq-anat_TB1TFL.json:   0%|                 | 0.00/2.59k [00:00<?, ?B/s]\u001b[A\u001b[A\r\n",
      "\r\n",
      "\r",
      "                                                                                \u001b[A\u001b[A\r",
      "sub-MNI_acq-coilQaSagLarge_SNR.nii.gz:  29%|▎| 1.13M/3.86M [00:00<00:00, 9.91MB/"
     ]
    },
    {
     "name": "stdout",
     "output_type": "stream",
     "text": [
      "\r\n",
      "\r\n",
      "\r",
      "sub-MNI_acq-anat_TB1TFL.nii.gz:   0%|                | 0.00/942k [00:00<?, ?B/s]\u001b[A\u001b[A\r\n",
      "\r",
      "sub-MNI_rec-uncombined20_T2starw.nii.gz:  79%|▊| 596k/752k [00:00<00:00, 6.08MB/\u001b[A\r\n",
      "\r",
      "                                                                                \u001b[A"
     ]
    },
    {
     "name": "stdout",
     "output_type": "stream",
     "text": [
      "\r\n",
      "\r",
      "sub-MNI_acq-coilQaSagSmall_GFactor.nii.gz:   0%|    | 0.00/3.56M [00:00<?, ?B/s]\u001b[A\r\n",
      "\r\n",
      "\r\n",
      "\r",
      "sub-MNI_acq-coilQaSagSmall_GFactor.json:   0%|      | 0.00/2.16k [00:00<?, ?B/s]\u001b[A\u001b[A\u001b[A\r\n",
      "\r\n",
      "\r\n",
      "\r",
      "                                                                                \u001b[A\u001b[A\u001b[A"
     ]
    },
    {
     "name": "stdout",
     "output_type": "stream",
     "text": [
      "\r\n",
      "\r\n",
      "\r",
      "sub-MNI_acq-anat_TB1TFL.nii.gz:  38%|███     | 356k/942k [00:00<00:00, 3.53MB/s]\u001b[A\u001b[A\r",
      "sub-MNI_acq-coilQaSagLarge_SNR.nii.gz:  54%|▌| 2.08M/3.86M [00:00<00:00, 8.38MB/"
     ]
    },
    {
     "name": "stdout",
     "output_type": "stream",
     "text": [
      "\r\n",
      "\r\n",
      "\r",
      "                                                                                \u001b[A\u001b[A\r\n",
      "\r",
      "sub-MNI_acq-coilQaSagSmall_GFactor.nii.gz:  19%|▏| 678k/3.56M [00:00<00:00, 6.94\u001b[A\r\n",
      "\r\n",
      "\r",
      "sub-MNI_acq-famp-0.66_TB1DREAM.json:   0%|          | 0.00/2.12k [00:00<?, ?B/s]\u001b[A\u001b[A\r\n",
      "\r\n",
      "\r",
      "                                                                                \u001b[A\u001b[A"
     ]
    },
    {
     "name": "stdout",
     "output_type": "stream",
     "text": [
      "\r",
      "sub-MNI_acq-coilQaSagLarge_SNR.nii.gz:  76%|▊| 2.92M/3.86M [00:00<00:00, 8.56MB/\r\n",
      "\r\n",
      "\r",
      "sub-MNI_acq-coilQaTra_GFactor.nii.gz:   0%|         | 0.00/15.9M [00:00<?, ?B/s]\u001b[A\u001b[A"
     ]
    },
    {
     "name": "stdout",
     "output_type": "stream",
     "text": [
      "\r\n",
      "\r",
      "sub-MNI_acq-coilQaSagSmall_GFactor.nii.gz:  37%|▎| 1.33M/3.56M [00:00<00:00, 6.2\u001b[A\r",
      "                                                                                \r"
     ]
    },
    {
     "name": "stdout",
     "output_type": "stream",
     "text": [
      "\r",
      "sub-MNI_acq-coilQaTra_GFactor.json:   0%|           | 0.00/2.06k [00:00<?, ?B/s]\r",
      "                                                                                \r",
      "\r\n",
      "\r\n",
      "\r",
      "sub-MNI_acq-coilQaTra_GFactor.nii.gz:   2%| | 305k/15.9M [00:00<00:05, 2.92MB/s]\u001b[A\u001b[A"
     ]
    },
    {
     "name": "stdout",
     "output_type": "stream",
     "text": [
      "\r",
      "sub-MNI_acq-famp-0.66_TB1DREAM.nii.gz:   0%|        | 0.00/88.2k [00:00<?, ?B/s]\r\n",
      "\r",
      "sub-MNI_acq-coilQaSagSmall_GFactor.nii.gz:  59%|▌| 2.11M/3.56M [00:00<00:00, 7.1\u001b[A\r",
      "                                                                                \r"
     ]
    },
    {
     "name": "stdout",
     "output_type": "stream",
     "text": [
      "\r",
      "sub-MNI_acq-famp_TB1DREAM.json:   0%|               | 0.00/2.11k [00:00<?, ?B/s]\r",
      "                                                                                \r",
      "\r\n",
      "\r\n",
      "\r",
      "sub-MNI_acq-coilQaTra_GFactor.nii.gz:   5%| | 849k/15.9M [00:00<00:03, 4.37MB/s]\u001b[A\u001b[A"
     ]
    },
    {
     "name": "stdout",
     "output_type": "stream",
     "text": [
      "\r\n",
      "\r",
      "sub-MNI_acq-coilQaSagSmall_GFactor.nii.gz:  85%|▊| 3.01M/3.56M [00:00<00:00, 8.0\u001b[A\r",
      "sub-MNI_acq-famp-1.5_TB1DREAM.nii.gz:   0%|         | 0.00/84.4k [00:00<?, ?B/s]\r\n",
      "\r",
      "                                                                                \u001b[A"
     ]
    },
    {
     "name": "stdout",
     "output_type": "stream",
     "text": [
      "\r",
      "                                                                                \r"
     ]
    },
    {
     "name": "stdout",
     "output_type": "stream",
     "text": [
      "\r\n",
      "\r\n",
      "\r",
      "sub-MNI_acq-coilQaTra_GFactor.nii.gz:  10%| | 1.53M/15.9M [00:00<00:02, 5.40MB/s\u001b[A\u001b[A\r",
      "sub-MNI_acq-famp-1.5_TB1DREAM.json:   0%|           | 0.00/2.12k [00:00<?, ?B/s]\r",
      "                                                                                \r",
      "\r",
      "sub-MNI_acq-famp_TB1DREAM.nii.gz:   0%|             | 0.00/85.9k [00:00<?, ?B/s]"
     ]
    },
    {
     "name": "stdout",
     "output_type": "stream",
     "text": [
      "\r",
      "                                                                                \r"
     ]
    },
    {
     "name": "stdout",
     "output_type": "stream",
     "text": [
      "\r\n",
      "\r\n",
      "\r",
      "sub-MNI_acq-coilQaTra_GFactor.nii.gz:  16%|▏| 2.60M/15.9M [00:00<00:01, 7.58MB/s\u001b[A\u001b[A\r",
      "sub-MNI_acq-famp_TB1TFL.json:   0%|                 | 0.00/2.63k [00:00<?, ?B/s]\r",
      "                                                                                \r"
     ]
    },
    {
     "name": "stdout",
     "output_type": "stream",
     "text": [
      "\r",
      "sub-MNI_acq-refv-0.66_TB1DREAM.json:   0%|          | 0.00/2.13k [00:00<?, ?B/s]\r\n",
      "\r",
      "sub-MNI_acq-famp_TB1TFL.nii.gz:   0%|                | 0.00/938k [00:00<?, ?B/s]\u001b[A\r",
      "                                                                                \r"
     ]
    },
    {
     "name": "stdout",
     "output_type": "stream",
     "text": [
      "\r\n",
      "\r\n",
      "\r",
      "sub-MNI_acq-coilQaTra_GFactor.nii.gz:  30%|▎| 4.74M/15.9M [00:00<00:00, 12.1MB/s\u001b[A\u001b[A\r",
      "sub-MNI_acq-refv-0.66_TB1DREAM.nii.gz:   0%|        | 0.00/85.1k [00:00<?, ?B/s]\r",
      "                                                                                \r"
     ]
    },
    {
     "name": "stdout",
     "output_type": "stream",
     "text": [
      "\r\n",
      "\r",
      "sub-MNI_acq-famp_TB1TFL.nii.gz:  40%|███▏    | 371k/938k [00:00<00:00, 3.76MB/s]\u001b[A\r",
      "sub-MNI_acq-refv-1.5_TB1DREAM.json:   0%|           | 0.00/2.13k [00:00<?, ?B/s]\r",
      "                                                                                \r"
     ]
    },
    {
     "name": "stdout",
     "output_type": "stream",
     "text": [
      "\r\n",
      "\r\n",
      "\r",
      "sub-MNI_acq-coilQaTra_GFactor.nii.gz:  37%|▎| 5.88M/15.9M [00:00<00:00, 11.5MB/s\u001b[A\u001b[A\r\n",
      "\r",
      "                                                                                \u001b[A"
     ]
    },
    {
     "name": "stdout",
     "output_type": "stream",
     "text": [
      "\r",
      "sub-MNI_acq-refv_TB1DREAM.json:   0%|               | 0.00/2.12k [00:00<?, ?B/s]\r\n",
      "\r",
      "sub-MNI_acq-refv-1.5_TB1DREAM.nii.gz:   0%|         | 0.00/91.3k [00:00<?, ?B/s]\u001b[A\r",
      "                                                                                \r"
     ]
    },
    {
     "name": "stdout",
     "output_type": "stream",
     "text": [
      "\r",
      "sub-MNI_acq-refv_TB1DREAM.nii.gz:   0%|             | 0.00/89.8k [00:00<?, ?B/s]\r",
      "                                                                                \r",
      "\r\n",
      "\r",
      "                                                                                \u001b[A"
     ]
    },
    {
     "name": "stdout",
     "output_type": "stream",
     "text": [
      "\r\n",
      "\r\n",
      "\r",
      "sub-MNI_acq-coilQaTra_GFactor.nii.gz:  44%|▍| 6.97M/15.9M [00:00<00:00, 9.77MB/s\u001b[A\u001b[A"
     ]
    },
    {
     "name": "stdout",
     "output_type": "stream",
     "text": [
      "\r",
      "sub-MPI_T2starw.json:   0%|                         | 0.00/2.42k [00:00<?, ?B/s]\r",
      "                                                                                \r"
     ]
    },
    {
     "name": "stdout",
     "output_type": "stream",
     "text": [
      "\r",
      "sub-MPI_rec-uncombined12_T2starw.json:   0%|        | 0.00/2.43k [00:00<?, ?B/s]\r\n",
      "\r",
      "sub-MPI_T2starw.nii.gz:   0%|                       | 0.00/1.16M [00:00<?, ?B/s]\u001b[A\r",
      "                                                                                \r"
     ]
    },
    {
     "name": "stdout",
     "output_type": "stream",
     "text": [
      "\r\n",
      "\r\n",
      "\r",
      "sub-MNI_acq-coilQaTra_GFactor.nii.gz:  59%|▌| 9.33M/15.9M [00:00<00:00, 13.1MB/s\u001b[A\u001b[A\r",
      "sub-MPI_rec-uncombined10_T2starw.nii.gz:   0%|       | 0.00/923k [00:00<?, ?B/s]"
     ]
    },
    {
     "name": "stdout",
     "output_type": "stream",
     "text": [
      "\r\n",
      "\r\n",
      "\r\n",
      "\r",
      "sub-MPI_rec-uncombined10_T2starw.json:   0%|        | 0.00/2.43k [00:00<?, ?B/s]\u001b[A\u001b[A\u001b[A\r\n",
      "\r",
      "sub-MPI_T2starw.nii.gz:  60%|█████████      | 714k/1.16M [00:00<00:00, 7.26MB/s]\u001b[A\r\n",
      "\r\n",
      "\r\n",
      "\r",
      "                                                                                \u001b[A\u001b[A\u001b[A\r\n",
      "\r\n",
      "\r\n"
     ]
    },
    {
     "name": "stdout",
     "output_type": "stream",
     "text": [
      "\r",
      "sub-MPI_rec-uncombined11_T2starw.nii.gz:   0%|       | 0.00/929k [00:00<?, ?B/s]\u001b[A\u001b[A\u001b[A\r\n",
      "\r\n",
      "\r",
      "sub-MNI_acq-coilQaTra_GFactor.nii.gz:  67%|▋| 10.7M/15.9M [00:01<00:00, 13.3MB/s\u001b[A\u001b[A\r",
      "sub-MPI_rec-uncombined10_T2starw.nii.gz:  59%|▌| 544k/923k [00:00<00:00, 5.53MB/\r",
      "                                                                                \r",
      "\r\n",
      "\r",
      "                                                                                \u001b[A"
     ]
    },
    {
     "name": "stdout",
     "output_type": "stream",
     "text": [
      "\r\n",
      "\r\n",
      "\r\n",
      "\r",
      "sub-MPI_rec-uncombined11_T2starw.nii.gz:  40%|▍| 373k/929k [00:00<00:00, 3.46MB/\u001b[A\u001b[A\u001b[A\r",
      "sub-MPI_rec-uncombined11_T2starw.json:   0%|        | 0.00/2.43k [00:00<?, ?B/s]\r",
      "                                                                                \r"
     ]
    },
    {
     "name": "stdout",
     "output_type": "stream",
     "text": [
      "\r\n",
      "\r\n",
      "\r",
      "sub-MNI_acq-coilQaTra_GFactor.nii.gz:  75%|▊| 12.0M/15.9M [00:01<00:00, 11.5MB/s\u001b[A\u001b[A\r\n",
      "\r\n",
      "\r\n",
      "\r",
      "                                                                                \u001b[A\u001b[A\u001b[A"
     ]
    },
    {
     "name": "stdout",
     "output_type": "stream",
     "text": [
      "\r",
      "sub-MPI_rec-uncombined13_T2starw.json:   0%|        | 0.00/2.43k [00:00<?, ?B/s]\r",
      "                                                                                \r",
      "\r",
      "sub-MPI_rec-uncombined12_T2starw.nii.gz:   0%|       | 0.00/944k [00:00<?, ?B/s]"
     ]
    },
    {
     "name": "stdout",
     "output_type": "stream",
     "text": [
      "\r\n",
      "\r\n",
      "\r",
      "sub-MNI_acq-coilQaTra_GFactor.nii.gz:  84%|▊| 13.4M/15.9M [00:01<00:00, 12.4MB/s\u001b[A\u001b[A\r\n",
      "\r",
      "sub-MPI_rec-uncombined13_T2starw.nii.gz:   0%|       | 0.00/925k [00:00<?, ?B/s]\u001b[A"
     ]
    },
    {
     "name": "stdout",
     "output_type": "stream",
     "text": [
      "\r",
      "                                                                                \r"
     ]
    },
    {
     "name": "stdout",
     "output_type": "stream",
     "text": [
      "\r",
      "sub-MPI_rec-uncombined14_T2starw.json:   0%|        | 0.00/2.43k [00:00<?, ?B/s]\r",
      "                                                                                \r",
      "\r\n",
      "\r\n",
      "\r",
      "sub-MNI_acq-coilQaTra_GFactor.nii.gz:  97%|▉| 15.5M/15.9M [00:01<00:00, 14.9MB/s\u001b[A\u001b[A"
     ]
    },
    {
     "name": "stdout",
     "output_type": "stream",
     "text": [
      "\r\n",
      "\r",
      "sub-MPI_rec-uncombined13_T2starw.nii.gz:  20%|▏| 182k/925k [00:00<00:00, 1.49MB/\u001b[A\r",
      "sub-MPI_rec-uncombined14_T2starw.nii.gz:   0%|       | 0.00/966k [00:00<?, ?B/s]\r\n",
      "\r\n",
      "\r",
      "                                                                                \u001b[A\u001b[A"
     ]
    },
    {
     "name": "stdout",
     "output_type": "stream",
     "text": [
      "\r\n",
      "\r",
      "                                                                                \u001b[A\r",
      "sub-MPI_rec-uncombined14_T2starw.nii.gz:  79%|▊| 765k/966k [00:00<00:00, 6.61MB/\r\n",
      "\r",
      "sub-MPI_rec-uncombined16_T2starw.nii.gz:   0%|       | 0.00/987k [00:00<?, ?B/s]\u001b[A\r\n",
      "\r\n",
      "\r",
      "sub-MPI_rec-uncombined17_T2starw.json:   0%|        | 0.00/2.43k [00:00<?, ?B/s]\u001b[A\u001b[A\r\n",
      "\r\n",
      "\r",
      "                                                                                \u001b[A\u001b[A"
     ]
    },
    {
     "name": "stdout",
     "output_type": "stream",
     "text": [
      "\r\n",
      "\r\n",
      "\r",
      "sub-MPI_rec-uncombined15_T2starw.json:   0%|        | 0.00/2.43k [00:00<?, ?B/s]\u001b[A\u001b[A\r\n",
      "\r\n",
      "\r",
      "                                                                                \u001b[A\u001b[A"
     ]
    },
    {
     "name": "stdout",
     "output_type": "stream",
     "text": [
      "\r",
      "                                                                                \r",
      "\r\n",
      "\r",
      "sub-MPI_rec-uncombined16_T2starw.nii.gz:  24%|▏| 237k/987k [00:00<00:00, 2.27MB/\u001b[A"
     ]
    },
    {
     "name": "stdout",
     "output_type": "stream",
     "text": [
      "\r\n",
      "\r",
      "                                                                                \u001b[A"
     ]
    },
    {
     "name": "stdout",
     "output_type": "stream",
     "text": [
      "\r",
      "sub-MPI_rec-uncombined16_T2starw.json:   0%|        | 0.00/2.43k [00:00<?, ?B/s]\r",
      "                                                                                \r",
      "\r",
      "sub-MPI_rec-uncombined19_T2starw.json:   0%|        | 0.00/2.43k [00:00<?, ?B/s]\r\n",
      "\r",
      "sub-MPI_rec-uncombined15_T2starw.nii.gz:   0%|       | 0.00/953k [00:00<?, ?B/s]\u001b[A\r",
      "                                                                                \r"
     ]
    },
    {
     "name": "stdout",
     "output_type": "stream",
     "text": [
      "\r",
      "sub-MPI_rec-uncombined19_T2starw.nii.gz:   0%|      | 0.00/1.01M [00:00<?, ?B/s]"
     ]
    },
    {
     "name": "stdout",
     "output_type": "stream",
     "text": [
      "\r\n",
      "\r",
      "sub-MPI_rec-uncombined15_T2starw.nii.gz:  50%|▍| 475k/953k [00:00<00:00, 1.43MB/\u001b[A\r",
      "sub-MPI_rec-uncombined19_T2starw.nii.gz:  13%|▏| 133k/1.01M [00:00<00:02, 459kB/\r\n",
      "\r\n",
      "\r",
      "sub-MPI_rec-uncombined18_T2starw.json:   0%|        | 0.00/2.43k [00:00<?, ?B/s]\u001b[A\u001b[A\r\n",
      "\r\n",
      "\r\n",
      "\r",
      "sub-MPI_rec-uncombined18_T2starw.nii.gz:   0%|      | 0.00/0.99M [00:00<?, ?B/s]\u001b[A\u001b[A\u001b[A\r\n",
      "\r\n",
      "\r\n",
      "\r\n",
      "\r",
      "sub-MPI_rec-uncombined17_T2starw.nii.gz:   0%|      | 0.00/0.99M [00:00<?, ?B/s]\u001b[A\u001b[A\u001b[A\u001b[A\r\n",
      "\r\n",
      "\r",
      "                                                                                \u001b[A\u001b[A"
     ]
    },
    {
     "name": "stdout",
     "output_type": "stream",
     "text": [
      "\r\n",
      "\r",
      "                                                                                \u001b[A\r",
      "sub-MPI_rec-uncombined19_T2starw.nii.gz:  61%|▌| 626k/1.01M [00:00<00:00, 1.85MB\r\n",
      "\r\n",
      "\r\n",
      "\r",
      "sub-MPI_rec-uncombined18_T2starw.nii.gz:  49%|▍| 491k/0.99M [00:00<00:00, 4.40MB\u001b[A\u001b[A\u001b[A\r\n",
      "\r\n",
      "\r\n",
      "\r\n",
      "\r",
      "sub-MPI_rec-uncombined17_T2starw.nii.gz:  47%|▍| 476k/0.99M [00:00<00:00, 4.26MB\u001b[A\u001b[A\u001b[A\u001b[A\r\n",
      "\r",
      "sub-MPI_rec-uncombined1_T2starw.json:   0%|         | 0.00/2.43k [00:00<?, ?B/s]\u001b[A\r\n",
      "\r",
      "                                                                                \u001b[A"
     ]
    },
    {
     "name": "stdout",
     "output_type": "stream",
     "text": [
      "\r",
      "                                                                                \r",
      "\r\n",
      "\r\n",
      "\r\n",
      "\r",
      "sub-MPI_rec-uncombined18_T2starw.nii.gz:  92%|▉| 933k/0.99M [00:00<00:00, 4.44MB\u001b[A\u001b[A\u001b[A\r\n",
      "\r\n",
      "\r\n",
      "\r\n",
      "\r",
      "sub-MPI_rec-uncombined17_T2starw.nii.gz:  89%|▉| 901k/0.99M [00:00<00:00, 4.28MB\u001b[A\u001b[A\u001b[A\u001b[A\r",
      "sub-MPI_rec-uncombined21_T2starw.json:   0%|        | 0.00/2.43k [00:00<?, ?B/s]\r",
      "                                                                                \r"
     ]
    },
    {
     "name": "stdout",
     "output_type": "stream",
     "text": [
      "\r",
      "sub-MPI_rec-uncombined20_T2starw.nii.gz:   0%|       | 0.00/990k [00:00<?, ?B/s]\r\n",
      "\r\n",
      "\r\n",
      "\r",
      "                                                                                \u001b[A\u001b[A\u001b[A"
     ]
    },
    {
     "name": "stdout",
     "output_type": "stream",
     "text": [
      "\r\n",
      "\r\n",
      "\r\n",
      "\r\n",
      "\r",
      "                                                                                \u001b[A\u001b[A\u001b[A\u001b[A"
     ]
    },
    {
     "name": "stdout",
     "output_type": "stream",
     "text": [
      "\r",
      "sub-MPI_rec-uncombined20_T2starw.nii.gz:  96%|▉| 949k/990k [00:00<00:00, 9.71MB/\r",
      "                                                                                \r"
     ]
    },
    {
     "name": "stdout",
     "output_type": "stream",
     "text": [
      "\r",
      "sub-MPI_rec-uncombined20_T2starw.json:   0%|        | 0.00/2.43k [00:00<?, ?B/s]\r",
      "                                                                                \r",
      "\r",
      "sub-MPI_rec-uncombined1_T2starw.nii.gz:   0%|        | 0.00/967k [00:00<?, ?B/s]"
     ]
    },
    {
     "name": "stdout",
     "output_type": "stream",
     "text": [
      "\r\n",
      "\r",
      "sub-MPI_rec-uncombined22_T2starw.nii.gz:   0%|      | 0.00/1.00M [00:00<?, ?B/s]\u001b[A\r\n",
      "\r\n",
      "\r",
      "sub-MPI_rec-uncombined21_T2starw.nii.gz:   0%|       | 0.00/989k [00:00<?, ?B/s]\u001b[A\u001b[A"
     ]
    },
    {
     "name": "stdout",
     "output_type": "stream",
     "text": [
      "\r\n",
      "\r\n",
      "\r\n",
      "\r",
      "sub-MPI_rec-uncombined23_T2starw.json:   0%|        | 0.00/2.43k [00:00<?, ?B/s]\u001b[A\u001b[A\u001b[A\r\n",
      "\r\n",
      "\r\n",
      "\r",
      "                                                                                \u001b[A\u001b[A\u001b[A\r",
      "sub-MPI_rec-uncombined1_T2starw.nii.gz:  98%|▉| 952k/967k [00:00<00:00, 9.43MB/s\r",
      "                                                                                \r"
     ]
    },
    {
     "name": "stdout",
     "output_type": "stream",
     "text": [
      "\r\n",
      "\r",
      "sub-MPI_rec-uncombined22_T2starw.nii.gz:  35%|▎| 355k/1.00M [00:00<00:00, 2.92MB\u001b[A\r",
      "sub-MPI_rec-uncombined23_T2starw.nii.gz:   0%|      | 0.00/1.00M [00:00<?, ?B/s]\r\n",
      "\r\n",
      "\r",
      "sub-MPI_rec-uncombined21_T2starw.nii.gz:  19%|▏| 184k/989k [00:00<00:00, 1.88MB/\u001b[A\u001b[A"
     ]
    },
    {
     "name": "stdout",
     "output_type": "stream",
     "text": [
      "\r\n",
      "\r\n",
      "\r\n",
      "\r",
      "sub-MPI_rec-uncombined22_T2starw.json:   0%|        | 0.00/2.43k [00:00<?, ?B/s]\u001b[A\u001b[A\u001b[A\r\n",
      "\r\n",
      "\r\n",
      "\r",
      "                                                                                \u001b[A\u001b[A\u001b[A"
     ]
    },
    {
     "name": "stdout",
     "output_type": "stream",
     "text": [
      "\r\n",
      "\r",
      "sub-MPI_rec-uncombined22_T2starw.nii.gz:  86%|▊| 882k/1.00M [00:00<00:00, 4.22MB\u001b[A\r",
      "sub-MPI_rec-uncombined23_T2starw.nii.gz:  35%|▎| 363k/1.00M [00:00<00:00, 3.70MB\r\n",
      "\r\n",
      "\r",
      "sub-MPI_rec-uncombined21_T2starw.nii.gz:  52%|▌| 515k/989k [00:00<00:00, 2.74MB/\u001b[A\u001b[A\r\n",
      "\r",
      "                                                                                \u001b[A"
     ]
    },
    {
     "name": "stdout",
     "output_type": "stream",
     "text": [
      "\r\n",
      "\r",
      "sub-MPI_rec-uncombined2_T2starw.nii.gz:   0%|        | 0.00/937k [00:00<?, ?B/s]\u001b[A"
     ]
    },
    {
     "name": "stdout",
     "output_type": "stream",
     "text": [
      "\r",
      "sub-MPI_rec-uncombined23_T2starw.nii.gz:  95%|▉| 974k/1.00M [00:00<00:00, 5.19MB\r\n",
      "\r",
      "                                                                                \u001b[A"
     ]
    },
    {
     "name": "stdout",
     "output_type": "stream",
     "text": [
      "\r",
      "                                                                                \r",
      "\r",
      "sub-MPI_rec-uncombined24_T2starw.nii.gz:   0%|       | 0.00/983k [00:00<?, ?B/s]\r\n",
      "\r",
      "sub-MPI_rec-uncombined2_T2starw.json:   0%|         | 0.00/2.43k [00:00<?, ?B/s]\u001b[A\r\n",
      "\r\n",
      "\r",
      "sub-MPI_rec-uncombined21_T2starw.nii.gz:  88%|▉| 872k/989k [00:00<00:00, 2.75MB/\u001b[A\u001b[A\r\n",
      "\r",
      "                                                                                \u001b[A"
     ]
    },
    {
     "name": "stdout",
     "output_type": "stream",
     "text": [
      "\r\n",
      "\r\n",
      "\r",
      "                                                                                \u001b[A\u001b[A"
     ]
    },
    {
     "name": "stdout",
     "output_type": "stream",
     "text": [
      "\r",
      "sub-MPI_rec-uncombined24_T2starw.nii.gz:  17%|▏| 169k/983k [00:00<00:00, 1.73MB/\r\n",
      "\r",
      "sub-MPI_rec-uncombined3_T2starw.json:   0%|         | 0.00/2.43k [00:00<?, ?B/s]\u001b[A\r\n",
      "\r",
      "                                                                                \u001b[A"
     ]
    },
    {
     "name": "stdout",
     "output_type": "stream",
     "text": [
      "\r",
      "                                                                                \r"
     ]
    },
    {
     "name": "stdout",
     "output_type": "stream",
     "text": [
      "\r",
      "sub-MPI_rec-uncombined24_T2starw.json:   0%|        | 0.00/2.43k [00:00<?, ?B/s]\r",
      "                                                                                \r",
      "\r",
      "sub-MPI_rec-uncombined3_T2starw.nii.gz:   0%|        | 0.00/956k [00:00<?, ?B/s]"
     ]
    },
    {
     "name": "stdout",
     "output_type": "stream",
     "text": [
      "\r\n",
      "\r",
      "sub-MPI_rec-uncombined5_T2starw.nii.gz:   0%|        | 0.00/964k [00:00<?, ?B/s]\u001b[A\r\n",
      "\r\n",
      "\r",
      "sub-MPI_rec-uncombined5_T2starw.json:   0%|         | 0.00/2.43k [00:00<?, ?B/s]\u001b[A\u001b[A\r\n",
      "\r\n",
      "\r",
      "                                                                                \u001b[A\u001b[A"
     ]
    },
    {
     "name": "stdout",
     "output_type": "stream",
     "text": [
      "\r\n",
      "\r\n",
      "\r",
      "sub-MPI_rec-uncombined4_T2starw.json:   0%|         | 0.00/2.43k [00:00<?, ?B/s]\u001b[A\u001b[A\r\n",
      "\r\n",
      "\r",
      "                                                                                \u001b[A\u001b[A\r",
      "sub-MPI_rec-uncombined3_T2starw.nii.gz:  28%|▎| 270k/956k [00:00<00:00, 2.58MB/s"
     ]
    },
    {
     "name": "stdout",
     "output_type": "stream",
     "text": [
      "\r\n",
      "\r",
      "sub-MPI_rec-uncombined5_T2starw.nii.gz:  35%|▎| 338k/964k [00:00<00:00, 3.43MB/s\u001b[A\r\n",
      "\r\n",
      "\r",
      "sub-MPI_rec-uncombined4_T2starw.nii.gz:   0%|        | 0.00/960k [00:00<?, ?B/s]\u001b[A\u001b[A\r",
      "                                                                                \r"
     ]
    },
    {
     "name": "stdout",
     "output_type": "stream",
     "text": [
      "\r",
      "sub-MPI_rec-uncombined6_T2starw.json:   0%|         | 0.00/2.43k [00:00<?, ?B/s]\r",
      "                                                                                \r"
     ]
    },
    {
     "name": "stdout",
     "output_type": "stream",
     "text": [
      "\r",
      "sub-MPI_rec-uncombined6_T2starw.nii.gz:   0%|        | 0.00/930k [00:00<?, ?B/s]\r\n",
      "\r",
      "sub-MPI_rec-uncombined5_T2starw.nii.gz:  91%|▉| 882k/964k [00:00<00:00, 4.62MB/s\u001b[A\r\n",
      "\r\n",
      "\r",
      "sub-MPI_rec-uncombined4_T2starw.nii.gz:  26%|▎| 245k/960k [00:00<00:00, 2.51MB/s\u001b[A\u001b[A\r\n",
      "\r",
      "                                                                                \u001b[A"
     ]
    },
    {
     "name": "stdout",
     "output_type": "stream",
     "text": [
      "\r\n",
      "\r\n",
      "\r",
      "                                                                                \u001b[A\u001b[A"
     ]
    },
    {
     "name": "stdout",
     "output_type": "stream",
     "text": [
      "\r",
      "sub-MPI_rec-uncombined6_T2starw.nii.gz:  76%|▊| 703k/930k [00:00<00:00, 6.28MB/s\r\n",
      "\r",
      "sub-MPI_rec-uncombined7_T2starw.json:   0%|         | 0.00/2.43k [00:00<?, ?B/s]\u001b[A\r\n",
      "\r",
      "                                                                                \u001b[A"
     ]
    },
    {
     "name": "stdout",
     "output_type": "stream",
     "text": [
      "\r\n",
      "\r",
      "sub-MPI_rec-uncombined8_T2starw.json:   0%|         | 0.00/2.43k [00:00<?, ?B/s]\u001b[A\r\n",
      "\r\n",
      "\r",
      "sub-MPI_rec-uncombined7_T2starw.nii.gz:   0%|        | 0.00/968k [00:00<?, ?B/s]\u001b[A\u001b[A\r\n",
      "\r",
      "                                                                                \u001b[A"
     ]
    },
    {
     "name": "stdout",
     "output_type": "stream",
     "text": [
      "\r",
      "                                                                                \r"
     ]
    },
    {
     "name": "stdout",
     "output_type": "stream",
     "text": [
      "\r\n",
      "\r\n",
      "\r",
      "sub-MPI_rec-uncombined7_T2starw.nii.gz:  79%|▊| 762k/968k [00:00<00:00, 7.79MB/s\u001b[A\u001b[A\r\n",
      "\r\n",
      "\r",
      "                                                                                \u001b[A\u001b[A"
     ]
    },
    {
     "name": "stdout",
     "output_type": "stream",
     "text": [
      "\r",
      "sub-MPI_rec-uncombined9_T2starw.json:   0%|         | 0.00/2.43k [00:00<?, ?B/s]\r\n",
      "\r",
      "sub-MPI_rec-uncombined9_T2starw.nii.gz:   0%|        | 0.00/925k [00:00<?, ?B/s]\u001b[A\r",
      "                                                                                \r",
      "\r",
      "sub-MPI_acq-anat_TB1TFL.json:   0%|                 | 0.00/2.63k [00:00<?, ?B/s]\r",
      "                                                                                \r"
     ]
    },
    {
     "name": "stdout",
     "output_type": "stream",
     "text": [
      "\r",
      "sub-MPI_rec-uncombined8_T2starw.nii.gz:   0%|        | 0.00/951k [00:00<?, ?B/s]"
     ]
    },
    {
     "name": "stdout",
     "output_type": "stream",
     "text": [
      "\r\n",
      "\r",
      "sub-MPI_rec-uncombined9_T2starw.nii.gz:  19%|▏| 172k/925k [00:00<00:00, 1.69MB/s\u001b[A\r",
      "                                                                                \r"
     ]
    },
    {
     "name": "stdout",
     "output_type": "stream",
     "text": [
      "\r",
      "sub-MPI_acq-coilQaSagLarge_SNR.json:   0%|          | 0.00/2.16k [00:00<?, ?B/s]\r",
      "                                                                                \r",
      "\r",
      "sub-MPI_acq-anat_TB1TFL.nii.gz:   0%|                | 0.00/702k [00:00<?, ?B/s]"
     ]
    },
    {
     "name": "stdout",
     "output_type": "stream",
     "text": [
      "\r\n",
      "\r\n",
      "\r",
      "sub-MPI_acq-coilQaSagLarge_SNR.nii.gz:   0%|        | 0.00/3.99M [00:00<?, ?B/s]\u001b[A\u001b[A\r\n",
      "\r",
      "sub-MPI_rec-uncombined9_T2starw.nii.gz:  60%|▌| 550k/925k [00:00<00:00, 2.91MB/s\u001b[A\r\n",
      "\r\n",
      "\r\n",
      "\r",
      "sub-MPI_acq-coilQaTra_GFactor.json:   0%|           | 0.00/2.07k [00:00<?, ?B/s]\u001b[A\u001b[A\u001b[A\r\n",
      "\r\n",
      "\r\n",
      "\r",
      "                                                                                \u001b[A\u001b[A\u001b[A"
     ]
    },
    {
     "name": "stdout",
     "output_type": "stream",
     "text": [
      "\r",
      "sub-MPI_acq-anat_TB1TFL.nii.gz:  94%|███████▌| 662k/702k [00:00<00:00, 6.68MB/s]"
     ]
    },
    {
     "name": "stdout",
     "output_type": "stream",
     "text": [
      "\r\n",
      "\r\n",
      "\r",
      "sub-MPI_acq-coilQaSagLarge_SNR.nii.gz:  14%|▏| 578k/3.99M [00:00<00:00, 5.92MB/s\u001b[A\u001b[A\r",
      "                                                                                \r",
      "\r\n",
      "\r",
      "sub-MPI_rec-uncombined9_T2starw.nii.gz:  96%|▉| 890k/925k [00:00<00:00, 2.84MB/s\u001b[A\r\n",
      "\r",
      "                                                                                \u001b[A"
     ]
    },
    {
     "name": "stdout",
     "output_type": "stream",
     "text": [
      "\r",
      "sub-MPI_acq-coilQaSagSmall_GFactor.json:   0%|      | 0.00/2.16k [00:00<?, ?B/s]\r\n",
      "\r",
      "sub-MPI_acq-coilQaSagSmall_GFactor.nii.gz:   0%|    | 0.00/3.53M [00:00<?, ?B/s]\u001b[A\r",
      "                                                                                \r"
     ]
    },
    {
     "name": "stdout",
     "output_type": "stream",
     "text": [
      "\r\n",
      "\r\n",
      "\r",
      "sub-MPI_acq-coilQaSagLarge_SNR.nii.gz:  28%|▎| 1.13M/3.99M [00:00<00:00, 5.27MB/\u001b[A\u001b[A"
     ]
    },
    {
     "name": "stdout",
     "output_type": "stream",
     "text": [
      "\r\n",
      "\r",
      "sub-MPI_acq-coilQaSagSmall_GFactor.nii.gz:  26%|▎| 922k/3.53M [00:00<00:00, 9.40\u001b[A\r",
      "sub-MPI_acq-famp-1.5_TB1DREAM.json:   0%|           | 0.00/2.08k [00:00<?, ?B/s]\r",
      "                                                                                \r"
     ]
    },
    {
     "name": "stdout",
     "output_type": "stream",
     "text": [
      "\r",
      "sub-MPI_acq-famp-1.5_TB1DREAM.nii.gz:   0%|         | 0.00/89.9k [00:00<?, ?B/s]\r\n",
      "\r\n",
      "\r",
      "sub-MPI_acq-coilQaSagLarge_SNR.nii.gz:  54%|▌| 2.17M/3.99M [00:00<00:00, 7.69MB/\u001b[A\u001b[A\r",
      "                                                                                \r"
     ]
    },
    {
     "name": "stdout",
     "output_type": "stream",
     "text": [
      "\r",
      "sub-MPI_acq-coilQaTra_GFactor.nii.gz:   0%|         | 0.00/15.5M [00:00<?, ?B/s]\r\n",
      "\r",
      "sub-MPI_acq-coilQaSagSmall_GFactor.nii.gz:  51%|▌| 1.80M/3.53M [00:00<00:00, 8.3\u001b[A"
     ]
    },
    {
     "name": "stdout",
     "output_type": "stream",
     "text": [
      "\r\n",
      "\r\n",
      "\r\n",
      "\r",
      "sub-MPI_acq-famp-0.66_TB1DREAM.json:   0%|          | 0.00/2.08k [00:00<?, ?B/s]\u001b[A\u001b[A\u001b[A\r\n",
      "\r\n",
      "\r\n",
      "\r",
      "                                                                                \u001b[A\u001b[A\u001b[A\r\n",
      "\r\n",
      "\r",
      "sub-MPI_acq-coilQaSagLarge_SNR.nii.gz:  88%|▉| 3.52M/3.99M [00:00<00:00, 9.45MB/\u001b[A\u001b[A"
     ]
    },
    {
     "name": "stdout",
     "output_type": "stream",
     "text": [
      "\r",
      "sub-MPI_acq-coilQaTra_GFactor.nii.gz:   2%| | 300k/15.5M [00:00<00:05, 2.93MB/s]\r\n",
      "\r\n",
      "\r",
      "                                                                                \u001b[A\u001b[A\r\n",
      "\r",
      "sub-MPI_acq-coilQaSagSmall_GFactor.nii.gz:  74%|▋| 2.61M/3.53M [00:00<00:00, 8.1\u001b[A\r\n",
      "\r\n",
      "\r",
      "sub-MPI_acq-famp-0.66_TB1DREAM.nii.gz:   0%|        | 0.00/87.4k [00:00<?, ?B/s]\u001b[A\u001b[A"
     ]
    },
    {
     "name": "stdout",
     "output_type": "stream",
     "text": [
      "\r\n",
      "\r\n",
      "\r",
      "                                                                                \u001b[A\u001b[A"
     ]
    },
    {
     "name": "stdout",
     "output_type": "stream",
     "text": [
      "\r\n",
      "\r\n",
      "\r",
      "sub-MPI_acq-refv-0.66_TB1DREAM.json:   0%|          | 0.00/2.09k [00:00<?, ?B/s]\u001b[A\u001b[A\r\n",
      "\r\n",
      "\r",
      "                                                                                \u001b[A\u001b[A\r",
      "sub-MPI_acq-coilQaTra_GFactor.nii.gz:   4%| | 606k/15.5M [00:00<00:05, 3.04MB/s]\r\n",
      "\r\n",
      "\r",
      "sub-MPI_acq-famp_TB1TFL.json:   0%|                 | 0.00/2.66k [00:00<?, ?B/s]\u001b[A\u001b[A\r\n",
      "\r\n",
      "\r",
      "                                                                                \u001b[A\u001b[A\r\n",
      "\r",
      "sub-MPI_acq-coilQaSagSmall_GFactor.nii.gz:  98%|▉| 3.45M/3.53M [00:00<00:00, 8.3\u001b[A"
     ]
    },
    {
     "name": "stdout",
     "output_type": "stream",
     "text": [
      "\r\n",
      "\r",
      "                                                                                \u001b[A"
     ]
    },
    {
     "name": "stdout",
     "output_type": "stream",
     "text": [
      "\r",
      "sub-MPI_acq-coilQaTra_GFactor.nii.gz:   6%| | 912k/15.5M [00:00<00:05, 2.96MB/s]"
     ]
    },
    {
     "name": "stdout",
     "output_type": "stream",
     "text": [
      "\r\n",
      "\r",
      "sub-MPI_acq-famp_TB1TFL.nii.gz:   0%|                | 0.00/933k [00:00<?, ?B/s]\u001b[A\r\n",
      "\r\n",
      "\r",
      "sub-MPI_acq-famp_TB1DREAM.json:   0%|               | 0.00/2.06k [00:00<?, ?B/s]\u001b[A\u001b[A\r\n",
      "\r\n",
      "\r",
      "                                                                                \u001b[A\u001b[A"
     ]
    },
    {
     "name": "stdout",
     "output_type": "stream",
     "text": [
      "\r",
      "sub-MPI_acq-coilQaTra_GFactor.nii.gz:  10%| | 1.52M/15.5M [00:00<00:03, 4.16MB/s\r\n",
      "\r\n",
      "\r",
      "sub-MPI_acq-refv-0.66_TB1DREAM.nii.gz:   0%|        | 0.00/80.7k [00:00<?, ?B/s]\u001b[A\u001b[A\r\n",
      "\r\n",
      "\r\n",
      "\r",
      "sub-MPI_acq-famp_TB1DREAM.nii.gz:   0%|             | 0.00/87.5k [00:00<?, ?B/s]\u001b[A\u001b[A\u001b[A\r\n",
      "\r\n",
      "\r",
      "                                                                                \u001b[A\u001b[A"
     ]
    },
    {
     "name": "stdout",
     "output_type": "stream",
     "text": [
      "\r\n",
      "\r",
      "sub-MPI_acq-famp_TB1TFL.nii.gz:  27%|██▏     | 253k/933k [00:00<00:00, 2.56MB/s]\u001b[A\r\n",
      "\r\n",
      "\r\n",
      "\r",
      "                                                                                \u001b[A\u001b[A\u001b[A"
     ]
    },
    {
     "name": "stdout",
     "output_type": "stream",
     "text": [
      "\r\n",
      "\r\n",
      "\r",
      "sub-MPI_acq-refv_TB1DREAM.json:   0%|               | 0.00/2.07k [00:00<?, ?B/s]\u001b[A\u001b[A\r\n",
      "\r\n",
      "\r",
      "                                                                                \u001b[A\u001b[A"
     ]
    },
    {
     "name": "stdout",
     "output_type": "stream",
     "text": [
      "\r",
      "sub-MPI_acq-coilQaTra_GFactor.nii.gz:  12%| | 1.92M/15.5M [00:00<00:03, 3.72MB/s\r\n",
      "\r",
      "sub-MPI_acq-famp_TB1TFL.nii.gz:  75%|█████▉  | 696k/933k [00:00<00:00, 3.71MB/s]\u001b[A\r\n",
      "\r",
      "                                                                                \u001b[A"
     ]
    },
    {
     "name": "stdout",
     "output_type": "stream",
     "text": [
      "\r\n",
      "\r",
      "sub-MPI_acq-refv-1.5_TB1DREAM.nii.gz:   0%|         | 0.00/93.2k [00:00<?, ?B/s]\u001b[A\r\n",
      "\r\n",
      "\r",
      "sub-MPI_acq-refv-1.5_TB1DREAM.json:   0%|           | 0.00/2.09k [00:00<?, ?B/s]\u001b[A\u001b[A\r\n",
      "\r\n",
      "\r",
      "                                                                                \u001b[A\u001b[A"
     ]
    },
    {
     "name": "stdout",
     "output_type": "stream",
     "text": [
      "\r",
      "sub-MPI_acq-coilQaTra_GFactor.nii.gz:  16%|▏| 2.54M/15.5M [00:00<00:03, 4.49MB/s\r\n",
      "\r\n",
      "\r",
      "sub-MPI_acq-refv_TB1DREAM.nii.gz:   0%|             | 0.00/84.7k [00:00<?, ?B/s]\u001b[A\u001b[A\r\n",
      "\r",
      "                                                                                \u001b[A"
     ]
    },
    {
     "name": "stdout",
     "output_type": "stream",
     "text": [
      "\r\n",
      "\r\n",
      "\r",
      "                                                                                \u001b[A\u001b[A\r\n",
      "\r",
      "sub-MSSM_T2starw.json:   0%|                        | 0.00/2.53k [00:00<?, ?B/s]\u001b[A\r\n",
      "\r",
      "                                                                                \u001b[A"
     ]
    },
    {
     "name": "stdout",
     "output_type": "stream",
     "text": [
      "\r",
      "sub-MPI_acq-coilQaTra_GFactor.nii.gz:  19%|▏| 2.98M/15.5M [00:00<00:03, 4.35MB/s"
     ]
    },
    {
     "name": "stdout",
     "output_type": "stream",
     "text": [
      "\r\n",
      "\r",
      "sub-MSSM_rec-uncombined10_T2starw.nii.gz:   0%|      | 0.00/974k [00:00<?, ?B/s]\u001b[A\r\n",
      "\r\n",
      "\r",
      "sub-MSSM_rec-uncombined10_T2starw.json:   0%|       | 0.00/2.36k [00:00<?, ?B/s]\u001b[A\u001b[A\r\n",
      "\r\n",
      "\r",
      "                                                                                \u001b[A\u001b[A"
     ]
    },
    {
     "name": "stdout",
     "output_type": "stream",
     "text": [
      "\r",
      "sub-MPI_acq-coilQaTra_GFactor.nii.gz:  28%|▎| 4.26M/15.5M [00:00<00:01, 6.91MB/s\r\n",
      "\r\n",
      "\r",
      "sub-MSSM_rec-uncombined11_T2starw.json:   0%|       | 0.00/2.36k [00:00<?, ?B/s]\u001b[A\u001b[A\r\n",
      "\r\n",
      "\r\n",
      "\r",
      "sub-MSSM_T2starw.nii.gz:   0%|                      | 0.00/1.74M [00:00<?, ?B/s]\u001b[A\u001b[A\u001b[A\r\n",
      "\r\n",
      "\r",
      "                                                                                \u001b[A\u001b[A"
     ]
    },
    {
     "name": "stdout",
     "output_type": "stream",
     "text": [
      "\r\n",
      "\r",
      "sub-MSSM_rec-uncombined10_T2starw.nii.gz:  36%|▎| 355k/974k [00:00<00:00, 3.13MB\u001b[A"
     ]
    },
    {
     "name": "stdout",
     "output_type": "stream",
     "text": [
      "\r",
      "sub-MPI_acq-coilQaTra_GFactor.nii.gz:  32%|▎| 4.96M/15.5M [00:00<00:01, 7.02MB/s\r\n",
      "\r",
      "                                                                                \u001b[A"
     ]
    },
    {
     "name": "stdout",
     "output_type": "stream",
     "text": [
      "\r\n",
      "\r\n",
      "\r\n",
      "\r",
      "sub-MSSM_T2starw.nii.gz:  34%|████▊         | 611k/1.74M [00:00<00:00, 4.86MB/s]\u001b[A\u001b[A\u001b[A\r\n",
      "\r",
      "sub-MSSM_rec-uncombined12_T2starw.json:   0%|       | 0.00/2.36k [00:00<?, ?B/s]\u001b[A\r\n",
      "\r",
      "                                                                                \u001b[A\r\n",
      "\r",
      "sub-MSSM_rec-uncombined12_T2starw.nii.gz:   0%|      | 0.00/826k [00:00<?, ?B/s]\u001b[A"
     ]
    },
    {
     "name": "stdout",
     "output_type": "stream",
     "text": [
      "\r",
      "sub-MPI_acq-coilQaTra_GFactor.nii.gz:  37%|▎| 5.66M/15.5M [00:01<00:01, 6.77MB/s"
     ]
    },
    {
     "name": "stdout",
     "output_type": "stream",
     "text": [
      "\r\n",
      "\r\n",
      "\r\n",
      "\r",
      "sub-MSSM_T2starw.nii.gz:  82%|██████████▋  | 1.43M/1.74M [00:00<00:00, 6.86MB/s]\u001b[A\u001b[A\u001b[A\r\n",
      "\r",
      "                                                                                \u001b[A"
     ]
    },
    {
     "name": "stdout",
     "output_type": "stream",
     "text": [
      "\r\n",
      "\r",
      "sub-MSSM_rec-uncombined11_T2starw.nii.gz:   0%|      | 0.00/934k [00:00<?, ?B/s]\u001b[A\r\n",
      "\r\n",
      "\r\n",
      "\r",
      "                                                                                \u001b[A\u001b[A\u001b[A\r\n",
      "\r\n",
      "\r",
      "sub-MSSM_rec-uncombined13_T2starw.nii.gz:   0%|     | 0.00/1.12M [00:00<?, ?B/s]\u001b[A\u001b[A"
     ]
    },
    {
     "name": "stdout",
     "output_type": "stream",
     "text": [
      "\r",
      "sub-MPI_acq-coilQaTra_GFactor.nii.gz:  41%|▍| 6.32M/15.5M [00:01<00:01, 6.38MB/s"
     ]
    },
    {
     "name": "stdout",
     "output_type": "stream",
     "text": [
      "\r\n",
      "\r",
      "sub-MSSM_rec-uncombined11_T2starw.nii.gz:  94%|▉| 881k/934k [00:00<00:00, 9.00MB\u001b[A\r\n",
      "\r",
      "                                                                                \u001b[A\r\n",
      "\r\n",
      "\r",
      "sub-MSSM_rec-uncombined13_T2starw.nii.gz:  32%|▎| 371k/1.12M [00:00<00:00, 2.88M\u001b[A\u001b[A\r\n",
      "\r",
      "sub-MSSM_rec-uncombined13_T2starw.json:   0%|       | 0.00/2.36k [00:00<?, ?B/s]\u001b[A\r\n",
      "\r",
      "                                                                                \u001b[A"
     ]
    },
    {
     "name": "stdout",
     "output_type": "stream",
     "text": [
      "\r",
      "sub-MPI_acq-coilQaTra_GFactor.nii.gz:  46%|▍| 7.10M/15.5M [00:01<00:01, 6.56MB/s\r\n",
      "\r",
      "sub-MSSM_rec-uncombined14_T2starw.json:   0%|       | 0.00/2.36k [00:00<?, ?B/s]\u001b[A\r\n",
      "\r",
      "                                                                                \u001b[A"
     ]
    },
    {
     "name": "stdout",
     "output_type": "stream",
     "text": [
      "\r\n",
      "\r\n",
      "\r",
      "sub-MSSM_rec-uncombined13_T2starw.nii.gz:  74%|▋| 846k/1.12M [00:00<00:00, 3.91M\u001b[A\u001b[A"
     ]
    },
    {
     "name": "stdout",
     "output_type": "stream",
     "text": [
      "\r\n",
      "\r\n",
      "\r",
      "                                                                                \u001b[A\u001b[A\r",
      "sub-MPI_acq-coilQaTra_GFactor.nii.gz:  55%|▌| 8.48M/15.5M [00:01<00:00, 8.70MB/s"
     ]
    },
    {
     "name": "stdout",
     "output_type": "stream",
     "text": [
      "\r\n",
      "\r",
      "sub-MSSM_rec-uncombined15_T2starw.json:   0%|       | 0.00/2.36k [00:00<?, ?B/s]\u001b[A\r\n",
      "\r\n",
      "\r",
      "sub-MSSM_rec-uncombined16_T2starw.json:   0%|       | 0.00/2.36k [00:00<?, ?B/s]\u001b[A\u001b[A\r\n",
      "\r",
      "                                                                                \u001b[A\r\n",
      "\r\n",
      "\r",
      "                                                                                \u001b[A\u001b[A"
     ]
    },
    {
     "name": "stdout",
     "output_type": "stream",
     "text": [
      "\r\n",
      "\r",
      "sub-MSSM_rec-uncombined14_T2starw.nii.gz:   0%|      | 0.00/949k [00:00<?, ?B/s]\u001b[A"
     ]
    },
    {
     "name": "stdout",
     "output_type": "stream",
     "text": [
      "\r",
      "sub-MPI_acq-coilQaTra_GFactor.nii.gz:  60%|▌| 9.34M/15.5M [00:01<00:00, 7.55MB/s\r\n",
      "\r",
      "                                                                                \u001b[A"
     ]
    },
    {
     "name": "stdout",
     "output_type": "stream",
     "text": [
      "\r\n",
      "\r",
      "sub-MSSM_rec-uncombined18_T2starw.json:   0%|       | 0.00/2.36k [00:00<?, ?B/s]\u001b[A\r\n",
      "\r",
      "                                                                                \u001b[A"
     ]
    },
    {
     "name": "stdout",
     "output_type": "stream",
     "text": [
      "\r\n",
      "\r",
      "sub-MSSM_rec-uncombined18_T2starw.nii.gz:   0%|      | 0.00/695k [00:00<?, ?B/s]\u001b[A\r\n",
      "\r\n",
      "\r",
      "sub-MSSM_rec-uncombined15_T2starw.nii.gz:   0%|      | 0.00/934k [00:00<?, ?B/s]\u001b[A\u001b[A\r",
      "sub-MPI_acq-coilQaTra_GFactor.nii.gz:  65%|▋| 10.1M/15.5M [00:01<00:00, 7.56MB/s"
     ]
    },
    {
     "name": "stdout",
     "output_type": "stream",
     "text": [
      "\r\n",
      "\r",
      "                                                                                \u001b[A"
     ]
    },
    {
     "name": "stdout",
     "output_type": "stream",
     "text": [
      "\r\n",
      "\r",
      "sub-MSSM_rec-uncombined17_T2starw.nii.gz:   0%|      | 0.00/721k [00:00<?, ?B/s]\u001b[A\r\n",
      "\r\n",
      "\r",
      "sub-MSSM_rec-uncombined15_T2starw.nii.gz:  69%|▋| 643k/934k [00:00<00:00, 6.55MB\u001b[A\u001b[A\r\n",
      "\r\n",
      "\r\n",
      "\r",
      "sub-MSSM_rec-uncombined16_T2starw.nii.gz:   0%|     | 0.00/1.06M [00:00<?, ?B/s]\u001b[A\u001b[A\u001b[A\r",
      "sub-MPI_acq-coilQaTra_GFactor.nii.gz:  71%|▋| 11.0M/15.5M [00:01<00:00, 7.90MB/s\r\n",
      "\r\n",
      "\r",
      "                                                                                \u001b[A\u001b[A"
     ]
    },
    {
     "name": "stdout",
     "output_type": "stream",
     "text": [
      "\r\n",
      "\r\n",
      "\r",
      "sub-MSSM_rec-uncombined17_T2starw.json:   0%|       | 0.00/2.36k [00:00<?, ?B/s]\u001b[A\u001b[A\r\n",
      "\r\n",
      "\r",
      "                                                                                \u001b[A\u001b[A"
     ]
    },
    {
     "name": "stdout",
     "output_type": "stream",
     "text": [
      "\r\n",
      "\r",
      "sub-MSSM_rec-uncombined17_T2starw.nii.gz:  38%|▍| 271k/721k [00:00<00:00, 2.68MB\u001b[A\r\n",
      "\r\n",
      "\r\n",
      "\r",
      "sub-MSSM_rec-uncombined16_T2starw.nii.gz:  30%|▎| 322k/1.06M [00:00<00:00, 3.28M\u001b[A\u001b[A\u001b[A"
     ]
    },
    {
     "name": "stdout",
     "output_type": "stream",
     "text": [
      "\r\n",
      "\r",
      "                                                                                \u001b[A\r\n",
      "\r",
      "sub-MSSM_rec-uncombined1_T2starw.json:   0%|        | 0.00/2.36k [00:00<?, ?B/s]\u001b[A\r\n",
      "\r",
      "                                                                                \u001b[A"
     ]
    },
    {
     "name": "stdout",
     "output_type": "stream",
     "text": [
      "\r",
      "sub-MPI_acq-coilQaTra_GFactor.nii.gz:  76%|▊| 11.7M/15.5M [00:01<00:00, 6.43MB/s\r\n",
      "\r",
      "sub-MSSM_rec-uncombined1_T2starw.nii.gz:   0%|       | 0.00/927k [00:00<?, ?B/s]\u001b[A\r\n",
      "\r\n",
      "\r\n",
      "\r",
      "sub-MSSM_rec-uncombined16_T2starw.nii.gz:  77%|▊| 832k/1.06M [00:00<00:00, 4.39M\u001b[A\u001b[A\u001b[A"
     ]
    },
    {
     "name": "stdout",
     "output_type": "stream",
     "text": [
      "\r\n",
      "\r\n",
      "\r\n",
      "\r",
      "                                                                                \u001b[A\u001b[A\u001b[A"
     ]
    },
    {
     "name": "stdout",
     "output_type": "stream",
     "text": [
      "\r\n",
      "\r\n",
      "\r",
      "sub-MSSM_rec-uncombined20_T2starw.json:   0%|       | 0.00/2.36k [00:00<?, ?B/s]\u001b[A\u001b[A\r\n",
      "\r\n",
      "\r",
      "                                                                                \u001b[A\u001b[A\r",
      "sub-MPI_acq-coilQaTra_GFactor.nii.gz:  81%|▊| 12.5M/15.5M [00:02<00:00, 6.38MB/s\r\n",
      "\r",
      "sub-MSSM_rec-uncombined1_T2starw.nii.gz:  40%|▍| 375k/927k [00:00<00:00, 3.48MB/\u001b[A"
     ]
    },
    {
     "name": "stdout",
     "output_type": "stream",
     "text": [
      "\r\n",
      "\r\n",
      "\r",
      "sub-MSSM_rec-uncombined19_T2starw.nii.gz:   0%|      | 0.00/896k [00:00<?, ?B/s]\u001b[A\u001b[A\r\n",
      "\r\n",
      "\r\n",
      "\r",
      "sub-MSSM_rec-uncombined19_T2starw.json:   0%|       | 0.00/2.36k [00:00<?, ?B/s]\u001b[A\u001b[A\u001b[A\r\n",
      "\r\n",
      "\r\n",
      "\r",
      "                                                                                \u001b[A\u001b[A\u001b[A"
     ]
    },
    {
     "name": "stdout",
     "output_type": "stream",
     "text": [
      "\r\n",
      "\r",
      "                                                                                \u001b[A\r",
      "sub-MPI_acq-coilQaTra_GFactor.nii.gz:  85%|▊| 13.1M/15.5M [00:02<00:00, 6.52MB/s"
     ]
    },
    {
     "name": "stdout",
     "output_type": "stream",
     "text": [
      "\r\n",
      "\r\n",
      "\r",
      "sub-MSSM_rec-uncombined19_T2starw.nii.gz:  52%|▌| 465k/896k [00:00<00:00, 4.75MB\u001b[A\u001b[A\r\n",
      "\r",
      "sub-MSSM_rec-uncombined20_T2starw.nii.gz:   0%|      | 0.00/582k [00:00<?, ?B/s]\u001b[A"
     ]
    },
    {
     "name": "stdout",
     "output_type": "stream",
     "text": [
      "\r\n",
      "\r\n",
      "\r",
      "                                                                                \u001b[A\u001b[A\r\n",
      "\r\n",
      "\r",
      "sub-MSSM_rec-uncombined22_T2starw.json:   0%|       | 0.00/2.36k [00:00<?, ?B/s]\u001b[A\u001b[A\r\n",
      "\r\n",
      "\r",
      "                                                                                \u001b[A\u001b[A"
     ]
    },
    {
     "name": "stdout",
     "output_type": "stream",
     "text": [
      "\r",
      "sub-MPI_acq-coilQaTra_GFactor.nii.gz:  95%|▉| 14.7M/15.5M [00:02<00:00, 8.48MB/s\r\n",
      "\r",
      "sub-MSSM_rec-uncombined20_T2starw.nii.gz:  52%|▌| 305k/582k [00:00<00:00, 3.11MB\u001b[A\r\n",
      "\r\n",
      "\r",
      "sub-MSSM_rec-uncombined21_T2starw.nii.gz:   0%|      | 0.00/831k [00:00<?, ?B/s]\u001b[A\u001b[A\r\n",
      "\r",
      "                                                                                \u001b[A"
     ]
    },
    {
     "name": "stdout",
     "output_type": "stream",
     "text": [
      "\r",
      "                                                                                \r"
     ]
    },
    {
     "name": "stdout",
     "output_type": "stream",
     "text": [
      "\r",
      "sub-MSSM_rec-uncombined21_T2starw.json:   0%|       | 0.00/2.36k [00:00<?, ?B/s]\r",
      "                                                                                \r",
      "\r\n",
      "\r\n",
      "\r",
      "sub-MSSM_rec-uncombined21_T2starw.nii.gz:  12%| | 102k/831k [00:00<00:00, 987kB/\u001b[A\u001b[A"
     ]
    },
    {
     "name": "stdout",
     "output_type": "stream",
     "text": [
      "\r",
      "sub-MSSM_rec-uncombined22_T2starw.nii.gz:   0%|      | 0.00/833k [00:00<?, ?B/s]\r\n",
      "\r",
      "sub-MSSM_rec-uncombined4_T2starw.json:   0%|        | 0.00/2.36k [00:00<?, ?B/s]\u001b[A\r\n",
      "\r",
      "                                                                                \u001b[A"
     ]
    },
    {
     "name": "stdout",
     "output_type": "stream",
     "text": [
      "\r\n",
      "\r\n",
      "\r",
      "sub-MSSM_rec-uncombined21_T2starw.nii.gz:  80%|▊| 665k/831k [00:00<00:00, 3.64MB\u001b[A\u001b[A\r\n",
      "\r",
      "sub-MSSM_rec-uncombined2_T2starw.nii.gz:   0%|       | 0.00/871k [00:00<?, ?B/s]\u001b[A"
     ]
    },
    {
     "name": "stdout",
     "output_type": "stream",
     "text": [
      "\r\n",
      "\r\n",
      "\r\n",
      "\r",
      "sub-MSSM_rec-uncombined3_T2starw.nii.gz:   0%|       | 0.00/901k [00:00<?, ?B/s]\u001b[A\u001b[A\u001b[A\r",
      "                                                                                \r",
      "\r\n",
      "\r\n",
      "\r",
      "                                                                                \u001b[A\u001b[A"
     ]
    },
    {
     "name": "stdout",
     "output_type": "stream",
     "text": [
      "\r",
      "sub-MSSM_rec-uncombined3_T2starw.json:   0%|        | 0.00/2.36k [00:00<?, ?B/s]\r",
      "                                                                                \r"
     ]
    },
    {
     "name": "stdout",
     "output_type": "stream",
     "text": [
      "\r\n",
      "\r\n",
      "\r\n",
      "\r",
      "sub-MSSM_rec-uncombined3_T2starw.nii.gz:  15%|▏| 131k/901k [00:00<00:00, 1.30MB/\u001b[A\u001b[A\u001b[A\r\n",
      "\r",
      "sub-MSSM_rec-uncombined2_T2starw.nii.gz:  20%|▏| 176k/871k [00:00<00:00, 1.59MB/\u001b[A"
     ]
    },
    {
     "name": "stdout",
     "output_type": "stream",
     "text": [
      "\r\n",
      "\r",
      "                                                                                \u001b[A\r",
      "sub-MSSM_rec-uncombined2_T2starw.json:   0%|        | 0.00/2.36k [00:00<?, ?B/s]\r",
      "                                                                                \r"
     ]
    },
    {
     "name": "stdout",
     "output_type": "stream",
     "text": [
      "\r\n",
      "\r\n",
      "\r\n",
      "\r",
      "sub-MSSM_rec-uncombined3_T2starw.nii.gz:  99%|▉| 895k/901k [00:00<00:00, 4.86MB/\u001b[A\u001b[A\u001b[A\r",
      "sub-MSSM_rec-uncombined5_T2starw.nii.gz:   0%|       | 0.00/980k [00:00<?, ?B/s]\r\n",
      "\r\n",
      "\r\n",
      "\r",
      "                                                                                \u001b[A\u001b[A\u001b[A\r\n"
     ]
    },
    {
     "name": "stdout",
     "output_type": "stream",
     "text": [
      "\r",
      "sub-MSSM_rec-uncombined4_T2starw.nii.gz:   0%|       | 0.00/891k [00:00<?, ?B/s]\u001b[A"
     ]
    },
    {
     "name": "stdout",
     "output_type": "stream",
     "text": [
      "\r",
      "sub-MSSM_rec-uncombined5_T2starw.nii.gz:  23%|▏| 221k/980k [00:00<00:00, 2.17MB/\r\n",
      "\r",
      "                                                                                \u001b[A"
     ]
    },
    {
     "name": "stdout",
     "output_type": "stream",
     "text": [
      "\r\n",
      "\r",
      "sub-MSSM_rec-uncombined6_T2starw.json:   0%|        | 0.00/2.36k [00:00<?, ?B/s]\u001b[A\r\n",
      "\r",
      "                                                                                \u001b[A\r\n",
      "\r",
      "sub-MSSM_rec-uncombined5_T2starw.json:   0%|        | 0.00/2.36k [00:00<?, ?B/s]\u001b[A\r\n",
      "\r\n",
      "\r",
      "sub-MSSM_rec-uncombined6_T2starw.nii.gz:   0%|      | 0.00/0.98M [00:00<?, ?B/s]\u001b[A\u001b[A\r\n",
      "\r",
      "                                                                                \u001b[A"
     ]
    },
    {
     "name": "stdout",
     "output_type": "stream",
     "text": [
      "\r",
      "sub-MSSM_rec-uncombined5_T2starw.nii.gz:  45%|▍| 442k/980k [00:00<00:00, 2.03MB/"
     ]
    },
    {
     "name": "stdout",
     "output_type": "stream",
     "text": [
      "\r\n",
      "\r\n",
      "\r",
      "                                                                                \u001b[A\u001b[A"
     ]
    },
    {
     "name": "stdout",
     "output_type": "stream",
     "text": [
      "\r\n",
      "\r",
      "sub-MSSM_rec-uncombined7_T2starw.json:   0%|        | 0.00/2.36k [00:00<?, ?B/s]\u001b[A\r\n",
      "\r\n",
      "\r",
      "sub-MSSM_rec-uncombined8_T2starw.json:   0%|        | 0.00/2.36k [00:00<?, ?B/s]\u001b[A\u001b[A\r\n",
      "\r",
      "                                                                                \u001b[A\r\n",
      "\r\n",
      "\r",
      "                                                                                \u001b[A\u001b[A\r",
      "sub-MSSM_rec-uncombined5_T2starw.nii.gz:  78%|▊| 765k/980k [00:00<00:00, 2.42MB/"
     ]
    },
    {
     "name": "stdout",
     "output_type": "stream",
     "text": [
      "\r\n",
      "\r",
      "sub-MSSM_rec-uncombined8_T2starw.nii.gz:   0%|       | 0.00/858k [00:00<?, ?B/s]\u001b[A\r",
      "                                                                                \r"
     ]
    },
    {
     "name": "stdout",
     "output_type": "stream",
     "text": [
      "\r\n",
      "\r",
      "                                                                                \u001b[A\r",
      "sub-MSSM_rec-uncombined7_T2starw.nii.gz:   0%|       | 0.00/756k [00:00<?, ?B/s]"
     ]
    },
    {
     "name": "stdout",
     "output_type": "stream",
     "text": [
      "\r\n",
      "\r",
      "sub-MSSM_rec-uncombined9_T2starw.json:   0%|        | 0.00/2.36k [00:00<?, ?B/s]\u001b[A\r\n",
      "\r",
      "                                                                                \u001b[A\r\n",
      "\r",
      "sub-MSSM_acq-coilQaSagLarge_SNR.json:   0%|         | 0.00/2.10k [00:00<?, ?B/s]\u001b[A\r\n",
      "\r\n",
      "\r",
      "sub-MSSM_rec-uncombined9_T2starw.nii.gz:   0%|       | 0.00/949k [00:00<?, ?B/s]\u001b[A\u001b[A\r\n",
      "\r",
      "                                                                                \u001b[A"
     ]
    },
    {
     "name": "stdout",
     "output_type": "stream",
     "text": [
      "\r",
      "sub-MSSM_rec-uncombined7_T2starw.nii.gz:  56%|▌| 425k/756k [00:00<00:00, 4.34MB/"
     ]
    },
    {
     "name": "stdout",
     "output_type": "stream",
     "text": [
      "\r",
      "                                                                                \r",
      "\r\n",
      "\r\n",
      "\r",
      "sub-MSSM_rec-uncombined9_T2starw.nii.gz:  61%|▌| 577k/949k [00:00<00:00, 5.57MB/\u001b[A\u001b[A\r",
      "sub-MSSM_acq-coilQaSagLarge_SNR.nii.gz:   0%|       | 0.00/3.94M [00:00<?, ?B/s]"
     ]
    },
    {
     "name": "stdout",
     "output_type": "stream",
     "text": [
      "\r\n",
      "\r\n",
      "\r",
      "                                                                                \u001b[A\u001b[A\r\n",
      "\r",
      "sub-MSSM_acq-coilQaSagSmall_GFactor.json:   0%|     | 0.00/2.14k [00:00<?, ?B/s]\u001b[A\r\n",
      "\r",
      "                                                                                \u001b[A"
     ]
    },
    {
     "name": "stdout",
     "output_type": "stream",
     "text": [
      "\r\n",
      "\r",
      "sub-MSSM_acq-coilQaSagSmall_GFactor.nii.gz:   0%|   | 0.00/4.19M [00:00<?, ?B/s]\u001b[A\r\n",
      "\r\n",
      "\r",
      "sub-MSSM_acq-coilQaTra_GFactor.json:   0%|          | 0.00/2.05k [00:00<?, ?B/s]\u001b[A\u001b[A\r\n",
      "\r\n",
      "\r",
      "                                                                                \u001b[A\u001b[A\r",
      "sub-MSSM_acq-coilQaSagLarge_SNR.nii.gz:  16%|▏| 662k/3.94M [00:00<00:00, 6.75MB/"
     ]
    },
    {
     "name": "stdout",
     "output_type": "stream",
     "text": [
      "\r\n",
      "\r\n",
      "\r",
      "sub-MSSM_acq-coilQaTra_GFactor.nii.gz:   0%|        | 0.00/16.8M [00:00<?, ?B/s]\u001b[A\u001b[A\r\n",
      "\r",
      "sub-MSSM_acq-coilQaSagSmall_GFactor.nii.gz:  18%|▏| 786k/4.19M [00:00<00:00, 8.0\u001b[A\r",
      "sub-MSSM_acq-coilQaSagLarge_SNR.nii.gz:  49%|▍| 1.92M/3.94M [00:00<00:00, 10.6MB\r\n",
      "\r\n",
      "\r\n",
      "\r",
      "sub-MSSM_acq-famp-1.5_TB1DREAM.json:   0%|          | 0.00/2.10k [00:00<?, ?B/s]\u001b[A\u001b[A\u001b[A\r\n",
      "\r\n",
      "\r\n",
      "\r",
      "                                                                                \u001b[A\u001b[A\u001b[A"
     ]
    },
    {
     "name": "stdout",
     "output_type": "stream",
     "text": [
      "\r\n",
      "\r\n",
      "\r\n",
      "\r",
      "sub-MSSM_acq-famp-0.66_TB1DREAM.json:   0%|         | 0.00/2.10k [00:00<?, ?B/s]\u001b[A\u001b[A\u001b[A\r\n",
      "\r\n",
      "\r\n",
      "\r",
      "                                                                                \u001b[A\u001b[A\u001b[A"
     ]
    },
    {
     "name": "stdout",
     "output_type": "stream",
     "text": [
      "\r\n",
      "\r\n",
      "\r",
      "sub-MSSM_acq-coilQaTra_GFactor.nii.gz:   2%| | 261k/16.8M [00:00<00:06, 2.66MB/s\u001b[A\u001b[A"
     ]
    },
    {
     "name": "stdout",
     "output_type": "stream",
     "text": [
      "\r",
      "sub-MSSM_acq-coilQaSagLarge_SNR.nii.gz:  74%|▋| 2.93M/3.94M [00:00<00:00, 9.62MB\r\n",
      "\r",
      "sub-MSSM_acq-coilQaSagSmall_GFactor.nii.gz:  37%|▎| 1.53M/4.19M [00:00<00:00, 6.\u001b[A\r\n",
      "\r\n",
      "\r\n",
      "\r",
      "sub-MSSM_acq-famp-1.5_TB1DREAM.nii.gz:   0%|        | 0.00/89.9k [00:00<?, ?B/s]\u001b[A\u001b[A\u001b[A"
     ]
    },
    {
     "name": "stdout",
     "output_type": "stream",
     "text": [
      "\r\n",
      "\r\n",
      "\r\n",
      "\r",
      "                                                                                \u001b[A\u001b[A\u001b[A\r\n",
      "\r\n",
      "\r",
      "sub-MSSM_acq-coilQaTra_GFactor.nii.gz:   7%| | 1.13M/16.8M [00:00<00:02, 5.98MB/\u001b[A\u001b[A\r",
      "                                                                                \r"
     ]
    },
    {
     "name": "stdout",
     "output_type": "stream",
     "text": [
      "\r",
      "sub-MSSM_acq-famp-0.66_TB1DREAM.nii.gz:   0%|       | 0.00/89.1k [00:00<?, ?B/s]\r\n",
      "\r",
      "sub-MSSM_acq-coilQaSagSmall_GFactor.nii.gz:  52%|▌| 2.18M/4.19M [00:00<00:00, 6.\u001b[A"
     ]
    },
    {
     "name": "stdout",
     "output_type": "stream",
     "text": [
      "\r",
      "                                                                                \r"
     ]
    },
    {
     "name": "stdout",
     "output_type": "stream",
     "text": [
      "\r",
      "sub-MSSM_acq-famp_TB1DREAM.json:   0%|              | 0.00/2.10k [00:00<?, ?B/s]\r",
      "                                                                                \r",
      "\r\n",
      "\r\n",
      "\r",
      "sub-MSSM_acq-coilQaTra_GFactor.nii.gz:  10%| | 1.70M/16.8M [00:00<00:02, 5.76MB/\u001b[A\u001b[A\r",
      "sub-MSSM_acq-famp_TB1DREAM.nii.gz:   0%|            | 0.00/89.8k [00:00<?, ?B/s]\r\n"
     ]
    },
    {
     "name": "stdout",
     "output_type": "stream",
     "text": [
      "\r",
      "sub-MSSM_acq-coilQaSagSmall_GFactor.nii.gz:  66%|▋| 2.78M/4.19M [00:00<00:00, 6.\u001b[A\r",
      "                                                                                \r"
     ]
    },
    {
     "name": "stdout",
     "output_type": "stream",
     "text": [
      "\r\n",
      "\r\n",
      "\r",
      "sub-MSSM_acq-coilQaTra_GFactor.nii.gz:  16%|▏| 2.67M/16.8M [00:00<00:02, 7.33MB/\u001b[A\u001b[A\r",
      "sub-MSSM_acq-famp_TB1TFL.json:   0%|                | 0.00/2.50k [00:00<?, ?B/s]\r\n",
      "\r\n",
      "\r\n",
      "\r",
      "sub-MSSM_acq-refv-0.66_TB1DREAM.json:   0%|         | 0.00/2.12k [00:00<?, ?B/s]\u001b[A\u001b[A\u001b[A\r",
      "                                                                                \r",
      "\r\n",
      "\r\n",
      "\r\n",
      "\r",
      "                                                                                \u001b[A\u001b[A\u001b[A"
     ]
    },
    {
     "name": "stdout",
     "output_type": "stream",
     "text": [
      "\r\n",
      "\r",
      "sub-MSSM_acq-coilQaSagSmall_GFactor.nii.gz:  80%|▊| 3.37M/4.19M [00:00<00:00, 5.\u001b[A"
     ]
    },
    {
     "name": "stdout",
     "output_type": "stream",
     "text": [
      "\r\n",
      "\r\n",
      "\r",
      "sub-MSSM_acq-coilQaTra_GFactor.nii.gz:  21%|▏| 3.51M/16.8M [00:00<00:01, 7.84MB/\u001b[A\u001b[A\r\n",
      "\r",
      "                                                                                \u001b[A\r",
      "sub-MSSM_acq-refv_TB1DREAM.json:   0%|              | 0.00/2.12k [00:00<?, ?B/s]\r",
      "                                                                                \r"
     ]
    },
    {
     "name": "stdout",
     "output_type": "stream",
     "text": [
      "\r",
      "sub-MSSM_acq-refv-0.66_TB1DREAM.nii.gz:   0%|       | 0.00/87.2k [00:00<?, ?B/s]\r\n",
      "\r",
      "sub-MSSM_acq-famp_TB1TFL.nii.gz:   0%|               | 0.00/809k [00:00<?, ?B/s]\u001b[A\r",
      "                                                                                \r"
     ]
    },
    {
     "name": "stdout",
     "output_type": "stream",
     "text": [
      "\r\n",
      "\r\n",
      "\r",
      "sub-MSSM_acq-coilQaTra_GFactor.nii.gz:  27%|▎| 4.48M/16.8M [00:00<00:01, 7.95MB/\u001b[A\u001b[A\r",
      "sub-MSSM_acq-refv-1.5_TB1DREAM.json:   0%|          | 0.00/2.12k [00:00<?, ?B/s]\r",
      "                                                                                \r"
     ]
    },
    {
     "name": "stdout",
     "output_type": "stream",
     "text": [
      "\r\n",
      "\r",
      "sub-MSSM_acq-famp_TB1TFL.nii.gz:  40%|██▊    | 321k/809k [00:00<00:00, 3.28MB/s]\u001b[A"
     ]
    },
    {
     "name": "stdout",
     "output_type": "stream",
     "text": [
      "\r\n",
      "\r",
      "                                                                                \u001b[A\r\n",
      "\r\n",
      "\r",
      "sub-MSSM_acq-coilQaTra_GFactor.nii.gz:  38%|▍| 6.32M/16.8M [00:00<00:01, 10.6MB/\u001b[A\u001b[A\r",
      "sub-MSSM_acq-refv-1.5_TB1DREAM.nii.gz:   0%|        | 0.00/90.7k [00:00<?, ?B/s]"
     ]
    },
    {
     "name": "stdout",
     "output_type": "stream",
     "text": [
      "\r\n",
      "\r",
      "sub-MSSM_acq-refv_TB1DREAM.nii.gz:   0%|            | 0.00/89.8k [00:00<?, ?B/s]\u001b[A\r",
      "                                                                                \r",
      "\r",
      "sub-NTNU_T2starw.json:   0%|                        | 0.00/2.47k [00:00<?, ?B/s]\r",
      "                                                                                \r"
     ]
    },
    {
     "name": "stdout",
     "output_type": "stream",
     "text": [
      "\r\n",
      "\r",
      "                                                                                \u001b[A"
     ]
    },
    {
     "name": "stdout",
     "output_type": "stream",
     "text": [
      "\r\n",
      "\r\n",
      "\r",
      "sub-MSSM_acq-coilQaTra_GFactor.nii.gz:  45%|▍| 7.54M/16.8M [00:00<00:00, 10.6MB/\u001b[A\u001b[A\r",
      "sub-NTNU_T2starw.nii.gz:   0%|                      | 0.00/1.18M [00:00<?, ?B/s]"
     ]
    },
    {
     "name": "stdout",
     "output_type": "stream",
     "text": [
      "\r\n",
      "\r",
      "sub-NTNU_rec-uncombined01_T2starw.json:   0%|       | 0.00/2.49k [00:00<?, ?B/s]\u001b[A\r\n",
      "\r",
      "                                                                                \u001b[A"
     ]
    },
    {
     "name": "stdout",
     "output_type": "stream",
     "text": [
      "\r\n",
      "\r",
      "sub-NTNU_rec-uncombined01_T2starw.nii.gz:   0%|      | 0.00/981k [00:00<?, ?B/s]\u001b[A\r",
      "sub-NTNU_T2starw.nii.gz:  51%|███████       | 611k/1.18M [00:00<00:00, 6.12MB/s]\r\n",
      "\r\n",
      "\r",
      "sub-MSSM_acq-coilQaTra_GFactor.nii.gz:  58%|▌| 9.70M/16.8M [00:01<00:00, 13.7MB/\u001b[A\u001b[A\r\n",
      "\r\n",
      "\r\n",
      "\r",
      "sub-NTNU_rec-uncombined02_T2starw.json:   0%|       | 0.00/2.49k [00:00<?, ?B/s]\u001b[A\u001b[A\u001b[A\r\n",
      "\r\n",
      "\r\n",
      "\r",
      "                                                                                \u001b[A\u001b[A\u001b[A"
     ]
    },
    {
     "name": "stdout",
     "output_type": "stream",
     "text": [
      "\r",
      "                                                                                \r",
      "\r\n",
      "\r",
      "sub-NTNU_rec-uncombined01_T2starw.nii.gz:  43%|▍| 425k/981k [00:00<00:00, 3.57MB\u001b[A\r\n",
      "\r\n",
      "\r",
      "sub-MSSM_acq-coilQaTra_GFactor.nii.gz:  66%|▋| 11.0M/16.8M [00:01<00:00, 12.9MB/\u001b[A\u001b[A\r",
      "sub-NTNU_rec-uncombined02_T2starw.nii.gz:   0%|      | 0.00/939k [00:00<?, ?B/s]"
     ]
    },
    {
     "name": "stdout",
     "output_type": "stream",
     "text": [
      "\r\n",
      "\r",
      "                                                                                \u001b[A"
     ]
    },
    {
     "name": "stdout",
     "output_type": "stream",
     "text": [
      "\r\n",
      "\r",
      "sub-NTNU_rec-uncombined03_T2starw.json:   0%|       | 0.00/2.49k [00:00<?, ?B/s]\u001b[A\r\n",
      "\r",
      "                                                                                \u001b[A\r",
      "sub-NTNU_rec-uncombined02_T2starw.nii.gz:  29%|▎| 272k/939k [00:00<00:00, 2.77MB\r\n",
      "\r",
      "sub-NTNU_rec-uncombined03_T2starw.nii.gz:   0%|      | 0.00/988k [00:00<?, ?B/s]\u001b[A"
     ]
    },
    {
     "name": "stdout",
     "output_type": "stream",
     "text": [
      "\r\n",
      "\r\n",
      "\r",
      "sub-MSSM_acq-coilQaTra_GFactor.nii.gz:  73%|▋| 12.3M/16.8M [00:01<00:00, 12.3MB/\u001b[A\u001b[A"
     ]
    },
    {
     "name": "stdout",
     "output_type": "stream",
     "text": [
      "\r",
      "                                                                                \r",
      "\r",
      "sub-NTNU_rec-uncombined04_T2starw.json:   0%|       | 0.00/2.49k [00:00<?, ?B/s]\r",
      "                                                                                \r"
     ]
    },
    {
     "name": "stdout",
     "output_type": "stream",
     "text": [
      "\r\n",
      "\r",
      "sub-NTNU_rec-uncombined03_T2starw.nii.gz:  51%|▌| 507k/988k [00:00<00:00, 4.41MB\u001b[A\r",
      "sub-NTNU_rec-uncombined04_T2starw.nii.gz:   0%|      | 0.00/975k [00:00<?, ?B/s]\r\n",
      "\r\n",
      "\r",
      "sub-MSSM_acq-coilQaTra_GFactor.nii.gz:  80%|▊| 13.5M/16.8M [00:01<00:00, 11.7MB/\u001b[A\u001b[A"
     ]
    },
    {
     "name": "stdout",
     "output_type": "stream",
     "text": [
      "\r\n",
      "\r",
      "                                                                                \u001b[A"
     ]
    },
    {
     "name": "stdout",
     "output_type": "stream",
     "text": [
      "\r\n",
      "\r",
      "sub-NTNU_rec-uncombined07_T2starw.json:   0%|       | 0.00/2.49k [00:00<?, ?B/s]\u001b[A\r\n",
      "\r\n",
      "\r\n",
      "\r",
      "sub-NTNU_rec-uncombined06_T2starw.nii.gz:   0%|      | 0.00/961k [00:00<?, ?B/s]\u001b[A\u001b[A\u001b[A\r\n",
      "\r",
      "                                                                                \u001b[A\r",
      "sub-NTNU_rec-uncombined04_T2starw.nii.gz:  70%|▋| 680k/975k [00:00<00:00, 5.51MB\r\n",
      "\r\n",
      "\r",
      "sub-MSSM_acq-coilQaTra_GFactor.nii.gz:  87%|▊| 14.6M/16.8M [00:01<00:00, 11.3MB/\u001b[A\u001b[A"
     ]
    },
    {
     "name": "stdout",
     "output_type": "stream",
     "text": [
      "\r",
      "                                                                                \r"
     ]
    },
    {
     "name": "stdout",
     "output_type": "stream",
     "text": [
      "\r\n",
      "\r\n",
      "\r\n",
      "\r",
      "sub-NTNU_rec-uncombined06_T2starw.nii.gz:  34%|▎| 323k/961k [00:00<00:00, 3.26MB\u001b[A\u001b[A\u001b[A\r",
      "sub-NTNU_rec-uncombined05_T2starw.json:   0%|       | 0.00/2.49k [00:00<?, ?B/s]\r",
      "                                                                                \r",
      "\r",
      "sub-NTNU_rec-uncombined06_T2starw.json:   0%|       | 0.00/2.49k [00:00<?, ?B/s]\r",
      "                                                                                \r"
     ]
    },
    {
     "name": "stdout",
     "output_type": "stream",
     "text": [
      "\r\n",
      "\r\n",
      "\r",
      "sub-MSSM_acq-coilQaTra_GFactor.nii.gz:  93%|▉| 15.7M/16.8M [00:01<00:00, 9.87MB/\u001b[A\u001b[A"
     ]
    },
    {
     "name": "stdout",
     "output_type": "stream",
     "text": [
      "\r\n",
      "\r\n",
      "\r\n",
      "\r",
      "sub-NTNU_rec-uncombined06_T2starw.nii.gz:  85%|▊| 815k/961k [00:00<00:00, 4.29MB\u001b[A\u001b[A\u001b[A\r\n",
      "\r\n",
      "\r\n",
      "\r",
      "                                                                                \u001b[A\u001b[A\u001b[A\r",
      "sub-NTNU_rec-uncombined08_T2starw.json:   0%|       | 0.00/2.49k [00:00<?, ?B/s]\r",
      "                                                                                \r"
     ]
    },
    {
     "name": "stdout",
     "output_type": "stream",
     "text": [
      "\r",
      "sub-NTNU_rec-uncombined05_T2starw.nii.gz:   0%|      | 0.00/968k [00:00<?, ?B/s]\r\n",
      "\r",
      "sub-NTNU_rec-uncombined07_T2starw.nii.gz:   0%|     | 0.00/0.99M [00:00<?, ?B/s]\u001b[A\r\n",
      "\r\n",
      "\r",
      "                                                                                \u001b[A\u001b[A"
     ]
    },
    {
     "name": "stdout",
     "output_type": "stream",
     "text": [
      "\r\n",
      "\r\n",
      "\r",
      "sub-NTNU_rec-uncombined09_T2starw.json:   0%|       | 0.00/2.49k [00:00<?, ?B/s]\u001b[A\u001b[A\r\n",
      "\r\n",
      "\r",
      "                                                                                \u001b[A\u001b[A"
     ]
    },
    {
     "name": "stdout",
     "output_type": "stream",
     "text": [
      "\r\n",
      "\r",
      "sub-NTNU_rec-uncombined07_T2starw.nii.gz:  58%|▌| 585k/0.99M [00:00<00:00, 5.23M\u001b[A\r",
      "sub-NTNU_rec-uncombined05_T2starw.nii.gz: 100%|▉| 968k/968k [00:00<00:00, 7.97MB\r",
      "                                                                                \r",
      "\r",
      "sub-NTNU_rec-uncombined09_T2starw.nii.gz:   0%|     | 0.00/0.99M [00:00<?, ?B/s]\r\n",
      "\r\n",
      "\r",
      "sub-NTNU_rec-uncombined08_T2starw.nii.gz:   0%|      | 0.00/944k [00:00<?, ?B/s]\u001b[A\u001b[A"
     ]
    },
    {
     "name": "stdout",
     "output_type": "stream",
     "text": [
      "\r\n",
      "\r",
      "                                                                                \u001b[A"
     ]
    },
    {
     "name": "stdout",
     "output_type": "stream",
     "text": [
      "\r",
      "sub-NTNU_rec-uncombined09_T2starw.nii.gz:  28%|▎| 288k/0.99M [00:00<00:00, 2.94M\r\n",
      "\r",
      "sub-NTNU_rec-uncombined10_T2starw.json:   0%|       | 0.00/2.49k [00:00<?, ?B/s]\u001b[A\r\n",
      "\r",
      "                                                                                \u001b[A\r\n",
      "\r",
      "sub-NTNU_rec-uncombined11_T2starw.nii.gz:   0%|     | 0.00/1.01M [00:00<?, ?B/s]\u001b[A\r\n",
      "\r\n",
      "\r",
      "sub-NTNU_rec-uncombined08_T2starw.nii.gz:  26%|▎| 246k/944k [00:00<00:00, 2.49MB\u001b[A\u001b[A"
     ]
    },
    {
     "name": "stdout",
     "output_type": "stream",
     "text": [
      "\r",
      "                                                                                \r"
     ]
    },
    {
     "name": "stdout",
     "output_type": "stream",
     "text": [
      "\r",
      "sub-NTNU_rec-uncombined12_T2starw.json:   0%|       | 0.00/2.49k [00:00<?, ?B/s]\r",
      "                                                                                \r",
      "\r",
      "sub-NTNU_rec-uncombined11_T2starw.json:   0%|       | 0.00/2.49k [00:00<?, ?B/s]\r",
      "                                                                                \r"
     ]
    },
    {
     "name": "stdout",
     "output_type": "stream",
     "text": [
      "\r\n",
      "\r",
      "sub-NTNU_rec-uncombined11_T2starw.nii.gz:  29%|▎| 300k/1.01M [00:00<00:00, 2.43M\u001b[A\r\n",
      "\r\n",
      "\r",
      "sub-NTNU_rec-uncombined08_T2starw.nii.gz:  55%|▌| 522k/944k [00:00<00:00, 2.33MB\u001b[A\u001b[A"
     ]
    },
    {
     "name": "stdout",
     "output_type": "stream",
     "text": [
      "\r\n",
      "\r",
      "                                                                                \u001b[A"
     ]
    },
    {
     "name": "stdout",
     "output_type": "stream",
     "text": [
      "\r",
      "sub-NTNU_rec-uncombined10_T2starw.nii.gz:   0%|      | 0.00/998k [00:00<?, ?B/s]\r\n",
      "\r\n",
      "\r",
      "sub-NTNU_rec-uncombined08_T2starw.nii.gz:  95%|▉| 896k/944k [00:00<00:00, 2.94MB\u001b[A\u001b[A\r\n",
      "\r\n",
      "\r",
      "                                                                                \u001b[A\u001b[A"
     ]
    },
    {
     "name": "stdout",
     "output_type": "stream",
     "text": [
      "\r\n",
      "\r",
      "sub-NTNU_rec-uncombined14_T2starw.json:   0%|       | 0.00/2.49k [00:00<?, ?B/s]\u001b[A\r\n",
      "\r",
      "                                                                                \u001b[A\r\n",
      "\r",
      "sub-NTNU_rec-uncombined13_T2starw.json:   0%|       | 0.00/2.49k [00:00<?, ?B/s]\u001b[A\r\n",
      "\r",
      "                                                                                \u001b[A"
     ]
    },
    {
     "name": "stdout",
     "output_type": "stream",
     "text": [
      "\r",
      "sub-NTNU_rec-uncombined10_T2starw.nii.gz:  17%|▏| 172k/998k [00:00<00:00, 1.61MB\r\n",
      "\r",
      "sub-NTNU_rec-uncombined12_T2starw.nii.gz:   0%|     | 0.00/1.00M [00:00<?, ?B/s]\u001b[A"
     ]
    },
    {
     "name": "stdout",
     "output_type": "stream",
     "text": [
      "\r",
      "                                                                                \r"
     ]
    },
    {
     "name": "stdout",
     "output_type": "stream",
     "text": [
      "\r",
      "sub-NTNU_rec-uncombined15_T2starw.json:   0%|       | 0.00/2.49k [00:00<?, ?B/s]\r",
      "                                                                                \r",
      "\r\n",
      "\r",
      "sub-NTNU_rec-uncombined12_T2starw.nii.gz:  65%|▋| 660k/1.00M [00:00<00:00, 6.23M\u001b[A\r",
      "sub-NTNU_rec-uncombined13_T2starw.nii.gz:   0%|      | 0.00/999k [00:00<?, ?B/s]"
     ]
    },
    {
     "name": "stdout",
     "output_type": "stream",
     "text": [
      "\r\n",
      "\r\n",
      "\r",
      "sub-NTNU_rec-uncombined14_T2starw.nii.gz:   0%|     | 0.00/1.03M [00:00<?, ?B/s]\u001b[A\u001b[A\r\n",
      "\r",
      "                                                                                \u001b[A"
     ]
    },
    {
     "name": "stdout",
     "output_type": "stream",
     "text": [
      "\r\n",
      "\r",
      "sub-NTNU_rec-uncombined17_T2starw.json:   0%|       | 0.00/2.49k [00:00<?, ?B/s]\u001b[A\r\n",
      "\r",
      "                                                                                \u001b[A\r",
      "sub-NTNU_rec-uncombined13_T2starw.nii.gz:  70%|▋| 697k/999k [00:00<00:00, 6.84MB"
     ]
    },
    {
     "name": "stdout",
     "output_type": "stream",
     "text": [
      "\r\n",
      "\r\n",
      "\r",
      "sub-NTNU_rec-uncombined14_T2starw.nii.gz:  33%|▎| 350k/1.03M [00:00<00:00, 3.58M\u001b[A\u001b[A\r\n",
      "\r",
      "sub-NTNU_rec-uncombined16_T2starw.json:   0%|       | 0.00/2.49k [00:00<?, ?B/s]\u001b[A\r\n",
      "\r",
      "                                                                                \u001b[A\r\n",
      "\r",
      "sub-NTNU_rec-uncombined16_T2starw.nii.gz:   0%|      | 0.00/998k [00:00<?, ?B/s]\u001b[A\r",
      "                                                                                \r"
     ]
    },
    {
     "name": "stdout",
     "output_type": "stream",
     "text": [
      "\r\n",
      "\r\n",
      "\r",
      "sub-NTNU_rec-uncombined14_T2starw.nii.gz:  88%|▉| 927k/1.03M [00:00<00:00, 4.95M\u001b[A\u001b[A"
     ]
    },
    {
     "name": "stdout",
     "output_type": "stream",
     "text": [
      "\r\n",
      "\r\n",
      "\r",
      "                                                                                \u001b[A\u001b[A\r",
      "sub-NTNU_rec-uncombined15_T2starw.nii.gz:   0%|     | 0.00/0.99M [00:00<?, ?B/s]\r\n",
      "\r",
      "sub-NTNU_rec-uncombined16_T2starw.nii.gz:  34%|▎| 339k/998k [00:00<00:00, 3.46MB\u001b[A"
     ]
    },
    {
     "name": "stdout",
     "output_type": "stream",
     "text": [
      "\r\n",
      "\r",
      "                                                                                \u001b[A"
     ]
    },
    {
     "name": "stdout",
     "output_type": "stream",
     "text": [
      "\r\n",
      "\r",
      "sub-NTNU_rec-uncombined17_T2starw.nii.gz:   0%|      | 0.00/932k [00:00<?, ?B/s]\u001b[A\r\n",
      "\r\n",
      "\r",
      "sub-NTNU_rec-uncombined19_T2starw.nii.gz:   0%|      | 0.00/971k [00:00<?, ?B/s]\u001b[A\u001b[A\r\n",
      "\r\n",
      "\r\n",
      "\r",
      "sub-NTNU_rec-uncombined19_T2starw.json:   0%|       | 0.00/2.49k [00:00<?, ?B/s]\u001b[A\u001b[A\u001b[A\r\n",
      "\r\n",
      "\r\n",
      "\r",
      "                                                                                \u001b[A\u001b[A\u001b[A"
     ]
    },
    {
     "name": "stdout",
     "output_type": "stream",
     "text": [
      "\r",
      "sub-NTNU_rec-uncombined15_T2starw.nii.gz:  33%|▎| 338k/0.99M [00:00<00:00, 2.90M"
     ]
    },
    {
     "name": "stdout",
     "output_type": "stream",
     "text": [
      "\r\n",
      "\r",
      "sub-NTNU_rec-uncombined17_T2starw.nii.gz:  75%|▋| 696k/932k [00:00<00:00, 7.05MB\u001b[A\r\n",
      "\r\n",
      "\r\n",
      "\r",
      "sub-NTNU_rec-uncombined18_T2starw.json:   0%|       | 0.00/2.49k [00:00<?, ?B/s]\u001b[A\u001b[A\u001b[A\r\n",
      "\r\n",
      "\r\n",
      "\r",
      "                                                                                \u001b[A\u001b[A\u001b[A\r\n",
      "\r\n",
      "\r",
      "sub-NTNU_rec-uncombined19_T2starw.nii.gz:  44%|▍| 425k/971k [00:00<00:00, 3.71MB\u001b[A\u001b[A\r",
      "                                                                                \r"
     ]
    },
    {
     "name": "stdout",
     "output_type": "stream",
     "text": [
      "\r\n",
      "\r",
      "                                                                                \u001b[A"
     ]
    },
    {
     "name": "stdout",
     "output_type": "stream",
     "text": [
      "\r",
      "sub-NTNU_rec-uncombined18_T2starw.nii.gz:   0%|      | 0.00/919k [00:00<?, ?B/s]\r\n",
      "\r\n",
      "\r",
      "                                                                                \u001b[A\u001b[A"
     ]
    },
    {
     "name": "stdout",
     "output_type": "stream",
     "text": [
      "\r\n",
      "\r",
      "sub-NTNU_rec-uncombined20_T2starw.json:   0%|       | 0.00/2.49k [00:00<?, ?B/s]\u001b[A\r\n",
      "\r",
      "                                                                                \u001b[A\r\n",
      "\r",
      "sub-NTNU_rec-uncombined21_T2starw.json:   0%|       | 0.00/2.49k [00:00<?, ?B/s]\u001b[A\r\n",
      "\r",
      "                                                                                \u001b[A"
     ]
    },
    {
     "name": "stdout",
     "output_type": "stream",
     "text": [
      "\r",
      "sub-NTNU_rec-uncombined18_T2starw.nii.gz:  22%|▏| 198k/919k [00:00<00:00, 1.73MB\r\n",
      "\r",
      "sub-NTNU_rec-uncombined22_T2starw.json:   0%|       | 0.00/2.49k [00:00<?, ?B/s]\u001b[A\r\n",
      "\r",
      "                                                                                \u001b[A"
     ]
    },
    {
     "name": "stdout",
     "output_type": "stream",
     "text": [
      "\r\n",
      "\r",
      "sub-NTNU_rec-uncombined21_T2starw.nii.gz:   0%|      | 0.00/949k [00:00<?, ?B/s]\u001b[A"
     ]
    },
    {
     "name": "stdout",
     "output_type": "stream",
     "text": [
      "\r\n",
      "\r\n",
      "\r",
      "sub-NTNU_rec-uncombined24_T2starw.json:   0%|       | 0.00/2.49k [00:00<?, ?B/s]\u001b[A\u001b[A\r\n",
      "\r\n",
      "\r",
      "                                                                                \u001b[A\u001b[A"
     ]
    },
    {
     "name": "stdout",
     "output_type": "stream",
     "text": [
      "\r",
      "sub-NTNU_rec-uncombined18_T2starw.nii.gz:  62%|▌| 572k/919k [00:00<00:00, 2.47MB\r\n",
      "\r\n",
      "\r",
      "sub-NTNU_rec-uncombined22_T2starw.nii.gz:   0%|      | 0.00/948k [00:00<?, ?B/s]\u001b[A\u001b[A\r\n",
      "\r\n",
      "\r\n",
      "\r",
      "sub-NTNU_rec-uncombined20_T2starw.nii.gz:   0%|      | 0.00/947k [00:00<?, ?B/s]\u001b[A\u001b[A\u001b[A\r\n",
      "\r",
      "sub-NTNU_rec-uncombined21_T2starw.nii.gz:  84%|▊| 799k/949k [00:00<00:00, 8.16MB\u001b[A"
     ]
    },
    {
     "name": "stdout",
     "output_type": "stream",
     "text": [
      "\r\n",
      "\r",
      "                                                                                \u001b[A\r",
      "                                                                                \r"
     ]
    },
    {
     "name": "stdout",
     "output_type": "stream",
     "text": [
      "\r",
      "sub-NTNU_rec-uncombined24_T2starw.nii.gz:   0%|      | 0.00/951k [00:00<?, ?B/s]\r\n",
      "\r\n",
      "\r",
      "sub-NTNU_rec-uncombined22_T2starw.nii.gz:  31%|▎| 296k/948k [00:00<00:00, 3.03MB\u001b[A\u001b[A\r\n",
      "\r\n",
      "\r\n",
      "\r",
      "sub-NTNU_rec-uncombined20_T2starw.nii.gz:  30%|▎| 286k/947k [00:00<00:00, 2.92MB\u001b[A\u001b[A\u001b[A"
     ]
    },
    {
     "name": "stdout",
     "output_type": "stream",
     "text": [
      "\r\n",
      "\r\n",
      "\r",
      "                                                                                \u001b[A\u001b[A"
     ]
    },
    {
     "name": "stdout",
     "output_type": "stream",
     "text": [
      "\r\n",
      "\r\n",
      "\r\n",
      "\r",
      "                                                                                \u001b[A\u001b[A\u001b[A\r\n",
      "\r",
      "sub-NTNU_rec-uncombined23_T2starw.json:   0%|       | 0.00/2.49k [00:00<?, ?B/s]\u001b[A\r\n",
      "\r",
      "                                                                                \u001b[A\r",
      "sub-NTNU_rec-uncombined24_T2starw.nii.gz:  53%|▌| 506k/951k [00:00<00:00, 4.14MB\r\n",
      "\r",
      "sub-NTNU_rec-uncombined23_T2starw.nii.gz:   0%|      | 0.00/944k [00:00<?, ?B/s]\u001b[A"
     ]
    },
    {
     "name": "stdout",
     "output_type": "stream",
     "text": [
      "\r",
      "                                                                                \r"
     ]
    },
    {
     "name": "stdout",
     "output_type": "stream",
     "text": [
      "\r",
      "sub-NTNU_acq-anat_TB1TFL.json:   0%|                | 0.00/2.71k [00:00<?, ?B/s]\r",
      "                                                                                \r"
     ]
    },
    {
     "name": "stdout",
     "output_type": "stream",
     "text": [
      "\r\n",
      "\r",
      "sub-NTNU_rec-uncombined23_T2starw.nii.gz:  23%|▏| 221k/944k [00:00<00:00, 1.90MB\u001b[A\r\n",
      "\r",
      "                                                                                \u001b[A"
     ]
    },
    {
     "name": "stdout",
     "output_type": "stream",
     "text": [
      "\r",
      "sub-NTNU_acq-coilQaSagLarge_SNR.json:   0%|         | 0.00/2.21k [00:00<?, ?B/s]\r",
      "                                                                                \r"
     ]
    },
    {
     "name": "stdout",
     "output_type": "stream",
     "text": [
      "\r",
      "sub-NTNU_acq-coilQaSagSmall_GFactor.json:   0%|     | 0.00/2.23k [00:00<?, ?B/s]\r",
      "                                                                                \r",
      "\r",
      "sub-NTNU_acq-coilQaSagLarge_SNR.nii.gz:   0%|       | 0.00/3.93M [00:00<?, ?B/s]\r\n",
      "\r",
      "sub-NTNU_acq-anat_TB1TFL.nii.gz:   0%|               | 0.00/727k [00:00<?, ?B/s]\u001b[A"
     ]
    },
    {
     "name": "stdout",
     "output_type": "stream",
     "text": [
      "\r\n",
      "\r\n",
      "\r",
      "sub-NTNU_acq-coilQaTra_GFactor.json:   0%|          | 0.00/2.12k [00:00<?, ?B/s]\u001b[A\u001b[A\r\n",
      "\r\n",
      "\r",
      "                                                                                \u001b[A\u001b[A"
     ]
    },
    {
     "name": "stdout",
     "output_type": "stream",
     "text": [
      "\r",
      "sub-NTNU_acq-coilQaSagLarge_SNR.nii.gz:   6%| | 221k/3.93M [00:00<00:01, 2.05MB/\r\n",
      "\r",
      "                                                                                \u001b[A"
     ]
    },
    {
     "name": "stdout",
     "output_type": "stream",
     "text": [
      "\r\n",
      "\r",
      "sub-NTNU_acq-coilQaTra_GFactor.nii.gz:   0%|        | 0.00/15.5M [00:00<?, ?B/s]\u001b[A\r\n",
      "\r\n",
      "\r",
      "sub-NTNU_acq-coilQaSagSmall_GFactor.nii.gz:   0%|   | 0.00/3.58M [00:00<?, ?B/s]\u001b[A\u001b[A"
     ]
    },
    {
     "name": "stdout",
     "output_type": "stream",
     "text": [
      "\r",
      "sub-NTNU_acq-coilQaSagLarge_SNR.nii.gz:  12%| | 476k/3.93M [00:00<00:01, 2.36MB/\r\n",
      "\r\n",
      "\r\n",
      "\r",
      "sub-NTNU_acq-famp-0.66_TB1DREAM.nii.gz:   0%|       | 0.00/87.3k [00:00<?, ?B/s]\u001b[A\u001b[A\u001b[A\r\n",
      "\r\n",
      "\r\n",
      "\r\n",
      "\r",
      "sub-NTNU_acq-famp-0.66_TB1DREAM.json:   0%|         | 0.00/2.19k [00:00<?, ?B/s]\u001b[A\u001b[A\u001b[A\u001b[A\r\n",
      "\r\n",
      "\r\n",
      "\r\n",
      "\r",
      "                                                                                \u001b[A\u001b[A\u001b[A\u001b[A"
     ]
    },
    {
     "name": "stdout",
     "output_type": "stream",
     "text": [
      "\r\n",
      "\r\n",
      "\r",
      "sub-NTNU_acq-coilQaSagSmall_GFactor.nii.gz:  29%|▎| 1.03M/3.58M [00:00<00:00, 8.\u001b[A\u001b[A\r\n",
      "\r",
      "sub-NTNU_acq-coilQaTra_GFactor.nii.gz:   6%| | 882k/15.5M [00:00<00:02, 7.45MB/s\u001b[A\r\n",
      "\r\n",
      "\r\n",
      "\r",
      "                                                                                \u001b[A\u001b[A\u001b[A"
     ]
    },
    {
     "name": "stdout",
     "output_type": "stream",
     "text": [
      "\r",
      "sub-NTNU_acq-coilQaSagLarge_SNR.nii.gz:  18%|▏| 714k/3.93M [00:00<00:01, 2.35MB/"
     ]
    },
    {
     "name": "stdout",
     "output_type": "stream",
     "text": [
      "\r\n",
      "\r\n",
      "\r",
      "sub-NTNU_acq-coilQaSagSmall_GFactor.nii.gz:  53%|▌| 1.91M/3.58M [00:00<00:00, 9.\u001b[A\u001b[A\r\n",
      "\r",
      "sub-NTNU_acq-coilQaTra_GFactor.nii.gz:  11%| | 1.74M/15.5M [00:00<00:01, 8.38MB/\u001b[A\r\n",
      "\r\n",
      "\r\n",
      "\r",
      "sub-NTNU_acq-famp_TB1DREAM.json:   0%|              | 0.00/2.18k [00:00<?, ?B/s]\u001b[A\u001b[A\u001b[A\r\n",
      "\r\n",
      "\r\n",
      "\r",
      "                                                                                \u001b[A\u001b[A\u001b[A\r\n",
      "\r\n",
      "\r\n",
      "\r",
      "sub-NTNU_acq-famp-1.5_TB1DREAM.json:   0%|          | 0.00/2.19k [00:00<?, ?B/s]\u001b[A\u001b[A\u001b[A\r\n",
      "\r\n",
      "\r\n",
      "\r",
      "                                                                                \u001b[A\u001b[A\u001b[A"
     ]
    },
    {
     "name": "stdout",
     "output_type": "stream",
     "text": [
      "\r",
      "sub-NTNU_acq-coilQaSagLarge_SNR.nii.gz:  28%|▎| 1.11M/3.93M [00:00<00:00, 3.03MB"
     ]
    },
    {
     "name": "stdout",
     "output_type": "stream",
     "text": [
      "\r\n",
      "\r\n",
      "\r",
      "sub-NTNU_acq-coilQaSagSmall_GFactor.nii.gz:  78%|▊| 2.79M/3.58M [00:00<00:00, 8.\u001b[A\u001b[A"
     ]
    },
    {
     "name": "stdout",
     "output_type": "stream",
     "text": [
      "\r\n",
      "\r",
      "sub-NTNU_acq-coilQaTra_GFactor.nii.gz:  16%|▏| 2.56M/15.5M [00:00<00:01, 7.36MB/\u001b[A\r\n",
      "\r\n",
      "\r\n",
      "\r",
      "sub-NTNU_acq-famp_TB1TFL.json:   0%|                | 0.00/2.73k [00:00<?, ?B/s]\u001b[A\u001b[A\u001b[A\r\n",
      "\r\n",
      "\r\n",
      "\r",
      "                                                                                \u001b[A\u001b[A\u001b[A\r",
      "sub-NTNU_acq-coilQaSagLarge_SNR.nii.gz:  42%|▍| 1.66M/3.93M [00:00<00:00, 3.68MB"
     ]
    },
    {
     "name": "stdout",
     "output_type": "stream",
     "text": [
      "\r\n",
      "\r\n",
      "\r",
      "                                                                                \u001b[A\u001b[A\r\n",
      "\r\n"
     ]
    },
    {
     "name": "stdout",
     "output_type": "stream",
     "text": [
      "\r",
      "sub-NTNU_acq-famp_TB1DREAM.nii.gz:   0%|            | 0.00/88.2k [00:00<?, ?B/s]\u001b[A\u001b[A\r\n",
      "\r\n",
      "\r",
      "                                                                                \u001b[A\u001b[A"
     ]
    },
    {
     "name": "stdout",
     "output_type": "stream",
     "text": [
      "\r",
      "sub-NTNU_acq-coilQaSagLarge_SNR.nii.gz:  56%|▌| 2.21M/3.93M [00:00<00:00, 4.14MB\r\n",
      "\r",
      "sub-NTNU_acq-coilQaTra_GFactor.nii.gz:  21%|▏| 3.28M/15.5M [00:00<00:02, 6.22MB/\u001b[A\r\n",
      "\r\n",
      "\r",
      "sub-NTNU_acq-refv-1.5_TB1DREAM.json:   0%|          | 0.00/2.20k [00:00<?, ?B/s]\u001b[A\u001b[A\r\n",
      "\r\n",
      "\r\n",
      "\r",
      "sub-NTNU_acq-famp-1.5_TB1DREAM.nii.gz:   0%|        | 0.00/89.8k [00:00<?, ?B/s]\u001b[A\u001b[A\u001b[A\r\n",
      "\r\n",
      "\r",
      "                                                                                \u001b[A\u001b[A"
     ]
    },
    {
     "name": "stdout",
     "output_type": "stream",
     "text": [
      "\r\n",
      "\r\n",
      "\r\n",
      "\r",
      "                                                                                \u001b[A\u001b[A\u001b[A\r\n",
      "\r\n",
      "\r",
      "sub-NTNU_acq-refv-1.5_TB1DREAM.nii.gz:   0%|        | 0.00/93.4k [00:00<?, ?B/s]\u001b[A\u001b[A"
     ]
    },
    {
     "name": "stdout",
     "output_type": "stream",
     "text": [
      "\r",
      "sub-NTNU_acq-coilQaSagLarge_SNR.nii.gz:  74%|▋| 2.92M/3.93M [00:00<00:00, 4.81MB\r\n",
      "\r",
      "sub-NTNU_acq-coilQaTra_GFactor.nii.gz:  31%|▎| 4.84M/15.5M [00:00<00:01, 8.77MB/\u001b[A\r\n",
      "\r\n",
      "\r",
      "                                                                                \u001b[A\u001b[A"
     ]
    },
    {
     "name": "stdout",
     "output_type": "stream",
     "text": [
      "\r\n",
      "\r\n",
      "\r",
      "sub-NTNU_acq-refv-0.66_TB1DREAM.json:   0%|         | 0.00/2.20k [00:00<?, ?B/s]\u001b[A\u001b[A\r\n",
      "\r\n",
      "\r",
      "                                                                                \u001b[A\u001b[A\r\n",
      "\r\n",
      "\r",
      "sub-NTNU_acq-famp_TB1TFL.nii.gz:   0%|               | 0.00/910k [00:00<?, ?B/s]\u001b[A\u001b[A\r\n",
      "\r",
      "sub-NTNU_acq-coilQaTra_GFactor.nii.gz:  41%|▍| 6.34M/15.5M [00:00<00:00, 10.1MB/\u001b[A"
     ]
    },
    {
     "name": "stdout",
     "output_type": "stream",
     "text": [
      "\r",
      "sub-NTNU_acq-coilQaSagLarge_SNR.nii.gz:  96%|▉| 3.79M/3.93M [00:00<00:00, 5.60MB\r",
      "                                                                                \r",
      "\r",
      "sub-NTNU_acq-refv-0.66_TB1DREAM.nii.gz:   0%|       | 0.00/81.5k [00:00<?, ?B/s]"
     ]
    },
    {
     "name": "stdout",
     "output_type": "stream",
     "text": [
      "\r",
      "                                                                                \r",
      "\r\n",
      "\r\n",
      "\r",
      "sub-NTNU_acq-famp_TB1TFL.nii.gz:  45%|███▏   | 408k/910k [00:00<00:00, 3.33MB/s]\u001b[A\u001b[A"
     ]
    },
    {
     "name": "stdout",
     "output_type": "stream",
     "text": [
      "\r\n",
      "\r",
      "sub-NTNU_acq-coilQaTra_GFactor.nii.gz:  47%|▍| 7.34M/15.5M [00:00<00:00, 10.1MB/\u001b[A\r\n",
      "\r\n",
      "\r",
      "                                                                                \u001b[A\u001b[A"
     ]
    },
    {
     "name": "stdout",
     "output_type": "stream",
     "text": [
      "\r",
      "sub-NTNU_acq-refv_TB1DREAM.nii.gz:   0%|            | 0.00/86.1k [00:00<?, ?B/s]\r\n",
      "\r\n",
      "\r",
      "sub-NTNU_acq-refv_TB1DREAM.json:   0%|              | 0.00/2.19k [00:00<?, ?B/s]\u001b[A\u001b[A\r\n",
      "\r\n",
      "\r\n",
      "\r",
      "sub-UCL_T2starw.nii.gz:   0%|                       | 0.00/1.01M [00:00<?, ?B/s]\u001b[A\u001b[A\u001b[A\r\n",
      "\r\n",
      "\r",
      "                                                                                \u001b[A\u001b[A\r",
      "                                                                                \r"
     ]
    },
    {
     "name": "stdout",
     "output_type": "stream",
     "text": [
      "\r\n",
      "\r",
      "sub-NTNU_acq-coilQaTra_GFactor.nii.gz:  54%|▌| 8.40M/15.5M [00:00<00:00, 9.66MB/\u001b[A"
     ]
    },
    {
     "name": "stdout",
     "output_type": "stream",
     "text": [
      "\r\n",
      "\r\n",
      "\r\n",
      "\r",
      "sub-UCL_T2starw.nii.gz:  51%|███████▌       | 524k/1.01M [00:00<00:00, 5.36MB/s]\u001b[A\u001b[A\u001b[A"
     ]
    },
    {
     "name": "stdout",
     "output_type": "stream",
     "text": [
      "\r\n",
      "\r\n",
      "\r\n",
      "\r",
      "                                                                                \u001b[A\u001b[A\u001b[A"
     ]
    },
    {
     "name": "stdout",
     "output_type": "stream",
     "text": [
      "\r\n",
      "\r",
      "sub-NTNU_acq-coilQaTra_GFactor.nii.gz:  65%|▋| 10.1M/15.5M [00:01<00:00, 11.1MB/\u001b[A\r",
      "sub-UCL_rec-uncombined1_T2starw.json:   0%|         | 0.00/2.46k [00:00<?, ?B/s]\r\n",
      "\r\n",
      "\r",
      "sub-UCL_T2starw.json:   0%|                         | 0.00/2.45k [00:00<?, ?B/s]\u001b[A\u001b[A\r",
      "                                                                                \r",
      "\r\n",
      "\r\n",
      "\r",
      "                                                                                \u001b[A\u001b[A"
     ]
    },
    {
     "name": "stdout",
     "output_type": "stream",
     "text": [
      "\r",
      "sub-UCL_rec-uncombined1_T2starw.nii.gz:   0%|        | 0.00/860k [00:00<?, ?B/s]\r\n",
      "\r",
      "sub-NTNU_acq-coilQaTra_GFactor.nii.gz:  73%|▋| 11.4M/15.5M [00:01<00:00, 11.6MB/\u001b[A"
     ]
    },
    {
     "name": "stdout",
     "output_type": "stream",
     "text": [
      "\r",
      "sub-UCL_rec-uncombined1_T2starw.nii.gz:  43%|▍| 369k/860k [00:00<00:00, 3.72MB/s\r\n",
      "\r\n",
      "\r",
      "sub-UCL_rec-uncombined3_T2starw.nii.gz:   0%|        | 0.00/813k [00:00<?, ?B/s]\u001b[A\u001b[A\r\n",
      "\r\n",
      "\r\n",
      "\r",
      "sub-UCL_rec-uncombined2_T2starw.json:   0%|         | 0.00/2.46k [00:00<?, ?B/s]\u001b[A\u001b[A\u001b[A\r\n",
      "\r\n",
      "\r\n",
      "\r",
      "                                                                                \u001b[A\u001b[A\u001b[A"
     ]
    },
    {
     "name": "stdout",
     "output_type": "stream",
     "text": [
      "\r\n",
      "\r",
      "sub-NTNU_acq-coilQaTra_GFactor.nii.gz:  99%|▉| 15.3M/15.5M [00:01<00:00, 18.9MB/\u001b[A\r\n",
      "\r\n",
      "\r\n",
      "\r",
      "sub-UCL_rec-uncombined3_T2starw.json:   0%|         | 0.00/2.46k [00:00<?, ?B/s]\u001b[A\u001b[A\u001b[A\r\n",
      "\r\n",
      "\r\n",
      "\r",
      "                                                                                \u001b[A\u001b[A\u001b[A"
     ]
    },
    {
     "name": "stdout",
     "output_type": "stream",
     "text": [
      "\r\n",
      "\r",
      "                                                                                \u001b[A\r\n",
      "\r\n",
      "\r",
      "sub-UCL_rec-uncombined3_T2starw.nii.gz:  21%|▏| 169k/813k [00:00<00:00, 1.57MB/s\u001b[A\u001b[A"
     ]
    },
    {
     "name": "stdout",
     "output_type": "stream",
     "text": [
      "\r",
      "sub-UCL_rec-uncombined1_T2starw.nii.gz:  86%|▊| 742k/860k [00:00<00:00, 2.94MB/s\r\n",
      "\r\n",
      "\r",
      "                                                                                \u001b[A\u001b[A"
     ]
    },
    {
     "name": "stdout",
     "output_type": "stream",
     "text": [
      "\r\n",
      "\r",
      "sub-UCL_rec-uncombined4_T2starw.json:   0%|         | 0.00/2.46k [00:00<?, ?B/s]\u001b[A\r\n",
      "\r",
      "                                                                                \u001b[A\r",
      "                                                                                \r"
     ]
    },
    {
     "name": "stdout",
     "output_type": "stream",
     "text": [
      "\r",
      "sub-UCL_rec-uncombined6_T2starw.json:   0%|         | 0.00/2.46k [00:00<?, ?B/s]\r\n",
      "\r",
      "sub-UCL_rec-uncombined2_T2starw.nii.gz:   0%|        | 0.00/841k [00:00<?, ?B/s]\u001b[A\r",
      "                                                                                \r"
     ]
    },
    {
     "name": "stdout",
     "output_type": "stream",
     "text": [
      "\r\n",
      "\r",
      "                                                                                \u001b[A"
     ]
    },
    {
     "name": "stdout",
     "output_type": "stream",
     "text": [
      "\r",
      "sub-UCL_rec-uncombined5_T2starw.json:   0%|         | 0.00/2.46k [00:00<?, ?B/s]\r",
      "                                                                                \r"
     ]
    },
    {
     "name": "stdout",
     "output_type": "stream",
     "text": [
      "\r",
      "sub-UCL_rec-uncombined4_T2starw.nii.gz:   0%|        | 0.00/796k [00:00<?, ?B/s]\r\n",
      "\r",
      "sub-UCL_rec-uncombined5_T2starw.nii.gz:   0%|        | 0.00/935k [00:00<?, ?B/s]\u001b[A\r\n",
      "\r\n",
      "\r",
      "sub-UCL_rec-uncombined7_T2starw.nii.gz:   0%|        | 0.00/788k [00:00<?, ?B/s]\u001b[A\u001b[A"
     ]
    },
    {
     "name": "stdout",
     "output_type": "stream",
     "text": [
      "\r",
      "                                                                                \r"
     ]
    },
    {
     "name": "stdout",
     "output_type": "stream",
     "text": [
      "\r",
      "sub-UCL_rec-uncombined8_T2starw.nii.gz:   0%|        | 0.00/782k [00:00<?, ?B/s]\r\n",
      "\r",
      "sub-UCL_rec-uncombined5_T2starw.nii.gz:  35%|▎| 325k/935k [00:00<00:00, 3.32MB/s\u001b[A\r\n",
      "\r\n",
      "\r\n",
      "\r",
      "sub-UCL_rec-uncombined6_T2starw.nii.gz:   0%|        | 0.00/821k [00:00<?, ?B/s]\u001b[A\u001b[A\u001b[A\r\n",
      "\r\n",
      "\r",
      "sub-UCL_rec-uncombined7_T2starw.nii.gz:  29%|▎| 232k/788k [00:00<00:00, 2.34MB/s\u001b[A\u001b[A"
     ]
    },
    {
     "name": "stdout",
     "output_type": "stream",
     "text": [
      "\r\n",
      "\r\n",
      "\r\n",
      "\r\n",
      "\r",
      "sub-UCL_rec-uncombined7_T2starw.json:   0%|         | 0.00/2.46k [00:00<?, ?B/s]\u001b[A\u001b[A\u001b[A\u001b[A\r\n",
      "\r\n",
      "\r\n",
      "\r\n",
      "\r",
      "                                                                                \u001b[A\u001b[A\u001b[A\u001b[A"
     ]
    },
    {
     "name": "stdout",
     "output_type": "stream",
     "text": [
      "\r",
      "sub-UCL_rec-uncombined8_T2starw.nii.gz:  87%|▊| 677k/782k [00:00<00:00, 6.68MB/s\r\n",
      "\r",
      "sub-UCL_rec-uncombined5_T2starw.nii.gz:  82%|▊| 766k/935k [00:00<00:00, 3.99MB/s\u001b[A\r",
      "                                                                                \r",
      "\r\n",
      "\r\n",
      "\r\n",
      "\r",
      "sub-UCL_rec-uncombined6_T2starw.nii.gz:  43%|▍| 350k/821k [00:00<00:00, 3.58MB/s\u001b[A\u001b[A\u001b[A"
     ]
    },
    {
     "name": "stdout",
     "output_type": "stream",
     "text": [
      "\r\n",
      "\r\n",
      "\r",
      "sub-UCL_rec-uncombined7_T2starw.nii.gz:  60%|▌| 470k/788k [00:00<00:00, 2.15MB/s\u001b[A\u001b[A\r\n",
      "\r",
      "                                                                                \u001b[A"
     ]
    },
    {
     "name": "stdout",
     "output_type": "stream",
     "text": [
      "\r\n",
      "\r\n",
      "\r\n",
      "\r",
      "sub-UCL_rec-uncombined6_T2starw.nii.gz:  86%|▊| 706k/821k [00:00<00:00, 3.59MB/s\u001b[A\u001b[A\u001b[A\r\n",
      "\r\n",
      "\r\n",
      "\r",
      "                                                                                \u001b[A\u001b[A\u001b[A"
     ]
    },
    {
     "name": "stdout",
     "output_type": "stream",
     "text": [
      "\r\n",
      "\r\n",
      "\r",
      "                                                                                \u001b[A\u001b[A\r",
      "sub-UCL_rec-uncombined8_T2starw.json:   0%|         | 0.00/2.46k [00:00<?, ?B/s]\r",
      "                                                                                \r"
     ]
    },
    {
     "name": "stdout",
     "output_type": "stream",
     "text": [
      "\r",
      "sub-UCL_acq-anat_TB1TFL.nii.gz:   0%|                | 0.00/847k [00:00<?, ?B/s]"
     ]
    },
    {
     "name": "stdout",
     "output_type": "stream",
     "text": [
      "\r\n",
      "\r",
      "sub-UCL_acq-coilQaSagLarge_SNR.nii.gz:   0%|        | 0.00/3.76M [00:00<?, ?B/s]\u001b[A\r\n",
      "\r\n",
      "\r",
      "sub-UCL_acq-anat_TB1TFL.json:   0%|                 | 0.00/2.68k [00:00<?, ?B/s]\u001b[A\u001b[A\r\n",
      "\r\n",
      "\r",
      "                                                                                \u001b[A\u001b[A"
     ]
    },
    {
     "name": "stdout",
     "output_type": "stream",
     "text": [
      "\r\n",
      "\r\n",
      "\r",
      "sub-UCL_acq-coilQaSagLarge_SNR.json:   0%|          | 0.00/2.18k [00:00<?, ?B/s]\u001b[A\u001b[A\r\n",
      "\r\n",
      "\r",
      "                                                                                \u001b[A\u001b[A\r",
      "sub-UCL_acq-anat_TB1TFL.nii.gz:  92%|███████▎| 779k/847k [00:00<00:00, 7.81MB/s]\r\n",
      "\r\n",
      "\r",
      "sub-UCL_acq-coilQaSagSmall_GFactor.json:   0%|      | 0.00/2.20k [00:00<?, ?B/s]\u001b[A\u001b[A\r\n",
      "\r\n",
      "\r",
      "                                                                                \u001b[A\u001b[A"
     ]
    },
    {
     "name": "stdout",
     "output_type": "stream",
     "text": [
      "\r\n",
      "\r",
      "sub-UCL_acq-coilQaSagLarge_SNR.nii.gz:   5%| | 175k/3.76M [00:00<00:02, 1.77MB/s\u001b[A\r",
      "                                                                                \r"
     ]
    },
    {
     "name": "stdout",
     "output_type": "stream",
     "text": [
      "\r\n",
      "\r",
      "sub-UCL_acq-coilQaSagLarge_SNR.nii.gz:  26%|▎| 0.98M/3.76M [00:00<00:00, 5.71MB/\u001b[A\r",
      "sub-UCL_acq-coilQaSagSmall_GFactor.nii.gz:   0%|    | 0.00/2.64M [00:00<?, ?B/s]"
     ]
    },
    {
     "name": "stdout",
     "output_type": "stream",
     "text": [
      "\r\n",
      "\r\n",
      "\r",
      "sub-UCL_acq-famp-0.66_TB1DREAM.json:   0%|          | 0.00/2.16k [00:00<?, ?B/s]\u001b[A\u001b[A\r\n",
      "\r\n",
      "\r",
      "                                                                                \u001b[A\u001b[A\r\n",
      "\r\n",
      "\r",
      "sub-UCL_acq-famp-0.66_TB1DREAM.nii.gz:   0%|        | 0.00/90.9k [00:00<?, ?B/s]\u001b[A\u001b[A"
     ]
    },
    {
     "name": "stdout",
     "output_type": "stream",
     "text": [
      "\r\n",
      "\r",
      "sub-UCL_acq-coilQaSagLarge_SNR.nii.gz:  69%|▋| 2.59M/3.76M [00:00<00:00, 10.8MB/\u001b[A\r\n",
      "\r\n",
      "\r",
      "                                                                                \u001b[A\u001b[A\r",
      "sub-UCL_acq-coilQaSagSmall_GFactor.nii.gz:  18%|▏| 478k/2.64M [00:00<00:00, 4.44"
     ]
    },
    {
     "name": "stdout",
     "output_type": "stream",
     "text": [
      "\r\n",
      "\r\n",
      "\r",
      "sub-UCL_acq-coilQaTra_GFactor.nii.gz:   0%|         | 0.00/11.7M [00:00<?, ?B/s]\u001b[A\u001b[A"
     ]
    },
    {
     "name": "stdout",
     "output_type": "stream",
     "text": [
      "\r\n",
      "\r\n",
      "\r\n",
      "\r",
      "sub-UCL_acq-famp-1.5_TB1DREAM.json:   0%|           | 0.00/2.16k [00:00<?, ?B/s]\u001b[A\u001b[A\u001b[A\r\n",
      "\r\n",
      "\r\n",
      "\r\n",
      "\r",
      "sub-UCL_acq-coilQaTra_GFactor.json:   0%|           | 0.00/2.10k [00:00<?, ?B/s]\u001b[A\u001b[A\u001b[A\u001b[A\r\n",
      "\r\n",
      "\r\n",
      "\r",
      "                                                                                \u001b[A\u001b[A\u001b[A\r\n",
      "\r\n",
      "\r\n",
      "\r\n",
      "\r",
      "                                                                                \u001b[A\u001b[A\u001b[A\u001b[A"
     ]
    },
    {
     "name": "stdout",
     "output_type": "stream",
     "text": [
      "\r",
      "sub-UCL_acq-coilQaSagSmall_GFactor.nii.gz:  49%|▍| 1.28M/2.64M [00:00<00:00, 5.8\r\n",
      "\r\n",
      "\r",
      "sub-UCL_acq-coilQaTra_GFactor.nii.gz:   2%| | 235k/11.7M [00:00<00:05, 2.18MB/s]\u001b[A\u001b[A\r\n",
      "\r",
      "sub-UCL_acq-coilQaSagLarge_SNR.nii.gz:  97%|▉| 3.63M/3.76M [00:00<00:00, 8.35MB/\u001b[A\r\n",
      "\r",
      "                                                                                \u001b[A"
     ]
    },
    {
     "name": "stdout",
     "output_type": "stream",
     "text": [
      "\r\n",
      "\r",
      "sub-UCL_acq-famp_TB1DREAM.json:   0%|               | 0.00/2.14k [00:00<?, ?B/s]\u001b[A\r\n",
      "\r",
      "                                                                                \u001b[A"
     ]
    },
    {
     "name": "stdout",
     "output_type": "stream",
     "text": [
      "\r\n",
      "\r\n",
      "\r",
      "sub-UCL_acq-coilQaTra_GFactor.nii.gz:   5%| | 643k/11.7M [00:00<00:03, 3.29MB/s]\u001b[A\u001b[A\r",
      "sub-UCL_acq-coilQaSagSmall_GFactor.nii.gz:  69%|▋| 1.83M/2.64M [00:00<00:00, 5.3"
     ]
    },
    {
     "name": "stdout",
     "output_type": "stream",
     "text": [
      "\r",
      "                                                                                \r"
     ]
    },
    {
     "name": "stdout",
     "output_type": "stream",
     "text": [
      "\r\n",
      "\r\n",
      "\r",
      "sub-UCL_acq-coilQaTra_GFactor.nii.gz:  16%|▏| 1.83M/11.7M [00:00<00:01, 7.36MB/s\u001b[A\u001b[A\r",
      "sub-UCL_acq-famp_TB1TFL.json:   0%|                 | 0.00/2.71k [00:00<?, ?B/s]\r\n",
      "\r",
      "sub-UCL_acq-famp_TB1DREAM.nii.gz:   0%|             | 0.00/90.7k [00:00<?, ?B/s]\u001b[A\r\n",
      "\r\n",
      "\r\n",
      "\r",
      "sub-UCL_acq-famp-1.5_TB1DREAM.nii.gz:   0%|         | 0.00/91.5k [00:00<?, ?B/s]\u001b[A\u001b[A\u001b[A\r",
      "                                                                                \r"
     ]
    },
    {
     "name": "stdout",
     "output_type": "stream",
     "text": [
      "\r\n",
      "\r\n",
      "\r\n",
      "\r",
      "                                                                                \u001b[A\u001b[A\u001b[A\r\n",
      "\r",
      "                                                                                \u001b[A"
     ]
    },
    {
     "name": "stdout",
     "output_type": "stream",
     "text": [
      "\r\n",
      "\r\n",
      "\r",
      "sub-UCL_acq-coilQaTra_GFactor.nii.gz:  22%|▏| 2.55M/11.7M [00:00<00:01, 6.96MB/s\u001b[A\u001b[A"
     ]
    },
    {
     "name": "stdout",
     "output_type": "stream",
     "text": [
      "\r",
      "sub-UCL_acq-famp_TB1TFL.nii.gz:   0%|                | 0.00/921k [00:00<?, ?B/s]\r\n",
      "\r",
      "sub-UCL_acq-refv-0.66_TB1DREAM.json:   0%|          | 0.00/2.17k [00:00<?, ?B/s]\u001b[A\r\n",
      "\r",
      "                                                                                \u001b[A"
     ]
    },
    {
     "name": "stdout",
     "output_type": "stream",
     "text": [
      "\r\n",
      "\r",
      "sub-UCL_acq-refv_TB1DREAM.json:   0%|               | 0.00/2.16k [00:00<?, ?B/s]\u001b[A\r\n",
      "\r",
      "                                                                                \u001b[A\r\n",
      "\r\n",
      "\r",
      "sub-UCL_acq-coilQaTra_GFactor.nii.gz:  43%|▍| 5.00M/11.7M [00:00<00:00, 12.6MB/s\u001b[A\u001b[A\r\n",
      "\r",
      "sub-UCL_acq-refv-0.66_TB1DREAM.nii.gz:   0%|        | 0.00/81.8k [00:00<?, ?B/s]\u001b[A"
     ]
    },
    {
     "name": "stdout",
     "output_type": "stream",
     "text": [
      "\r\n",
      "\r",
      "                                                                                \u001b[A\r",
      "sub-UCL_acq-famp_TB1TFL.nii.gz:  42%|███▍    | 389k/921k [00:00<00:00, 3.97MB/s]"
     ]
    },
    {
     "name": "stdout",
     "output_type": "stream",
     "text": [
      "\r",
      "                                                                                \r",
      "\r",
      "sub-UCL_acq-refv-1.5_TB1DREAM.nii.gz:   0%|         | 0.00/88.7k [00:00<?, ?B/s]\r\n",
      "\r\n",
      "\r",
      "sub-UCL_acq-coilQaTra_GFactor.nii.gz:  60%|▌| 7.00M/11.7M [00:00<00:00, 15.3MB/s\u001b[A\u001b[A"
     ]
    },
    {
     "name": "stdout",
     "output_type": "stream",
     "text": [
      "\r",
      "                                                                                \r",
      "\r",
      "sub-UCL_acq-refv-1.5_TB1DREAM.json:   0%|           | 0.00/2.17k [00:00<?, ?B/s]\r",
      "                                                                                \r"
     ]
    },
    {
     "name": "stdout",
     "output_type": "stream",
     "text": [
      "\r",
      "sub-UCL_acq-refv_TB1DREAM.nii.gz:   0%|             | 0.00/86.0k [00:00<?, ?B/s]\r\n",
      "\r\n",
      "\r",
      "                                                                                \u001b[A\u001b[A\r",
      "                                                                                \r",
      "✅ Finished downloading ds005090.\r\n",
      " \r\n",
      "🧠 Please enjoy your brains.\r\n",
      " \r\n"
     ]
    }
   ],
   "source": [
    "# Download data from OpenNeuro ⏳\n",
    "\n",
    "!openneuro-py download --dataset ds005090 --target-dir data-phantom/"
   ]
  },
  {
   "cell_type": "code",
   "execution_count": 3,
   "id": "4",
   "metadata": {
    "execution": {
     "iopub.execute_input": "2024-10-27T14:43:48.132834Z",
     "iopub.status.busy": "2024-10-27T14:43:48.132558Z",
     "iopub.status.idle": "2024-10-27T14:43:48.138888Z",
     "shell.execute_reply": "2024-10-27T14:43:48.138240Z"
    },
    "papermill": {
     "duration": 0.032598,
     "end_time": "2024-10-27T14:43:48.140336",
     "exception": false,
     "start_time": "2024-10-27T14:43:48.107738",
     "status": "completed"
    },
    "tags": []
   },
   "outputs": [
    {
     "name": "stdout",
     "output_type": "stream",
     "text": [
      "path_data: /home/runner/work/coil-qc-code/coil-qc-code/data-phantom/\n",
      "subjects: ['sub-CRMBM', 'sub-MGH', 'sub-MNI', 'sub-MPI', 'sub-MSSM', 'sub-NTNU', 'sub-UCL']\n"
     ]
    }
   ],
   "source": [
    "# Define path (needs to be run in the root directory of the project)\n",
    "path_data = os.path.join(os.getcwd(), \"data-phantom/\")\n",
    "print(f\"path_data: {path_data}\")\n",
    "path_labels = os.path.join(path_data, \"derivatives\", \"labels\")\n",
    "path_qc = os.path.join(path_data, \"qc\")\n",
    "subjects = [os.path.basename(subject_path) for subject_path in sorted(glob.glob(os.path.join(path_data, \"sub-*\")))]\n",
    "print(f\"subjects: {subjects}\")\n",
    "path_results = os.path.join(path_data, \"derivatives\", \"results\")\n",
    "\n",
    "# Create results directory\n",
    "os.makedirs(path_results, exist_ok=True)"
   ]
  },
  {
   "cell_type": "markdown",
   "id": "5",
   "metadata": {
    "papermill": {
     "duration": 0.042617,
     "end_time": "2024-10-27T14:43:48.206480",
     "exception": false,
     "start_time": "2024-10-27T14:43:48.163863",
     "status": "completed"
    },
    "tags": []
   },
   "source": [
    "## Convert TFL and DREAM flip angle maps to B1+ in units of nT/V"
   ]
  },
  {
   "cell_type": "code",
   "execution_count": 4,
   "id": "6",
   "metadata": {
    "execution": {
     "iopub.execute_input": "2024-10-27T14:43:48.254868Z",
     "iopub.status.busy": "2024-10-27T14:43:48.254393Z",
     "iopub.status.idle": "2024-10-27T14:43:48.682734Z",
     "shell.execute_reply": "2024-10-27T14:43:48.682053Z"
    },
    "papermill": {
     "duration": 0.454107,
     "end_time": "2024-10-27T14:43:48.684092",
     "exception": false,
     "start_time": "2024-10-27T14:43:48.229985",
     "status": "completed"
    },
    "tags": []
   },
   "outputs": [
    {
     "name": "stdout",
     "output_type": "stream",
     "text": [
      "ref_voltage [V]: 224.5 (sub-CRMBM_acq-famp_TB1TFL)\n",
      "flip angle [degrees]: 90 (sub-CRMBM_acq-famp_TB1TFL)\n",
      "ref_voltage [V]: 419.5 (sub-MGH_acq-famp_TB1TFL)\n",
      "flip angle [degrees]: 89.99 (sub-MGH_acq-famp_TB1TFL)\n"
     ]
    },
    {
     "name": "stdout",
     "output_type": "stream",
     "text": [
      "ref_voltage [V]: 464 (sub-MNI_acq-famp_TB1TFL)\n",
      "flip angle [degrees]: 89.99 (sub-MNI_acq-famp_TB1TFL)\n",
      "ref_voltage [V]: 408 (sub-MPI_acq-famp_TB1TFL)\n",
      "flip angle [degrees]: 90 (sub-MPI_acq-famp_TB1TFL)\n"
     ]
    },
    {
     "name": "stdout",
     "output_type": "stream",
     "text": [
      "ref_voltage [V]: 422 (sub-MSSM_acq-famp_TB1TFL)\n",
      "flip angle [degrees]: 68 (sub-MSSM_acq-famp_TB1TFL)\n",
      "ref_voltage [V]: 408 (sub-NTNU_acq-famp_TB1TFL)\n",
      "flip angle [degrees]: 90 (sub-NTNU_acq-famp_TB1TFL)\n"
     ]
    },
    {
     "name": "stdout",
     "output_type": "stream",
     "text": [
      "ref_voltage [V]: 270 (sub-UCL_acq-famp_TB1TFL)\n",
      "flip angle [degrees]: 90 (sub-UCL_acq-famp_TB1TFL)\n"
     ]
    }
   ],
   "source": [
    "# Convert the TFL flip angle maps to B1+ efficiency maps [nT/V] (inspired by code from Kyle Gilbert)\n",
    "# The approach consists in calculating the B1+ efficiency using a 1ms, pi-pulse at the acquisition voltage,\n",
    "# then scale the efficiency by the ratio of the measured flip angle to the requested flip angle in the pulse sequence.\n",
    "\n",
    "for subject in subjects:\n",
    "    os.chdir(os.path.join(path_data, subject, \"fmap\"))\n",
    "\n",
    "    # Fetch the reference voltage from the JSON sidecar \n",
    "    with open(f\"{subject}_acq-famp_TB1TFL.json\", \"r\") as f:\n",
    "        metadata = json.load(f)\n",
    "        ref_voltage = metadata.get(\"TxRefAmp\", \"N/A\")\n",
    "        if (ref_voltage == \"N/A\"):\n",
    "            ref_token = \"N/A\"\n",
    "            for token in metadata.get(\"SeriesDescription\", \"N/A\").split(\"_\"):\n",
    "                if token.startswith(\"RefV\"): ref_token = token\n",
    "            ref_voltage = float(ref_token[4:-1])\n",
    "        \n",
    "    print(f\"ref_voltage [V]: {ref_voltage} ({subject}_acq-famp_TB1TFL)\")\n",
    "                \n",
    "    # Fetch the flip angle from the JSON sidecar \n",
    "    with open(f\"{subject}_acq-famp_TB1TFL.json\", \"r\") as f:\n",
    "        metadata = json.load(f)\n",
    "        requested_fa = metadata.get(\"FlipAngle\", \"N/A\")\n",
    "        print(f\"flip angle [degrees]: {requested_fa} ({subject}_acq-famp_TB1TFL)\")\n",
    "\n",
    "    # Open flip angle map with nibabel\n",
    "    nii = nib.load(f\"{subject}_acq-famp_TB1TFL.nii.gz\")\n",
    "    meas_fa = nii.get_fdata()\n",
    "\n",
    "    # Account for the power loss between the coil and the socket. That number was given by Siemens.\n",
    "    voltage_at_socket = ref_voltage * 10 ** -0.095\n",
    "\n",
    "    # Compute B1 map in [T/V]\n",
    "    # Siemens maps are in units of flip angle * 10 (in degrees)\n",
    "    b1_map = ((meas_fa / 10) / requested_fa) * (np.pi / (GAMMA * 1e-3 * voltage_at_socket))\n",
    "\n",
    "    # Convert to [nT/V]\n",
    "    b1_map = b1_map * 1e9\n",
    "\n",
    "    # Save B1 map in [T/V] as NIfTI file\n",
    "    nii_b1 = nib.Nifti1Image(b1_map, nii.affine, nii.header)\n",
    "    nib.save(nii_b1, f\"{subject}_TFLTB1map.nii.gz\")"
   ]
  },
  {
   "cell_type": "code",
   "execution_count": 5,
   "id": "7",
   "metadata": {
    "execution": {
     "iopub.execute_input": "2024-10-27T14:43:48.733425Z",
     "iopub.status.busy": "2024-10-27T14:43:48.732949Z",
     "iopub.status.idle": "2024-10-27T14:43:48.841537Z",
     "shell.execute_reply": "2024-10-27T14:43:48.840879Z"
    },
    "papermill": {
     "duration": 0.134924,
     "end_time": "2024-10-27T14:43:48.842986",
     "exception": false,
     "start_time": "2024-10-27T14:43:48.708062",
     "status": "completed"
    },
    "tags": []
   },
   "outputs": [
    {
     "name": "stderr",
     "output_type": "stream",
     "text": [
      "/tmp/ipykernel_1871/3268472193.py:89: RuntimeWarning: Mean of empty slice\n",
      "  avgB1=np.nanmean(b1_maps,axis=0)\n",
      "/tmp/ipykernel_1871/3268472193.py:89: RuntimeWarning: Mean of empty slice\n",
      "  avgB1=np.nanmean(b1_maps,axis=0)\n",
      "/tmp/ipykernel_1871/3268472193.py:89: RuntimeWarning: Mean of empty slice\n",
      "  avgB1=np.nanmean(b1_maps,axis=0)\n",
      "/tmp/ipykernel_1871/3268472193.py:89: RuntimeWarning: Mean of empty slice\n",
      "  avgB1=np.nanmean(b1_maps,axis=0)\n",
      "/tmp/ipykernel_1871/3268472193.py:89: RuntimeWarning: Mean of empty slice\n",
      "  avgB1=np.nanmean(b1_maps,axis=0)\n",
      "/tmp/ipykernel_1871/3268472193.py:89: RuntimeWarning: Mean of empty slice\n",
      "  avgB1=np.nanmean(b1_maps,axis=0)\n",
      "/tmp/ipykernel_1871/3268472193.py:89: RuntimeWarning: Mean of empty slice\n",
      "  avgB1=np.nanmean(b1_maps,axis=0)\n"
     ]
    }
   ],
   "source": [
    "# load DREAM FA maps acquired with different reference voltages\n",
    "# threshold FA maps to 20deg < FA < 50deg\n",
    "# combine FA maps by averaging non-zero estimates of FA in each pixel\n",
    "\n",
    "voltages = [\"1.5\", \"0.66\"]\n",
    "\n",
    "for subject in subjects:\n",
    "    \n",
    "    b1_maps = []\n",
    "    os.chdir(os.path.join(path_data, subject, \"fmap\"))\n",
    "\n",
    "    # Fetch the reference voltage from the JSON sidecar \n",
    "    with open(f\"{subject}_acq-famp_TB1DREAM.json\", \"r\") as f:\n",
    "        metadata = json.load(f)\n",
    "        ref_voltage = metadata.get(\"TxRefAmp\", \"N/A\")\n",
    "        if (ref_voltage == \"N/A\"):\n",
    "            ref_token = \"N/A\"\n",
    "            for token in metadata.get(\"SeriesDescription\", \"N/A\").split(\"_\"):\n",
    "                if token.startswith(\"RefV\"): ref_token = token\n",
    "            ref_voltage = float(ref_token[4:-1])\n",
    "    \n",
    "    # Open refV flip angle map with nibabel\n",
    "    nii = nib.load(f\"{subject}_acq-famp_TB1DREAM.nii.gz\")\n",
    "    meas_fa = nii.get_fdata()\n",
    "    #thresholding\n",
    "    meas_fa[meas_fa < 200] = np.nan\n",
    "    meas_fa[meas_fa > 500] = np.nan\n",
    "\n",
    "    # Fetch the flip angle from the JSON sidecar \n",
    "    with open(f\"{subject}_acq-famp_TB1DREAM.json\", \"r\") as f:\n",
    "        metadata = json.load(f)\n",
    "        requested_fa = metadata.get(\"FlipAngle\", \"N/A\")\n",
    "        #convert measured FA to percent of requested FA (note that measured FA map is in degrees * 10)\n",
    "        meas_fa = (meas_fa/10) / requested_fa\n",
    "\n",
    "    # Account for the power loss between the coil and the socket. That number was given by Siemens.\n",
    "    voltage_at_socket = ref_voltage * 10 ** -0.095\n",
    "    # Compute B1 map in [T/V]\n",
    "    b1_map = meas_fa * (np.pi / (GAMMA * 1e-3 * voltage_at_socket))\n",
    "    # Convert to [nT/V]\n",
    "    b1_map = b1_map * 1e9\n",
    "    \n",
    "    b1_maps.append(b1_map)\n",
    "\n",
    "    for voltage in voltages:\n",
    "        \n",
    "        #check if map exists\n",
    "        my_file = Path(f\"{subject}_acq-famp-{voltage}_TB1DREAM.nii.gz\")\n",
    "        \n",
    "        if my_file.is_file():\n",
    "            \n",
    "            # Fetch the reference voltage from the JSON sidecar \n",
    "            with open(f\"{subject}_acq-famp-{voltage}_TB1DREAM.json\", \"r\") as f:\n",
    "                metadata = json.load(f)\n",
    "                ref_voltage = metadata.get(\"TxRefAmp\", \"N/A\")\n",
    "                if (ref_voltage == \"N/A\"):\n",
    "                    ref_token = \"N/A\"\n",
    "                    for token in metadata.get(\"SeriesDescription\", \"N/A\").split(\"_\"):\n",
    "                        if token.startswith(\"RefV\"): ref_token = token\n",
    "                    ref_voltage = float(ref_token[4:-1])\n",
    "                \n",
    "            # Open flip angle map with nibabel\n",
    "            nii = nib.load(f\"{subject}_acq-famp-{voltage}_TB1DREAM.nii.gz\")\n",
    "            meas_fa = nii.get_fdata()\n",
    "            #thresholding\n",
    "            meas_fa[meas_fa < 200] = np.nan\n",
    "            meas_fa[meas_fa > 500] = np.nan\n",
    "        \n",
    "            # Fetch the flip angle from the JSON sidecar \n",
    "            with open(f\"{subject}_acq-famp-{voltage}_TB1DREAM.json\", \"r\") as f:\n",
    "                metadata = json.load(f)\n",
    "                requested_fa = metadata.get(\"FlipAngle\", \"N/A\")\n",
    "                #convert measured FA to percent of requested FA (note that measured FA map is in degrees * 10)\n",
    "                meas_fa = (meas_fa/10) / requested_fa\n",
    "        else:\n",
    "            meas_fa = np.full((nii.header).get_data_shape(),np.nan)\n",
    "\n",
    "        # Account for the power loss between the coil and the socket. That number was given by Siemens.\n",
    "        voltage_at_socket = ref_voltage * 10 ** -0.095\n",
    "        # Compute B1 map in [T/V]\n",
    "        # Siemens maps are in units of flip angle * 10 (in degrees)\n",
    "        b1_map = meas_fa * (np.pi / (GAMMA * 1e-3 * voltage_at_socket))\n",
    "        # Convert to [nT/V]\n",
    "        b1_map = b1_map * 1e9\n",
    "        \n",
    "        b1_maps.append(b1_map)\n",
    " \n",
    "    # compute mean of non-zero values\n",
    "    avgB1=np.nanmean(b1_maps,axis=0)\n",
    "    \n",
    "    # Save as NIfTI file\n",
    "    nii_avgB1 = nib.Nifti1Image(avgB1, nii.affine, nii.header)\n",
    "    nib.save(nii_avgB1, f\"{subject}_DREAMTB1avgB1map.nii.gz\")"
   ]
  },
  {
   "cell_type": "code",
   "execution_count": 6,
   "id": "8",
   "metadata": {
    "execution": {
     "iopub.execute_input": "2024-10-27T14:43:48.892246Z",
     "iopub.status.busy": "2024-10-27T14:43:48.891781Z",
     "iopub.status.idle": "2024-10-27T14:43:49.680074Z",
     "shell.execute_reply": "2024-10-27T14:43:49.679300Z"
    },
    "papermill": {
     "duration": 0.814408,
     "end_time": "2024-10-27T14:43:49.681806",
     "exception": false,
     "start_time": "2024-10-27T14:43:48.867398",
     "status": "completed"
    },
    "tags": []
   },
   "outputs": [
    {
     "name": "stdout",
     "output_type": "stream",
     "text": [
      "/usr/bin/sh: 1: sct_image: not found\r\n"
     ]
    },
    {
     "name": "stdout",
     "output_type": "stream",
     "text": [
      "/usr/bin/sh: 1: sct_image: not found\r\n"
     ]
    },
    {
     "name": "stdout",
     "output_type": "stream",
     "text": [
      "/usr/bin/sh: 1: sct_image: not found\r\n"
     ]
    },
    {
     "name": "stdout",
     "output_type": "stream",
     "text": [
      "/usr/bin/sh: 1: sct_image: not found\r\n"
     ]
    },
    {
     "name": "stdout",
     "output_type": "stream",
     "text": [
      "/usr/bin/sh: 1: sct_image: not found\r\n"
     ]
    },
    {
     "name": "stdout",
     "output_type": "stream",
     "text": [
      "/usr/bin/sh: 1: sct_image: not found\r\n"
     ]
    },
    {
     "name": "stdout",
     "output_type": "stream",
     "text": [
      "/usr/bin/sh: 1: sct_image: not found\r\n"
     ]
    }
   ],
   "source": [
    "# Split SNR data across multiple volumes. The first volume corresponds to the SoS SNR reconstruction, which is\n",
    "#  what we will use for SNR comparison.\n",
    "for subject in subjects:\n",
    "    os.chdir(os.path.join(path_data, subject, \"fmap\"))\n",
    "    !sct_image -i {subject}_acq-coilQaSagLarge_SNR.nii.gz -split t -o {subject}_acq-coilQaSagLarge_SNR.nii.gz"
   ]
  },
  {
   "cell_type": "markdown",
   "id": "9",
   "metadata": {
    "papermill": {
     "duration": 0.023697,
     "end_time": "2024-10-27T14:43:49.729989",
     "exception": false,
     "start_time": "2024-10-27T14:43:49.706292",
     "status": "completed"
    },
    "tags": []
   },
   "source": [
    "## Generate approximate mask of spinal cord\n",
    "\n",
    "The purpose of this section is to generate an approximate mask of the spinal cord that will be used to quantify B1+ values inside the phantom. To do this, we identified a representative human subject, overlaid it on the anthropomorphic phantom, created a few pointwise labels along the spinal cord, interpolated those points using bsplines, and then created a cylindrical mask of 10mm diameter along the generated centerline.\n",
    "\n",
    "![image](figures/spinalcord_mask_creation.png)"
   ]
  },
  {
   "cell_type": "code",
   "execution_count": 7,
   "id": "10",
   "metadata": {
    "execution": {
     "iopub.execute_input": "2024-10-27T14:43:49.780022Z",
     "iopub.status.busy": "2024-10-27T14:43:49.779330Z",
     "iopub.status.idle": "2024-10-27T14:43:50.121845Z",
     "shell.execute_reply": "2024-10-27T14:43:50.121083Z"
    },
    "papermill": {
     "duration": 0.369194,
     "end_time": "2024-10-27T14:43:50.123489",
     "exception": false,
     "start_time": "2024-10-27T14:43:49.754295",
     "status": "completed"
    },
    "tags": []
   },
   "outputs": [
    {
     "name": "stdout",
     "output_type": "stream",
     "text": [
      "/usr/bin/sh: 1: sct_label_utils: not found\r\n"
     ]
    },
    {
     "name": "stdout",
     "output_type": "stream",
     "text": [
      "/usr/bin/sh: 1: sct_get_centerline: not found\r\n"
     ]
    },
    {
     "name": "stdout",
     "output_type": "stream",
     "text": [
      "/usr/bin/sh: 1: sct_create_mask: not found\r\n"
     ]
    }
   ],
   "source": [
    "os.chdir(os.path.join(path_data, \"sub-CRMBM\", \"fmap\"))\n",
    "\n",
    "# Create labels on TFL B1+ map along an approximate spinal cord\n",
    "! sct_label_utils -i \"sub-CRMBM_acq-anat_TB1TFL.nii.gz\" -create 49,108,23,1:49,99,23,1:49,88,23,1:50,76,23,1:55,63,23,1:62,51,23,1:68,35,23,1:72,26,23,1 -o \"label_cord.nii.gz\"\n",
    "# Create spinal cord centerline\n",
    "! sct_get_centerline -i \"label_cord.nii.gz\" -method fitseg -o \"centerline_spinalcord.nii.gz\"\n",
    "# Create mask of 10mm diameter around centerline\n",
    "! sct_create_mask -i \"sub-CRMBM_acq-anat_TB1TFL.nii.gz\" -p centerline,\"centerline_spinalcord.nii.gz\" -size 10mm -f cylinder -o \"sub-CRMBM_TFLTB1map_mask.nii.gz\""
   ]
  },
  {
   "cell_type": "markdown",
   "id": "11",
   "metadata": {
    "papermill": {
     "duration": 0.023945,
     "end_time": "2024-10-27T14:43:50.172012",
     "exception": false,
     "start_time": "2024-10-27T14:43:50.148067",
     "status": "completed"
    },
    "tags": []
   },
   "source": [
    "## Co-register fmap data\n",
    "\n",
    "The purpose of this section if to co-register phantom data across sites, to produce figures showing consistent placement of the phantom across sites, and to be able to use a single mask of the approximate spinal cord for quantitative analysis.\n",
    "\n",
    "The co-registration uses programatically-created labels that correspond to the posterior tip of the phantom, at the inflexion point:\n",
    "\n",
    "![image](figures/label_registration.png)"
   ]
  },
  {
   "cell_type": "code",
   "execution_count": 8,
   "id": "12",
   "metadata": {
    "execution": {
     "iopub.execute_input": "2024-10-27T14:43:50.222047Z",
     "iopub.status.busy": "2024-10-27T14:43:50.221402Z",
     "iopub.status.idle": "2024-10-27T14:43:56.743569Z",
     "shell.execute_reply": "2024-10-27T14:43:56.742785Z"
    },
    "papermill": {
     "duration": 6.54932,
     "end_time": "2024-10-27T14:43:56.745311",
     "exception": false,
     "start_time": "2024-10-27T14:43:50.195991",
     "status": "completed"
    },
    "tags": []
   },
   "outputs": [
    {
     "name": "stdout",
     "output_type": "stream",
     "text": [
      "👉 CREATE LABELS FOR: sub-CRMBM\n",
      "/usr/bin/sh: 1: sct_label_utils: not found\r\n"
     ]
    },
    {
     "name": "stdout",
     "output_type": "stream",
     "text": [
      "/usr/bin/sh: 1: sct_register_multimodal: not found\r\n"
     ]
    },
    {
     "name": "stdout",
     "output_type": "stream",
     "text": [
      "/usr/bin/sh: 1: sct_apply_transfo: not found\r\n"
     ]
    },
    {
     "name": "stdout",
     "output_type": "stream",
     "text": [
      "/usr/bin/sh: 1: sct_register_multimodal: not found\r\n"
     ]
    },
    {
     "name": "stdout",
     "output_type": "stream",
     "text": [
      "/usr/bin/sh: 1: sct_apply_transfo: not found\r\n"
     ]
    },
    {
     "name": "stdout",
     "output_type": "stream",
     "text": [
      "👉 CREATE LABELS FOR: sub-MGH\n",
      "/usr/bin/sh: 1: sct_label_utils: not found\r\n"
     ]
    },
    {
     "name": "stdout",
     "output_type": "stream",
     "text": [
      "/usr/bin/sh: 1: sct_register_multimodal: not found\r\n"
     ]
    },
    {
     "name": "stdout",
     "output_type": "stream",
     "text": [
      "/usr/bin/sh: 1: sct_apply_transfo: not found\r\n"
     ]
    },
    {
     "name": "stdout",
     "output_type": "stream",
     "text": [
      "/usr/bin/sh: 1: sct_register_multimodal: not found\r\n"
     ]
    },
    {
     "name": "stdout",
     "output_type": "stream",
     "text": [
      "/usr/bin/sh: 1: sct_apply_transfo: not found\r\n"
     ]
    },
    {
     "name": "stdout",
     "output_type": "stream",
     "text": [
      "👉 CREATE LABELS FOR: sub-MNI\n",
      "/usr/bin/sh: 1: sct_label_utils: not found\r\n"
     ]
    },
    {
     "name": "stdout",
     "output_type": "stream",
     "text": [
      "/usr/bin/sh: 1: sct_register_multimodal: not found\r\n"
     ]
    },
    {
     "name": "stdout",
     "output_type": "stream",
     "text": [
      "/usr/bin/sh: 1: sct_apply_transfo: not found\r\n"
     ]
    },
    {
     "name": "stdout",
     "output_type": "stream",
     "text": [
      "/usr/bin/sh: 1: sct_register_multimodal: not found\r\n"
     ]
    },
    {
     "name": "stdout",
     "output_type": "stream",
     "text": [
      "/usr/bin/sh: 1: sct_apply_transfo: not found\r\n"
     ]
    },
    {
     "name": "stdout",
     "output_type": "stream",
     "text": [
      "👉 CREATE LABELS FOR: sub-MPI\n",
      "/usr/bin/sh: 1: sct_label_utils: not found\r\n"
     ]
    },
    {
     "name": "stdout",
     "output_type": "stream",
     "text": [
      "/usr/bin/sh: 1: sct_register_multimodal: not found\r\n"
     ]
    },
    {
     "name": "stdout",
     "output_type": "stream",
     "text": [
      "/usr/bin/sh: 1: sct_apply_transfo: not found\r\n"
     ]
    },
    {
     "name": "stdout",
     "output_type": "stream",
     "text": [
      "/usr/bin/sh: 1: sct_register_multimodal: not found\r\n"
     ]
    },
    {
     "name": "stdout",
     "output_type": "stream",
     "text": [
      "/usr/bin/sh: 1: sct_apply_transfo: not found\r\n"
     ]
    },
    {
     "name": "stdout",
     "output_type": "stream",
     "text": [
      "👉 CREATE LABELS FOR: sub-MSSM\n",
      "/usr/bin/sh: 1: sct_label_utils: not found\r\n"
     ]
    },
    {
     "name": "stdout",
     "output_type": "stream",
     "text": [
      "/usr/bin/sh: 1: sct_register_multimodal: not found\r\n"
     ]
    },
    {
     "name": "stdout",
     "output_type": "stream",
     "text": [
      "/usr/bin/sh: 1: sct_apply_transfo: not found\r\n"
     ]
    },
    {
     "name": "stdout",
     "output_type": "stream",
     "text": [
      "/usr/bin/sh: 1: sct_register_multimodal: not found\r\n"
     ]
    },
    {
     "name": "stdout",
     "output_type": "stream",
     "text": [
      "/usr/bin/sh: 1: sct_apply_transfo: not found\r\n"
     ]
    },
    {
     "name": "stdout",
     "output_type": "stream",
     "text": [
      "👉 CREATE LABELS FOR: sub-NTNU\n",
      "/usr/bin/sh: 1: sct_label_utils: not found\r\n"
     ]
    },
    {
     "name": "stdout",
     "output_type": "stream",
     "text": [
      "/usr/bin/sh: 1: sct_register_multimodal: not found\r\n"
     ]
    },
    {
     "name": "stdout",
     "output_type": "stream",
     "text": [
      "/usr/bin/sh: 1: sct_apply_transfo: not found\r\n"
     ]
    },
    {
     "name": "stdout",
     "output_type": "stream",
     "text": [
      "/usr/bin/sh: 1: sct_register_multimodal: not found\r\n"
     ]
    },
    {
     "name": "stdout",
     "output_type": "stream",
     "text": [
      "/usr/bin/sh: 1: sct_apply_transfo: not found\r\n"
     ]
    },
    {
     "name": "stdout",
     "output_type": "stream",
     "text": [
      "👉 CREATE LABELS FOR: sub-UCL\n",
      "/usr/bin/sh: 1: sct_label_utils: not found\r\n"
     ]
    },
    {
     "name": "stdout",
     "output_type": "stream",
     "text": [
      "/usr/bin/sh: 1: sct_register_multimodal: not found\r\n"
     ]
    },
    {
     "name": "stdout",
     "output_type": "stream",
     "text": [
      "/usr/bin/sh: 1: sct_apply_transfo: not found\r\n"
     ]
    },
    {
     "name": "stdout",
     "output_type": "stream",
     "text": [
      "/usr/bin/sh: 1: sct_register_multimodal: not found\r\n"
     ]
    },
    {
     "name": "stdout",
     "output_type": "stream",
     "text": [
      "/usr/bin/sh: 1: sct_apply_transfo: not found\r\n"
     ]
    },
    {
     "name": "stdout",
     "output_type": "stream",
     "text": [
      "👉 REGISTER: sub-CRMBM\n",
      "/usr/bin/sh: 1: sct_register_multimodal: not found\r\n"
     ]
    },
    {
     "name": "stdout",
     "output_type": "stream",
     "text": [
      "/usr/bin/sh: 1: sct_register_multimodal: not found\r\n"
     ]
    },
    {
     "name": "stdout",
     "output_type": "stream",
     "text": [
      "/usr/bin/sh: 1: sct_register_multimodal: not found\r\n"
     ]
    },
    {
     "name": "stdout",
     "output_type": "stream",
     "text": [
      "👉 REGISTER: sub-MGH\n",
      "/usr/bin/sh: 1: sct_register_multimodal: not found\r\n"
     ]
    },
    {
     "name": "stdout",
     "output_type": "stream",
     "text": [
      "/usr/bin/sh: 1: sct_register_multimodal: not found\r\n"
     ]
    },
    {
     "name": "stdout",
     "output_type": "stream",
     "text": [
      "/usr/bin/sh: 1: sct_register_multimodal: not found\r\n"
     ]
    },
    {
     "name": "stdout",
     "output_type": "stream",
     "text": [
      "👉 REGISTER: sub-MNI\n",
      "/usr/bin/sh: 1: sct_register_multimodal: not found\r\n"
     ]
    },
    {
     "name": "stdout",
     "output_type": "stream",
     "text": [
      "/usr/bin/sh: 1: sct_register_multimodal: not found\r\n"
     ]
    },
    {
     "name": "stdout",
     "output_type": "stream",
     "text": [
      "/usr/bin/sh: 1: sct_register_multimodal: not found\r\n"
     ]
    },
    {
     "name": "stdout",
     "output_type": "stream",
     "text": [
      "👉 REGISTER: sub-MPI\n",
      "/usr/bin/sh: 1: sct_register_multimodal: not found\r\n"
     ]
    },
    {
     "name": "stdout",
     "output_type": "stream",
     "text": [
      "/usr/bin/sh: 1: sct_register_multimodal: not found\r\n"
     ]
    },
    {
     "name": "stdout",
     "output_type": "stream",
     "text": [
      "/usr/bin/sh: 1: sct_register_multimodal: not found\r\n"
     ]
    },
    {
     "name": "stdout",
     "output_type": "stream",
     "text": [
      "👉 REGISTER: sub-MSSM\n",
      "/usr/bin/sh: 1: sct_register_multimodal: not found\r\n"
     ]
    },
    {
     "name": "stdout",
     "output_type": "stream",
     "text": [
      "/usr/bin/sh: 1: sct_register_multimodal: not found\r\n"
     ]
    },
    {
     "name": "stdout",
     "output_type": "stream",
     "text": [
      "/usr/bin/sh: 1: sct_register_multimodal: not found\r\n"
     ]
    },
    {
     "name": "stdout",
     "output_type": "stream",
     "text": [
      "👉 REGISTER: sub-NTNU\n",
      "/usr/bin/sh: 1: sct_register_multimodal: not found\r\n"
     ]
    },
    {
     "name": "stdout",
     "output_type": "stream",
     "text": [
      "/usr/bin/sh: 1: sct_register_multimodal: not found\r\n"
     ]
    },
    {
     "name": "stdout",
     "output_type": "stream",
     "text": [
      "/usr/bin/sh: 1: sct_register_multimodal: not found\r\n"
     ]
    },
    {
     "name": "stdout",
     "output_type": "stream",
     "text": [
      "👉 REGISTER: sub-UCL\n",
      "/usr/bin/sh: 1: sct_register_multimodal: not found\r\n"
     ]
    },
    {
     "name": "stdout",
     "output_type": "stream",
     "text": [
      "/usr/bin/sh: 1: sct_register_multimodal: not found\r\n"
     ]
    },
    {
     "name": "stdout",
     "output_type": "stream",
     "text": [
      "/usr/bin/sh: 1: sct_register_multimodal: not found\r\n"
     ]
    },
    {
     "name": "stdout",
     "output_type": "stream",
     "text": [
      "/usr/bin/sh: 1: sct_register_multimodal: not found\r\n"
     ]
    },
    {
     "name": "stdout",
     "output_type": "stream",
     "text": [
      "/usr/bin/sh: 1: sct_register_multimodal: not found\r\n"
     ]
    }
   ],
   "source": [
    "# Create dictionary of labels across sites\n",
    "labels_phantom_TFL = {\n",
    "    'sub-CRMBM': '68,88,23',\n",
    "    'sub-MGH': '61,98,26',\n",
    "    'sub-MNI': '69,87,26',\n",
    "    'sub-MPI': '67,95,27',\n",
    "    'sub-MSSM': '73,65,28',\n",
    "    'sub-NTNU': '64,96,29',\n",
    "    'sub-UCL': '68,97,28',\n",
    "}\n",
    "\n",
    "# Define reference subject and suffix\n",
    "subject_ref = 'sub-CRMBM'\n",
    "suffix_ref = 'TFLTB1map'\n",
    "suffixes = [\"TFLTB1map\", \"DREAMTB1avgB1map\", \"acq-coilQaSagLarge_SNR_T0000\"]\n",
    "\n",
    "# Create labels for all suffixes, for all subjects\n",
    "for subject in subjects:\n",
    "    print(f\"👉 CREATE LABELS FOR: {subject}\")\n",
    "    os.chdir(os.path.join(path_data, subject, \"fmap\"))\n",
    "    !sct_label_utils -i {subject}_{suffix_ref}.nii.gz -create {labels_phantom_TFL[subject]},1 -o {subject}_{suffix_ref}_label.nii.gz\n",
    "    # Register label from TFLTB1map to other metric using the qform matrix (ie: no optimization)\n",
    "    for suffix in [other_suffixes for other_suffixes in suffixes if other_suffixes != suffix_ref]:\n",
    "        !sct_register_multimodal -i {subject}_{suffix_ref}_label.nii.gz -d {subject}_{suffix}.nii.gz -identity 1\n",
    "        !sct_apply_transfo -i {subject}_{suffix_ref}_label.nii.gz -d {subject}_{suffix}.nii.gz -w warp_{subject}_{suffix_ref}_label2{subject}_{suffix}.nii.gz -x label -o {subject}_{suffix}_label.nii.gz\n",
    "\n",
    "# Register other scans to the reference scan\n",
    "for subject in subjects:\n",
    "    print(f\"👉 REGISTER: {subject}\")\n",
    "    for suffix in suffixes:\n",
    "        os.chdir(os.path.join(path_data, subject, \"fmap\"))\n",
    "        # Perform registration\n",
    "        !sct_register_multimodal -i {subject}_{suffix}.nii.gz -ilabel {subject}_{suffix}_label.nii.gz -d {path_data}{subject_ref}/fmap/{subject_ref}_{suffix}.nii.gz -dlabel {path_data}{subject_ref}/fmap/{subject_ref}_{suffix}_label.nii.gz -param step=0,type=label,dof=Tx_Ty_Tz:step=1,type=im,algo=syn,iter=0\n",
    "\n",
    "# Register TFL B1+ spinal cord mask to DREAM and SNR reference scan\n",
    "os.chdir(os.path.join(path_data, subject_ref, \"fmap\"))\n",
    "for suffix in [other_suffixes for other_suffixes in suffixes if other_suffixes != suffix_ref]:\n",
    "    !sct_register_multimodal -i {subject_ref}_{suffix_ref}_mask.nii.gz -d {subject_ref}_{suffix}.nii.gz -identity 1 -o {subject_ref}_{suffix}_mask.nii.gz"
   ]
  },
  {
   "cell_type": "code",
   "execution_count": 9,
   "id": "13",
   "metadata": {
    "execution": {
     "iopub.execute_input": "2024-10-27T14:43:56.800734Z",
     "iopub.status.busy": "2024-10-27T14:43:56.800170Z",
     "iopub.status.idle": "2024-10-27T14:43:56.805353Z",
     "shell.execute_reply": "2024-10-27T14:43:56.804709Z"
    },
    "papermill": {
     "duration": 0.034271,
     "end_time": "2024-10-27T14:43:56.806683",
     "exception": false,
     "start_time": "2024-10-27T14:43:56.772412",
     "status": "completed"
    },
    "tags": []
   },
   "outputs": [
    {
     "name": "stdout",
     "output_type": "stream",
     "text": [
      "\n",
      "👉 CHECKING REGISTRATION FOR: TFLTB1map\n",
      "\n",
      "fsleyes sub-CRMBM/fmap/sub-CRMBM_TFLTB1map.nii.gz /home/runner/work/coil-qc-code/coil-qc-code/data-phantom/sub-MGH/fmap/sub-MGH_TFLTB1map_reg.nii.gz /home/runner/work/coil-qc-code/coil-qc-code/data-phantom/sub-MNI/fmap/sub-MNI_TFLTB1map_reg.nii.gz /home/runner/work/coil-qc-code/coil-qc-code/data-phantom/sub-MPI/fmap/sub-MPI_TFLTB1map_reg.nii.gz /home/runner/work/coil-qc-code/coil-qc-code/data-phantom/sub-MSSM/fmap/sub-MSSM_TFLTB1map_reg.nii.gz /home/runner/work/coil-qc-code/coil-qc-code/data-phantom/sub-NTNU/fmap/sub-NTNU_TFLTB1map_reg.nii.gz /home/runner/work/coil-qc-code/coil-qc-code/data-phantom/sub-UCL/fmap/sub-UCL_TFLTB1map_reg.nii.gz sub-CRMBM/fmap/sub-CRMBM_TFLTB1map_mask.nii.gz --cmap yellow -a 30 &\n",
      "\n",
      "👉 CHECKING REGISTRATION FOR: DREAMTB1avgB1map\n",
      "\n",
      "fsleyes sub-CRMBM/fmap/sub-CRMBM_DREAMTB1avgB1map.nii.gz /home/runner/work/coil-qc-code/coil-qc-code/data-phantom/sub-MGH/fmap/sub-MGH_DREAMTB1avgB1map_reg.nii.gz /home/runner/work/coil-qc-code/coil-qc-code/data-phantom/sub-MNI/fmap/sub-MNI_DREAMTB1avgB1map_reg.nii.gz /home/runner/work/coil-qc-code/coil-qc-code/data-phantom/sub-MPI/fmap/sub-MPI_DREAMTB1avgB1map_reg.nii.gz /home/runner/work/coil-qc-code/coil-qc-code/data-phantom/sub-MSSM/fmap/sub-MSSM_DREAMTB1avgB1map_reg.nii.gz /home/runner/work/coil-qc-code/coil-qc-code/data-phantom/sub-NTNU/fmap/sub-NTNU_DREAMTB1avgB1map_reg.nii.gz /home/runner/work/coil-qc-code/coil-qc-code/data-phantom/sub-UCL/fmap/sub-UCL_DREAMTB1avgB1map_reg.nii.gz sub-CRMBM/fmap/sub-CRMBM_DREAMTB1avgB1map_mask.nii.gz --cmap yellow -a 30 &\n",
      "\n",
      "👉 CHECKING REGISTRATION FOR: acq-coilQaSagLarge_SNR_T0000\n",
      "\n",
      "fsleyes sub-CRMBM/fmap/sub-CRMBM_acq-coilQaSagLarge_SNR_T0000.nii.gz /home/runner/work/coil-qc-code/coil-qc-code/data-phantom/sub-MGH/fmap/sub-MGH_acq-coilQaSagLarge_SNR_T0000_reg.nii.gz /home/runner/work/coil-qc-code/coil-qc-code/data-phantom/sub-MNI/fmap/sub-MNI_acq-coilQaSagLarge_SNR_T0000_reg.nii.gz /home/runner/work/coil-qc-code/coil-qc-code/data-phantom/sub-MPI/fmap/sub-MPI_acq-coilQaSagLarge_SNR_T0000_reg.nii.gz /home/runner/work/coil-qc-code/coil-qc-code/data-phantom/sub-MSSM/fmap/sub-MSSM_acq-coilQaSagLarge_SNR_T0000_reg.nii.gz /home/runner/work/coil-qc-code/coil-qc-code/data-phantom/sub-NTNU/fmap/sub-NTNU_acq-coilQaSagLarge_SNR_T0000_reg.nii.gz /home/runner/work/coil-qc-code/coil-qc-code/data-phantom/sub-UCL/fmap/sub-UCL_acq-coilQaSagLarge_SNR_T0000_reg.nii.gz sub-CRMBM/fmap/sub-CRMBM_acq-coilQaSagLarge_SNR_T0000_mask.nii.gz --cmap yellow -a 30 &\n"
     ]
    }
   ],
   "source": [
    "# Generate syntax to open registered data in FSLeyes. This should be run from within the `data-phantom/` folder.\n",
    "for suffix in suffixes:\n",
    "    print(f\"\\n👉 CHECKING REGISTRATION FOR: {suffix}\\n\")\n",
    "    cmd = f\"fsleyes sub-CRMBM/fmap/sub-CRMBM_{suffix}.nii.gz\"\n",
    "    for subject in [other_subjects for other_subjects in subjects if other_subjects != subject_ref]:\n",
    "        file_reg = os.path.join(path_data, subject, \"fmap\", f\"{subject}_{suffix}_reg.nii.gz\")\n",
    "        cmd = f\"{cmd} {file_reg}\"\n",
    "    # Add mask with color and opacity\n",
    "    cmd = f\"{cmd} sub-CRMBM/fmap/sub-CRMBM_{suffix}_mask.nii.gz --cmap yellow -a 30\"\n",
    "    print(cmd+\" &\")\n",
    "\n",
    "# TODO: undisplay all scans but the first"
   ]
  },
  {
   "cell_type": "markdown",
   "id": "14",
   "metadata": {
    "papermill": {
     "duration": 0.026277,
     "end_time": "2024-10-27T14:43:56.859834",
     "exception": false,
     "start_time": "2024-10-27T14:43:56.833557",
     "status": "completed"
    },
    "tags": []
   },
   "source": [
    "## Extract values in mask and generate figures "
   ]
  },
  {
   "cell_type": "code",
   "execution_count": 10,
   "id": "15",
   "metadata": {
    "execution": {
     "iopub.execute_input": "2024-10-27T14:43:56.914245Z",
     "iopub.status.busy": "2024-10-27T14:43:56.913777Z",
     "iopub.status.idle": "2024-10-27T14:43:59.280324Z",
     "shell.execute_reply": "2024-10-27T14:43:59.279476Z"
    },
    "papermill": {
     "duration": 2.395602,
     "end_time": "2024-10-27T14:43:59.282019",
     "exception": false,
     "start_time": "2024-10-27T14:43:56.886417",
     "status": "completed"
    },
    "tags": []
   },
   "outputs": [
    {
     "name": "stdout",
     "output_type": "stream",
     "text": [
      "/usr/bin/sh: 1: sct_extract_metric: not found\r\n"
     ]
    },
    {
     "name": "stdout",
     "output_type": "stream",
     "text": [
      "/usr/bin/sh: 1: sct_extract_metric: not found\r\n"
     ]
    },
    {
     "name": "stdout",
     "output_type": "stream",
     "text": [
      "/usr/bin/sh: 1: sct_extract_metric: not found\r\n"
     ]
    },
    {
     "name": "stdout",
     "output_type": "stream",
     "text": [
      "/usr/bin/sh: 1: sct_extract_metric: not found\r\n"
     ]
    },
    {
     "name": "stdout",
     "output_type": "stream",
     "text": [
      "/usr/bin/sh: 1: sct_extract_metric: not found\r\n"
     ]
    },
    {
     "name": "stdout",
     "output_type": "stream",
     "text": [
      "/usr/bin/sh: 1: sct_extract_metric: not found\r\n"
     ]
    },
    {
     "name": "stdout",
     "output_type": "stream",
     "text": [
      "/usr/bin/sh: 1: sct_extract_metric: not found\r\n"
     ]
    },
    {
     "name": "stdout",
     "output_type": "stream",
     "text": [
      "/usr/bin/sh: 1: sct_extract_metric: not found\r\n"
     ]
    },
    {
     "name": "stdout",
     "output_type": "stream",
     "text": [
      "/usr/bin/sh: 1: sct_extract_metric: not found\r\n"
     ]
    },
    {
     "name": "stdout",
     "output_type": "stream",
     "text": [
      "/usr/bin/sh: 1: sct_extract_metric: not found\r\n"
     ]
    },
    {
     "name": "stdout",
     "output_type": "stream",
     "text": [
      "/usr/bin/sh: 1: sct_extract_metric: not found\r\n"
     ]
    },
    {
     "name": "stdout",
     "output_type": "stream",
     "text": [
      "/usr/bin/sh: 1: sct_extract_metric: not found\r\n"
     ]
    },
    {
     "name": "stdout",
     "output_type": "stream",
     "text": [
      "/usr/bin/sh: 1: sct_extract_metric: not found\r\n"
     ]
    },
    {
     "name": "stdout",
     "output_type": "stream",
     "text": [
      "/usr/bin/sh: 1: sct_extract_metric: not found\r\n"
     ]
    },
    {
     "name": "stdout",
     "output_type": "stream",
     "text": [
      "/usr/bin/sh: 1: sct_extract_metric: not found\r\n"
     ]
    },
    {
     "name": "stdout",
     "output_type": "stream",
     "text": [
      "/usr/bin/sh: 1: sct_extract_metric: not found\r\n"
     ]
    },
    {
     "name": "stdout",
     "output_type": "stream",
     "text": [
      "/usr/bin/sh: 1: sct_extract_metric: not found\r\n"
     ]
    },
    {
     "name": "stdout",
     "output_type": "stream",
     "text": [
      "/usr/bin/sh: 1: sct_extract_metric: not found\r\n"
     ]
    },
    {
     "name": "stdout",
     "output_type": "stream",
     "text": [
      "/usr/bin/sh: 1: sct_extract_metric: not found\r\n"
     ]
    },
    {
     "name": "stdout",
     "output_type": "stream",
     "text": [
      "/usr/bin/sh: 1: sct_extract_metric: not found\r\n"
     ]
    },
    {
     "name": "stdout",
     "output_type": "stream",
     "text": [
      "/usr/bin/sh: 1: sct_extract_metric: not found\r\n"
     ]
    }
   ],
   "source": [
    "# Extract B1+ and SNR along the spinal cord mask and save data to CSV files\n",
    "\n",
    "for subject in subjects:\n",
    "    os.chdir(os.path.join(path_data, subject, \"fmap\"))\n",
    "    \n",
    "    fname_result_TFLb1plus = os.path.join(path_results, f\"{subject}_TFLTB1map.csv\")\n",
    "    fname_result_DREAMb1plus = os.path.join(path_results, f\"{subject}_DREAMTB1avgB1map.csv\")\n",
    "    fname_result_SNR = os.path.join(path_results, f\"{subject}_acq-coilQaSagLarge_SNR_T0000.csv\")\n",
    "\n",
    "    # For sites other than sub-CRMBM, use the registered qMRI map for metrics extraction\n",
    "    if subject=='sub-CRMBM':\n",
    "        file_suffix = ''\n",
    "    else:\n",
    "        file_suffix = '_reg'\n",
    "        \n",
    "    # Extract metrics within mask defined in the sub-CRMBM space\n",
    "    !sct_extract_metric -i {subject}_TFLTB1map{file_suffix}.nii.gz -f ../../{subject_ref}/fmap/{subject_ref}_TFLTB1map_mask.nii.gz -method wa -z 19:127 -perslice 1 -o \"{fname_result_TFLb1plus}\"\n",
    "    !sct_extract_metric -i {subject}_DREAMTB1avgB1map{file_suffix}.nii.gz -f ../../{subject_ref}/fmap/{subject_ref}_DREAMTB1avgB1map_mask.nii.gz -method wa -z 14:62 -perslice 1 -o \"{fname_result_DREAMb1plus}\"\n",
    "    !sct_extract_metric -i {subject}_acq-coilQaSagLarge_SNR_T0000{file_suffix}.nii.gz -f ../../{subject_ref}/fmap/{subject_ref}_acq-coilQaSagLarge_SNR_T0000_mask.nii.gz -method wa -z 151:368 -perslice 1 -o \"{fname_result_SNR}\""
   ]
  },
  {
   "cell_type": "markdown",
   "id": "16",
   "metadata": {
    "papermill": {
     "duration": 0.027342,
     "end_time": "2024-10-27T14:43:59.337738",
     "exception": false,
     "start_time": "2024-10-27T14:43:59.310396",
     "status": "completed"
    },
    "tags": []
   },
   "source": [
    "## Correct SNR using B1+ values\n",
    "\n",
    "SNR depends on the effective flip angle at each voxel, which is influenced by the B1+ efficiency and the transmit homogeneity. Therefore, if we want to report SNR values independently of the actual flip angle played out, we need to correct the SNR maps. To do so, we divide the reconstructed SNR maps by $\\sin(\\text{FA}_{\\text{gre, meas}})$, where $\\text{FA}_{\\text{gre, meas}}$ is the actual flip angle map for the GRE SNR scan. By normalizing, we extrapolate to the SNR value that we would achieve with $ \\text{FA} = 90^\\circ $:\n",
    "\n",
    "$$\\text{SNR}_{90} = \\frac{\\text{SNR}_{\\text{meas}}}{\\sin(\\text{FA}_{\\text{gre, meas}})}$$\n",
    "\n",
    "$\\text{FA}_{\\text{gre, meas}}$ is computed from the TFL B1+ scan as follows: \n",
    "\n",
    "$$\\text{FA}_{\\text{gre, meas}} = \\text{FA}_{\\text{gre, requested}} \\times \\left( \\frac{\\text{FA}_{\\text{TFL, meas}}}{\\text{FA}_{\\text{TFL, requested}}} \\right)$$\n",
    "\n",
    "The ratio $\\frac{\\text{FA}_{\\text{TFL, meas}}}{\\text{FA}_{\\text{TFL, requested}}}$ is obtained from the TFL B1+ efficiency values, which were previously extracted slicewise and saved as a CSV file.\n",
    "\n",
    "Before doing this correction, given that the B1+ and SNR maps don't have the same spatial resolution, we need to interpolate the B1+ array to match its length with that of the SNR array.\n",
    "\n",
    "Reference: https://onlinelibrary.wiley.com/doi/full/10.1002/mrm.27695"
   ]
  },
  {
   "cell_type": "markdown",
   "id": "f0c85c6a",
   "metadata": {
    "tags": [
     "papermill-error-cell-tag"
    ]
   },
   "source": [
    "<span id=\"papermill-error-cell\" style=\"color:red; font-family:Helvetica Neue, Helvetica, Arial, sans-serif; font-size:2em;\">Execution using papermill encountered an exception here and stopped:</span>"
   ]
  },
  {
   "cell_type": "code",
   "execution_count": 11,
   "id": "17",
   "metadata": {
    "execution": {
     "iopub.execute_input": "2024-10-27T14:43:59.394385Z",
     "iopub.status.busy": "2024-10-27T14:43:59.393871Z",
     "iopub.status.idle": "2024-10-27T14:43:59.990181Z",
     "shell.execute_reply": "2024-10-27T14:43:59.989227Z"
    },
    "papermill": {
     "duration": 0.626245,
     "end_time": "2024-10-27T14:43:59.991310",
     "exception": true,
     "start_time": "2024-10-27T14:43:59.365065",
     "status": "failed"
    },
    "tags": []
   },
   "outputs": [
    {
     "ename": "FileNotFoundError",
     "evalue": "[Errno 2] No such file or directory: '/home/runner/work/coil-qc-code/coil-qc-code/data-phantom/derivatives/results/sub-CRMBM_TFLTB1map.csv'",
     "output_type": "error",
     "traceback": [
      "\u001b[0;31m---------------------------------------------------------------------------\u001b[0m",
      "\u001b[0;31mFileNotFoundError\u001b[0m                         Traceback (most recent call last)",
      "Cell \u001b[0;32mIn[11], line 10\u001b[0m\n\u001b[1;32m      5\u001b[0m fname_result_SNR_corrected \u001b[38;5;241m=\u001b[39m os\u001b[38;5;241m.\u001b[39mpath\u001b[38;5;241m.\u001b[39mjoin(path_results, \u001b[38;5;124mf\u001b[39m\u001b[38;5;124m\"\u001b[39m\u001b[38;5;132;01m{\u001b[39;00msubject\u001b[38;5;132;01m}\u001b[39;00m\u001b[38;5;124m_acq-coilQaSagLarge_SNR_T0000_corrected.csv\u001b[39m\u001b[38;5;124m\"\u001b[39m)\n\u001b[1;32m      7\u001b[0m \u001b[38;5;66;03m# INTERPOLATE B1+ MAP TO MATCH THE LENGTH OF THE SNR DATA\u001b[39;00m\n\u001b[1;32m      8\u001b[0m \u001b[38;5;66;03m# =======================================================\u001b[39;00m\n\u001b[1;32m      9\u001b[0m \u001b[38;5;66;03m# Read B1 values\u001b[39;00m\n\u001b[0;32m---> 10\u001b[0m df_b1 \u001b[38;5;241m=\u001b[39m \u001b[43mpd\u001b[49m\u001b[38;5;241;43m.\u001b[39;49m\u001b[43mread_csv\u001b[49m\u001b[43m(\u001b[49m\u001b[43mfname_result_TFLb1plus\u001b[49m\u001b[43m)\u001b[49m\n\u001b[1;32m     11\u001b[0m b1_map \u001b[38;5;241m=\u001b[39m df_b1[\u001b[38;5;124m\"\u001b[39m\u001b[38;5;124mWA()\u001b[39m\u001b[38;5;124m\"\u001b[39m]\u001b[38;5;241m.\u001b[39mvalues\n\u001b[1;32m     12\u001b[0m \u001b[38;5;66;03m# Read SNR values\u001b[39;00m\n",
      "File \u001b[0;32m/opt/hostedtoolcache/Python/3.10.15/x64/lib/python3.10/site-packages/pandas/io/parsers/readers.py:1026\u001b[0m, in \u001b[0;36mread_csv\u001b[0;34m(filepath_or_buffer, sep, delimiter, header, names, index_col, usecols, dtype, engine, converters, true_values, false_values, skipinitialspace, skiprows, skipfooter, nrows, na_values, keep_default_na, na_filter, verbose, skip_blank_lines, parse_dates, infer_datetime_format, keep_date_col, date_parser, date_format, dayfirst, cache_dates, iterator, chunksize, compression, thousands, decimal, lineterminator, quotechar, quoting, doublequote, escapechar, comment, encoding, encoding_errors, dialect, on_bad_lines, delim_whitespace, low_memory, memory_map, float_precision, storage_options, dtype_backend)\u001b[0m\n\u001b[1;32m   1013\u001b[0m kwds_defaults \u001b[38;5;241m=\u001b[39m _refine_defaults_read(\n\u001b[1;32m   1014\u001b[0m     dialect,\n\u001b[1;32m   1015\u001b[0m     delimiter,\n\u001b[0;32m   (...)\u001b[0m\n\u001b[1;32m   1022\u001b[0m     dtype_backend\u001b[38;5;241m=\u001b[39mdtype_backend,\n\u001b[1;32m   1023\u001b[0m )\n\u001b[1;32m   1024\u001b[0m kwds\u001b[38;5;241m.\u001b[39mupdate(kwds_defaults)\n\u001b[0;32m-> 1026\u001b[0m \u001b[38;5;28;01mreturn\u001b[39;00m \u001b[43m_read\u001b[49m\u001b[43m(\u001b[49m\u001b[43mfilepath_or_buffer\u001b[49m\u001b[43m,\u001b[49m\u001b[43m \u001b[49m\u001b[43mkwds\u001b[49m\u001b[43m)\u001b[49m\n",
      "File \u001b[0;32m/opt/hostedtoolcache/Python/3.10.15/x64/lib/python3.10/site-packages/pandas/io/parsers/readers.py:620\u001b[0m, in \u001b[0;36m_read\u001b[0;34m(filepath_or_buffer, kwds)\u001b[0m\n\u001b[1;32m    617\u001b[0m _validate_names(kwds\u001b[38;5;241m.\u001b[39mget(\u001b[38;5;124m\"\u001b[39m\u001b[38;5;124mnames\u001b[39m\u001b[38;5;124m\"\u001b[39m, \u001b[38;5;28;01mNone\u001b[39;00m))\n\u001b[1;32m    619\u001b[0m \u001b[38;5;66;03m# Create the parser.\u001b[39;00m\n\u001b[0;32m--> 620\u001b[0m parser \u001b[38;5;241m=\u001b[39m \u001b[43mTextFileReader\u001b[49m\u001b[43m(\u001b[49m\u001b[43mfilepath_or_buffer\u001b[49m\u001b[43m,\u001b[49m\u001b[43m \u001b[49m\u001b[38;5;241;43m*\u001b[39;49m\u001b[38;5;241;43m*\u001b[39;49m\u001b[43mkwds\u001b[49m\u001b[43m)\u001b[49m\n\u001b[1;32m    622\u001b[0m \u001b[38;5;28;01mif\u001b[39;00m chunksize \u001b[38;5;129;01mor\u001b[39;00m iterator:\n\u001b[1;32m    623\u001b[0m     \u001b[38;5;28;01mreturn\u001b[39;00m parser\n",
      "File \u001b[0;32m/opt/hostedtoolcache/Python/3.10.15/x64/lib/python3.10/site-packages/pandas/io/parsers/readers.py:1620\u001b[0m, in \u001b[0;36mTextFileReader.__init__\u001b[0;34m(self, f, engine, **kwds)\u001b[0m\n\u001b[1;32m   1617\u001b[0m     \u001b[38;5;28mself\u001b[39m\u001b[38;5;241m.\u001b[39moptions[\u001b[38;5;124m\"\u001b[39m\u001b[38;5;124mhas_index_names\u001b[39m\u001b[38;5;124m\"\u001b[39m] \u001b[38;5;241m=\u001b[39m kwds[\u001b[38;5;124m\"\u001b[39m\u001b[38;5;124mhas_index_names\u001b[39m\u001b[38;5;124m\"\u001b[39m]\n\u001b[1;32m   1619\u001b[0m \u001b[38;5;28mself\u001b[39m\u001b[38;5;241m.\u001b[39mhandles: IOHandles \u001b[38;5;241m|\u001b[39m \u001b[38;5;28;01mNone\u001b[39;00m \u001b[38;5;241m=\u001b[39m \u001b[38;5;28;01mNone\u001b[39;00m\n\u001b[0;32m-> 1620\u001b[0m \u001b[38;5;28mself\u001b[39m\u001b[38;5;241m.\u001b[39m_engine \u001b[38;5;241m=\u001b[39m \u001b[38;5;28;43mself\u001b[39;49m\u001b[38;5;241;43m.\u001b[39;49m\u001b[43m_make_engine\u001b[49m\u001b[43m(\u001b[49m\u001b[43mf\u001b[49m\u001b[43m,\u001b[49m\u001b[43m \u001b[49m\u001b[38;5;28;43mself\u001b[39;49m\u001b[38;5;241;43m.\u001b[39;49m\u001b[43mengine\u001b[49m\u001b[43m)\u001b[49m\n",
      "File \u001b[0;32m/opt/hostedtoolcache/Python/3.10.15/x64/lib/python3.10/site-packages/pandas/io/parsers/readers.py:1880\u001b[0m, in \u001b[0;36mTextFileReader._make_engine\u001b[0;34m(self, f, engine)\u001b[0m\n\u001b[1;32m   1878\u001b[0m     \u001b[38;5;28;01mif\u001b[39;00m \u001b[38;5;124m\"\u001b[39m\u001b[38;5;124mb\u001b[39m\u001b[38;5;124m\"\u001b[39m \u001b[38;5;129;01mnot\u001b[39;00m \u001b[38;5;129;01min\u001b[39;00m mode:\n\u001b[1;32m   1879\u001b[0m         mode \u001b[38;5;241m+\u001b[39m\u001b[38;5;241m=\u001b[39m \u001b[38;5;124m\"\u001b[39m\u001b[38;5;124mb\u001b[39m\u001b[38;5;124m\"\u001b[39m\n\u001b[0;32m-> 1880\u001b[0m \u001b[38;5;28mself\u001b[39m\u001b[38;5;241m.\u001b[39mhandles \u001b[38;5;241m=\u001b[39m \u001b[43mget_handle\u001b[49m\u001b[43m(\u001b[49m\n\u001b[1;32m   1881\u001b[0m \u001b[43m    \u001b[49m\u001b[43mf\u001b[49m\u001b[43m,\u001b[49m\n\u001b[1;32m   1882\u001b[0m \u001b[43m    \u001b[49m\u001b[43mmode\u001b[49m\u001b[43m,\u001b[49m\n\u001b[1;32m   1883\u001b[0m \u001b[43m    \u001b[49m\u001b[43mencoding\u001b[49m\u001b[38;5;241;43m=\u001b[39;49m\u001b[38;5;28;43mself\u001b[39;49m\u001b[38;5;241;43m.\u001b[39;49m\u001b[43moptions\u001b[49m\u001b[38;5;241;43m.\u001b[39;49m\u001b[43mget\u001b[49m\u001b[43m(\u001b[49m\u001b[38;5;124;43m\"\u001b[39;49m\u001b[38;5;124;43mencoding\u001b[39;49m\u001b[38;5;124;43m\"\u001b[39;49m\u001b[43m,\u001b[49m\u001b[43m \u001b[49m\u001b[38;5;28;43;01mNone\u001b[39;49;00m\u001b[43m)\u001b[49m\u001b[43m,\u001b[49m\n\u001b[1;32m   1884\u001b[0m \u001b[43m    \u001b[49m\u001b[43mcompression\u001b[49m\u001b[38;5;241;43m=\u001b[39;49m\u001b[38;5;28;43mself\u001b[39;49m\u001b[38;5;241;43m.\u001b[39;49m\u001b[43moptions\u001b[49m\u001b[38;5;241;43m.\u001b[39;49m\u001b[43mget\u001b[49m\u001b[43m(\u001b[49m\u001b[38;5;124;43m\"\u001b[39;49m\u001b[38;5;124;43mcompression\u001b[39;49m\u001b[38;5;124;43m\"\u001b[39;49m\u001b[43m,\u001b[49m\u001b[43m \u001b[49m\u001b[38;5;28;43;01mNone\u001b[39;49;00m\u001b[43m)\u001b[49m\u001b[43m,\u001b[49m\n\u001b[1;32m   1885\u001b[0m \u001b[43m    \u001b[49m\u001b[43mmemory_map\u001b[49m\u001b[38;5;241;43m=\u001b[39;49m\u001b[38;5;28;43mself\u001b[39;49m\u001b[38;5;241;43m.\u001b[39;49m\u001b[43moptions\u001b[49m\u001b[38;5;241;43m.\u001b[39;49m\u001b[43mget\u001b[49m\u001b[43m(\u001b[49m\u001b[38;5;124;43m\"\u001b[39;49m\u001b[38;5;124;43mmemory_map\u001b[39;49m\u001b[38;5;124;43m\"\u001b[39;49m\u001b[43m,\u001b[49m\u001b[43m \u001b[49m\u001b[38;5;28;43;01mFalse\u001b[39;49;00m\u001b[43m)\u001b[49m\u001b[43m,\u001b[49m\n\u001b[1;32m   1886\u001b[0m \u001b[43m    \u001b[49m\u001b[43mis_text\u001b[49m\u001b[38;5;241;43m=\u001b[39;49m\u001b[43mis_text\u001b[49m\u001b[43m,\u001b[49m\n\u001b[1;32m   1887\u001b[0m \u001b[43m    \u001b[49m\u001b[43merrors\u001b[49m\u001b[38;5;241;43m=\u001b[39;49m\u001b[38;5;28;43mself\u001b[39;49m\u001b[38;5;241;43m.\u001b[39;49m\u001b[43moptions\u001b[49m\u001b[38;5;241;43m.\u001b[39;49m\u001b[43mget\u001b[49m\u001b[43m(\u001b[49m\u001b[38;5;124;43m\"\u001b[39;49m\u001b[38;5;124;43mencoding_errors\u001b[39;49m\u001b[38;5;124;43m\"\u001b[39;49m\u001b[43m,\u001b[49m\u001b[43m \u001b[49m\u001b[38;5;124;43m\"\u001b[39;49m\u001b[38;5;124;43mstrict\u001b[39;49m\u001b[38;5;124;43m\"\u001b[39;49m\u001b[43m)\u001b[49m\u001b[43m,\u001b[49m\n\u001b[1;32m   1888\u001b[0m \u001b[43m    \u001b[49m\u001b[43mstorage_options\u001b[49m\u001b[38;5;241;43m=\u001b[39;49m\u001b[38;5;28;43mself\u001b[39;49m\u001b[38;5;241;43m.\u001b[39;49m\u001b[43moptions\u001b[49m\u001b[38;5;241;43m.\u001b[39;49m\u001b[43mget\u001b[49m\u001b[43m(\u001b[49m\u001b[38;5;124;43m\"\u001b[39;49m\u001b[38;5;124;43mstorage_options\u001b[39;49m\u001b[38;5;124;43m\"\u001b[39;49m\u001b[43m,\u001b[49m\u001b[43m \u001b[49m\u001b[38;5;28;43;01mNone\u001b[39;49;00m\u001b[43m)\u001b[49m\u001b[43m,\u001b[49m\n\u001b[1;32m   1889\u001b[0m \u001b[43m\u001b[49m\u001b[43m)\u001b[49m\n\u001b[1;32m   1890\u001b[0m \u001b[38;5;28;01massert\u001b[39;00m \u001b[38;5;28mself\u001b[39m\u001b[38;5;241m.\u001b[39mhandles \u001b[38;5;129;01mis\u001b[39;00m \u001b[38;5;129;01mnot\u001b[39;00m \u001b[38;5;28;01mNone\u001b[39;00m\n\u001b[1;32m   1891\u001b[0m f \u001b[38;5;241m=\u001b[39m \u001b[38;5;28mself\u001b[39m\u001b[38;5;241m.\u001b[39mhandles\u001b[38;5;241m.\u001b[39mhandle\n",
      "File \u001b[0;32m/opt/hostedtoolcache/Python/3.10.15/x64/lib/python3.10/site-packages/pandas/io/common.py:873\u001b[0m, in \u001b[0;36mget_handle\u001b[0;34m(path_or_buf, mode, encoding, compression, memory_map, is_text, errors, storage_options)\u001b[0m\n\u001b[1;32m    868\u001b[0m \u001b[38;5;28;01melif\u001b[39;00m \u001b[38;5;28misinstance\u001b[39m(handle, \u001b[38;5;28mstr\u001b[39m):\n\u001b[1;32m    869\u001b[0m     \u001b[38;5;66;03m# Check whether the filename is to be opened in binary mode.\u001b[39;00m\n\u001b[1;32m    870\u001b[0m     \u001b[38;5;66;03m# Binary mode does not support 'encoding' and 'newline'.\u001b[39;00m\n\u001b[1;32m    871\u001b[0m     \u001b[38;5;28;01mif\u001b[39;00m ioargs\u001b[38;5;241m.\u001b[39mencoding \u001b[38;5;129;01mand\u001b[39;00m \u001b[38;5;124m\"\u001b[39m\u001b[38;5;124mb\u001b[39m\u001b[38;5;124m\"\u001b[39m \u001b[38;5;129;01mnot\u001b[39;00m \u001b[38;5;129;01min\u001b[39;00m ioargs\u001b[38;5;241m.\u001b[39mmode:\n\u001b[1;32m    872\u001b[0m         \u001b[38;5;66;03m# Encoding\u001b[39;00m\n\u001b[0;32m--> 873\u001b[0m         handle \u001b[38;5;241m=\u001b[39m \u001b[38;5;28;43mopen\u001b[39;49m\u001b[43m(\u001b[49m\n\u001b[1;32m    874\u001b[0m \u001b[43m            \u001b[49m\u001b[43mhandle\u001b[49m\u001b[43m,\u001b[49m\n\u001b[1;32m    875\u001b[0m \u001b[43m            \u001b[49m\u001b[43mioargs\u001b[49m\u001b[38;5;241;43m.\u001b[39;49m\u001b[43mmode\u001b[49m\u001b[43m,\u001b[49m\n\u001b[1;32m    876\u001b[0m \u001b[43m            \u001b[49m\u001b[43mencoding\u001b[49m\u001b[38;5;241;43m=\u001b[39;49m\u001b[43mioargs\u001b[49m\u001b[38;5;241;43m.\u001b[39;49m\u001b[43mencoding\u001b[49m\u001b[43m,\u001b[49m\n\u001b[1;32m    877\u001b[0m \u001b[43m            \u001b[49m\u001b[43merrors\u001b[49m\u001b[38;5;241;43m=\u001b[39;49m\u001b[43merrors\u001b[49m\u001b[43m,\u001b[49m\n\u001b[1;32m    878\u001b[0m \u001b[43m            \u001b[49m\u001b[43mnewline\u001b[49m\u001b[38;5;241;43m=\u001b[39;49m\u001b[38;5;124;43m\"\u001b[39;49m\u001b[38;5;124;43m\"\u001b[39;49m\u001b[43m,\u001b[49m\n\u001b[1;32m    879\u001b[0m \u001b[43m        \u001b[49m\u001b[43m)\u001b[49m\n\u001b[1;32m    880\u001b[0m     \u001b[38;5;28;01melse\u001b[39;00m:\n\u001b[1;32m    881\u001b[0m         \u001b[38;5;66;03m# Binary mode\u001b[39;00m\n\u001b[1;32m    882\u001b[0m         handle \u001b[38;5;241m=\u001b[39m \u001b[38;5;28mopen\u001b[39m(handle, ioargs\u001b[38;5;241m.\u001b[39mmode)\n",
      "\u001b[0;31mFileNotFoundError\u001b[0m: [Errno 2] No such file or directory: '/home/runner/work/coil-qc-code/coil-qc-code/data-phantom/derivatives/results/sub-CRMBM_TFLTB1map.csv'"
     ]
    }
   ],
   "source": [
    "for subject in subjects:\n",
    "    \n",
    "    fname_result_TFLb1plus = os.path.join(path_results, f\"{subject}_TFLTB1map.csv\")\n",
    "    fname_result_SNR = os.path.join(path_results, f\"{subject}_acq-coilQaSagLarge_SNR_T0000.csv\")\n",
    "    fname_result_SNR_corrected = os.path.join(path_results, f\"{subject}_acq-coilQaSagLarge_SNR_T0000_corrected.csv\")\n",
    "\n",
    "    # INTERPOLATE B1+ MAP TO MATCH THE LENGTH OF THE SNR DATA\n",
    "    # =======================================================\n",
    "    # Read B1 values\n",
    "    df_b1 = pd.read_csv(fname_result_TFLb1plus)\n",
    "    b1_map = df_b1[\"WA()\"].values\n",
    "    # Read SNR values\n",
    "    df_snr = pd.read_csv(fname_result_SNR)\n",
    "    snr = df_snr[\"WA()\"].values\n",
    "    # Create interpolation function based on the length of snr\n",
    "    x = np.linspace(0, len(b1_map) - 1, len(b1_map))  # x values for original data points\n",
    "    f = interp1d(x, b1_map, kind='linear')\n",
    "    # Generate new x values to match the length of the `snr` array\n",
    "    x_new = np.linspace(0, len(b1_map) - 1, len(snr))\n",
    "    # Interpolate to get the new y values with the length of `snr`\n",
    "    b1_map_interp = f(x_new)\n",
    "\n",
    "    # CORRECT SNR VALUES FOR B1+ INHOMOGENEITY\n",
    "    # ========================================\n",
    "    # Fetch the reference voltage for the TFL scan\n",
    "    # TODO: create a function for this\n",
    "    with open(os.path.join(path_data, subject, \"fmap\", f\"{subject}_acq-famp_TB1TFL.json\"), \"r\") as f:\n",
    "        metadata = json.load(f)\n",
    "        ref_voltage = metadata.get(\"TxRefAmp\", \"N/A\")\n",
    "        if (ref_voltage == \"N/A\"):\n",
    "            ref_token = \"N/A\"\n",
    "            for token in metadata.get(\"SeriesDescription\", \"N/A\").split(\"_\"):\n",
    "                if token.startswith(\"RefV\"): ref_token = token\n",
    "            ref_voltage = float(ref_token[4:-1])\n",
    "    # Fetch the flip angle for the TFL scan\n",
    "    with open(os.path.join(path_data, subject, \"fmap\", f\"{subject}_acq-famp_TB1TFL.json\"), \"r\") as f:\n",
    "        metadata = json.load(f)\n",
    "        requested_fa_tfl = metadata.get(\"FlipAngle\", \"N/A\")\n",
    "    # Account for the power loss between the coil and the socket. That number was given by Siemens.\n",
    "    voltage_at_socket = ref_voltage * 10 ** -0.095\n",
    "    # measured-to-requested flip angle using B1 values (in nT/V)\n",
    "    meas_to_requested_fa = 10 * b1_map_interp * GAMMA * 1e-3 * voltage_at_socket / (np.pi * 1e9)\n",
    "    # Fetch the requested flip angle for the SNR GRE scan\n",
    "    with open(os.path.join(path_data, subject, \"fmap\", f\"{subject}_acq-coilQaSagLarge_SNR.json\"), \"r\") as f:\n",
    "        metadata = json.load(f)\n",
    "        requested_fa_gre = metadata.get(\"FlipAngle\", \"N/A\")\n",
    "    # Correct the SNR values for B1+ inhomogeneity\n",
    "    snr_corrected = snr / np.sin(np.deg2rad(requested_fa_gre * meas_to_requested_fa))\n",
    "    # Save corrected SNR values to CSV\n",
    "    df_snr_corrected = pd.DataFrame(snr_corrected)\n",
    "    # Insert 'WA()' as the first value in the DataFrame\n",
    "    df_snr_corrected.loc[-1] = ['WA()'] + [None] * (df_snr_corrected.shape[1] - 1)  # Prepend 'WA()' to the first column\n",
    "    df_snr_corrected.index = df_snr_corrected.index + 1  # Shift index\n",
    "    df_snr_corrected = df_snr_corrected.sort_index()  # Sort index to move the new row to the top\n",
    "    # Save corrected SNR values to CSV\n",
    "    df_snr_corrected.to_csv(fname_result_SNR_corrected, index=False, header=False)"
   ]
  },
  {
   "cell_type": "markdown",
   "id": "18",
   "metadata": {
    "papermill": {
     "duration": null,
     "end_time": null,
     "exception": null,
     "start_time": null,
     "status": "pending"
    },
    "tags": []
   },
   "source": [
    "## Generate figures"
   ]
  },
  {
   "cell_type": "markdown",
   "id": "19",
   "metadata": {
    "papermill": {
     "duration": null,
     "end_time": null,
     "exception": null,
     "start_time": null,
     "status": "pending"
    },
    "tags": []
   },
   "source": [
    "### g-factor maps"
   ]
  },
  {
   "cell_type": "code",
   "execution_count": null,
   "id": "20",
   "metadata": {
    "papermill": {
     "duration": null,
     "end_time": null,
     "exception": null,
     "start_time": null,
     "status": "pending"
    },
    "tags": []
   },
   "outputs": [],
   "source": [
    "\n",
    "# Compute the average and maximum 1/g factor in a central ROI\n",
    "# Display 1/g factor maps and T2w (coil-combined) maps for each site (MSSM excluded, see: https://github.com/spinal-cord-7t/coil-qc-code/issues/61)\n",
    "\n",
    "sites = [\"CRMBM\", \"MNI\", \"MPI\", \"UCL\", \"MGH\", \"NTNU\"] # MSSM excluded, see: https://github.com/spinal-cord-7t/coil-qc-code/issues/61\n",
    "\n",
    "# map types\n",
    "map_types = [\"acq-coilQaSagSmall_GFactor\", \"T2starw\"]\n",
    "# legend types\n",
    "legend_types = [\"[1/g]\", \"[a.u.]\"]\n",
    "\n",
    "mean_gfac = {}\n",
    "\n",
    "for map_type, legend_type in zip(map_types,legend_types):\n",
    "    \n",
    "    # Create a figure with multiple subplots\n",
    "    fig, axes = plt.subplots(2, 3, figsize=(10, 8))\n",
    "    font_size = 12\n",
    "    axes=axes.flatten() \n",
    "        \n",
    "    for i,site in enumerate(sites):\n",
    "        # T2starw\n",
    "        if map_type==\"T2starw\":\n",
    "            os.chdir(os.path.join(path_data, f\"sub-{site}\", \"anat\"))\n",
    "            map=nib.load(f\"sub-{site}_{map_type}.nii.gz\")\n",
    "            data=map.get_fdata()[:,:,round(map.get_fdata().shape[2]/2)]\n",
    "        # g-factor maps\n",
    "        else:\n",
    "            os.chdir(os.path.join(path_data, f\"sub-{site}\", \"fmap\"))\n",
    "            map=nib.load(f\"sub-{site}_{map_type}.nii.gz\")\n",
    "            data=(map.get_fdata()[64:191,64:191,round(map.get_fdata().shape[2]/2),5])/1000\n",
    "            \n",
    "            gfac_data=(map.get_fdata()[round(map.get_fdata().shape[0]/2)-10:round(map.get_fdata().shape[0]/2)+10,round(map.get_fdata().shape[1]/2)-10:round(map.get_fdata().shape[1]/2)+10,round(map.get_fdata().shape[2]/2),5])\n",
    "            mean_gfac[site]=np.nanmean(gfac_data)/1000\n",
    "        \n",
    "        # Plot    \n",
    "        splot=axes[i]\n",
    "        dynmin = 0\n",
    "        if map_type==\"acq-coilQaSagSmall_GFactor\":\n",
    "            dynmax = 1\n",
    "            axes[-1].axis('off')\n",
    "            splot.text(0, 3, r'mean 1/g = '+str(round(mean_gfac[site],3)), size=14)\n",
    "            \n",
    "            x = [data.shape[0]/2-10, data.shape[1]/2-10] \n",
    "            y = [data.shape[0]/2-10, data.shape[1]/2+10] \n",
    "            splot.plot(x, y, color=\"black\", linewidth=2) \n",
    "            \n",
    "            x = [data.shape[0]/2-10, data.shape[1]/2+10] \n",
    "            y = [data.shape[0]/2+10, data.shape[1]/2+10] \n",
    "            splot.plot(x, y, color=\"black\", linewidth=2) \n",
    "\n",
    "            x = [data.shape[0]/2+10, data.shape[1]/2+10] \n",
    "            y = [data.shape[0]/2+10, data.shape[1]/2-10] \n",
    "            splot.plot(x, y, color=\"black\", linewidth=2)\n",
    "\n",
    "            x = [data.shape[0]/2+10, data.shape[1]/2-10] \n",
    "            y = [data.shape[0]/2-10, data.shape[1]/2-10] \n",
    "            splot.plot(x, y, color=\"black\", linewidth=2) \n",
    "            \n",
    "        elif map_type==\"T2starw\":\n",
    "            dynmax = 2100\n",
    "            axes[-1].axis('off')\n",
    "        \n",
    "        im = splot.imshow((data.T), cmap='viridis', origin='lower',vmin=dynmin,vmax=dynmax) \n",
    "        splot.set_title(site, size=font_size)\n",
    "        splot.axis('off')\n",
    "\n",
    "    plt.tight_layout()\n",
    "\n",
    "    # Colorbar\n",
    "    # Assume that the colorbar should start at the bottom of the lower row of subplots and\n",
    "    # extend to the top of the upper row of subplots\n",
    "    cbar_bottom = 0.2  # This might need adjustment\n",
    "    cbar_height = 0.6  # This represents the total height of both rows of subplots\n",
    "    cbar_dist = 1.01\n",
    "    cbar_ax = fig.add_axes([cbar_dist, cbar_bottom, 0.03, cbar_height])\n",
    "    cbar = plt.colorbar(im, cax=cbar_ax)\n",
    "\n",
    "    cbar_ax.set_title(legend_type, size=12)\n",
    "    plt.show()\n"
   ]
  },
  {
   "cell_type": "markdown",
   "id": "21",
   "metadata": {
    "papermill": {
     "duration": null,
     "end_time": null,
     "exception": null,
     "start_time": null,
     "status": "pending"
    },
    "tags": []
   },
   "source": [
    "### B1+ and SNR maps"
   ]
  },
  {
   "cell_type": "code",
   "execution_count": null,
   "id": "22",
   "metadata": {
    "papermill": {
     "duration": null,
     "end_time": null,
     "exception": null,
     "start_time": null,
     "status": "pending"
    },
    "tags": []
   },
   "outputs": [],
   "source": [
    "sites = [\"CRMBM\", \"UCL\", \"MNI\", \"MGH\", \"MPI\", \"NTNU\", \"MSSM\"]\n",
    "\n",
    "# map types\n",
    "map_types = [\"TFLTB1map\", \"DREAMTB1avgB1map\", \"acq-coilQaSagLarge_SNR_T0000\"]\n",
    "\n",
    "# Define the dictionary with ranges for each map type\n",
    "# NIfTI voxel location: (xmin, xmax, ymin, ymax, zdata, zmask)\n",
    "range_dict = {\n",
    "    \"TFLTB1map\": (19, 83, 21, 122, 23, 23),\n",
    "    \"DREAMTB1avgB1map\": (18, 79, 14, 62, 5, 5),\n",
    "    \"acq-coilQaSagLarge_SNR_T0000\": (217, 317, 176, 335, 6, 6),\n",
    "}\n",
    "\n",
    "# legend types\n",
    "legend_types = [\"B1+ [nT/V]\", \"B1+ [nT/V]\", \"SNR [a.u.]\"]\n",
    "\n",
    "for map_type, legend_type in zip(map_types,legend_types):\n",
    "    \n",
    "    # Create a figure with multiple subplots\n",
    "    fig, axes = plt.subplots(2, 4, figsize=(10, 8))\n",
    "    font_size = 12\n",
    "    axes=axes.flatten() \n",
    "        \n",
    "    for i,site in enumerate(sites):\n",
    "        # Load data\n",
    "        os.chdir(os.path.join(path_data, f\"sub-{site}\", \"fmap\"))\n",
    "        if site=='CRMBM':\n",
    "            map=nib.load(f\"sub-{site}_{map_type}.nii.gz\")\n",
    "            if map_type==\"TFLTB1map\":\n",
    "                mask=nib.load(f\"sub-CRMBM_TFLTB1map_mask.nii.gz\")\n",
    "            elif map_type==\"DREAMTB1avgB1map\":\n",
    "                mask=nib.load(f\"sub-CRMBM_DREAMTB1avgB1map_mask.nii.gz\")\n",
    "            else: \n",
    "                mask=nib.load(f\"sub-CRMBM_acq-coilQaSagLarge_SNR_T0000_mask.nii.gz\")\n",
    "        else:\n",
    "            map=nib.load(f\"sub-{site}_{map_type}_reg.nii.gz\")\n",
    "            if map_type==\"TFLTB1map\":\n",
    "                mask=nib.load(f\"../../sub-CRMBM/fmap/sub-CRMBM_TFLTB1map_mask.nii.gz\")\n",
    "            elif map_type==\"DREAMTB1avgB1map\":\n",
    "                mask=nib.load(f\"../../sub-CRMBM/fmap/sub-CRMBM_DREAMTB1avgB1map_mask.nii.gz\")\n",
    "            else: \n",
    "                mask=nib.load(f\"../../sub-CRMBM/fmap/sub-CRMBM_acq-coilQaSagLarge_SNR_T0000_mask.nii.gz\")\n",
    "\n",
    "        # Crop data for display\n",
    "        data = map.get_fdata()[\n",
    "            range_dict[map_type][0]:range_dict[map_type][1],\n",
    "            range_dict[map_type][2]:range_dict[map_type][3],\n",
    "            range_dict[map_type][4]]\n",
    "        mask_data = mask.get_fdata()[\n",
    "            range_dict[map_type][0]:range_dict[map_type][1],\n",
    "            range_dict[map_type][2]:range_dict[map_type][3],\n",
    "            range_dict[map_type][5]]\n",
    "\n",
    "        # Binarize mask for display purpose\n",
    "        mask_data = (mask_data > 0.5).astype(int)\n",
    "        \n",
    "        # Plot\n",
    "        dynmin = 0 \n",
    "        if map_type==\"acq-coilQaSagLarge_SNR_T0000\":\n",
    "            dynmax = 310\n",
    "        else:\n",
    "            dynmax = 75    \n",
    "            \n",
    "        splot=axes[i]\n",
    "        im1 = splot.imshow((data.T), cmap='viridis', origin='lower',vmin=dynmin,vmax=dynmax)\n",
    "        # im2 = splot.imshow((mask_data.T), 'gray', origin='lower', alpha=0.2)\n",
    "        splot.contour(mask_data.T, levels=[0.5], colors='white', linewidths=0.5)\n",
    "        splot.set_title(site, size=font_size)\n",
    "        splot.axis('off')    \n",
    "    \n",
    "    # Display mean signal within mask for each site in an additional sub-plot\n",
    "    for site in sites:\n",
    "        # Read CSV file\n",
    "        if map_type == \"acq-coilQaSagLarge_SNR_T0000\":\n",
    "            file_csv = os.path.join(path_results, f\"sub-{site}_{map_type}_corrected.csv\")\n",
    "        else:\n",
    "            file_csv = os.path.join(path_results, f\"sub-{site}_{map_type}.csv\")\n",
    "        df = pd.read_csv(file_csv)\n",
    "        data = df['WA()'].dropna()\n",
    "        # Smooth data\n",
    "        data = uniform_filter1d(data, 10, mode='nearest')\n",
    "        # Display plot\n",
    "        axes[-1].plot(data, label=site)\n",
    "        axes[-1].legend(fontsize=10, loc='center left', bbox_to_anchor=(1.2, 0.5))\n",
    "        axes[-1].yaxis.set_label_position(\"right\")\n",
    "        axes[-1].yaxis.tick_right()\n",
    "        axes[-1].set_xticks([])  # Remove x-axis ticks\n",
    "        axes[-1].set_xlabel(\"← superior    inferior →\", fontsize=12, loc='center')\n",
    "        # axes[-1].set_yticks([])  # Remove y-axis ticks\n",
    "        axes[-1].invert_xaxis()  # Reverse the x-axis\n",
    "        axes[-1].yaxis.grid(True, color='grey', linestyle='-', linewidth=0.5)\n",
    "\n",
    "    # Reduce the space between the rows of subplots\n",
    "    fig.subplots_adjust(hspace=-0.2)  # Adjust this value as needed to reduce spacing\n",
    "\n",
    "    # Adjust figure subplots\n",
    "    plt.tight_layout()\n",
    "    box = axes[-1].get_position()\n",
    "    new_height = box.height * 0.76  # Reduce the height of the second subplot by 50%\n",
    "    axes[-1].set_position([box.x0, box.y0 + 0.068, box.width, new_height])\n",
    "\n",
    "    # Colorbar\n",
    "    cbar_bottom = 0.545  # This might need adjustment\n",
    "    cbar_height = 0.37  # This represents the total height of both rows of subplots\n",
    "    if (map_type == \"TFLTB1map\" or map_type == \"DREAMTB1avgB1map\" or map_type == \"acq-coilQaSagLarge_SNR_T0000\"):\n",
    "        cbar_dist = -0.1\n",
    "    else:\n",
    "        cbar_dist = 1.01\n",
    "    cbar_ax = fig.add_axes([0.9, cbar_bottom, 0.02, cbar_height])\n",
    "    cbar = plt.colorbar(im1, cax=cbar_ax)\n",
    "    cbar_ax.set_title(legend_type, size=10)\n",
    "    \n",
    "    plt.show()"
   ]
  },
  {
   "cell_type": "markdown",
   "id": "23",
   "metadata": {
    "papermill": {
     "duration": null,
     "end_time": null,
     "exception": null,
     "start_time": null,
     "status": "pending"
    },
    "tags": []
   },
   "source": [
    "### Individual coil channels"
   ]
  },
  {
   "cell_type": "code",
   "execution_count": null,
   "id": "24",
   "metadata": {
    "papermill": {
     "duration": null,
     "end_time": null,
     "exception": null,
     "start_time": null,
     "status": "pending"
    },
    "tags": []
   },
   "outputs": [],
   "source": [
    "sites = [\"CRMBM\", \"UCL\", \"MNI\", \"MGH\", \"MPI\", \"NTNU\", \"MSSM\"]\n",
    "        \n",
    "for i,site in enumerate(sites):\n",
    "\n",
    "    gre_files=sorted(glob.glob(os.path.join(path_data, f\"sub-{site}\", \"anat\", '*uncombined*.nii.gz')))\n",
    "        \n",
    "    #Tiled figure in a five-row layout\n",
    "    rows=int(np.ceil(len(gre_files)/4))\n",
    "    cols=int(np.ceil(len(gre_files)/rows))\n",
    "\n",
    "    fig=plt.figure(figsize=(15, 20))\n",
    "    \n",
    "    ax = fig.subplots(rows,cols,squeeze=True)\n",
    "    \n",
    "    for row in range(rows):\n",
    "        for col in range(cols):\n",
    "\n",
    "            i = row*cols+col\n",
    "\n",
    "            if i < len(gre_files):\n",
    "            \n",
    "                #read in files\n",
    "                data_to_plot=(nib.load(gre_files[i])).get_fdata() #load in nifti object, get only image data\n",
    "                data_to_plot=np.rot90(data_to_plot[:,:,int(np.floor(data_to_plot.shape[2]/2))]) #central slice\n",
    "           \n",
    "                ax[row,col].imshow(data_to_plot,cmap=plt.cm.gray,clim=[0, 300])\n",
    "                ax[row,col].text(0.5, 0.05, 'Rx channel : ' + str(i+1),horizontalalignment='center', transform=ax[row,col].transAxes,color='white',fontsize=17)\n",
    "                ax[row,col].axis('off')\n",
    "\n",
    "    plt.axis('off')\n",
    "    plt.subplots_adjust(hspace=0,wspace=0)\n",
    "    fig.suptitle(site, fontsize=20, y=0.9)\n"
   ]
  },
  {
   "cell_type": "markdown",
   "id": "25",
   "metadata": {
    "papermill": {
     "duration": null,
     "end_time": null,
     "exception": null,
     "start_time": null,
     "status": "pending"
    },
    "tags": []
   },
   "source": [
    "## Finished"
   ]
  },
  {
   "cell_type": "code",
   "execution_count": null,
   "id": "26",
   "metadata": {
    "papermill": {
     "duration": null,
     "end_time": null,
     "exception": null,
     "start_time": null,
     "status": "pending"
    },
    "tags": []
   },
   "outputs": [],
   "source": [
    "# Indicate duration of data processing\n",
    "\n",
    "end_time = datetime.now()\n",
    "total_time = (end_time - start_time).total_seconds()\n",
    "\n",
    "# Convert seconds to a timedelta object\n",
    "total_time_delta = timedelta(seconds=total_time)\n",
    "\n",
    "# Format the timedelta object to a string\n",
    "formatted_time = str(total_time_delta)\n",
    "\n",
    "# Pad the string representation if less than an hour\n",
    "formatted_time = formatted_time.rjust(8, '0')\n",
    "\n",
    "print(f\"Total Runtime [hour:min:sec]: {formatted_time}\")"
   ]
  }
 ],
 "metadata": {
  "kernelspec": {
   "display_name": "Python 3 (ipykernel)",
   "language": "python",
   "name": "python3"
  },
  "language_info": {
   "codemirror_mode": {
    "name": "ipython",
    "version": 3
   },
   "file_extension": ".py",
   "mimetype": "text/x-python",
   "name": "python",
   "nbconvert_exporter": "python",
   "pygments_lexer": "ipython3",
   "version": "3.10.15"
  },
  "papermill": {
   "default_parameters": {},
   "duration": 60.530013,
   "end_time": "2024-10-27T14:44:00.437170",
   "environment_variables": {},
   "exception": true,
   "input_path": "data_processing-phantom.ipynb",
   "output_path": "executed_notebooks/data_processing-phantom.ipynb",
   "parameters": {},
   "start_time": "2024-10-27T14:42:59.907157",
   "version": "2.6.0"
  }
 },
 "nbformat": 4,
 "nbformat_minor": 5
}